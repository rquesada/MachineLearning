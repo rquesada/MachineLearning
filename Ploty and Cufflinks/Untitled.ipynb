{
 "cells": [
  {
   "cell_type": "code",
   "execution_count": 15,
   "id": "9e9adb2d",
   "metadata": {},
   "outputs": [],
   "source": [
    "import pandas as pd\n",
    "import numpy as np\n",
    "%matplotlib inline"
   ]
  },
  {
   "cell_type": "code",
   "execution_count": 2,
   "id": "fcf41fdf",
   "metadata": {},
   "outputs": [],
   "source": [
    "from plotly import __version__"
   ]
  },
  {
   "cell_type": "code",
   "execution_count": 3,
   "id": "0db0dfa4",
   "metadata": {},
   "outputs": [
    {
     "name": "stdout",
     "output_type": "stream",
     "text": [
      "5.9.0\n"
     ]
    }
   ],
   "source": [
    "print(__version__)"
   ]
  },
  {
   "cell_type": "code",
   "execution_count": 4,
   "id": "401eca05",
   "metadata": {},
   "outputs": [],
   "source": [
    "from plotly.offline import download_plotlyjs, init_notebook_mode, plot, iplot"
   ]
  },
  {
   "cell_type": "code",
   "execution_count": 5,
   "id": "0ce8c588",
   "metadata": {},
   "outputs": [],
   "source": [
    "import cufflinks as cf"
   ]
  },
  {
   "cell_type": "code",
   "execution_count": 6,
   "id": "dd91420c",
   "metadata": {},
   "outputs": [
    {
     "data": {
      "text/html": [
       "        <script type=\"text/javascript\">\n",
       "        window.PlotlyConfig = {MathJaxConfig: 'local'};\n",
       "        if (window.MathJax && window.MathJax.Hub && window.MathJax.Hub.Config) {window.MathJax.Hub.Config({SVG: {font: \"STIX-Web\"}});}\n",
       "        if (typeof require !== 'undefined') {\n",
       "        require.undef(\"plotly\");\n",
       "        requirejs.config({\n",
       "            paths: {\n",
       "                'plotly': ['https://cdn.plot.ly/plotly-2.12.1.min']\n",
       "            }\n",
       "        });\n",
       "        require(['plotly'], function(Plotly) {\n",
       "            window._Plotly = Plotly;\n",
       "        });\n",
       "        }\n",
       "        </script>\n",
       "        "
      ]
     },
     "metadata": {},
     "output_type": "display_data"
    }
   ],
   "source": [
    "# For Notebooks\n",
    "init_notebook_mode(connected=True)"
   ]
  },
  {
   "cell_type": "code",
   "execution_count": 7,
   "id": "919b6a67",
   "metadata": {},
   "outputs": [
    {
     "data": {
      "text/html": [
       "        <script type=\"text/javascript\">\n",
       "        window.PlotlyConfig = {MathJaxConfig: 'local'};\n",
       "        if (window.MathJax && window.MathJax.Hub && window.MathJax.Hub.Config) {window.MathJax.Hub.Config({SVG: {font: \"STIX-Web\"}});}\n",
       "        if (typeof require !== 'undefined') {\n",
       "        require.undef(\"plotly\");\n",
       "        requirejs.config({\n",
       "            paths: {\n",
       "                'plotly': ['https://cdn.plot.ly/plotly-2.12.1.min']\n",
       "            }\n",
       "        });\n",
       "        require(['plotly'], function(Plotly) {\n",
       "            window._Plotly = Plotly;\n",
       "        });\n",
       "        }\n",
       "        </script>\n",
       "        "
      ]
     },
     "metadata": {},
     "output_type": "display_data"
    }
   ],
   "source": [
    "# For offline use\n",
    "cf.go_offline()"
   ]
  },
  {
   "cell_type": "markdown",
   "id": "144b55d0",
   "metadata": {},
   "source": [
    "## Fake Data"
   ]
  },
  {
   "cell_type": "code",
   "execution_count": 10,
   "id": "553d62e4",
   "metadata": {},
   "outputs": [],
   "source": [
    "df = pd.DataFrame(np.random.randn(100,4),columns='A B C D'.split())\n"
   ]
  },
  {
   "cell_type": "code",
   "execution_count": 12,
   "id": "a584c283",
   "metadata": {},
   "outputs": [
    {
     "data": {
      "text/html": [
       "<div>\n",
       "<style scoped>\n",
       "    .dataframe tbody tr th:only-of-type {\n",
       "        vertical-align: middle;\n",
       "    }\n",
       "\n",
       "    .dataframe tbody tr th {\n",
       "        vertical-align: top;\n",
       "    }\n",
       "\n",
       "    .dataframe thead th {\n",
       "        text-align: right;\n",
       "    }\n",
       "</style>\n",
       "<table border=\"1\" class=\"dataframe\">\n",
       "  <thead>\n",
       "    <tr style=\"text-align: right;\">\n",
       "      <th></th>\n",
       "      <th>A</th>\n",
       "      <th>B</th>\n",
       "      <th>C</th>\n",
       "      <th>D</th>\n",
       "    </tr>\n",
       "  </thead>\n",
       "  <tbody>\n",
       "    <tr>\n",
       "      <th>0</th>\n",
       "      <td>0.299155</td>\n",
       "      <td>0.780112</td>\n",
       "      <td>1.142363</td>\n",
       "      <td>-0.849694</td>\n",
       "    </tr>\n",
       "    <tr>\n",
       "      <th>1</th>\n",
       "      <td>-0.384149</td>\n",
       "      <td>-0.662202</td>\n",
       "      <td>0.113541</td>\n",
       "      <td>0.418056</td>\n",
       "    </tr>\n",
       "    <tr>\n",
       "      <th>2</th>\n",
       "      <td>-1.495587</td>\n",
       "      <td>0.196031</td>\n",
       "      <td>-2.195583</td>\n",
       "      <td>-0.987828</td>\n",
       "    </tr>\n",
       "    <tr>\n",
       "      <th>3</th>\n",
       "      <td>-0.986282</td>\n",
       "      <td>0.944444</td>\n",
       "      <td>-0.335361</td>\n",
       "      <td>-1.566327</td>\n",
       "    </tr>\n",
       "    <tr>\n",
       "      <th>4</th>\n",
       "      <td>0.863643</td>\n",
       "      <td>2.019007</td>\n",
       "      <td>-0.475491</td>\n",
       "      <td>0.505903</td>\n",
       "    </tr>\n",
       "  </tbody>\n",
       "</table>\n",
       "</div>"
      ],
      "text/plain": [
       "          A         B         C         D\n",
       "0  0.299155  0.780112  1.142363 -0.849694\n",
       "1 -0.384149 -0.662202  0.113541  0.418056\n",
       "2 -1.495587  0.196031 -2.195583 -0.987828\n",
       "3 -0.986282  0.944444 -0.335361 -1.566327\n",
       "4  0.863643  2.019007 -0.475491  0.505903"
      ]
     },
     "execution_count": 12,
     "metadata": {},
     "output_type": "execute_result"
    }
   ],
   "source": [
    "df.head()"
   ]
  },
  {
   "cell_type": "code",
   "execution_count": 13,
   "id": "4ed4c340",
   "metadata": {},
   "outputs": [],
   "source": [
    "df2 = pd.DataFrame({'Category':['A','B','C'],'Values':[32,43,50]})"
   ]
  },
  {
   "cell_type": "code",
   "execution_count": 14,
   "id": "8fc5bb16",
   "metadata": {},
   "outputs": [
    {
     "data": {
      "text/html": [
       "<div>\n",
       "<style scoped>\n",
       "    .dataframe tbody tr th:only-of-type {\n",
       "        vertical-align: middle;\n",
       "    }\n",
       "\n",
       "    .dataframe tbody tr th {\n",
       "        vertical-align: top;\n",
       "    }\n",
       "\n",
       "    .dataframe thead th {\n",
       "        text-align: right;\n",
       "    }\n",
       "</style>\n",
       "<table border=\"1\" class=\"dataframe\">\n",
       "  <thead>\n",
       "    <tr style=\"text-align: right;\">\n",
       "      <th></th>\n",
       "      <th>Category</th>\n",
       "      <th>Values</th>\n",
       "    </tr>\n",
       "  </thead>\n",
       "  <tbody>\n",
       "    <tr>\n",
       "      <th>0</th>\n",
       "      <td>A</td>\n",
       "      <td>32</td>\n",
       "    </tr>\n",
       "    <tr>\n",
       "      <th>1</th>\n",
       "      <td>B</td>\n",
       "      <td>43</td>\n",
       "    </tr>\n",
       "    <tr>\n",
       "      <th>2</th>\n",
       "      <td>C</td>\n",
       "      <td>50</td>\n",
       "    </tr>\n",
       "  </tbody>\n",
       "</table>\n",
       "</div>"
      ],
      "text/plain": [
       "  Category  Values\n",
       "0        A      32\n",
       "1        B      43\n",
       "2        C      50"
      ]
     },
     "execution_count": 14,
     "metadata": {},
     "output_type": "execute_result"
    }
   ],
   "source": [
    "df2.head()"
   ]
  },
  {
   "cell_type": "code",
   "execution_count": 16,
   "id": "b46b9f8f",
   "metadata": {},
   "outputs": [
    {
     "data": {
      "text/plain": [
       "<Axes: >"
      ]
     },
     "execution_count": 16,
     "metadata": {},
     "output_type": "execute_result"
    },
    {
     "data": {
      "image/png": "[encoded data removed]",
      "text/plain": [
       "<Figure size 640x480 with 1 Axes>"
      ]
     },
     "metadata": {},
     "output_type": "display_data"
    }
   ],
   "source": [
    "df.plot()"
   ]
  },
  {
   "cell_type": "code",
   "execution_count": 17,
   "id": "9b532ca7",
   "metadata": {},
   "outputs": [
    {
     "data": {
      "application/vnd.plotly.v1+json": {
       "config": {
        "linkText": "Export to plot.ly",
        "plotlyServerURL": "https://plot.ly",
        "showLink": true
       },
       "data": [
        {
         "line": {
          "color": "rgba(255, 153, 51, 1.0)",
          "dash": "solid",
          "shape": "linear",
          "width": 1.3
         },
         "mode": "lines",
         "name": "A",
         "text": "",
         "type": "scatter",
         "x": [
          0,
          1,
          2,
          3,
          4,
          5,
          6,
          7,
          8,
          9,
          10,
          11,
          12,
          13,
          14,
          15,
          16,
          17,
          18,
          19,
          20,
          21,
          22,
          23,
          24,
          25,
          26,
          27,
          28,
          29,
          30,
          31,
          32,
          33,
          34,
          35,
          36,
          37,
          38,
          39,
          40,
          41,
          42,
          43,
          44,
          45,
          46,
          47,
          48,
          49,
          50,
          51,
          52,
          53,
          54,
          55,
          56,
          57,
          58,
          59,
          60,
          61,
          62,
          63,
          64,
          65,
          66,
          67,
          68,
          69,
          70,
          71,
          72,
          73,
          74,
          75,
          76,
          77,
          78,
          79,
          80,
          81,
          82,
          83,
          84,
          85,
          86,
          87,
          88,
          89,
          90,
          91,
          92,
          93,
          94,
          95,
          96,
          97,
          98,
          99
         ],
         "y": [
          0.2991550861198565,
          -0.3841492154014665,
          -1.4955874438548968,
          -0.986281527430265,
          0.8636431673834111,
          1.0506243725442432,
          -0.5641456423079034,
          -1.7863210272933812,
          0.5893189259744791,
          -0.6283981743665769,
          0.9822149186999429,
          0.003621728700036139,
          1.1478470780946737,
          0.9493796075126227,
          2.023151425732341,
          0.8209651038367457,
          -1.436616028751318,
          0.2501161685999158,
          -2.18940427695009,
          1.060005975403017,
          -1.2913373051591328,
          -0.5818461629913243,
          -3.559727068196443,
          0.0429856375186844,
          -0.040441593036933884,
          0.4365405596956291,
          -1.6122927837729488,
          -2.200067677252177,
          1.3741729080719394,
          0.22372429063459934,
          0.35456006418455993,
          1.0268798296954587,
          1.2483904845694946,
          0.06803355363766585,
          -1.215641873426893,
          -1.0092547114079848,
          -0.18928431766049622,
          -0.13624175059188193,
          -1.124654032729839,
          1.906287147681474,
          0.22227594199144093,
          -1.1680813787099484,
          1.2448035827666633,
          0.09448168900829862,
          -1.9213213375620148,
          3.374448829478874,
          -0.4720745251680017,
          1.4237076937233117,
          1.0977579047946182,
          0.27276264592903,
          -0.7071666774547971,
          0.4579682494563629,
          0.7812645170577213,
          0.6940016369921731,
          -1.6670428257540362,
          0.10479754129686403,
          2.0521391141627117,
          -0.5894929196802318,
          0.2086275444892075,
          -0.3943158555219555,
          -0.001962682381986401,
          0.5061562116185518,
          -1.31068766067125,
          1.1458984485772514,
          0.07746205451031746,
          0.42117143238154464,
          0.022396537274275884,
          0.3832423647923307,
          -0.7142696921980415,
          1.5759715705521424,
          -1.0948757064584989,
          -0.3578123661598927,
          -0.1388499152089222,
          -1.0316315826678573,
          0.14133939011217816,
          -0.7236948335615198,
          -1.0461981495376964,
          -0.860425552617968,
          0.6838366995531965,
          0.5019976649548585,
          -0.2698604416378836,
          0.020026700999118248,
          0.7382030841174992,
          -1.0107550832011862,
          -0.9809011420879843,
          0.40108331476893583,
          0.06473151369985368,
          1.8746933818594682,
          0.2515041968308312,
          -0.9807717470558058,
          0.40762164463885214,
          -1.1849158622412188,
          -0.17364781870766738,
          -1.4336904561145787,
          0.6915743124241517,
          0.010826914274588933,
          0.20377929746820334,
          -2.995026620423591,
          -1.2399719772534463,
          0.8788721868956764
         ]
        },
        {
         "line": {
          "color": "rgba(55, 128, 191, 1.0)",
          "dash": "solid",
          "shape": "linear",
          "width": 1.3
         },
         "mode": "lines",
         "name": "B",
         "text": "",
         "type": "scatter",
         "x": [
          0,
          1,
          2,
          3,
          4,
          5,
          6,
          7,
          8,
          9,
          10,
          11,
          12,
          13,
          14,
          15,
          16,
          17,
          18,
          19,
          20,
          21,
          22,
          23,
          24,
          25,
          26,
          27,
          28,
          29,
          30,
          31,
          32,
          33,
          34,
          35,
          36,
          37,
          38,
          39,
          40,
          41,
          42,
          43,
          44,
          45,
          46,
          47,
          48,
          49,
          50,
          51,
          52,
          53,
          54,
          55,
          56,
          57,
          58,
          59,
          60,
          61,
          62,
          63,
          64,
          65,
          66,
          67,
          68,
          69,
          70,
          71,
          72,
          73,
          74,
          75,
          76,
          77,
          78,
          79,
          80,
          81,
          82,
          83,
          84,
          85,
          86,
          87,
          88,
          89,
          90,
          91,
          92,
          93,
          94,
          95,
          96,
          97,
          98,
          99
         ],
         "y": [
          0.780112161625848,
          -0.6622020441579575,
          0.19603094116590988,
          0.9444435813517414,
          2.0190065917990325,
          0.43722776902737875,
          0.6764390904739006,
          -1.0318392658003315,
          -0.7052936531538087,
          -1.2207048933585274,
          -0.022498175312445908,
          -0.47514400008103796,
          0.015631345678703647,
          0.49166903297101733,
          -0.4463750385965351,
          -1.2532070399499404,
          0.017542246804112673,
          -0.7570882592644229,
          -1.2012136807274745,
          0.7886948763755939,
          -0.8693486963450223,
          0.9010537168023657,
          -0.5770469082718713,
          -0.1030991380904987,
          0.5338436665524187,
          1.1155594158041637,
          0.26391870421043223,
          1.3232294736026364,
          0.7630229489633639,
          1.632035218409037,
          1.5207097499353,
          -0.0006879736573673989,
          -1.21103828452234,
          1.34662009347215,
          0.9975735907200801,
          0.9551360071731924,
          -1.0722210696166834,
          -1.7265754758738259,
          0.04129037780678675,
          -0.7132244284043963,
          -1.0579130080408146,
          2.81148193442505,
          -0.04184454642460926,
          0.7307795091345204,
          -0.29943747215028277,
          0.6791011913122792,
          0.7539025548648147,
          -0.8199570302339777,
          0.6835533635051066,
          -0.37718640289622646,
          -1.4905040103618956,
          -0.8423691944628268,
          -0.16584257158889373,
          -1.4330757918373824,
          0.9461603473737706,
          -0.15290838198858106,
          -0.16205848298241507,
          0.02130880292795404,
          -1.4961741662057277,
          0.4484982571308183,
          0.18922260769185564,
          0.7710099389584645,
          -1.4518000619214029,
          -0.5812770284876827,
          0.5146202678161,
          0.9315853354882877,
          -0.9603288937961088,
          -1.103370479561761,
          -0.47745010276254535,
          0.9336441074488008,
          1.2560789857109207,
          -0.5249525108676631,
          0.9324462586812953,
          -0.8005665398613003,
          -0.4671893294403345,
          0.14609976572579939,
          0.030765176545579104,
          0.9842394461832488,
          -0.6094735362782722,
          0.5726121277992451,
          0.9344438360939703,
          1.470087261607474,
          0.6444928799223439,
          -1.8503301390802411,
          0.784695912134507,
          -0.1797897094423723,
          2.3847821119754022,
          -1.3412772928554055,
          0.5857245773958671,
          -0.44248615438473105,
          1.02478023997563,
          -0.10167432812782703,
          -0.46321591080833774,
          -1.0606116126026808,
          1.0757078100996635,
          -0.2948219640020998,
          0.4688053405721653,
          1.5442197803396982,
          2.561137988024716,
          0.051745092191318
         ]
        },
        {
         "line": {
          "color": "rgba(50, 171, 96, 1.0)",
          "dash": "solid",
          "shape": "linear",
          "width": 1.3
         },
         "mode": "lines",
         "name": "C",
         "text": "",
         "type": "scatter",
         "x": [
          0,
          1,
          2,
          3,
          4,
          5,
          6,
          7,
          8,
          9,
          10,
          11,
          12,
          13,
          14,
          15,
          16,
          17,
          18,
          19,
          20,
          21,
          22,
          23,
          24,
          25,
          26,
          27,
          28,
          29,
          30,
          31,
          32,
          33,
          34,
          35,
          36,
          37,
          38,
          39,
          40,
          41,
          42,
          43,
          44,
          45,
          46,
          47,
          48,
          49,
          50,
          51,
          52,
          53,
          54,
          55,
          56,
          57,
          58,
          59,
          60,
          61,
          62,
          63,
          64,
          65,
          66,
          67,
          68,
          69,
          70,
          71,
          72,
          73,
          74,
          75,
          76,
          77,
          78,
          79,
          80,
          81,
          82,
          83,
          84,
          85,
          86,
          87,
          88,
          89,
          90,
          91,
          92,
          93,
          94,
          95,
          96,
          97,
          98,
          99
         ],
         "y": [
          1.1423634363741173,
          0.11354051020682208,
          -2.195583075117904,
          -0.33536116350557,
          -0.47549123530692866,
          -0.4106247459547766,
          -1.2434649090000875,
          -1.6995213033682308,
          -0.6081257506754546,
          -0.08870672787977858,
          0.6400925329494375,
          0.7492341616274301,
          0.16747095277849683,
          1.2968374993604779,
          -2.11404568038147,
          -0.563870009286686,
          0.8310938582415069,
          2.325419671879464,
          0.20055448776283155,
          0.5085397117888597,
          -0.4080914801575566,
          1.6542943160162975,
          -0.5331072937653337,
          0.7586177614979411,
          0.9619927684630707,
          0.2559644805724021,
          0.5745188773744764,
          -0.5816583601699434,
          -1.429056679405346,
          0.7315998311231716,
          0.6783867139905609,
          -0.06078445221535873,
          0.27448110310334706,
          -1.16371229034305,
          -0.1398511030843688,
          0.006467377516567309,
          0.6562352588868274,
          -1.6448244488522312,
          0.3298352278087413,
          2.003002042268774,
          -1.0758696623884252,
          -0.11305940455786344,
          0.6029361517624183,
          -0.38271978469230267,
          0.7889985572895265,
          -1.741867773942648,
          -0.5174334505631387,
          0.3259635252071674,
          -0.28872347544954446,
          0.3596389037175514,
          0.009698255852205134,
          1.0793001511861586,
          1.1043921528612646,
          1.0891752844370528,
          -0.3566970439593109,
          0.21139128359993414,
          0.05023798480313808,
          0.2702500935425811,
          -1.361135025379144,
          -0.3356238142654462,
          -1.013962607948839,
          1.1381971032466252,
          -1.0107879455790383,
          0.7102149307995549,
          -0.9014591620430444,
          0.011895983352500345,
          -1.355067914607825,
          -0.15806123579869188,
          0.8023249003467309,
          1.4031343144422532,
          1.1345576048882402,
          -1.9137650864186122,
          -0.35305712873931205,
          -0.5552220851118872,
          -0.3100997841387888,
          1.1377680718610916,
          1.9065212557664553,
          -0.7063511867117129,
          -1.1490229352835497,
          -1.3530811813693597,
          0.5007106025210825,
          0.4796809706467747,
          1.8502387431840992,
          1.741994450617839,
          1.5862413863845208,
          -1.1472907598345856,
          0.8650500659149919,
          -0.33112805916725235,
          -0.18940943108872416,
          1.1662346250655902,
          -0.7525493252195511,
          -0.7556309869007968,
          0.6091473126481534,
          0.5162032920138211,
          0.7749536056718792,
          0.8177099736481309,
          2.4469257320693023,
          0.38013644896258414,
          0.20817582521403424,
          0.8467603806994561
         ]
        },
        {
         "line": {
          "color": "rgba(128, 0, 128, 1.0)",
          "dash": "solid",
          "shape": "linear",
          "width": 1.3
         },
         "mode": "lines",
         "name": "D",
         "text": "",
         "type": "scatter",
         "x": [
          0,
          1,
          2,
          3,
          4,
          5,
          6,
          7,
          8,
          9,
          10,
          11,
          12,
          13,
          14,
          15,
          16,
          17,
          18,
          19,
          20,
          21,
          22,
          23,
          24,
          25,
          26,
          27,
          28,
          29,
          30,
          31,
          32,
          33,
          34,
          35,
          36,
          37,
          38,
          39,
          40,
          41,
          42,
          43,
          44,
          45,
          46,
          47,
          48,
          49,
          50,
          51,
          52,
          53,
          54,
          55,
          56,
          57,
          58,
          59,
          60,
          61,
          62,
          63,
          64,
          65,
          66,
          67,
          68,
          69,
          70,
          71,
          72,
          73,
          74,
          75,
          76,
          77,
          78,
          79,
          80,
          81,
          82,
          83,
          84,
          85,
          86,
          87,
          88,
          89,
          90,
          91,
          92,
          93,
          94,
          95,
          96,
          97,
          98,
          99
         ],
         "y": [
          -0.8496942648665607,
          0.41805640187036686,
          -0.9878282660079463,
          -1.5663266173229944,
          0.5059032376608317,
          -0.10101444172877458,
          1.023870814958945,
          1.0776469981944543,
          0.6031197823516035,
          -0.22220860549894053,
          -0.3716384094671871,
          -1.011491658471745,
          0.18855313183096936,
          0.6095096951627761,
          0.5962586882091566,
          -0.04173088142268591,
          -0.044192706512440484,
          -0.44107380721013006,
          -0.21142501415456913,
          0.24099050809879638,
          -0.47309509430223495,
          0.18720304373616822,
          -0.46682798780266954,
          0.26713935774844777,
          -0.046718955928361935,
          0.4786827527183718,
          1.224915444840153,
          0.900313638190235,
          -0.07993912419356818,
          0.22720760688973018,
          0.16741097980313763,
          -1.6971807713758618,
          0.26285857526526424,
          -0.8481473003171561,
          1.0019832458818996,
          -0.23890963837799392,
          -0.32518323790702136,
          -1.4214659093213708,
          0.7689677362511844,
          0.720454370048769,
          1.4120436891805468,
          -0.8885013713475357,
          0.49015465824590326,
          0.318721809076388,
          1.408170320673189,
          -0.9053600991879266,
          0.5596848983027292,
          0.5874387471118737,
          -1.3452790015989369,
          -1.0919949952111225,
          0.6190528365348118,
          1.0988301926896742,
          -1.2262042653555452,
          0.3431693872520292,
          0.12570110604857224,
          0.5271309083354175,
          0.24856255460548599,
          -1.2298878838865044,
          -0.1965012336229207,
          -0.6573776808010089,
          0.24786892848275827,
          -0.6830478001558176,
          -0.7184522746832681,
          -0.9994117954392141,
          0.050962641175703705,
          -2.2732965954839375,
          0.34000553606582534,
          -0.23062189624052834,
          -0.3001576898399603,
          -1.3700987482748903,
          -0.6388222587410752,
          -1.1197675654055868,
          0.08116978578069725,
          -0.7913930689421255,
          0.03301550712197834,
          0.8346833733450515,
          -0.7188138613391741,
          1.4893496436241953,
          0.9858869294808674,
          1.6034117721274181,
          1.4994358157770709,
          0.045951459501008415,
          -1.7549269371629004,
          1.4269179974818211,
          0.013196565836392126,
          -0.616471222732565,
          -0.3572376899508515,
          -0.5911000876319832,
          0.06643642138436352,
          -0.28657629214746766,
          -0.13340202720961356,
          0.9454106134171025,
          -0.3627861661237746,
          0.2838870032276294,
          -0.5272096839790353,
          -0.5455315712911585,
          -0.594008118453773,
          0.6669525024563863,
          0.3405305426784978,
          -1.5299087920635688
         ]
        }
       ],
       "layout": {
        "legend": {
         "bgcolor": "#F5F6F9",
         "font": {
          "color": "#4D5663"
         }
        },
        "paper_bgcolor": "#F5F6F9",
        "plot_bgcolor": "#F5F6F9",
        "template": {
         "data": {
          "bar": [
           {
            "error_x": {
             "color": "#2a3f5f"
            },
            "error_y": {
             "color": "#2a3f5f"
            },
            "marker": {
             "line": {
              "color": "#E5ECF6",
              "width": 0.5
             },
             "pattern": {
              "fillmode": "overlay",
              "size": 10,
              "solidity": 0.2
             }
            },
            "type": "bar"
           }
          ],
          "barpolar": [
           {
            "marker": {
             "line": {
              "color": "#E5ECF6",
              "width": 0.5
             },
             "pattern": {
              "fillmode": "overlay",
              "size": 10,
              "solidity": 0.2
             }
            },
            "type": "barpolar"
           }
          ],
          "carpet": [
           {
            "aaxis": {
             "endlinecolor": "#2a3f5f",
             "gridcolor": "white",
             "linecolor": "white",
             "minorgridcolor": "white",
             "startlinecolor": "#2a3f5f"
            },
            "baxis": {
             "endlinecolor": "#2a3f5f",
             "gridcolor": "white",
             "linecolor": "white",
             "minorgridcolor": "white",
             "startlinecolor": "#2a3f5f"
            },
            "type": "carpet"
           }
          ],
          "choropleth": [
           {
            "colorbar": {
             "outlinewidth": 0,
             "ticks": ""
            },
            "type": "choropleth"
           }
          ],
          "contour": [
           {
            "colorbar": {
             "outlinewidth": 0,
             "ticks": ""
            },
            "colorscale": [
             [
              0,
              "#0d0887"
             ],
             [
              0.1111111111111111,
              "#46039f"
             ],
             [
              0.2222222222222222,
              "#7201a8"
             ],
             [
              0.3333333333333333,
              "#9c179e"
             ],
             [
              0.4444444444444444,
              "#bd3786"
             ],
             [
              0.5555555555555556,
              "#d8576b"
             ],
             [
              0.6666666666666666,
              "#ed7953"
             ],
             [
              0.7777777777777778,
              "#fb9f3a"
             ],
             [
              0.8888888888888888,
              "#fdca26"
             ],
             [
              1,
              "#f0f921"
             ]
            ],
            "type": "contour"
           }
          ],
          "contourcarpet": [
           {
            "colorbar": {
             "outlinewidth": 0,
             "ticks": ""
            },
            "type": "contourcarpet"
           }
          ],
          "heatmap": [
           {
            "colorbar": {
             "outlinewidth": 0,
             "ticks": ""
            },
            "colorscale": [
             [
              0,
              "#0d0887"
             ],
             [
              0.1111111111111111,
              "#46039f"
             ],
             [
              0.2222222222222222,
              "#7201a8"
             ],
             [
              0.3333333333333333,
              "#9c179e"
             ],
             [
              0.4444444444444444,
              "#bd3786"
             ],
             [
              0.5555555555555556,
              "#d8576b"
             ],
             [
              0.6666666666666666,
              "#ed7953"
             ],
             [
              0.7777777777777778,
              "#fb9f3a"
             ],
             [
              0.8888888888888888,
              "#fdca26"
             ],
             [
              1,
              "#f0f921"
             ]
            ],
            "type": "heatmap"
           }
          ],
          "heatmapgl": [
           {
            "colorbar": {
             "outlinewidth": 0,
             "ticks": ""
            },
            "colorscale": [
             [
              0,
              "#0d0887"
             ],
             [
              0.1111111111111111,
              "#46039f"
             ],
             [
              0.2222222222222222,
              "#7201a8"
             ],
             [
              0.3333333333333333,
              "#9c179e"
             ],
             [
              0.4444444444444444,
              "#bd3786"
             ],
             [
              0.5555555555555556,
              "#d8576b"
             ],
             [
              0.6666666666666666,
              "#ed7953"
             ],
             [
              0.7777777777777778,
              "#fb9f3a"
             ],
             [
              0.8888888888888888,
              "#fdca26"
             ],
             [
              1,
              "#f0f921"
             ]
            ],
            "type": "heatmapgl"
           }
          ],
          "histogram": [
           {
            "marker": {
             "pattern": {
              "fillmode": "overlay",
              "size": 10,
              "solidity": 0.2
             }
            },
            "type": "histogram"
           }
          ],
          "histogram2d": [
           {
            "colorbar": {
             "outlinewidth": 0,
             "ticks": ""
            },
            "colorscale": [
             [
              0,
              "#0d0887"
             ],
             [
              0.1111111111111111,
              "#46039f"
             ],
             [
              0.2222222222222222,
              "#7201a8"
             ],
             [
              0.3333333333333333,
              "#9c179e"
             ],
             [
              0.4444444444444444,
              "#bd3786"
             ],
             [
              0.5555555555555556,
              "#d8576b"
             ],
             [
              0.6666666666666666,
              "#ed7953"
             ],
             [
              0.7777777777777778,
              "#fb9f3a"
             ],
             [
              0.8888888888888888,
              "#fdca26"
             ],
             [
              1,
              "#f0f921"
             ]
            ],
            "type": "histogram2d"
           }
          ],
          "histogram2dcontour": [
           {
            "colorbar": {
             "outlinewidth": 0,
             "ticks": ""
            },
            "colorscale": [
             [
              0,
              "#0d0887"
             ],
             [
              0.1111111111111111,
              "#46039f"
             ],
             [
              0.2222222222222222,
              "#7201a8"
             ],
             [
              0.3333333333333333,
              "#9c179e"
             ],
             [
              0.4444444444444444,
              "#bd3786"
             ],
             [
              0.5555555555555556,
              "#d8576b"
             ],
             [
              0.6666666666666666,
              "#ed7953"
             ],
             [
              0.7777777777777778,
              "#fb9f3a"
             ],
             [
              0.8888888888888888,
              "#fdca26"
             ],
             [
              1,
              "#f0f921"
             ]
            ],
            "type": "histogram2dcontour"
           }
          ],
          "mesh3d": [
           {
            "colorbar": {
             "outlinewidth": 0,
             "ticks": ""
            },
            "type": "mesh3d"
           }
          ],
          "parcoords": [
           {
            "line": {
             "colorbar": {
              "outlinewidth": 0,
              "ticks": ""
             }
            },
            "type": "parcoords"
           }
          ],
          "pie": [
           {
            "automargin": true,
            "type": "pie"
           }
          ],
          "scatter": [
           {
            "fillpattern": {
             "fillmode": "overlay",
             "size": 10,
             "solidity": 0.2
            },
            "type": "scatter"
           }
          ],
          "scatter3d": [
           {
            "line": {
             "colorbar": {
              "outlinewidth": 0,
              "ticks": ""
             }
            },
            "marker": {
             "colorbar": {
              "outlinewidth": 0,
              "ticks": ""
             }
            },
            "type": "scatter3d"
           }
          ],
          "scattercarpet": [
           {
            "marker": {
             "colorbar": {
              "outlinewidth": 0,
              "ticks": ""
             }
            },
            "type": "scattercarpet"
           }
          ],
          "scattergeo": [
           {
            "marker": {
             "colorbar": {
              "outlinewidth": 0,
              "ticks": ""
             }
            },
            "type": "scattergeo"
           }
          ],
          "scattergl": [
           {
            "marker": {
             "colorbar": {
              "outlinewidth": 0,
              "ticks": ""
             }
            },
            "type": "scattergl"
           }
          ],
          "scattermapbox": [
           {
            "marker": {
             "colorbar": {
              "outlinewidth": 0,
              "ticks": ""
             }
            },
            "type": "scattermapbox"
           }
          ],
          "scatterpolar": [
           {
            "marker": {
             "colorbar": {
              "outlinewidth": 0,
              "ticks": ""
             }
            },
            "type": "scatterpolar"
           }
          ],
          "scatterpolargl": [
           {
            "marker": {
             "colorbar": {
              "outlinewidth": 0,
              "ticks": ""
             }
            },
            "type": "scatterpolargl"
           }
          ],
          "scatterternary": [
           {
            "marker": {
             "colorbar": {
              "outlinewidth": 0,
              "ticks": ""
             }
            },
            "type": "scatterternary"
           }
          ],
          "surface": [
           {
            "colorbar": {
             "outlinewidth": 0,
             "ticks": ""
            },
            "colorscale": [
             [
              0,
              "#0d0887"
             ],
             [
              0.1111111111111111,
              "#46039f"
             ],
             [
              0.2222222222222222,
              "#7201a8"
             ],
             [
              0.3333333333333333,
              "#9c179e"
             ],
             [
              0.4444444444444444,
              "#bd3786"
             ],
             [
              0.5555555555555556,
              "#d8576b"
             ],
             [
              0.6666666666666666,
              "#ed7953"
             ],
             [
              0.7777777777777778,
              "#fb9f3a"
             ],
             [
              0.8888888888888888,
              "#fdca26"
             ],
             [
              1,
              "#f0f921"
             ]
            ],
            "type": "surface"
           }
          ],
          "table": [
           {
            "cells": {
             "fill": {
              "color": "#EBF0F8"
             },
             "line": {
              "color": "white"
             }
            },
            "header": {
             "fill": {
              "color": "#C8D4E3"
             },
             "line": {
              "color": "white"
             }
            },
            "type": "table"
           }
          ]
         },
         "layout": {
          "annotationdefaults": {
           "arrowcolor": "#2a3f5f",
           "arrowhead": 0,
           "arrowwidth": 1
          },
          "autotypenumbers": "strict",
          "coloraxis": {
           "colorbar": {
            "outlinewidth": 0,
            "ticks": ""
           }
          },
          "colorscale": {
           "diverging": [
            [
             0,
             "#8e0152"
            ],
            [
             0.1,
             "#c51b7d"
            ],
            [
             0.2,
             "#de77ae"
            ],
            [
             0.3,
             "#f1b6da"
            ],
            [
             0.4,
             "#fde0ef"
            ],
            [
             0.5,
             "#f7f7f7"
            ],
            [
             0.6,
             "#e6f5d0"
            ],
            [
             0.7,
             "#b8e186"
            ],
            [
             0.8,
             "#7fbc41"
            ],
            [
             0.9,
             "#4d9221"
            ],
            [
             1,
             "#276419"
            ]
           ],
           "sequential": [
            [
             0,
             "#0d0887"
            ],
            [
             0.1111111111111111,
             "#46039f"
            ],
            [
             0.2222222222222222,
             "#7201a8"
            ],
            [
             0.3333333333333333,
             "#9c179e"
            ],
            [
             0.4444444444444444,
             "#bd3786"
            ],
            [
             0.5555555555555556,
             "#d8576b"
            ],
            [
             0.6666666666666666,
             "#ed7953"
            ],
            [
             0.7777777777777778,
             "#fb9f3a"
            ],
            [
             0.8888888888888888,
             "#fdca26"
            ],
            [
             1,
             "#f0f921"
            ]
           ],
           "sequentialminus": [
            [
             0,
             "#0d0887"
            ],
            [
             0.1111111111111111,
             "#46039f"
            ],
            [
             0.2222222222222222,
             "#7201a8"
            ],
            [
             0.3333333333333333,
             "#9c179e"
            ],
            [
             0.4444444444444444,
             "#bd3786"
            ],
            [
             0.5555555555555556,
             "#d8576b"
            ],
            [
             0.6666666666666666,
             "#ed7953"
            ],
            [
             0.7777777777777778,
             "#fb9f3a"
            ],
            [
             0.8888888888888888,
             "#fdca26"
            ],
            [
             1,
             "#f0f921"
            ]
           ]
          },
          "colorway": [
           "#636efa",
           "#EF553B",
           "#00cc96",
           "#ab63fa",
           "#FFA15A",
           "#19d3f3",
           "#FF6692",
           "#B6E880",
           "#FF97FF",
           "#FECB52"
          ],
          "font": {
           "color": "#2a3f5f"
          },
          "geo": {
           "bgcolor": "white",
           "lakecolor": "white",
           "landcolor": "#E5ECF6",
           "showlakes": true,
           "showland": true,
           "subunitcolor": "white"
          },
          "hoverlabel": {
           "align": "left"
          },
          "hovermode": "closest",
          "mapbox": {
           "style": "light"
          },
          "paper_bgcolor": "white",
          "plot_bgcolor": "#E5ECF6",
          "polar": {
           "angularaxis": {
            "gridcolor": "white",
            "linecolor": "white",
            "ticks": ""
           },
           "bgcolor": "#E5ECF6",
           "radialaxis": {
            "gridcolor": "white",
            "linecolor": "white",
            "ticks": ""
           }
          },
          "scene": {
           "xaxis": {
            "backgroundcolor": "#E5ECF6",
            "gridcolor": "white",
            "gridwidth": 2,
            "linecolor": "white",
            "showbackground": true,
            "ticks": "",
            "zerolinecolor": "white"
           },
           "yaxis": {
            "backgroundcolor": "#E5ECF6",
            "gridcolor": "white",
            "gridwidth": 2,
            "linecolor": "white",
            "showbackground": true,
            "ticks": "",
            "zerolinecolor": "white"
           },
           "zaxis": {
            "backgroundcolor": "#E5ECF6",
            "gridcolor": "white",
            "gridwidth": 2,
            "linecolor": "white",
            "showbackground": true,
            "ticks": "",
            "zerolinecolor": "white"
           }
          },
          "shapedefaults": {
           "line": {
            "color": "#2a3f5f"
           }
          },
          "ternary": {
           "aaxis": {
            "gridcolor": "white",
            "linecolor": "white",
            "ticks": ""
           },
           "baxis": {
            "gridcolor": "white",
            "linecolor": "white",
            "ticks": ""
           },
           "bgcolor": "#E5ECF6",
           "caxis": {
            "gridcolor": "white",
            "linecolor": "white",
            "ticks": ""
           }
          },
          "title": {
           "x": 0.05
          },
          "xaxis": {
           "automargin": true,
           "gridcolor": "white",
           "linecolor": "white",
           "ticks": "",
           "title": {
            "standoff": 15
           },
           "zerolinecolor": "white",
           "zerolinewidth": 2
          },
          "yaxis": {
           "automargin": true,
           "gridcolor": "white",
           "linecolor": "white",
           "ticks": "",
           "title": {
            "standoff": 15
           },
           "zerolinecolor": "white",
           "zerolinewidth": 2
          }
         }
        },
        "title": {
         "font": {
          "color": "#4D5663"
         }
        },
        "xaxis": {
         "gridcolor": "#E1E5ED",
         "showgrid": true,
         "tickfont": {
          "color": "#4D5663"
         },
         "title": {
          "font": {
           "color": "#4D5663"
          },
          "text": ""
         },
         "zerolinecolor": "#E1E5ED"
        },
        "yaxis": {
         "gridcolor": "#E1E5ED",
         "showgrid": true,
         "tickfont": {
          "color": "#4D5663"
         },
         "title": {
          "font": {
           "color": "#4D5663"
          },
          "text": ""
         },
         "zerolinecolor": "#E1E5ED"
        }
       }
      },
      "text/html": [
       "<div>                            <div id=\"5b233363-c6a9-44ff-92c8-41305cb5b60e\" class=\"plotly-graph-div\" style=\"height:525px; width:100%;\"></div>            <script type=\"text/javascript\">                require([\"plotly\"], function(Plotly) {                    window.PLOTLYENV=window.PLOTLYENV || {};\n",
       "                    window.PLOTLYENV.BASE_URL='https://plot.ly';                                    if (document.getElementById(\"5b233363-c6a9-44ff-92c8-41305cb5b60e\")) {                    Plotly.newPlot(                        \"5b233363-c6a9-44ff-92c8-41305cb5b60e\",                        [{\"line\":{\"color\":\"rgba(255, 153, 51, 1.0)\",\"dash\":\"solid\",\"shape\":\"linear\",\"width\":1.3},\"mode\":\"lines\",\"name\":\"A\",\"text\":\"\",\"x\":[0,1,2,3,4,5,6,7,8,9,10,11,12,13,14,15,16,17,18,19,20,21,22,23,24,25,26,27,28,29,30,31,32,33,34,35,36,37,38,39,40,41,42,43,44,45,46,47,48,49,50,51,52,53,54,55,56,57,58,59,60,61,62,63,64,65,66,67,68,69,70,71,72,73,74,75,76,77,78,79,80,81,82,83,84,85,86,87,88,89,90,91,92,93,94,95,96,97,98,99],\"y\":[0.2991550861198565,-0.3841492154014665,-1.4955874438548968,-0.986281527430265,0.8636431673834111,1.0506243725442432,-0.5641456423079034,-1.7863210272933812,0.5893189259744791,-0.6283981743665769,0.9822149186999429,0.003621728700036139,1.1478470780946737,0.9493796075126227,2.023151425732341,0.8209651038367457,-1.436616028751318,0.2501161685999158,-2.18940427695009,1.060005975403017,-1.2913373051591328,-0.5818461629913243,-3.559727068196443,0.0429856375186844,-0.040441593036933884,0.4365405596956291,-1.6122927837729488,-2.200067677252177,1.3741729080719394,0.22372429063459934,0.35456006418455993,1.0268798296954587,1.2483904845694946,0.06803355363766585,-1.215641873426893,-1.0092547114079848,-0.18928431766049622,-0.13624175059188193,-1.124654032729839,1.906287147681474,0.22227594199144093,-1.1680813787099484,1.2448035827666633,0.09448168900829862,-1.9213213375620148,3.374448829478874,-0.4720745251680017,1.4237076937233117,1.0977579047946182,0.27276264592903,-0.7071666774547971,0.4579682494563629,0.7812645170577213,0.6940016369921731,-1.6670428257540362,0.10479754129686403,2.0521391141627117,-0.5894929196802318,0.2086275444892075,-0.3943158555219555,-0.001962682381986401,0.5061562116185518,-1.31068766067125,1.1458984485772514,0.07746205451031746,0.42117143238154464,0.022396537274275884,0.3832423647923307,-0.7142696921980415,1.5759715705521424,-1.0948757064584989,-0.3578123661598927,-0.1388499152089222,-1.0316315826678573,0.14133939011217816,-0.7236948335615198,-1.0461981495376964,-0.860425552617968,0.6838366995531965,0.5019976649548585,-0.2698604416378836,0.020026700999118248,0.7382030841174992,-1.0107550832011862,-0.9809011420879843,0.40108331476893583,0.06473151369985368,1.8746933818594682,0.2515041968308312,-0.9807717470558058,0.40762164463885214,-1.1849158622412188,-0.17364781870766738,-1.4336904561145787,0.6915743124241517,0.010826914274588933,0.20377929746820334,-2.995026620423591,-1.2399719772534463,0.8788721868956764],\"type\":\"scatter\"},{\"line\":{\"color\":\"rgba(55, 128, 191, 1.0)\",\"dash\":\"solid\",\"shape\":\"linear\",\"width\":1.3},\"mode\":\"lines\",\"name\":\"B\",\"text\":\"\",\"x\":[0,1,2,3,4,5,6,7,8,9,10,11,12,13,14,15,16,17,18,19,20,21,22,23,24,25,26,27,28,29,30,31,32,33,34,35,36,37,38,39,40,41,42,43,44,45,46,47,48,49,50,51,52,53,54,55,56,57,58,59,60,61,62,63,64,65,66,67,68,69,70,71,72,73,74,75,76,77,78,79,80,81,82,83,84,85,86,87,88,89,90,91,92,93,94,95,96,97,98,99],\"y\":[0.780112161625848,-0.6622020441579575,0.19603094116590988,0.9444435813517414,2.0190065917990325,0.43722776902737875,0.6764390904739006,-1.0318392658003315,-0.7052936531538087,-1.2207048933585274,-0.022498175312445908,-0.47514400008103796,0.015631345678703647,0.49166903297101733,-0.4463750385965351,-1.2532070399499404,0.017542246804112673,-0.7570882592644229,-1.2012136807274745,0.7886948763755939,-0.8693486963450223,0.9010537168023657,-0.5770469082718713,-0.1030991380904987,0.5338436665524187,1.1155594158041637,0.26391870421043223,1.3232294736026364,0.7630229489633639,1.632035218409037,1.5207097499353,-0.0006879736573673989,-1.21103828452234,1.34662009347215,0.9975735907200801,0.9551360071731924,-1.0722210696166834,-1.7265754758738259,0.04129037780678675,-0.7132244284043963,-1.0579130080408146,2.81148193442505,-0.04184454642460926,0.7307795091345204,-0.29943747215028277,0.6791011913122792,0.7539025548648147,-0.8199570302339777,0.6835533635051066,-0.37718640289622646,-1.4905040103618956,-0.8423691944628268,-0.16584257158889373,-1.4330757918373824,0.9461603473737706,-0.15290838198858106,-0.16205848298241507,0.02130880292795404,-1.4961741662057277,0.4484982571308183,0.18922260769185564,0.7710099389584645,-1.4518000619214029,-0.5812770284876827,0.5146202678161,0.9315853354882877,-0.9603288937961088,-1.103370479561761,-0.47745010276254535,0.9336441074488008,1.2560789857109207,-0.5249525108676631,0.9324462586812953,-0.8005665398613003,-0.4671893294403345,0.14609976572579939,0.030765176545579104,0.9842394461832488,-0.6094735362782722,0.5726121277992451,0.9344438360939703,1.470087261607474,0.6444928799223439,-1.8503301390802411,0.784695912134507,-0.1797897094423723,2.3847821119754022,-1.3412772928554055,0.5857245773958671,-0.44248615438473105,1.02478023997563,-0.10167432812782703,-0.46321591080833774,-1.0606116126026808,1.0757078100996635,-0.2948219640020998,0.4688053405721653,1.5442197803396982,2.561137988024716,0.051745092191318],\"type\":\"scatter\"},{\"line\":{\"color\":\"rgba(50, 171, 96, 1.0)\",\"dash\":\"solid\",\"shape\":\"linear\",\"width\":1.3},\"mode\":\"lines\",\"name\":\"C\",\"text\":\"\",\"x\":[0,1,2,3,4,5,6,7,8,9,10,11,12,13,14,15,16,17,18,19,20,21,22,23,24,25,26,27,28,29,30,31,32,33,34,35,36,37,38,39,40,41,42,43,44,45,46,47,48,49,50,51,52,53,54,55,56,57,58,59,60,61,62,63,64,65,66,67,68,69,70,71,72,73,74,75,76,77,78,79,80,81,82,83,84,85,86,87,88,89,90,91,92,93,94,95,96,97,98,99],\"y\":[1.1423634363741173,0.11354051020682208,-2.195583075117904,-0.33536116350557,-0.47549123530692866,-0.4106247459547766,-1.2434649090000875,-1.6995213033682308,-0.6081257506754546,-0.08870672787977858,0.6400925329494375,0.7492341616274301,0.16747095277849683,1.2968374993604779,-2.11404568038147,-0.563870009286686,0.8310938582415069,2.325419671879464,0.20055448776283155,0.5085397117888597,-0.4080914801575566,1.6542943160162975,-0.5331072937653337,0.7586177614979411,0.9619927684630707,0.2559644805724021,0.5745188773744764,-0.5816583601699434,-1.429056679405346,0.7315998311231716,0.6783867139905609,-0.06078445221535873,0.27448110310334706,-1.16371229034305,-0.1398511030843688,0.006467377516567309,0.6562352588868274,-1.6448244488522312,0.3298352278087413,2.003002042268774,-1.0758696623884252,-0.11305940455786344,0.6029361517624183,-0.38271978469230267,0.7889985572895265,-1.741867773942648,-0.5174334505631387,0.3259635252071674,-0.28872347544954446,0.3596389037175514,0.009698255852205134,1.0793001511861586,1.1043921528612646,1.0891752844370528,-0.3566970439593109,0.21139128359993414,0.05023798480313808,0.2702500935425811,-1.361135025379144,-0.3356238142654462,-1.013962607948839,1.1381971032466252,-1.0107879455790383,0.7102149307995549,-0.9014591620430444,0.011895983352500345,-1.355067914607825,-0.15806123579869188,0.8023249003467309,1.4031343144422532,1.1345576048882402,-1.9137650864186122,-0.35305712873931205,-0.5552220851118872,-0.3100997841387888,1.1377680718610916,1.9065212557664553,-0.7063511867117129,-1.1490229352835497,-1.3530811813693597,0.5007106025210825,0.4796809706467747,1.8502387431840992,1.741994450617839,1.5862413863845208,-1.1472907598345856,0.8650500659149919,-0.33112805916725235,-0.18940943108872416,1.1662346250655902,-0.7525493252195511,-0.7556309869007968,0.6091473126481534,0.5162032920138211,0.7749536056718792,0.8177099736481309,2.4469257320693023,0.38013644896258414,0.20817582521403424,0.8467603806994561],\"type\":\"scatter\"},{\"line\":{\"color\":\"rgba(128, 0, 128, 1.0)\",\"dash\":\"solid\",\"shape\":\"linear\",\"width\":1.3},\"mode\":\"lines\",\"name\":\"D\",\"text\":\"\",\"x\":[0,1,2,3,4,5,6,7,8,9,10,11,12,13,14,15,16,17,18,19,20,21,22,23,24,25,26,27,28,29,30,31,32,33,34,35,36,37,38,39,40,41,42,43,44,45,46,47,48,49,50,51,52,53,54,55,56,57,58,59,60,61,62,63,64,65,66,67,68,69,70,71,72,73,74,75,76,77,78,79,80,81,82,83,84,85,86,87,88,89,90,91,92,93,94,95,96,97,98,99],\"y\":[-0.8496942648665607,0.41805640187036686,-0.9878282660079463,-1.5663266173229944,0.5059032376608317,-0.10101444172877458,1.023870814958945,1.0776469981944543,0.6031197823516035,-0.22220860549894053,-0.3716384094671871,-1.011491658471745,0.18855313183096936,0.6095096951627761,0.5962586882091566,-0.04173088142268591,-0.044192706512440484,-0.44107380721013006,-0.21142501415456913,0.24099050809879638,-0.47309509430223495,0.18720304373616822,-0.46682798780266954,0.26713935774844777,-0.046718955928361935,0.4786827527183718,1.224915444840153,0.900313638190235,-0.07993912419356818,0.22720760688973018,0.16741097980313763,-1.6971807713758618,0.26285857526526424,-0.8481473003171561,1.0019832458818996,-0.23890963837799392,-0.32518323790702136,-1.4214659093213708,0.7689677362511844,0.720454370048769,1.4120436891805468,-0.8885013713475357,0.49015465824590326,0.318721809076388,1.408170320673189,-0.9053600991879266,0.5596848983027292,0.5874387471118737,-1.3452790015989369,-1.0919949952111225,0.6190528365348118,1.0988301926896742,-1.2262042653555452,0.3431693872520292,0.12570110604857224,0.5271309083354175,0.24856255460548599,-1.2298878838865044,-0.1965012336229207,-0.6573776808010089,0.24786892848275827,-0.6830478001558176,-0.7184522746832681,-0.9994117954392141,0.050962641175703705,-2.2732965954839375,0.34000553606582534,-0.23062189624052834,-0.3001576898399603,-1.3700987482748903,-0.6388222587410752,-1.1197675654055868,0.08116978578069725,-0.7913930689421255,0.03301550712197834,0.8346833733450515,-0.7188138613391741,1.4893496436241953,0.9858869294808674,1.6034117721274181,1.4994358157770709,0.045951459501008415,-1.7549269371629004,1.4269179974818211,0.013196565836392126,-0.616471222732565,-0.3572376899508515,-0.5911000876319832,0.06643642138436352,-0.28657629214746766,-0.13340202720961356,0.9454106134171025,-0.3627861661237746,0.2838870032276294,-0.5272096839790353,-0.5455315712911585,-0.594008118453773,0.6669525024563863,0.3405305426784978,-1.5299087920635688],\"type\":\"scatter\"}],                        {\"legend\":{\"bgcolor\":\"#F5F6F9\",\"font\":{\"color\":\"#4D5663\"}},\"paper_bgcolor\":\"#F5F6F9\",\"plot_bgcolor\":\"#F5F6F9\",\"template\":{\"data\":{\"barpolar\":[{\"marker\":{\"line\":{\"color\":\"#E5ECF6\",\"width\":0.5},\"pattern\":{\"fillmode\":\"overlay\",\"size\":10,\"solidity\":0.2}},\"type\":\"barpolar\"}],\"bar\":[{\"error_x\":{\"color\":\"#2a3f5f\"},\"error_y\":{\"color\":\"#2a3f5f\"},\"marker\":{\"line\":{\"color\":\"#E5ECF6\",\"width\":0.5},\"pattern\":{\"fillmode\":\"overlay\",\"size\":10,\"solidity\":0.2}},\"type\":\"bar\"}],\"carpet\":[{\"aaxis\":{\"endlinecolor\":\"#2a3f5f\",\"gridcolor\":\"white\",\"linecolor\":\"white\",\"minorgridcolor\":\"white\",\"startlinecolor\":\"#2a3f5f\"},\"baxis\":{\"endlinecolor\":\"#2a3f5f\",\"gridcolor\":\"white\",\"linecolor\":\"white\",\"minorgridcolor\":\"white\",\"startlinecolor\":\"#2a3f5f\"},\"type\":\"carpet\"}],\"choropleth\":[{\"colorbar\":{\"outlinewidth\":0,\"ticks\":\"\"},\"type\":\"choropleth\"}],\"contourcarpet\":[{\"colorbar\":{\"outlinewidth\":0,\"ticks\":\"\"},\"type\":\"contourcarpet\"}],\"contour\":[{\"colorbar\":{\"outlinewidth\":0,\"ticks\":\"\"},\"colorscale\":[[0.0,\"#0d0887\"],[0.1111111111111111,\"#46039f\"],[0.2222222222222222,\"#7201a8\"],[0.3333333333333333,\"#9c179e\"],[0.4444444444444444,\"#bd3786\"],[0.5555555555555556,\"#d8576b\"],[0.6666666666666666,\"#ed7953\"],[0.7777777777777778,\"#fb9f3a\"],[0.8888888888888888,\"#fdca26\"],[1.0,\"#f0f921\"]],\"type\":\"contour\"}],\"heatmapgl\":[{\"colorbar\":{\"outlinewidth\":0,\"ticks\":\"\"},\"colorscale\":[[0.0,\"#0d0887\"],[0.1111111111111111,\"#46039f\"],[0.2222222222222222,\"#7201a8\"],[0.3333333333333333,\"#9c179e\"],[0.4444444444444444,\"#bd3786\"],[0.5555555555555556,\"#d8576b\"],[0.6666666666666666,\"#ed7953\"],[0.7777777777777778,\"#fb9f3a\"],[0.8888888888888888,\"#fdca26\"],[1.0,\"#f0f921\"]],\"type\":\"heatmapgl\"}],\"heatmap\":[{\"colorbar\":{\"outlinewidth\":0,\"ticks\":\"\"},\"colorscale\":[[0.0,\"#0d0887\"],[0.1111111111111111,\"#46039f\"],[0.2222222222222222,\"#7201a8\"],[0.3333333333333333,\"#9c179e\"],[0.4444444444444444,\"#bd3786\"],[0.5555555555555556,\"#d8576b\"],[0.6666666666666666,\"#ed7953\"],[0.7777777777777778,\"#fb9f3a\"],[0.8888888888888888,\"#fdca26\"],[1.0,\"#f0f921\"]],\"type\":\"heatmap\"}],\"histogram2dcontour\":[{\"colorbar\":{\"outlinewidth\":0,\"ticks\":\"\"},\"colorscale\":[[0.0,\"#0d0887\"],[0.1111111111111111,\"#46039f\"],[0.2222222222222222,\"#7201a8\"],[0.3333333333333333,\"#9c179e\"],[0.4444444444444444,\"#bd3786\"],[0.5555555555555556,\"#d8576b\"],[0.6666666666666666,\"#ed7953\"],[0.7777777777777778,\"#fb9f3a\"],[0.8888888888888888,\"#fdca26\"],[1.0,\"#f0f921\"]],\"type\":\"histogram2dcontour\"}],\"histogram2d\":[{\"colorbar\":{\"outlinewidth\":0,\"ticks\":\"\"},\"colorscale\":[[0.0,\"#0d0887\"],[0.1111111111111111,\"#46039f\"],[0.2222222222222222,\"#7201a8\"],[0.3333333333333333,\"#9c179e\"],[0.4444444444444444,\"#bd3786\"],[0.5555555555555556,\"#d8576b\"],[0.6666666666666666,\"#ed7953\"],[0.7777777777777778,\"#fb9f3a\"],[0.8888888888888888,\"#fdca26\"],[1.0,\"#f0f921\"]],\"type\":\"histogram2d\"}],\"histogram\":[{\"marker\":{\"pattern\":{\"fillmode\":\"overlay\",\"size\":10,\"solidity\":0.2}},\"type\":\"histogram\"}],\"mesh3d\":[{\"colorbar\":{\"outlinewidth\":0,\"ticks\":\"\"},\"type\":\"mesh3d\"}],\"parcoords\":[{\"line\":{\"colorbar\":{\"outlinewidth\":0,\"ticks\":\"\"}},\"type\":\"parcoords\"}],\"pie\":[{\"automargin\":true,\"type\":\"pie\"}],\"scatter3d\":[{\"line\":{\"colorbar\":{\"outlinewidth\":0,\"ticks\":\"\"}},\"marker\":{\"colorbar\":{\"outlinewidth\":0,\"ticks\":\"\"}},\"type\":\"scatter3d\"}],\"scattercarpet\":[{\"marker\":{\"colorbar\":{\"outlinewidth\":0,\"ticks\":\"\"}},\"type\":\"scattercarpet\"}],\"scattergeo\":[{\"marker\":{\"colorbar\":{\"outlinewidth\":0,\"ticks\":\"\"}},\"type\":\"scattergeo\"}],\"scattergl\":[{\"marker\":{\"colorbar\":{\"outlinewidth\":0,\"ticks\":\"\"}},\"type\":\"scattergl\"}],\"scattermapbox\":[{\"marker\":{\"colorbar\":{\"outlinewidth\":0,\"ticks\":\"\"}},\"type\":\"scattermapbox\"}],\"scatterpolargl\":[{\"marker\":{\"colorbar\":{\"outlinewidth\":0,\"ticks\":\"\"}},\"type\":\"scatterpolargl\"}],\"scatterpolar\":[{\"marker\":{\"colorbar\":{\"outlinewidth\":0,\"ticks\":\"\"}},\"type\":\"scatterpolar\"}],\"scatter\":[{\"fillpattern\":{\"fillmode\":\"overlay\",\"size\":10,\"solidity\":0.2},\"type\":\"scatter\"}],\"scatterternary\":[{\"marker\":{\"colorbar\":{\"outlinewidth\":0,\"ticks\":\"\"}},\"type\":\"scatterternary\"}],\"surface\":[{\"colorbar\":{\"outlinewidth\":0,\"ticks\":\"\"},\"colorscale\":[[0.0,\"#0d0887\"],[0.1111111111111111,\"#46039f\"],[0.2222222222222222,\"#7201a8\"],[0.3333333333333333,\"#9c179e\"],[0.4444444444444444,\"#bd3786\"],[0.5555555555555556,\"#d8576b\"],[0.6666666666666666,\"#ed7953\"],[0.7777777777777778,\"#fb9f3a\"],[0.8888888888888888,\"#fdca26\"],[1.0,\"#f0f921\"]],\"type\":\"surface\"}],\"table\":[{\"cells\":{\"fill\":{\"color\":\"#EBF0F8\"},\"line\":{\"color\":\"white\"}},\"header\":{\"fill\":{\"color\":\"#C8D4E3\"},\"line\":{\"color\":\"white\"}},\"type\":\"table\"}]},\"layout\":{\"annotationdefaults\":{\"arrowcolor\":\"#2a3f5f\",\"arrowhead\":0,\"arrowwidth\":1},\"autotypenumbers\":\"strict\",\"coloraxis\":{\"colorbar\":{\"outlinewidth\":0,\"ticks\":\"\"}},\"colorscale\":{\"diverging\":[[0,\"#8e0152\"],[0.1,\"#c51b7d\"],[0.2,\"#de77ae\"],[0.3,\"#f1b6da\"],[0.4,\"#fde0ef\"],[0.5,\"#f7f7f7\"],[0.6,\"#e6f5d0\"],[0.7,\"#b8e186\"],[0.8,\"#7fbc41\"],[0.9,\"#4d9221\"],[1,\"#276419\"]],\"sequential\":[[0.0,\"#0d0887\"],[0.1111111111111111,\"#46039f\"],[0.2222222222222222,\"#7201a8\"],[0.3333333333333333,\"#9c179e\"],[0.4444444444444444,\"#bd3786\"],[0.5555555555555556,\"#d8576b\"],[0.6666666666666666,\"#ed7953\"],[0.7777777777777778,\"#fb9f3a\"],[0.8888888888888888,\"#fdca26\"],[1.0,\"#f0f921\"]],\"sequentialminus\":[[0.0,\"#0d0887\"],[0.1111111111111111,\"#46039f\"],[0.2222222222222222,\"#7201a8\"],[0.3333333333333333,\"#9c179e\"],[0.4444444444444444,\"#bd3786\"],[0.5555555555555556,\"#d8576b\"],[0.6666666666666666,\"#ed7953\"],[0.7777777777777778,\"#fb9f3a\"],[0.8888888888888888,\"#fdca26\"],[1.0,\"#f0f921\"]]},\"colorway\":[\"#636efa\",\"#EF553B\",\"#00cc96\",\"#ab63fa\",\"#FFA15A\",\"#19d3f3\",\"#FF6692\",\"#B6E880\",\"#FF97FF\",\"#FECB52\"],\"font\":{\"color\":\"#2a3f5f\"},\"geo\":{\"bgcolor\":\"white\",\"lakecolor\":\"white\",\"landcolor\":\"#E5ECF6\",\"showlakes\":true,\"showland\":true,\"subunitcolor\":\"white\"},\"hoverlabel\":{\"align\":\"left\"},\"hovermode\":\"closest\",\"mapbox\":{\"style\":\"light\"},\"paper_bgcolor\":\"white\",\"plot_bgcolor\":\"#E5ECF6\",\"polar\":{\"angularaxis\":{\"gridcolor\":\"white\",\"linecolor\":\"white\",\"ticks\":\"\"},\"bgcolor\":\"#E5ECF6\",\"radialaxis\":{\"gridcolor\":\"white\",\"linecolor\":\"white\",\"ticks\":\"\"}},\"scene\":{\"xaxis\":{\"backgroundcolor\":\"#E5ECF6\",\"gridcolor\":\"white\",\"gridwidth\":2,\"linecolor\":\"white\",\"showbackground\":true,\"ticks\":\"\",\"zerolinecolor\":\"white\"},\"yaxis\":{\"backgroundcolor\":\"#E5ECF6\",\"gridcolor\":\"white\",\"gridwidth\":2,\"linecolor\":\"white\",\"showbackground\":true,\"ticks\":\"\",\"zerolinecolor\":\"white\"},\"zaxis\":{\"backgroundcolor\":\"#E5ECF6\",\"gridcolor\":\"white\",\"gridwidth\":2,\"linecolor\":\"white\",\"showbackground\":true,\"ticks\":\"\",\"zerolinecolor\":\"white\"}},\"shapedefaults\":{\"line\":{\"color\":\"#2a3f5f\"}},\"ternary\":{\"aaxis\":{\"gridcolor\":\"white\",\"linecolor\":\"white\",\"ticks\":\"\"},\"baxis\":{\"gridcolor\":\"white\",\"linecolor\":\"white\",\"ticks\":\"\"},\"bgcolor\":\"#E5ECF6\",\"caxis\":{\"gridcolor\":\"white\",\"linecolor\":\"white\",\"ticks\":\"\"}},\"title\":{\"x\":0.05},\"xaxis\":{\"automargin\":true,\"gridcolor\":\"white\",\"linecolor\":\"white\",\"ticks\":\"\",\"title\":{\"standoff\":15},\"zerolinecolor\":\"white\",\"zerolinewidth\":2},\"yaxis\":{\"automargin\":true,\"gridcolor\":\"white\",\"linecolor\":\"white\",\"ticks\":\"\",\"title\":{\"standoff\":15},\"zerolinecolor\":\"white\",\"zerolinewidth\":2}}},\"title\":{\"font\":{\"color\":\"#4D5663\"}},\"xaxis\":{\"gridcolor\":\"#E1E5ED\",\"showgrid\":true,\"tickfont\":{\"color\":\"#4D5663\"},\"title\":{\"font\":{\"color\":\"#4D5663\"},\"text\":\"\"},\"zerolinecolor\":\"#E1E5ED\"},\"yaxis\":{\"gridcolor\":\"#E1E5ED\",\"showgrid\":true,\"tickfont\":{\"color\":\"#4D5663\"},\"title\":{\"font\":{\"color\":\"#4D5663\"},\"text\":\"\"},\"zerolinecolor\":\"#E1E5ED\"}},                        {\"showLink\": true, \"linkText\": \"Export to plot.ly\", \"plotlyServerURL\": \"https://plot.ly\", \"responsive\": true}                    ).then(function(){\n",
       "                            \n",
       "var gd = document.getElementById('5b233363-c6a9-44ff-92c8-41305cb5b60e');\n",
       "var x = new MutationObserver(function (mutations, observer) {{\n",
       "        var display = window.getComputedStyle(gd).display;\n",
       "        if (!display || display === 'none') {{\n",
       "            console.log([gd, 'removed!']);\n",
       "            Plotly.purge(gd);\n",
       "            observer.disconnect();\n",
       "        }}\n",
       "}});\n",
       "\n",
       "// Listen for the removal of the full notebook cells\n",
       "var notebookContainer = gd.closest('#notebook-container');\n",
       "if (notebookContainer) {{\n",
       "    x.observe(notebookContainer, {childList: true});\n",
       "}}\n",
       "\n",
       "// Listen for the clearing of the current output cell\n",
       "var outputEl = gd.closest('.output');\n",
       "if (outputEl) {{\n",
       "    x.observe(outputEl, {childList: true});\n",
       "}}\n",
       "\n",
       "                        })                };                });            </script>        </div>"
      ]
     },
     "metadata": {},
     "output_type": "display_data"
    }
   ],
   "source": [
    "df.iplot()"
   ]
  },
  {
   "cell_type": "code",
   "execution_count": null,
   "id": "f6cb7c04",
   "metadata": {},
   "outputs": [],
   "source": []
  },
  {
   "cell_type": "markdown",
   "id": "e765c09c",
   "metadata": {},
   "source": [
    "## Scatter"
   ]
  },
  {
   "cell_type": "code",
   "execution_count": 18,
   "id": "3b82c505",
   "metadata": {},
   "outputs": [
    {
     "data": {
      "application/vnd.plotly.v1+json": {
       "config": {
        "linkText": "Export to plot.ly",
        "plotlyServerURL": "https://plot.ly",
        "showLink": true
       },
       "data": [
        {
         "line": {
          "color": "rgba(255, 153, 51, 1.0)",
          "dash": "solid",
          "shape": "linear",
          "width": 1.3
         },
         "marker": {
          "size": 10,
          "symbol": "circle"
         },
         "mode": "markers",
         "name": "B",
         "text": "",
         "type": "scatter",
         "x": [
          0.2991550861198565,
          -0.3841492154014665,
          -1.4955874438548968,
          -0.986281527430265,
          0.8636431673834111,
          1.0506243725442432,
          -0.5641456423079034,
          -1.7863210272933812,
          0.5893189259744791,
          -0.6283981743665769,
          0.9822149186999429,
          0.003621728700036139,
          1.1478470780946737,
          0.9493796075126227,
          2.023151425732341,
          0.8209651038367457,
          -1.436616028751318,
          0.2501161685999158,
          -2.18940427695009,
          1.060005975403017,
          -1.2913373051591328,
          -0.5818461629913243,
          -3.559727068196443,
          0.0429856375186844,
          -0.040441593036933884,
          0.4365405596956291,
          -1.6122927837729488,
          -2.200067677252177,
          1.3741729080719394,
          0.22372429063459934,
          0.35456006418455993,
          1.0268798296954587,
          1.2483904845694946,
          0.06803355363766585,
          -1.215641873426893,
          -1.0092547114079848,
          -0.18928431766049622,
          -0.13624175059188193,
          -1.124654032729839,
          1.906287147681474,
          0.22227594199144093,
          -1.1680813787099484,
          1.2448035827666633,
          0.09448168900829862,
          -1.9213213375620148,
          3.374448829478874,
          -0.4720745251680017,
          1.4237076937233117,
          1.0977579047946182,
          0.27276264592903,
          -0.7071666774547971,
          0.4579682494563629,
          0.7812645170577213,
          0.6940016369921731,
          -1.6670428257540362,
          0.10479754129686403,
          2.0521391141627117,
          -0.5894929196802318,
          0.2086275444892075,
          -0.3943158555219555,
          -0.001962682381986401,
          0.5061562116185518,
          -1.31068766067125,
          1.1458984485772514,
          0.07746205451031746,
          0.42117143238154464,
          0.022396537274275884,
          0.3832423647923307,
          -0.7142696921980415,
          1.5759715705521424,
          -1.0948757064584989,
          -0.3578123661598927,
          -0.1388499152089222,
          -1.0316315826678573,
          0.14133939011217816,
          -0.7236948335615198,
          -1.0461981495376964,
          -0.860425552617968,
          0.6838366995531965,
          0.5019976649548585,
          -0.2698604416378836,
          0.020026700999118248,
          0.7382030841174992,
          -1.0107550832011862,
          -0.9809011420879843,
          0.40108331476893583,
          0.06473151369985368,
          1.8746933818594682,
          0.2515041968308312,
          -0.9807717470558058,
          0.40762164463885214,
          -1.1849158622412188,
          -0.17364781870766738,
          -1.4336904561145787,
          0.6915743124241517,
          0.010826914274588933,
          0.20377929746820334,
          -2.995026620423591,
          -1.2399719772534463,
          0.8788721868956764
         ],
         "y": [
          0.780112161625848,
          -0.6622020441579575,
          0.19603094116590988,
          0.9444435813517414,
          2.0190065917990325,
          0.43722776902737875,
          0.6764390904739006,
          -1.0318392658003315,
          -0.7052936531538087,
          -1.2207048933585274,
          -0.022498175312445908,
          -0.47514400008103796,
          0.015631345678703647,
          0.49166903297101733,
          -0.4463750385965351,
          -1.2532070399499404,
          0.017542246804112673,
          -0.7570882592644229,
          -1.2012136807274745,
          0.7886948763755939,
          -0.8693486963450223,
          0.9010537168023657,
          -0.5770469082718713,
          -0.1030991380904987,
          0.5338436665524187,
          1.1155594158041637,
          0.26391870421043223,
          1.3232294736026364,
          0.7630229489633639,
          1.632035218409037,
          1.5207097499353,
          -0.0006879736573673989,
          -1.21103828452234,
          1.34662009347215,
          0.9975735907200801,
          0.9551360071731924,
          -1.0722210696166834,
          -1.7265754758738259,
          0.04129037780678675,
          -0.7132244284043963,
          -1.0579130080408146,
          2.81148193442505,
          -0.04184454642460926,
          0.7307795091345204,
          -0.29943747215028277,
          0.6791011913122792,
          0.7539025548648147,
          -0.8199570302339777,
          0.6835533635051066,
          -0.37718640289622646,
          -1.4905040103618956,
          -0.8423691944628268,
          -0.16584257158889373,
          -1.4330757918373824,
          0.9461603473737706,
          -0.15290838198858106,
          -0.16205848298241507,
          0.02130880292795404,
          -1.4961741662057277,
          0.4484982571308183,
          0.18922260769185564,
          0.7710099389584645,
          -1.4518000619214029,
          -0.5812770284876827,
          0.5146202678161,
          0.9315853354882877,
          -0.9603288937961088,
          -1.103370479561761,
          -0.47745010276254535,
          0.9336441074488008,
          1.2560789857109207,
          -0.5249525108676631,
          0.9324462586812953,
          -0.8005665398613003,
          -0.4671893294403345,
          0.14609976572579939,
          0.030765176545579104,
          0.9842394461832488,
          -0.6094735362782722,
          0.5726121277992451,
          0.9344438360939703,
          1.470087261607474,
          0.6444928799223439,
          -1.8503301390802411,
          0.784695912134507,
          -0.1797897094423723,
          2.3847821119754022,
          -1.3412772928554055,
          0.5857245773958671,
          -0.44248615438473105,
          1.02478023997563,
          -0.10167432812782703,
          -0.46321591080833774,
          -1.0606116126026808,
          1.0757078100996635,
          -0.2948219640020998,
          0.4688053405721653,
          1.5442197803396982,
          2.561137988024716,
          0.051745092191318
         ]
        }
       ],
       "layout": {
        "legend": {
         "bgcolor": "#F5F6F9",
         "font": {
          "color": "#4D5663"
         }
        },
        "paper_bgcolor": "#F5F6F9",
        "plot_bgcolor": "#F5F6F9",
        "template": {
         "data": {
          "bar": [
           {
            "error_x": {
             "color": "#2a3f5f"
            },
            "error_y": {
             "color": "#2a3f5f"
            },
            "marker": {
             "line": {
              "color": "#E5ECF6",
              "width": 0.5
             },
             "pattern": {
              "fillmode": "overlay",
              "size": 10,
              "solidity": 0.2
             }
            },
            "type": "bar"
           }
          ],
          "barpolar": [
           {
            "marker": {
             "line": {
              "color": "#E5ECF6",
              "width": 0.5
             },
             "pattern": {
              "fillmode": "overlay",
              "size": 10,
              "solidity": 0.2
             }
            },
            "type": "barpolar"
           }
          ],
          "carpet": [
           {
            "aaxis": {
             "endlinecolor": "#2a3f5f",
             "gridcolor": "white",
             "linecolor": "white",
             "minorgridcolor": "white",
             "startlinecolor": "#2a3f5f"
            },
            "baxis": {
             "endlinecolor": "#2a3f5f",
             "gridcolor": "white",
             "linecolor": "white",
             "minorgridcolor": "white",
             "startlinecolor": "#2a3f5f"
            },
            "type": "carpet"
           }
          ],
          "choropleth": [
           {
            "colorbar": {
             "outlinewidth": 0,
             "ticks": ""
            },
            "type": "choropleth"
           }
          ],
          "contour": [
           {
            "colorbar": {
             "outlinewidth": 0,
             "ticks": ""
            },
            "colorscale": [
             [
              0,
              "#0d0887"
             ],
             [
              0.1111111111111111,
              "#46039f"
             ],
             [
              0.2222222222222222,
              "#7201a8"
             ],
             [
              0.3333333333333333,
              "#9c179e"
             ],
             [
              0.4444444444444444,
              "#bd3786"
             ],
             [
              0.5555555555555556,
              "#d8576b"
             ],
             [
              0.6666666666666666,
              "#ed7953"
             ],
             [
              0.7777777777777778,
              "#fb9f3a"
             ],
             [
              0.8888888888888888,
              "#fdca26"
             ],
             [
              1,
              "#f0f921"
             ]
            ],
            "type": "contour"
           }
          ],
          "contourcarpet": [
           {
            "colorbar": {
             "outlinewidth": 0,
             "ticks": ""
            },
            "type": "contourcarpet"
           }
          ],
          "heatmap": [
           {
            "colorbar": {
             "outlinewidth": 0,
             "ticks": ""
            },
            "colorscale": [
             [
              0,
              "#0d0887"
             ],
             [
              0.1111111111111111,
              "#46039f"
             ],
             [
              0.2222222222222222,
              "#7201a8"
             ],
             [
              0.3333333333333333,
              "#9c179e"
             ],
             [
              0.4444444444444444,
              "#bd3786"
             ],
             [
              0.5555555555555556,
              "#d8576b"
             ],
             [
              0.6666666666666666,
              "#ed7953"
             ],
             [
              0.7777777777777778,
              "#fb9f3a"
             ],
             [
              0.8888888888888888,
              "#fdca26"
             ],
             [
              1,
              "#f0f921"
             ]
            ],
            "type": "heatmap"
           }
          ],
          "heatmapgl": [
           {
            "colorbar": {
             "outlinewidth": 0,
             "ticks": ""
            },
            "colorscale": [
             [
              0,
              "#0d0887"
             ],
             [
              0.1111111111111111,
              "#46039f"
             ],
             [
              0.2222222222222222,
              "#7201a8"
             ],
             [
              0.3333333333333333,
              "#9c179e"
             ],
             [
              0.4444444444444444,
              "#bd3786"
             ],
             [
              0.5555555555555556,
              "#d8576b"
             ],
             [
              0.6666666666666666,
              "#ed7953"
             ],
             [
              0.7777777777777778,
              "#fb9f3a"
             ],
             [
              0.8888888888888888,
              "#fdca26"
             ],
             [
              1,
              "#f0f921"
             ]
            ],
            "type": "heatmapgl"
           }
          ],
          "histogram": [
           {
            "marker": {
             "pattern": {
              "fillmode": "overlay",
              "size": 10,
              "solidity": 0.2
             }
            },
            "type": "histogram"
           }
          ],
          "histogram2d": [
           {
            "colorbar": {
             "outlinewidth": 0,
             "ticks": ""
            },
            "colorscale": [
             [
              0,
              "#0d0887"
             ],
             [
              0.1111111111111111,
              "#46039f"
             ],
             [
              0.2222222222222222,
              "#7201a8"
             ],
             [
              0.3333333333333333,
              "#9c179e"
             ],
             [
              0.4444444444444444,
              "#bd3786"
             ],
             [
              0.5555555555555556,
              "#d8576b"
             ],
             [
              0.6666666666666666,
              "#ed7953"
             ],
             [
              0.7777777777777778,
              "#fb9f3a"
             ],
             [
              0.8888888888888888,
              "#fdca26"
             ],
             [
              1,
              "#f0f921"
             ]
            ],
            "type": "histogram2d"
           }
          ],
          "histogram2dcontour": [
           {
            "colorbar": {
             "outlinewidth": 0,
             "ticks": ""
            },
            "colorscale": [
             [
              0,
              "#0d0887"
             ],
             [
              0.1111111111111111,
              "#46039f"
             ],
             [
              0.2222222222222222,
              "#7201a8"
             ],
             [
              0.3333333333333333,
              "#9c179e"
             ],
             [
              0.4444444444444444,
              "#bd3786"
             ],
             [
              0.5555555555555556,
              "#d8576b"
             ],
             [
              0.6666666666666666,
              "#ed7953"
             ],
             [
              0.7777777777777778,
              "#fb9f3a"
             ],
             [
              0.8888888888888888,
              "#fdca26"
             ],
             [
              1,
              "#f0f921"
             ]
            ],
            "type": "histogram2dcontour"
           }
          ],
          "mesh3d": [
           {
            "colorbar": {
             "outlinewidth": 0,
             "ticks": ""
            },
            "type": "mesh3d"
           }
          ],
          "parcoords": [
           {
            "line": {
             "colorbar": {
              "outlinewidth": 0,
              "ticks": ""
             }
            },
            "type": "parcoords"
           }
          ],
          "pie": [
           {
            "automargin": true,
            "type": "pie"
           }
          ],
          "scatter": [
           {
            "fillpattern": {
             "fillmode": "overlay",
             "size": 10,
             "solidity": 0.2
            },
            "type": "scatter"
           }
          ],
          "scatter3d": [
           {
            "line": {
             "colorbar": {
              "outlinewidth": 0,
              "ticks": ""
             }
            },
            "marker": {
             "colorbar": {
              "outlinewidth": 0,
              "ticks": ""
             }
            },
            "type": "scatter3d"
           }
          ],
          "scattercarpet": [
           {
            "marker": {
             "colorbar": {
              "outlinewidth": 0,
              "ticks": ""
             }
            },
            "type": "scattercarpet"
           }
          ],
          "scattergeo": [
           {
            "marker": {
             "colorbar": {
              "outlinewidth": 0,
              "ticks": ""
             }
            },
            "type": "scattergeo"
           }
          ],
          "scattergl": [
           {
            "marker": {
             "colorbar": {
              "outlinewidth": 0,
              "ticks": ""
             }
            },
            "type": "scattergl"
           }
          ],
          "scattermapbox": [
           {
            "marker": {
             "colorbar": {
              "outlinewidth": 0,
              "ticks": ""
             }
            },
            "type": "scattermapbox"
           }
          ],
          "scatterpolar": [
           {
            "marker": {
             "colorbar": {
              "outlinewidth": 0,
              "ticks": ""
             }
            },
            "type": "scatterpolar"
           }
          ],
          "scatterpolargl": [
           {
            "marker": {
             "colorbar": {
              "outlinewidth": 0,
              "ticks": ""
             }
            },
            "type": "scatterpolargl"
           }
          ],
          "scatterternary": [
           {
            "marker": {
             "colorbar": {
              "outlinewidth": 0,
              "ticks": ""
             }
            },
            "type": "scatterternary"
           }
          ],
          "surface": [
           {
            "colorbar": {
             "outlinewidth": 0,
             "ticks": ""
            },
            "colorscale": [
             [
              0,
              "#0d0887"
             ],
             [
              0.1111111111111111,
              "#46039f"
             ],
             [
              0.2222222222222222,
              "#7201a8"
             ],
             [
              0.3333333333333333,
              "#9c179e"
             ],
             [
              0.4444444444444444,
              "#bd3786"
             ],
             [
              0.5555555555555556,
              "#d8576b"
             ],
             [
              0.6666666666666666,
              "#ed7953"
             ],
             [
              0.7777777777777778,
              "#fb9f3a"
             ],
             [
              0.8888888888888888,
              "#fdca26"
             ],
             [
              1,
              "#f0f921"
             ]
            ],
            "type": "surface"
           }
          ],
          "table": [
           {
            "cells": {
             "fill": {
              "color": "#EBF0F8"
             },
             "line": {
              "color": "white"
             }
            },
            "header": {
             "fill": {
              "color": "#C8D4E3"
             },
             "line": {
              "color": "white"
             }
            },
            "type": "table"
           }
          ]
         },
         "layout": {
          "annotationdefaults": {
           "arrowcolor": "#2a3f5f",
           "arrowhead": 0,
           "arrowwidth": 1
          },
          "autotypenumbers": "strict",
          "coloraxis": {
           "colorbar": {
            "outlinewidth": 0,
            "ticks": ""
           }
          },
          "colorscale": {
           "diverging": [
            [
             0,
             "#8e0152"
            ],
            [
             0.1,
             "#c51b7d"
            ],
            [
             0.2,
             "#de77ae"
            ],
            [
             0.3,
             "#f1b6da"
            ],
            [
             0.4,
             "#fde0ef"
            ],
            [
             0.5,
             "#f7f7f7"
            ],
            [
             0.6,
             "#e6f5d0"
            ],
            [
             0.7,
             "#b8e186"
            ],
            [
             0.8,
             "#7fbc41"
            ],
            [
             0.9,
             "#4d9221"
            ],
            [
             1,
             "#276419"
            ]
           ],
           "sequential": [
            [
             0,
             "#0d0887"
            ],
            [
             0.1111111111111111,
             "#46039f"
            ],
            [
             0.2222222222222222,
             "#7201a8"
            ],
            [
             0.3333333333333333,
             "#9c179e"
            ],
            [
             0.4444444444444444,
             "#bd3786"
            ],
            [
             0.5555555555555556,
             "#d8576b"
            ],
            [
             0.6666666666666666,
             "#ed7953"
            ],
            [
             0.7777777777777778,
             "#fb9f3a"
            ],
            [
             0.8888888888888888,
             "#fdca26"
            ],
            [
             1,
             "#f0f921"
            ]
           ],
           "sequentialminus": [
            [
             0,
             "#0d0887"
            ],
            [
             0.1111111111111111,
             "#46039f"
            ],
            [
             0.2222222222222222,
             "#7201a8"
            ],
            [
             0.3333333333333333,
             "#9c179e"
            ],
            [
             0.4444444444444444,
             "#bd3786"
            ],
            [
             0.5555555555555556,
             "#d8576b"
            ],
            [
             0.6666666666666666,
             "#ed7953"
            ],
            [
             0.7777777777777778,
             "#fb9f3a"
            ],
            [
             0.8888888888888888,
             "#fdca26"
            ],
            [
             1,
             "#f0f921"
            ]
           ]
          },
          "colorway": [
           "#636efa",
           "#EF553B",
           "#00cc96",
           "#ab63fa",
           "#FFA15A",
           "#19d3f3",
           "#FF6692",
           "#B6E880",
           "#FF97FF",
           "#FECB52"
          ],
          "font": {
           "color": "#2a3f5f"
          },
          "geo": {
           "bgcolor": "white",
           "lakecolor": "white",
           "landcolor": "#E5ECF6",
           "showlakes": true,
           "showland": true,
           "subunitcolor": "white"
          },
          "hoverlabel": {
           "align": "left"
          },
          "hovermode": "closest",
          "mapbox": {
           "style": "light"
          },
          "paper_bgcolor": "white",
          "plot_bgcolor": "#E5ECF6",
          "polar": {
           "angularaxis": {
            "gridcolor": "white",
            "linecolor": "white",
            "ticks": ""
           },
           "bgcolor": "#E5ECF6",
           "radialaxis": {
            "gridcolor": "white",
            "linecolor": "white",
            "ticks": ""
           }
          },
          "scene": {
           "xaxis": {
            "backgroundcolor": "#E5ECF6",
            "gridcolor": "white",
            "gridwidth": 2,
            "linecolor": "white",
            "showbackground": true,
            "ticks": "",
            "zerolinecolor": "white"
           },
           "yaxis": {
            "backgroundcolor": "#E5ECF6",
            "gridcolor": "white",
            "gridwidth": 2,
            "linecolor": "white",
            "showbackground": true,
            "ticks": "",
            "zerolinecolor": "white"
           },
           "zaxis": {
            "backgroundcolor": "#E5ECF6",
            "gridcolor": "white",
            "gridwidth": 2,
            "linecolor": "white",
            "showbackground": true,
            "ticks": "",
            "zerolinecolor": "white"
           }
          },
          "shapedefaults": {
           "line": {
            "color": "#2a3f5f"
           }
          },
          "ternary": {
           "aaxis": {
            "gridcolor": "white",
            "linecolor": "white",
            "ticks": ""
           },
           "baxis": {
            "gridcolor": "white",
            "linecolor": "white",
            "ticks": ""
           },
           "bgcolor": "#E5ECF6",
           "caxis": {
            "gridcolor": "white",
            "linecolor": "white",
            "ticks": ""
           }
          },
          "title": {
           "x": 0.05
          },
          "xaxis": {
           "automargin": true,
           "gridcolor": "white",
           "linecolor": "white",
           "ticks": "",
           "title": {
            "standoff": 15
           },
           "zerolinecolor": "white",
           "zerolinewidth": 2
          },
          "yaxis": {
           "automargin": true,
           "gridcolor": "white",
           "linecolor": "white",
           "ticks": "",
           "title": {
            "standoff": 15
           },
           "zerolinecolor": "white",
           "zerolinewidth": 2
          }
         }
        },
        "title": {
         "font": {
          "color": "#4D5663"
         }
        },
        "xaxis": {
         "gridcolor": "#E1E5ED",
         "showgrid": true,
         "tickfont": {
          "color": "#4D5663"
         },
         "title": {
          "font": {
           "color": "#4D5663"
          },
          "text": ""
         },
         "zerolinecolor": "#E1E5ED"
        },
        "yaxis": {
         "gridcolor": "#E1E5ED",
         "showgrid": true,
         "tickfont": {
          "color": "#4D5663"
         },
         "title": {
          "font": {
           "color": "#4D5663"
          },
          "text": ""
         },
         "zerolinecolor": "#E1E5ED"
        }
       }
      },
      "text/html": [
       "<div>                            <div id=\"e841360f-c908-47fd-8672-85dafdca5b03\" class=\"plotly-graph-div\" style=\"height:525px; width:100%;\"></div>            <script type=\"text/javascript\">                require([\"plotly\"], function(Plotly) {                    window.PLOTLYENV=window.PLOTLYENV || {};\n",
       "                    window.PLOTLYENV.BASE_URL='https://plot.ly';                                    if (document.getElementById(\"e841360f-c908-47fd-8672-85dafdca5b03\")) {                    Plotly.newPlot(                        \"e841360f-c908-47fd-8672-85dafdca5b03\",                        [{\"line\":{\"color\":\"rgba(255, 153, 51, 1.0)\",\"dash\":\"solid\",\"shape\":\"linear\",\"width\":1.3},\"marker\":{\"size\":10,\"symbol\":\"circle\"},\"mode\":\"markers\",\"name\":\"B\",\"text\":\"\",\"x\":[0.2991550861198565,-0.3841492154014665,-1.4955874438548968,-0.986281527430265,0.8636431673834111,1.0506243725442432,-0.5641456423079034,-1.7863210272933812,0.5893189259744791,-0.6283981743665769,0.9822149186999429,0.003621728700036139,1.1478470780946737,0.9493796075126227,2.023151425732341,0.8209651038367457,-1.436616028751318,0.2501161685999158,-2.18940427695009,1.060005975403017,-1.2913373051591328,-0.5818461629913243,-3.559727068196443,0.0429856375186844,-0.040441593036933884,0.4365405596956291,-1.6122927837729488,-2.200067677252177,1.3741729080719394,0.22372429063459934,0.35456006418455993,1.0268798296954587,1.2483904845694946,0.06803355363766585,-1.215641873426893,-1.0092547114079848,-0.18928431766049622,-0.13624175059188193,-1.124654032729839,1.906287147681474,0.22227594199144093,-1.1680813787099484,1.2448035827666633,0.09448168900829862,-1.9213213375620148,3.374448829478874,-0.4720745251680017,1.4237076937233117,1.0977579047946182,0.27276264592903,-0.7071666774547971,0.4579682494563629,0.7812645170577213,0.6940016369921731,-1.6670428257540362,0.10479754129686403,2.0521391141627117,-0.5894929196802318,0.2086275444892075,-0.3943158555219555,-0.001962682381986401,0.5061562116185518,-1.31068766067125,1.1458984485772514,0.07746205451031746,0.42117143238154464,0.022396537274275884,0.3832423647923307,-0.7142696921980415,1.5759715705521424,-1.0948757064584989,-0.3578123661598927,-0.1388499152089222,-1.0316315826678573,0.14133939011217816,-0.7236948335615198,-1.0461981495376964,-0.860425552617968,0.6838366995531965,0.5019976649548585,-0.2698604416378836,0.020026700999118248,0.7382030841174992,-1.0107550832011862,-0.9809011420879843,0.40108331476893583,0.06473151369985368,1.8746933818594682,0.2515041968308312,-0.9807717470558058,0.40762164463885214,-1.1849158622412188,-0.17364781870766738,-1.4336904561145787,0.6915743124241517,0.010826914274588933,0.20377929746820334,-2.995026620423591,-1.2399719772534463,0.8788721868956764],\"y\":[0.780112161625848,-0.6622020441579575,0.19603094116590988,0.9444435813517414,2.0190065917990325,0.43722776902737875,0.6764390904739006,-1.0318392658003315,-0.7052936531538087,-1.2207048933585274,-0.022498175312445908,-0.47514400008103796,0.015631345678703647,0.49166903297101733,-0.4463750385965351,-1.2532070399499404,0.017542246804112673,-0.7570882592644229,-1.2012136807274745,0.7886948763755939,-0.8693486963450223,0.9010537168023657,-0.5770469082718713,-0.1030991380904987,0.5338436665524187,1.1155594158041637,0.26391870421043223,1.3232294736026364,0.7630229489633639,1.632035218409037,1.5207097499353,-0.0006879736573673989,-1.21103828452234,1.34662009347215,0.9975735907200801,0.9551360071731924,-1.0722210696166834,-1.7265754758738259,0.04129037780678675,-0.7132244284043963,-1.0579130080408146,2.81148193442505,-0.04184454642460926,0.7307795091345204,-0.29943747215028277,0.6791011913122792,0.7539025548648147,-0.8199570302339777,0.6835533635051066,-0.37718640289622646,-1.4905040103618956,-0.8423691944628268,-0.16584257158889373,-1.4330757918373824,0.9461603473737706,-0.15290838198858106,-0.16205848298241507,0.02130880292795404,-1.4961741662057277,0.4484982571308183,0.18922260769185564,0.7710099389584645,-1.4518000619214029,-0.5812770284876827,0.5146202678161,0.9315853354882877,-0.9603288937961088,-1.103370479561761,-0.47745010276254535,0.9336441074488008,1.2560789857109207,-0.5249525108676631,0.9324462586812953,-0.8005665398613003,-0.4671893294403345,0.14609976572579939,0.030765176545579104,0.9842394461832488,-0.6094735362782722,0.5726121277992451,0.9344438360939703,1.470087261607474,0.6444928799223439,-1.8503301390802411,0.784695912134507,-0.1797897094423723,2.3847821119754022,-1.3412772928554055,0.5857245773958671,-0.44248615438473105,1.02478023997563,-0.10167432812782703,-0.46321591080833774,-1.0606116126026808,1.0757078100996635,-0.2948219640020998,0.4688053405721653,1.5442197803396982,2.561137988024716,0.051745092191318],\"type\":\"scatter\"}],                        {\"legend\":{\"bgcolor\":\"#F5F6F9\",\"font\":{\"color\":\"#4D5663\"}},\"paper_bgcolor\":\"#F5F6F9\",\"plot_bgcolor\":\"#F5F6F9\",\"template\":{\"data\":{\"barpolar\":[{\"marker\":{\"line\":{\"color\":\"#E5ECF6\",\"width\":0.5},\"pattern\":{\"fillmode\":\"overlay\",\"size\":10,\"solidity\":0.2}},\"type\":\"barpolar\"}],\"bar\":[{\"error_x\":{\"color\":\"#2a3f5f\"},\"error_y\":{\"color\":\"#2a3f5f\"},\"marker\":{\"line\":{\"color\":\"#E5ECF6\",\"width\":0.5},\"pattern\":{\"fillmode\":\"overlay\",\"size\":10,\"solidity\":0.2}},\"type\":\"bar\"}],\"carpet\":[{\"aaxis\":{\"endlinecolor\":\"#2a3f5f\",\"gridcolor\":\"white\",\"linecolor\":\"white\",\"minorgridcolor\":\"white\",\"startlinecolor\":\"#2a3f5f\"},\"baxis\":{\"endlinecolor\":\"#2a3f5f\",\"gridcolor\":\"white\",\"linecolor\":\"white\",\"minorgridcolor\":\"white\",\"startlinecolor\":\"#2a3f5f\"},\"type\":\"carpet\"}],\"choropleth\":[{\"colorbar\":{\"outlinewidth\":0,\"ticks\":\"\"},\"type\":\"choropleth\"}],\"contourcarpet\":[{\"colorbar\":{\"outlinewidth\":0,\"ticks\":\"\"},\"type\":\"contourcarpet\"}],\"contour\":[{\"colorbar\":{\"outlinewidth\":0,\"ticks\":\"\"},\"colorscale\":[[0.0,\"#0d0887\"],[0.1111111111111111,\"#46039f\"],[0.2222222222222222,\"#7201a8\"],[0.3333333333333333,\"#9c179e\"],[0.4444444444444444,\"#bd3786\"],[0.5555555555555556,\"#d8576b\"],[0.6666666666666666,\"#ed7953\"],[0.7777777777777778,\"#fb9f3a\"],[0.8888888888888888,\"#fdca26\"],[1.0,\"#f0f921\"]],\"type\":\"contour\"}],\"heatmapgl\":[{\"colorbar\":{\"outlinewidth\":0,\"ticks\":\"\"},\"colorscale\":[[0.0,\"#0d0887\"],[0.1111111111111111,\"#46039f\"],[0.2222222222222222,\"#7201a8\"],[0.3333333333333333,\"#9c179e\"],[0.4444444444444444,\"#bd3786\"],[0.5555555555555556,\"#d8576b\"],[0.6666666666666666,\"#ed7953\"],[0.7777777777777778,\"#fb9f3a\"],[0.8888888888888888,\"#fdca26\"],[1.0,\"#f0f921\"]],\"type\":\"heatmapgl\"}],\"heatmap\":[{\"colorbar\":{\"outlinewidth\":0,\"ticks\":\"\"},\"colorscale\":[[0.0,\"#0d0887\"],[0.1111111111111111,\"#46039f\"],[0.2222222222222222,\"#7201a8\"],[0.3333333333333333,\"#9c179e\"],[0.4444444444444444,\"#bd3786\"],[0.5555555555555556,\"#d8576b\"],[0.6666666666666666,\"#ed7953\"],[0.7777777777777778,\"#fb9f3a\"],[0.8888888888888888,\"#fdca26\"],[1.0,\"#f0f921\"]],\"type\":\"heatmap\"}],\"histogram2dcontour\":[{\"colorbar\":{\"outlinewidth\":0,\"ticks\":\"\"},\"colorscale\":[[0.0,\"#0d0887\"],[0.1111111111111111,\"#46039f\"],[0.2222222222222222,\"#7201a8\"],[0.3333333333333333,\"#9c179e\"],[0.4444444444444444,\"#bd3786\"],[0.5555555555555556,\"#d8576b\"],[0.6666666666666666,\"#ed7953\"],[0.7777777777777778,\"#fb9f3a\"],[0.8888888888888888,\"#fdca26\"],[1.0,\"#f0f921\"]],\"type\":\"histogram2dcontour\"}],\"histogram2d\":[{\"colorbar\":{\"outlinewidth\":0,\"ticks\":\"\"},\"colorscale\":[[0.0,\"#0d0887\"],[0.1111111111111111,\"#46039f\"],[0.2222222222222222,\"#7201a8\"],[0.3333333333333333,\"#9c179e\"],[0.4444444444444444,\"#bd3786\"],[0.5555555555555556,\"#d8576b\"],[0.6666666666666666,\"#ed7953\"],[0.7777777777777778,\"#fb9f3a\"],[0.8888888888888888,\"#fdca26\"],[1.0,\"#f0f921\"]],\"type\":\"histogram2d\"}],\"histogram\":[{\"marker\":{\"pattern\":{\"fillmode\":\"overlay\",\"size\":10,\"solidity\":0.2}},\"type\":\"histogram\"}],\"mesh3d\":[{\"colorbar\":{\"outlinewidth\":0,\"ticks\":\"\"},\"type\":\"mesh3d\"}],\"parcoords\":[{\"line\":{\"colorbar\":{\"outlinewidth\":0,\"ticks\":\"\"}},\"type\":\"parcoords\"}],\"pie\":[{\"automargin\":true,\"type\":\"pie\"}],\"scatter3d\":[{\"line\":{\"colorbar\":{\"outlinewidth\":0,\"ticks\":\"\"}},\"marker\":{\"colorbar\":{\"outlinewidth\":0,\"ticks\":\"\"}},\"type\":\"scatter3d\"}],\"scattercarpet\":[{\"marker\":{\"colorbar\":{\"outlinewidth\":0,\"ticks\":\"\"}},\"type\":\"scattercarpet\"}],\"scattergeo\":[{\"marker\":{\"colorbar\":{\"outlinewidth\":0,\"ticks\":\"\"}},\"type\":\"scattergeo\"}],\"scattergl\":[{\"marker\":{\"colorbar\":{\"outlinewidth\":0,\"ticks\":\"\"}},\"type\":\"scattergl\"}],\"scattermapbox\":[{\"marker\":{\"colorbar\":{\"outlinewidth\":0,\"ticks\":\"\"}},\"type\":\"scattermapbox\"}],\"scatterpolargl\":[{\"marker\":{\"colorbar\":{\"outlinewidth\":0,\"ticks\":\"\"}},\"type\":\"scatterpolargl\"}],\"scatterpolar\":[{\"marker\":{\"colorbar\":{\"outlinewidth\":0,\"ticks\":\"\"}},\"type\":\"scatterpolar\"}],\"scatter\":[{\"fillpattern\":{\"fillmode\":\"overlay\",\"size\":10,\"solidity\":0.2},\"type\":\"scatter\"}],\"scatterternary\":[{\"marker\":{\"colorbar\":{\"outlinewidth\":0,\"ticks\":\"\"}},\"type\":\"scatterternary\"}],\"surface\":[{\"colorbar\":{\"outlinewidth\":0,\"ticks\":\"\"},\"colorscale\":[[0.0,\"#0d0887\"],[0.1111111111111111,\"#46039f\"],[0.2222222222222222,\"#7201a8\"],[0.3333333333333333,\"#9c179e\"],[0.4444444444444444,\"#bd3786\"],[0.5555555555555556,\"#d8576b\"],[0.6666666666666666,\"#ed7953\"],[0.7777777777777778,\"#fb9f3a\"],[0.8888888888888888,\"#fdca26\"],[1.0,\"#f0f921\"]],\"type\":\"surface\"}],\"table\":[{\"cells\":{\"fill\":{\"color\":\"#EBF0F8\"},\"line\":{\"color\":\"white\"}},\"header\":{\"fill\":{\"color\":\"#C8D4E3\"},\"line\":{\"color\":\"white\"}},\"type\":\"table\"}]},\"layout\":{\"annotationdefaults\":{\"arrowcolor\":\"#2a3f5f\",\"arrowhead\":0,\"arrowwidth\":1},\"autotypenumbers\":\"strict\",\"coloraxis\":{\"colorbar\":{\"outlinewidth\":0,\"ticks\":\"\"}},\"colorscale\":{\"diverging\":[[0,\"#8e0152\"],[0.1,\"#c51b7d\"],[0.2,\"#de77ae\"],[0.3,\"#f1b6da\"],[0.4,\"#fde0ef\"],[0.5,\"#f7f7f7\"],[0.6,\"#e6f5d0\"],[0.7,\"#b8e186\"],[0.8,\"#7fbc41\"],[0.9,\"#4d9221\"],[1,\"#276419\"]],\"sequential\":[[0.0,\"#0d0887\"],[0.1111111111111111,\"#46039f\"],[0.2222222222222222,\"#7201a8\"],[0.3333333333333333,\"#9c179e\"],[0.4444444444444444,\"#bd3786\"],[0.5555555555555556,\"#d8576b\"],[0.6666666666666666,\"#ed7953\"],[0.7777777777777778,\"#fb9f3a\"],[0.8888888888888888,\"#fdca26\"],[1.0,\"#f0f921\"]],\"sequentialminus\":[[0.0,\"#0d0887\"],[0.1111111111111111,\"#46039f\"],[0.2222222222222222,\"#7201a8\"],[0.3333333333333333,\"#9c179e\"],[0.4444444444444444,\"#bd3786\"],[0.5555555555555556,\"#d8576b\"],[0.6666666666666666,\"#ed7953\"],[0.7777777777777778,\"#fb9f3a\"],[0.8888888888888888,\"#fdca26\"],[1.0,\"#f0f921\"]]},\"colorway\":[\"#636efa\",\"#EF553B\",\"#00cc96\",\"#ab63fa\",\"#FFA15A\",\"#19d3f3\",\"#FF6692\",\"#B6E880\",\"#FF97FF\",\"#FECB52\"],\"font\":{\"color\":\"#2a3f5f\"},\"geo\":{\"bgcolor\":\"white\",\"lakecolor\":\"white\",\"landcolor\":\"#E5ECF6\",\"showlakes\":true,\"showland\":true,\"subunitcolor\":\"white\"},\"hoverlabel\":{\"align\":\"left\"},\"hovermode\":\"closest\",\"mapbox\":{\"style\":\"light\"},\"paper_bgcolor\":\"white\",\"plot_bgcolor\":\"#E5ECF6\",\"polar\":{\"angularaxis\":{\"gridcolor\":\"white\",\"linecolor\":\"white\",\"ticks\":\"\"},\"bgcolor\":\"#E5ECF6\",\"radialaxis\":{\"gridcolor\":\"white\",\"linecolor\":\"white\",\"ticks\":\"\"}},\"scene\":{\"xaxis\":{\"backgroundcolor\":\"#E5ECF6\",\"gridcolor\":\"white\",\"gridwidth\":2,\"linecolor\":\"white\",\"showbackground\":true,\"ticks\":\"\",\"zerolinecolor\":\"white\"},\"yaxis\":{\"backgroundcolor\":\"#E5ECF6\",\"gridcolor\":\"white\",\"gridwidth\":2,\"linecolor\":\"white\",\"showbackground\":true,\"ticks\":\"\",\"zerolinecolor\":\"white\"},\"zaxis\":{\"backgroundcolor\":\"#E5ECF6\",\"gridcolor\":\"white\",\"gridwidth\":2,\"linecolor\":\"white\",\"showbackground\":true,\"ticks\":\"\",\"zerolinecolor\":\"white\"}},\"shapedefaults\":{\"line\":{\"color\":\"#2a3f5f\"}},\"ternary\":{\"aaxis\":{\"gridcolor\":\"white\",\"linecolor\":\"white\",\"ticks\":\"\"},\"baxis\":{\"gridcolor\":\"white\",\"linecolor\":\"white\",\"ticks\":\"\"},\"bgcolor\":\"#E5ECF6\",\"caxis\":{\"gridcolor\":\"white\",\"linecolor\":\"white\",\"ticks\":\"\"}},\"title\":{\"x\":0.05},\"xaxis\":{\"automargin\":true,\"gridcolor\":\"white\",\"linecolor\":\"white\",\"ticks\":\"\",\"title\":{\"standoff\":15},\"zerolinecolor\":\"white\",\"zerolinewidth\":2},\"yaxis\":{\"automargin\":true,\"gridcolor\":\"white\",\"linecolor\":\"white\",\"ticks\":\"\",\"title\":{\"standoff\":15},\"zerolinecolor\":\"white\",\"zerolinewidth\":2}}},\"title\":{\"font\":{\"color\":\"#4D5663\"}},\"xaxis\":{\"gridcolor\":\"#E1E5ED\",\"showgrid\":true,\"tickfont\":{\"color\":\"#4D5663\"},\"title\":{\"font\":{\"color\":\"#4D5663\"},\"text\":\"\"},\"zerolinecolor\":\"#E1E5ED\"},\"yaxis\":{\"gridcolor\":\"#E1E5ED\",\"showgrid\":true,\"tickfont\":{\"color\":\"#4D5663\"},\"title\":{\"font\":{\"color\":\"#4D5663\"},\"text\":\"\"},\"zerolinecolor\":\"#E1E5ED\"}},                        {\"showLink\": true, \"linkText\": \"Export to plot.ly\", \"plotlyServerURL\": \"https://plot.ly\", \"responsive\": true}                    ).then(function(){\n",
       "                            \n",
       "var gd = document.getElementById('e841360f-c908-47fd-8672-85dafdca5b03');\n",
       "var x = new MutationObserver(function (mutations, observer) {{\n",
       "        var display = window.getComputedStyle(gd).display;\n",
       "        if (!display || display === 'none') {{\n",
       "            console.log([gd, 'removed!']);\n",
       "            Plotly.purge(gd);\n",
       "            observer.disconnect();\n",
       "        }}\n",
       "}});\n",
       "\n",
       "// Listen for the removal of the full notebook cells\n",
       "var notebookContainer = gd.closest('#notebook-container');\n",
       "if (notebookContainer) {{\n",
       "    x.observe(notebookContainer, {childList: true});\n",
       "}}\n",
       "\n",
       "// Listen for the clearing of the current output cell\n",
       "var outputEl = gd.closest('.output');\n",
       "if (outputEl) {{\n",
       "    x.observe(outputEl, {childList: true});\n",
       "}}\n",
       "\n",
       "                        })                };                });            </script>        </div>"
      ]
     },
     "metadata": {},
     "output_type": "display_data"
    }
   ],
   "source": [
    "df.iplot(kind='scatter',x='A',y='B',mode='markers',size=10)"
   ]
  },
  {
   "cell_type": "code",
   "execution_count": null,
   "id": "67bbdf3e",
   "metadata": {},
   "outputs": [],
   "source": []
  },
  {
   "cell_type": "markdown",
   "id": "d9d453e1",
   "metadata": {},
   "source": [
    "## Bar Plots"
   ]
  },
  {
   "cell_type": "code",
   "execution_count": 19,
   "id": "3204e5ff",
   "metadata": {},
   "outputs": [
    {
     "data": {
      "application/vnd.plotly.v1+json": {
       "config": {
        "linkText": "Export to plot.ly",
        "plotlyServerURL": "https://plot.ly",
        "showLink": true
       },
       "data": [
        {
         "marker": {
          "color": "rgba(255, 153, 51, 0.6)",
          "line": {
           "color": "rgba(255, 153, 51, 1.0)",
           "width": 1
          }
         },
         "name": "Values",
         "orientation": "v",
         "text": "",
         "type": "bar",
         "x": [
          "A",
          "B",
          "C"
         ],
         "y": [
          32,
          43,
          50
         ]
        }
       ],
       "layout": {
        "legend": {
         "bgcolor": "#F5F6F9",
         "font": {
          "color": "#4D5663"
         }
        },
        "paper_bgcolor": "#F5F6F9",
        "plot_bgcolor": "#F5F6F9",
        "template": {
         "data": {
          "bar": [
           {
            "error_x": {
             "color": "#2a3f5f"
            },
            "error_y": {
             "color": "#2a3f5f"
            },
            "marker": {
             "line": {
              "color": "#E5ECF6",
              "width": 0.5
             },
             "pattern": {
              "fillmode": "overlay",
              "size": 10,
              "solidity": 0.2
             }
            },
            "type": "bar"
           }
          ],
          "barpolar": [
           {
            "marker": {
             "line": {
              "color": "#E5ECF6",
              "width": 0.5
             },
             "pattern": {
              "fillmode": "overlay",
              "size": 10,
              "solidity": 0.2
             }
            },
            "type": "barpolar"
           }
          ],
          "carpet": [
           {
            "aaxis": {
             "endlinecolor": "#2a3f5f",
             "gridcolor": "white",
             "linecolor": "white",
             "minorgridcolor": "white",
             "startlinecolor": "#2a3f5f"
            },
            "baxis": {
             "endlinecolor": "#2a3f5f",
             "gridcolor": "white",
             "linecolor": "white",
             "minorgridcolor": "white",
             "startlinecolor": "#2a3f5f"
            },
            "type": "carpet"
           }
          ],
          "choropleth": [
           {
            "colorbar": {
             "outlinewidth": 0,
             "ticks": ""
            },
            "type": "choropleth"
           }
          ],
          "contour": [
           {
            "colorbar": {
             "outlinewidth": 0,
             "ticks": ""
            },
            "colorscale": [
             [
              0,
              "#0d0887"
             ],
             [
              0.1111111111111111,
              "#46039f"
             ],
             [
              0.2222222222222222,
              "#7201a8"
             ],
             [
              0.3333333333333333,
              "#9c179e"
             ],
             [
              0.4444444444444444,
              "#bd3786"
             ],
             [
              0.5555555555555556,
              "#d8576b"
             ],
             [
              0.6666666666666666,
              "#ed7953"
             ],
             [
              0.7777777777777778,
              "#fb9f3a"
             ],
             [
              0.8888888888888888,
              "#fdca26"
             ],
             [
              1,
              "#f0f921"
             ]
            ],
            "type": "contour"
           }
          ],
          "contourcarpet": [
           {
            "colorbar": {
             "outlinewidth": 0,
             "ticks": ""
            },
            "type": "contourcarpet"
           }
          ],
          "heatmap": [
           {
            "colorbar": {
             "outlinewidth": 0,
             "ticks": ""
            },
            "colorscale": [
             [
              0,
              "#0d0887"
             ],
             [
              0.1111111111111111,
              "#46039f"
             ],
             [
              0.2222222222222222,
              "#7201a8"
             ],
             [
              0.3333333333333333,
              "#9c179e"
             ],
             [
              0.4444444444444444,
              "#bd3786"
             ],
             [
              0.5555555555555556,
              "#d8576b"
             ],
             [
              0.6666666666666666,
              "#ed7953"
             ],
             [
              0.7777777777777778,
              "#fb9f3a"
             ],
             [
              0.8888888888888888,
              "#fdca26"
             ],
             [
              1,
              "#f0f921"
             ]
            ],
            "type": "heatmap"
           }
          ],
          "heatmapgl": [
           {
            "colorbar": {
             "outlinewidth": 0,
             "ticks": ""
            },
            "colorscale": [
             [
              0,
              "#0d0887"
             ],
             [
              0.1111111111111111,
              "#46039f"
             ],
             [
              0.2222222222222222,
              "#7201a8"
             ],
             [
              0.3333333333333333,
              "#9c179e"
             ],
             [
              0.4444444444444444,
              "#bd3786"
             ],
             [
              0.5555555555555556,
              "#d8576b"
             ],
             [
              0.6666666666666666,
              "#ed7953"
             ],
             [
              0.7777777777777778,
              "#fb9f3a"
             ],
             [
              0.8888888888888888,
              "#fdca26"
             ],
             [
              1,
              "#f0f921"
             ]
            ],
            "type": "heatmapgl"
           }
          ],
          "histogram": [
           {
            "marker": {
             "pattern": {
              "fillmode": "overlay",
              "size": 10,
              "solidity": 0.2
             }
            },
            "type": "histogram"
           }
          ],
          "histogram2d": [
           {
            "colorbar": {
             "outlinewidth": 0,
             "ticks": ""
            },
            "colorscale": [
             [
              0,
              "#0d0887"
             ],
             [
              0.1111111111111111,
              "#46039f"
             ],
             [
              0.2222222222222222,
              "#7201a8"
             ],
             [
              0.3333333333333333,
              "#9c179e"
             ],
             [
              0.4444444444444444,
              "#bd3786"
             ],
             [
              0.5555555555555556,
              "#d8576b"
             ],
             [
              0.6666666666666666,
              "#ed7953"
             ],
             [
              0.7777777777777778,
              "#fb9f3a"
             ],
             [
              0.8888888888888888,
              "#fdca26"
             ],
             [
              1,
              "#f0f921"
             ]
            ],
            "type": "histogram2d"
           }
          ],
          "histogram2dcontour": [
           {
            "colorbar": {
             "outlinewidth": 0,
             "ticks": ""
            },
            "colorscale": [
             [
              0,
              "#0d0887"
             ],
             [
              0.1111111111111111,
              "#46039f"
             ],
             [
              0.2222222222222222,
              "#7201a8"
             ],
             [
              0.3333333333333333,
              "#9c179e"
             ],
             [
              0.4444444444444444,
              "#bd3786"
             ],
             [
              0.5555555555555556,
              "#d8576b"
             ],
             [
              0.6666666666666666,
              "#ed7953"
             ],
             [
              0.7777777777777778,
              "#fb9f3a"
             ],
             [
              0.8888888888888888,
              "#fdca26"
             ],
             [
              1,
              "#f0f921"
             ]
            ],
            "type": "histogram2dcontour"
           }
          ],
          "mesh3d": [
           {
            "colorbar": {
             "outlinewidth": 0,
             "ticks": ""
            },
            "type": "mesh3d"
           }
          ],
          "parcoords": [
           {
            "line": {
             "colorbar": {
              "outlinewidth": 0,
              "ticks": ""
             }
            },
            "type": "parcoords"
           }
          ],
          "pie": [
           {
            "automargin": true,
            "type": "pie"
           }
          ],
          "scatter": [
           {
            "fillpattern": {
             "fillmode": "overlay",
             "size": 10,
             "solidity": 0.2
            },
            "type": "scatter"
           }
          ],
          "scatter3d": [
           {
            "line": {
             "colorbar": {
              "outlinewidth": 0,
              "ticks": ""
             }
            },
            "marker": {
             "colorbar": {
              "outlinewidth": 0,
              "ticks": ""
             }
            },
            "type": "scatter3d"
           }
          ],
          "scattercarpet": [
           {
            "marker": {
             "colorbar": {
              "outlinewidth": 0,
              "ticks": ""
             }
            },
            "type": "scattercarpet"
           }
          ],
          "scattergeo": [
           {
            "marker": {
             "colorbar": {
              "outlinewidth": 0,
              "ticks": ""
             }
            },
            "type": "scattergeo"
           }
          ],
          "scattergl": [
           {
            "marker": {
             "colorbar": {
              "outlinewidth": 0,
              "ticks": ""
             }
            },
            "type": "scattergl"
           }
          ],
          "scattermapbox": [
           {
            "marker": {
             "colorbar": {
              "outlinewidth": 0,
              "ticks": ""
             }
            },
            "type": "scattermapbox"
           }
          ],
          "scatterpolar": [
           {
            "marker": {
             "colorbar": {
              "outlinewidth": 0,
              "ticks": ""
             }
            },
            "type": "scatterpolar"
           }
          ],
          "scatterpolargl": [
           {
            "marker": {
             "colorbar": {
              "outlinewidth": 0,
              "ticks": ""
             }
            },
            "type": "scatterpolargl"
           }
          ],
          "scatterternary": [
           {
            "marker": {
             "colorbar": {
              "outlinewidth": 0,
              "ticks": ""
             }
            },
            "type": "scatterternary"
           }
          ],
          "surface": [
           {
            "colorbar": {
             "outlinewidth": 0,
             "ticks": ""
            },
            "colorscale": [
             [
              0,
              "#0d0887"
             ],
             [
              0.1111111111111111,
              "#46039f"
             ],
             [
              0.2222222222222222,
              "#7201a8"
             ],
             [
              0.3333333333333333,
              "#9c179e"
             ],
             [
              0.4444444444444444,
              "#bd3786"
             ],
             [
              0.5555555555555556,
              "#d8576b"
             ],
             [
              0.6666666666666666,
              "#ed7953"
             ],
             [
              0.7777777777777778,
              "#fb9f3a"
             ],
             [
              0.8888888888888888,
              "#fdca26"
             ],
             [
              1,
              "#f0f921"
             ]
            ],
            "type": "surface"
           }
          ],
          "table": [
           {
            "cells": {
             "fill": {
              "color": "#EBF0F8"
             },
             "line": {
              "color": "white"
             }
            },
            "header": {
             "fill": {
              "color": "#C8D4E3"
             },
             "line": {
              "color": "white"
             }
            },
            "type": "table"
           }
          ]
         },
         "layout": {
          "annotationdefaults": {
           "arrowcolor": "#2a3f5f",
           "arrowhead": 0,
           "arrowwidth": 1
          },
          "autotypenumbers": "strict",
          "coloraxis": {
           "colorbar": {
            "outlinewidth": 0,
            "ticks": ""
           }
          },
          "colorscale": {
           "diverging": [
            [
             0,
             "#8e0152"
            ],
            [
             0.1,
             "#c51b7d"
            ],
            [
             0.2,
             "#de77ae"
            ],
            [
             0.3,
             "#f1b6da"
            ],
            [
             0.4,
             "#fde0ef"
            ],
            [
             0.5,
             "#f7f7f7"
            ],
            [
             0.6,
             "#e6f5d0"
            ],
            [
             0.7,
             "#b8e186"
            ],
            [
             0.8,
             "#7fbc41"
            ],
            [
             0.9,
             "#4d9221"
            ],
            [
             1,
             "#276419"
            ]
           ],
           "sequential": [
            [
             0,
             "#0d0887"
            ],
            [
             0.1111111111111111,
             "#46039f"
            ],
            [
             0.2222222222222222,
             "#7201a8"
            ],
            [
             0.3333333333333333,
             "#9c179e"
            ],
            [
             0.4444444444444444,
             "#bd3786"
            ],
            [
             0.5555555555555556,
             "#d8576b"
            ],
            [
             0.6666666666666666,
             "#ed7953"
            ],
            [
             0.7777777777777778,
             "#fb9f3a"
            ],
            [
             0.8888888888888888,
             "#fdca26"
            ],
            [
             1,
             "#f0f921"
            ]
           ],
           "sequentialminus": [
            [
             0,
             "#0d0887"
            ],
            [
             0.1111111111111111,
             "#46039f"
            ],
            [
             0.2222222222222222,
             "#7201a8"
            ],
            [
             0.3333333333333333,
             "#9c179e"
            ],
            [
             0.4444444444444444,
             "#bd3786"
            ],
            [
             0.5555555555555556,
             "#d8576b"
            ],
            [
             0.6666666666666666,
             "#ed7953"
            ],
            [
             0.7777777777777778,
             "#fb9f3a"
            ],
            [
             0.8888888888888888,
             "#fdca26"
            ],
            [
             1,
             "#f0f921"
            ]
           ]
          },
          "colorway": [
           "#636efa",
           "#EF553B",
           "#00cc96",
           "#ab63fa",
           "#FFA15A",
           "#19d3f3",
           "#FF6692",
           "#B6E880",
           "#FF97FF",
           "#FECB52"
          ],
          "font": {
           "color": "#2a3f5f"
          },
          "geo": {
           "bgcolor": "white",
           "lakecolor": "white",
           "landcolor": "#E5ECF6",
           "showlakes": true,
           "showland": true,
           "subunitcolor": "white"
          },
          "hoverlabel": {
           "align": "left"
          },
          "hovermode": "closest",
          "mapbox": {
           "style": "light"
          },
          "paper_bgcolor": "white",
          "plot_bgcolor": "#E5ECF6",
          "polar": {
           "angularaxis": {
            "gridcolor": "white",
            "linecolor": "white",
            "ticks": ""
           },
           "bgcolor": "#E5ECF6",
           "radialaxis": {
            "gridcolor": "white",
            "linecolor": "white",
            "ticks": ""
           }
          },
          "scene": {
           "xaxis": {
            "backgroundcolor": "#E5ECF6",
            "gridcolor": "white",
            "gridwidth": 2,
            "linecolor": "white",
            "showbackground": true,
            "ticks": "",
            "zerolinecolor": "white"
           },
           "yaxis": {
            "backgroundcolor": "#E5ECF6",
            "gridcolor": "white",
            "gridwidth": 2,
            "linecolor": "white",
            "showbackground": true,
            "ticks": "",
            "zerolinecolor": "white"
           },
           "zaxis": {
            "backgroundcolor": "#E5ECF6",
            "gridcolor": "white",
            "gridwidth": 2,
            "linecolor": "white",
            "showbackground": true,
            "ticks": "",
            "zerolinecolor": "white"
           }
          },
          "shapedefaults": {
           "line": {
            "color": "#2a3f5f"
           }
          },
          "ternary": {
           "aaxis": {
            "gridcolor": "white",
            "linecolor": "white",
            "ticks": ""
           },
           "baxis": {
            "gridcolor": "white",
            "linecolor": "white",
            "ticks": ""
           },
           "bgcolor": "#E5ECF6",
           "caxis": {
            "gridcolor": "white",
            "linecolor": "white",
            "ticks": ""
           }
          },
          "title": {
           "x": 0.05
          },
          "xaxis": {
           "automargin": true,
           "gridcolor": "white",
           "linecolor": "white",
           "ticks": "",
           "title": {
            "standoff": 15
           },
           "zerolinecolor": "white",
           "zerolinewidth": 2
          },
          "yaxis": {
           "automargin": true,
           "gridcolor": "white",
           "linecolor": "white",
           "ticks": "",
           "title": {
            "standoff": 15
           },
           "zerolinecolor": "white",
           "zerolinewidth": 2
          }
         }
        },
        "title": {
         "font": {
          "color": "#4D5663"
         }
        },
        "xaxis": {
         "gridcolor": "#E1E5ED",
         "showgrid": true,
         "tickfont": {
          "color": "#4D5663"
         },
         "title": {
          "font": {
           "color": "#4D5663"
          },
          "text": ""
         },
         "zerolinecolor": "#E1E5ED"
        },
        "yaxis": {
         "gridcolor": "#E1E5ED",
         "showgrid": true,
         "tickfont": {
          "color": "#4D5663"
         },
         "title": {
          "font": {
           "color": "#4D5663"
          },
          "text": ""
         },
         "zerolinecolor": "#E1E5ED"
        }
       }
      },
      "text/html": [
       "<div>                            <div id=\"05c0e554-7f08-4d41-a1b9-52de0a0862d3\" class=\"plotly-graph-div\" style=\"height:525px; width:100%;\"></div>            <script type=\"text/javascript\">                require([\"plotly\"], function(Plotly) {                    window.PLOTLYENV=window.PLOTLYENV || {};\n",
       "                    window.PLOTLYENV.BASE_URL='https://plot.ly';                                    if (document.getElementById(\"05c0e554-7f08-4d41-a1b9-52de0a0862d3\")) {                    Plotly.newPlot(                        \"05c0e554-7f08-4d41-a1b9-52de0a0862d3\",                        [{\"marker\":{\"color\":\"rgba(255, 153, 51, 0.6)\",\"line\":{\"color\":\"rgba(255, 153, 51, 1.0)\",\"width\":1}},\"name\":\"Values\",\"orientation\":\"v\",\"text\":\"\",\"x\":[\"A\",\"B\",\"C\"],\"y\":[32,43,50],\"type\":\"bar\"}],                        {\"legend\":{\"bgcolor\":\"#F5F6F9\",\"font\":{\"color\":\"#4D5663\"}},\"paper_bgcolor\":\"#F5F6F9\",\"plot_bgcolor\":\"#F5F6F9\",\"template\":{\"data\":{\"barpolar\":[{\"marker\":{\"line\":{\"color\":\"#E5ECF6\",\"width\":0.5},\"pattern\":{\"fillmode\":\"overlay\",\"size\":10,\"solidity\":0.2}},\"type\":\"barpolar\"}],\"bar\":[{\"error_x\":{\"color\":\"#2a3f5f\"},\"error_y\":{\"color\":\"#2a3f5f\"},\"marker\":{\"line\":{\"color\":\"#E5ECF6\",\"width\":0.5},\"pattern\":{\"fillmode\":\"overlay\",\"size\":10,\"solidity\":0.2}},\"type\":\"bar\"}],\"carpet\":[{\"aaxis\":{\"endlinecolor\":\"#2a3f5f\",\"gridcolor\":\"white\",\"linecolor\":\"white\",\"minorgridcolor\":\"white\",\"startlinecolor\":\"#2a3f5f\"},\"baxis\":{\"endlinecolor\":\"#2a3f5f\",\"gridcolor\":\"white\",\"linecolor\":\"white\",\"minorgridcolor\":\"white\",\"startlinecolor\":\"#2a3f5f\"},\"type\":\"carpet\"}],\"choropleth\":[{\"colorbar\":{\"outlinewidth\":0,\"ticks\":\"\"},\"type\":\"choropleth\"}],\"contourcarpet\":[{\"colorbar\":{\"outlinewidth\":0,\"ticks\":\"\"},\"type\":\"contourcarpet\"}],\"contour\":[{\"colorbar\":{\"outlinewidth\":0,\"ticks\":\"\"},\"colorscale\":[[0.0,\"#0d0887\"],[0.1111111111111111,\"#46039f\"],[0.2222222222222222,\"#7201a8\"],[0.3333333333333333,\"#9c179e\"],[0.4444444444444444,\"#bd3786\"],[0.5555555555555556,\"#d8576b\"],[0.6666666666666666,\"#ed7953\"],[0.7777777777777778,\"#fb9f3a\"],[0.8888888888888888,\"#fdca26\"],[1.0,\"#f0f921\"]],\"type\":\"contour\"}],\"heatmapgl\":[{\"colorbar\":{\"outlinewidth\":0,\"ticks\":\"\"},\"colorscale\":[[0.0,\"#0d0887\"],[0.1111111111111111,\"#46039f\"],[0.2222222222222222,\"#7201a8\"],[0.3333333333333333,\"#9c179e\"],[0.4444444444444444,\"#bd3786\"],[0.5555555555555556,\"#d8576b\"],[0.6666666666666666,\"#ed7953\"],[0.7777777777777778,\"#fb9f3a\"],[0.8888888888888888,\"#fdca26\"],[1.0,\"#f0f921\"]],\"type\":\"heatmapgl\"}],\"heatmap\":[{\"colorbar\":{\"outlinewidth\":0,\"ticks\":\"\"},\"colorscale\":[[0.0,\"#0d0887\"],[0.1111111111111111,\"#46039f\"],[0.2222222222222222,\"#7201a8\"],[0.3333333333333333,\"#9c179e\"],[0.4444444444444444,\"#bd3786\"],[0.5555555555555556,\"#d8576b\"],[0.6666666666666666,\"#ed7953\"],[0.7777777777777778,\"#fb9f3a\"],[0.8888888888888888,\"#fdca26\"],[1.0,\"#f0f921\"]],\"type\":\"heatmap\"}],\"histogram2dcontour\":[{\"colorbar\":{\"outlinewidth\":0,\"ticks\":\"\"},\"colorscale\":[[0.0,\"#0d0887\"],[0.1111111111111111,\"#46039f\"],[0.2222222222222222,\"#7201a8\"],[0.3333333333333333,\"#9c179e\"],[0.4444444444444444,\"#bd3786\"],[0.5555555555555556,\"#d8576b\"],[0.6666666666666666,\"#ed7953\"],[0.7777777777777778,\"#fb9f3a\"],[0.8888888888888888,\"#fdca26\"],[1.0,\"#f0f921\"]],\"type\":\"histogram2dcontour\"}],\"histogram2d\":[{\"colorbar\":{\"outlinewidth\":0,\"ticks\":\"\"},\"colorscale\":[[0.0,\"#0d0887\"],[0.1111111111111111,\"#46039f\"],[0.2222222222222222,\"#7201a8\"],[0.3333333333333333,\"#9c179e\"],[0.4444444444444444,\"#bd3786\"],[0.5555555555555556,\"#d8576b\"],[0.6666666666666666,\"#ed7953\"],[0.7777777777777778,\"#fb9f3a\"],[0.8888888888888888,\"#fdca26\"],[1.0,\"#f0f921\"]],\"type\":\"histogram2d\"}],\"histogram\":[{\"marker\":{\"pattern\":{\"fillmode\":\"overlay\",\"size\":10,\"solidity\":0.2}},\"type\":\"histogram\"}],\"mesh3d\":[{\"colorbar\":{\"outlinewidth\":0,\"ticks\":\"\"},\"type\":\"mesh3d\"}],\"parcoords\":[{\"line\":{\"colorbar\":{\"outlinewidth\":0,\"ticks\":\"\"}},\"type\":\"parcoords\"}],\"pie\":[{\"automargin\":true,\"type\":\"pie\"}],\"scatter3d\":[{\"line\":{\"colorbar\":{\"outlinewidth\":0,\"ticks\":\"\"}},\"marker\":{\"colorbar\":{\"outlinewidth\":0,\"ticks\":\"\"}},\"type\":\"scatter3d\"}],\"scattercarpet\":[{\"marker\":{\"colorbar\":{\"outlinewidth\":0,\"ticks\":\"\"}},\"type\":\"scattercarpet\"}],\"scattergeo\":[{\"marker\":{\"colorbar\":{\"outlinewidth\":0,\"ticks\":\"\"}},\"type\":\"scattergeo\"}],\"scattergl\":[{\"marker\":{\"colorbar\":{\"outlinewidth\":0,\"ticks\":\"\"}},\"type\":\"scattergl\"}],\"scattermapbox\":[{\"marker\":{\"colorbar\":{\"outlinewidth\":0,\"ticks\":\"\"}},\"type\":\"scattermapbox\"}],\"scatterpolargl\":[{\"marker\":{\"colorbar\":{\"outlinewidth\":0,\"ticks\":\"\"}},\"type\":\"scatterpolargl\"}],\"scatterpolar\":[{\"marker\":{\"colorbar\":{\"outlinewidth\":0,\"ticks\":\"\"}},\"type\":\"scatterpolar\"}],\"scatter\":[{\"fillpattern\":{\"fillmode\":\"overlay\",\"size\":10,\"solidity\":0.2},\"type\":\"scatter\"}],\"scatterternary\":[{\"marker\":{\"colorbar\":{\"outlinewidth\":0,\"ticks\":\"\"}},\"type\":\"scatterternary\"}],\"surface\":[{\"colorbar\":{\"outlinewidth\":0,\"ticks\":\"\"},\"colorscale\":[[0.0,\"#0d0887\"],[0.1111111111111111,\"#46039f\"],[0.2222222222222222,\"#7201a8\"],[0.3333333333333333,\"#9c179e\"],[0.4444444444444444,\"#bd3786\"],[0.5555555555555556,\"#d8576b\"],[0.6666666666666666,\"#ed7953\"],[0.7777777777777778,\"#fb9f3a\"],[0.8888888888888888,\"#fdca26\"],[1.0,\"#f0f921\"]],\"type\":\"surface\"}],\"table\":[{\"cells\":{\"fill\":{\"color\":\"#EBF0F8\"},\"line\":{\"color\":\"white\"}},\"header\":{\"fill\":{\"color\":\"#C8D4E3\"},\"line\":{\"color\":\"white\"}},\"type\":\"table\"}]},\"layout\":{\"annotationdefaults\":{\"arrowcolor\":\"#2a3f5f\",\"arrowhead\":0,\"arrowwidth\":1},\"autotypenumbers\":\"strict\",\"coloraxis\":{\"colorbar\":{\"outlinewidth\":0,\"ticks\":\"\"}},\"colorscale\":{\"diverging\":[[0,\"#8e0152\"],[0.1,\"#c51b7d\"],[0.2,\"#de77ae\"],[0.3,\"#f1b6da\"],[0.4,\"#fde0ef\"],[0.5,\"#f7f7f7\"],[0.6,\"#e6f5d0\"],[0.7,\"#b8e186\"],[0.8,\"#7fbc41\"],[0.9,\"#4d9221\"],[1,\"#276419\"]],\"sequential\":[[0.0,\"#0d0887\"],[0.1111111111111111,\"#46039f\"],[0.2222222222222222,\"#7201a8\"],[0.3333333333333333,\"#9c179e\"],[0.4444444444444444,\"#bd3786\"],[0.5555555555555556,\"#d8576b\"],[0.6666666666666666,\"#ed7953\"],[0.7777777777777778,\"#fb9f3a\"],[0.8888888888888888,\"#fdca26\"],[1.0,\"#f0f921\"]],\"sequentialminus\":[[0.0,\"#0d0887\"],[0.1111111111111111,\"#46039f\"],[0.2222222222222222,\"#7201a8\"],[0.3333333333333333,\"#9c179e\"],[0.4444444444444444,\"#bd3786\"],[0.5555555555555556,\"#d8576b\"],[0.6666666666666666,\"#ed7953\"],[0.7777777777777778,\"#fb9f3a\"],[0.8888888888888888,\"#fdca26\"],[1.0,\"#f0f921\"]]},\"colorway\":[\"#636efa\",\"#EF553B\",\"#00cc96\",\"#ab63fa\",\"#FFA15A\",\"#19d3f3\",\"#FF6692\",\"#B6E880\",\"#FF97FF\",\"#FECB52\"],\"font\":{\"color\":\"#2a3f5f\"},\"geo\":{\"bgcolor\":\"white\",\"lakecolor\":\"white\",\"landcolor\":\"#E5ECF6\",\"showlakes\":true,\"showland\":true,\"subunitcolor\":\"white\"},\"hoverlabel\":{\"align\":\"left\"},\"hovermode\":\"closest\",\"mapbox\":{\"style\":\"light\"},\"paper_bgcolor\":\"white\",\"plot_bgcolor\":\"#E5ECF6\",\"polar\":{\"angularaxis\":{\"gridcolor\":\"white\",\"linecolor\":\"white\",\"ticks\":\"\"},\"bgcolor\":\"#E5ECF6\",\"radialaxis\":{\"gridcolor\":\"white\",\"linecolor\":\"white\",\"ticks\":\"\"}},\"scene\":{\"xaxis\":{\"backgroundcolor\":\"#E5ECF6\",\"gridcolor\":\"white\",\"gridwidth\":2,\"linecolor\":\"white\",\"showbackground\":true,\"ticks\":\"\",\"zerolinecolor\":\"white\"},\"yaxis\":{\"backgroundcolor\":\"#E5ECF6\",\"gridcolor\":\"white\",\"gridwidth\":2,\"linecolor\":\"white\",\"showbackground\":true,\"ticks\":\"\",\"zerolinecolor\":\"white\"},\"zaxis\":{\"backgroundcolor\":\"#E5ECF6\",\"gridcolor\":\"white\",\"gridwidth\":2,\"linecolor\":\"white\",\"showbackground\":true,\"ticks\":\"\",\"zerolinecolor\":\"white\"}},\"shapedefaults\":{\"line\":{\"color\":\"#2a3f5f\"}},\"ternary\":{\"aaxis\":{\"gridcolor\":\"white\",\"linecolor\":\"white\",\"ticks\":\"\"},\"baxis\":{\"gridcolor\":\"white\",\"linecolor\":\"white\",\"ticks\":\"\"},\"bgcolor\":\"#E5ECF6\",\"caxis\":{\"gridcolor\":\"white\",\"linecolor\":\"white\",\"ticks\":\"\"}},\"title\":{\"x\":0.05},\"xaxis\":{\"automargin\":true,\"gridcolor\":\"white\",\"linecolor\":\"white\",\"ticks\":\"\",\"title\":{\"standoff\":15},\"zerolinecolor\":\"white\",\"zerolinewidth\":2},\"yaxis\":{\"automargin\":true,\"gridcolor\":\"white\",\"linecolor\":\"white\",\"ticks\":\"\",\"title\":{\"standoff\":15},\"zerolinecolor\":\"white\",\"zerolinewidth\":2}}},\"title\":{\"font\":{\"color\":\"#4D5663\"}},\"xaxis\":{\"gridcolor\":\"#E1E5ED\",\"showgrid\":true,\"tickfont\":{\"color\":\"#4D5663\"},\"title\":{\"font\":{\"color\":\"#4D5663\"},\"text\":\"\"},\"zerolinecolor\":\"#E1E5ED\"},\"yaxis\":{\"gridcolor\":\"#E1E5ED\",\"showgrid\":true,\"tickfont\":{\"color\":\"#4D5663\"},\"title\":{\"font\":{\"color\":\"#4D5663\"},\"text\":\"\"},\"zerolinecolor\":\"#E1E5ED\"}},                        {\"showLink\": true, \"linkText\": \"Export to plot.ly\", \"plotlyServerURL\": \"https://plot.ly\", \"responsive\": true}                    ).then(function(){\n",
       "                            \n",
       "var gd = document.getElementById('05c0e554-7f08-4d41-a1b9-52de0a0862d3');\n",
       "var x = new MutationObserver(function (mutations, observer) {{\n",
       "        var display = window.getComputedStyle(gd).display;\n",
       "        if (!display || display === 'none') {{\n",
       "            console.log([gd, 'removed!']);\n",
       "            Plotly.purge(gd);\n",
       "            observer.disconnect();\n",
       "        }}\n",
       "}});\n",
       "\n",
       "// Listen for the removal of the full notebook cells\n",
       "var notebookContainer = gd.closest('#notebook-container');\n",
       "if (notebookContainer) {{\n",
       "    x.observe(notebookContainer, {childList: true});\n",
       "}}\n",
       "\n",
       "// Listen for the clearing of the current output cell\n",
       "var outputEl = gd.closest('.output');\n",
       "if (outputEl) {{\n",
       "    x.observe(outputEl, {childList: true});\n",
       "}}\n",
       "\n",
       "                        })                };                });            </script>        </div>"
      ]
     },
     "metadata": {},
     "output_type": "display_data"
    }
   ],
   "source": [
    "df2.iplot(kind='bar',x='Category',y='Values')"
   ]
  },
  {
   "cell_type": "code",
   "execution_count": null,
   "id": "e40a2924",
   "metadata": {},
   "outputs": [],
   "source": []
  },
  {
   "cell_type": "markdown",
   "id": "8e71a3f7",
   "metadata": {},
   "source": [
    "## Spread"
   ]
  },
  {
   "cell_type": "code",
   "execution_count": 20,
   "id": "ced2897b",
   "metadata": {},
   "outputs": [
    {
     "name": "stderr",
     "output_type": "stream",
     "text": [
      "/Users/royquesada/anaconda3/lib/python3.11/site-packages/cufflinks/plotlytools.py:849: FutureWarning:\n",
      "\n",
      "The pandas.np module is deprecated and will be removed from pandas in a future version. Import numpy directly instead.\n",
      "\n",
      "/Users/royquesada/anaconda3/lib/python3.11/site-packages/cufflinks/plotlytools.py:850: FutureWarning:\n",
      "\n",
      "The pandas.np module is deprecated and will be removed from pandas in a future version. Import numpy directly instead.\n",
      "\n"
     ]
    },
    {
     "data": {
      "application/vnd.plotly.v1+json": {
       "config": {
        "linkText": "Export to plot.ly",
        "plotlyServerURL": "https://plot.ly",
        "showLink": true
       },
       "data": [
        {
         "line": {
          "color": "rgba(255, 153, 51, 1.0)",
          "dash": "solid",
          "shape": "linear",
          "width": 1.3
         },
         "mode": "lines",
         "name": "A",
         "text": "",
         "type": "scatter",
         "x": [
          0,
          1,
          2,
          3,
          4,
          5,
          6,
          7,
          8,
          9,
          10,
          11,
          12,
          13,
          14,
          15,
          16,
          17,
          18,
          19,
          20,
          21,
          22,
          23,
          24,
          25,
          26,
          27,
          28,
          29,
          30,
          31,
          32,
          33,
          34,
          35,
          36,
          37,
          38,
          39,
          40,
          41,
          42,
          43,
          44,
          45,
          46,
          47,
          48,
          49,
          50,
          51,
          52,
          53,
          54,
          55,
          56,
          57,
          58,
          59,
          60,
          61,
          62,
          63,
          64,
          65,
          66,
          67,
          68,
          69,
          70,
          71,
          72,
          73,
          74,
          75,
          76,
          77,
          78,
          79,
          80,
          81,
          82,
          83,
          84,
          85,
          86,
          87,
          88,
          89,
          90,
          91,
          92,
          93,
          94,
          95,
          96,
          97,
          98,
          99
         ],
         "y": [
          0.2991550861198565,
          -0.3841492154014665,
          -1.4955874438548968,
          -0.986281527430265,
          0.8636431673834111,
          1.0506243725442432,
          -0.5641456423079034,
          -1.7863210272933812,
          0.5893189259744791,
          -0.6283981743665769,
          0.9822149186999429,
          0.003621728700036139,
          1.1478470780946737,
          0.9493796075126227,
          2.023151425732341,
          0.8209651038367457,
          -1.436616028751318,
          0.2501161685999158,
          -2.18940427695009,
          1.060005975403017,
          -1.2913373051591328,
          -0.5818461629913243,
          -3.559727068196443,
          0.0429856375186844,
          -0.040441593036933884,
          0.4365405596956291,
          -1.6122927837729488,
          -2.200067677252177,
          1.3741729080719394,
          0.22372429063459934,
          0.35456006418455993,
          1.0268798296954587,
          1.2483904845694946,
          0.06803355363766585,
          -1.215641873426893,
          -1.0092547114079848,
          -0.18928431766049622,
          -0.13624175059188193,
          -1.124654032729839,
          1.906287147681474,
          0.22227594199144093,
          -1.1680813787099484,
          1.2448035827666633,
          0.09448168900829862,
          -1.9213213375620148,
          3.374448829478874,
          -0.4720745251680017,
          1.4237076937233117,
          1.0977579047946182,
          0.27276264592903,
          -0.7071666774547971,
          0.4579682494563629,
          0.7812645170577213,
          0.6940016369921731,
          -1.6670428257540362,
          0.10479754129686403,
          2.0521391141627117,
          -0.5894929196802318,
          0.2086275444892075,
          -0.3943158555219555,
          -0.001962682381986401,
          0.5061562116185518,
          -1.31068766067125,
          1.1458984485772514,
          0.07746205451031746,
          0.42117143238154464,
          0.022396537274275884,
          0.3832423647923307,
          -0.7142696921980415,
          1.5759715705521424,
          -1.0948757064584989,
          -0.3578123661598927,
          -0.1388499152089222,
          -1.0316315826678573,
          0.14133939011217816,
          -0.7236948335615198,
          -1.0461981495376964,
          -0.860425552617968,
          0.6838366995531965,
          0.5019976649548585,
          -0.2698604416378836,
          0.020026700999118248,
          0.7382030841174992,
          -1.0107550832011862,
          -0.9809011420879843,
          0.40108331476893583,
          0.06473151369985368,
          1.8746933818594682,
          0.2515041968308312,
          -0.9807717470558058,
          0.40762164463885214,
          -1.1849158622412188,
          -0.17364781870766738,
          -1.4336904561145787,
          0.6915743124241517,
          0.010826914274588933,
          0.20377929746820334,
          -2.995026620423591,
          -1.2399719772534463,
          0.8788721868956764
         ]
        },
        {
         "line": {
          "color": "rgba(55, 128, 191, 1.0)",
          "dash": "solid",
          "shape": "linear",
          "width": 1.3
         },
         "mode": "lines",
         "name": "B",
         "text": "",
         "type": "scatter",
         "x": [
          0,
          1,
          2,
          3,
          4,
          5,
          6,
          7,
          8,
          9,
          10,
          11,
          12,
          13,
          14,
          15,
          16,
          17,
          18,
          19,
          20,
          21,
          22,
          23,
          24,
          25,
          26,
          27,
          28,
          29,
          30,
          31,
          32,
          33,
          34,
          35,
          36,
          37,
          38,
          39,
          40,
          41,
          42,
          43,
          44,
          45,
          46,
          47,
          48,
          49,
          50,
          51,
          52,
          53,
          54,
          55,
          56,
          57,
          58,
          59,
          60,
          61,
          62,
          63,
          64,
          65,
          66,
          67,
          68,
          69,
          70,
          71,
          72,
          73,
          74,
          75,
          76,
          77,
          78,
          79,
          80,
          81,
          82,
          83,
          84,
          85,
          86,
          87,
          88,
          89,
          90,
          91,
          92,
          93,
          94,
          95,
          96,
          97,
          98,
          99
         ],
         "y": [
          0.780112161625848,
          -0.6622020441579575,
          0.19603094116590988,
          0.9444435813517414,
          2.0190065917990325,
          0.43722776902737875,
          0.6764390904739006,
          -1.0318392658003315,
          -0.7052936531538087,
          -1.2207048933585274,
          -0.022498175312445908,
          -0.47514400008103796,
          0.015631345678703647,
          0.49166903297101733,
          -0.4463750385965351,
          -1.2532070399499404,
          0.017542246804112673,
          -0.7570882592644229,
          -1.2012136807274745,
          0.7886948763755939,
          -0.8693486963450223,
          0.9010537168023657,
          -0.5770469082718713,
          -0.1030991380904987,
          0.5338436665524187,
          1.1155594158041637,
          0.26391870421043223,
          1.3232294736026364,
          0.7630229489633639,
          1.632035218409037,
          1.5207097499353,
          -0.0006879736573673989,
          -1.21103828452234,
          1.34662009347215,
          0.9975735907200801,
          0.9551360071731924,
          -1.0722210696166834,
          -1.7265754758738259,
          0.04129037780678675,
          -0.7132244284043963,
          -1.0579130080408146,
          2.81148193442505,
          -0.04184454642460926,
          0.7307795091345204,
          -0.29943747215028277,
          0.6791011913122792,
          0.7539025548648147,
          -0.8199570302339777,
          0.6835533635051066,
          -0.37718640289622646,
          -1.4905040103618956,
          -0.8423691944628268,
          -0.16584257158889373,
          -1.4330757918373824,
          0.9461603473737706,
          -0.15290838198858106,
          -0.16205848298241507,
          0.02130880292795404,
          -1.4961741662057277,
          0.4484982571308183,
          0.18922260769185564,
          0.7710099389584645,
          -1.4518000619214029,
          -0.5812770284876827,
          0.5146202678161,
          0.9315853354882877,
          -0.9603288937961088,
          -1.103370479561761,
          -0.47745010276254535,
          0.9336441074488008,
          1.2560789857109207,
          -0.5249525108676631,
          0.9324462586812953,
          -0.8005665398613003,
          -0.4671893294403345,
          0.14609976572579939,
          0.030765176545579104,
          0.9842394461832488,
          -0.6094735362782722,
          0.5726121277992451,
          0.9344438360939703,
          1.470087261607474,
          0.6444928799223439,
          -1.8503301390802411,
          0.784695912134507,
          -0.1797897094423723,
          2.3847821119754022,
          -1.3412772928554055,
          0.5857245773958671,
          -0.44248615438473105,
          1.02478023997563,
          -0.10167432812782703,
          -0.46321591080833774,
          -1.0606116126026808,
          1.0757078100996635,
          -0.2948219640020998,
          0.4688053405721653,
          1.5442197803396982,
          2.561137988024716,
          0.051745092191318
         ]
        },
        {
         "connectgaps": false,
         "fill": "tozeroy",
         "line": {
          "color": "green",
          "dash": "solid",
          "shape": "linear",
          "width": 0.5
         },
         "mode": "lines",
         "name": "Spread",
         "showlegend": false,
         "type": "scatter",
         "x": [
          0,
          1,
          2,
          3,
          4,
          5,
          6,
          7,
          8,
          9,
          10,
          11,
          12,
          13,
          14,
          15,
          16,
          17,
          18,
          19,
          20,
          21,
          22,
          23,
          24,
          25,
          26,
          27,
          28,
          29,
          30,
          31,
          32,
          33,
          34,
          35,
          36,
          37,
          38,
          39,
          40,
          41,
          42,
          43,
          44,
          45,
          46,
          47,
          48,
          49,
          50,
          51,
          52,
          53,
          54,
          55,
          56,
          57,
          58,
          59,
          60,
          61,
          62,
          63,
          64,
          65,
          66,
          67,
          68,
          69,
          70,
          71,
          72,
          73,
          74,
          75,
          76,
          77,
          78,
          79,
          80,
          81,
          82,
          83,
          84,
          85,
          86,
          87,
          88,
          89,
          90,
          91,
          92,
          93,
          94,
          95,
          96,
          97,
          98,
          99
         ],
         "xaxis": "x2",
         "y": [
          "",
          0.27805282875649096,
          "",
          "",
          "",
          0.6133966035168645,
          "",
          "",
          1.2946125791282879,
          0.5923067189919505,
          1.0047130940123887,
          0.4787657287810741,
          1.13221573241597,
          0.4577105745416054,
          2.469526464328876,
          2.074172143786686,
          "",
          1.0072044278643388,
          "",
          0.27131109902742323,
          "",
          "",
          "",
          0.1460847756091831,
          "",
          "",
          "",
          "",
          0.6111499591085755,
          "",
          "",
          1.0275678033528262,
          2.4594287690918346,
          "",
          "",
          "",
          0.8829367519561871,
          1.590333725281944,
          "",
          2.6195115760858703,
          1.2801889500322554,
          "",
          1.2866481291912726,
          "",
          "",
          2.695347638166595,
          "",
          2.2436647239572896,
          0.41420454128951156,
          0.6499490488252564,
          0.7833373329070985,
          1.3003374439191897,
          0.947107088646615,
          2.1270774288295557,
          "",
          0.25770592328544506,
          2.2141975971451267,
          "",
          1.7048017106949351,
          "",
          "",
          "",
          0.14111240125015279,
          1.7271754770649341,
          "",
          "",
          0.9827254310703847,
          1.4866128443540916,
          "",
          0.6423274631033417,
          "",
          0.16714014470777044,
          "",
          "",
          0.6085287195525126,
          "",
          "",
          "",
          1.2933102358314685,
          "",
          "",
          "",
          0.0937102041951553,
          0.8395750558790549,
          "",
          0.5808730242113082,
          "",
          3.2159706747148737,
          "",
          "",
          "",
          "",
          0.28956809210067036,
          "",
          "",
          0.30564887827668874,
          "",
          "",
          "",
          0.8271270947043584
         ],
         "yaxis": "y2"
        },
        {
         "connectgaps": false,
         "fill": "tozeroy",
         "line": {
          "color": "red",
          "dash": "solid",
          "shape": "linear",
          "width": 0.5
         },
         "mode": "lines",
         "name": "Spread",
         "showlegend": false,
         "type": "scatter",
         "x": [
          0,
          1,
          2,
          3,
          4,
          5,
          6,
          7,
          8,
          9,
          10,
          11,
          12,
          13,
          14,
          15,
          16,
          17,
          18,
          19,
          20,
          21,
          22,
          23,
          24,
          25,
          26,
          27,
          28,
          29,
          30,
          31,
          32,
          33,
          34,
          35,
          36,
          37,
          38,
          39,
          40,
          41,
          42,
          43,
          44,
          45,
          46,
          47,
          48,
          49,
          50,
          51,
          52,
          53,
          54,
          55,
          56,
          57,
          58,
          59,
          60,
          61,
          62,
          63,
          64,
          65,
          66,
          67,
          68,
          69,
          70,
          71,
          72,
          73,
          74,
          75,
          76,
          77,
          78,
          79,
          80,
          81,
          82,
          83,
          84,
          85,
          86,
          87,
          88,
          89,
          90,
          91,
          92,
          93,
          94,
          95,
          96,
          97,
          98,
          99
         ],
         "xaxis": "x2",
         "y": [
          -0.4809570755059915,
          "",
          -1.6916183850208066,
          -1.9307251087820063,
          -1.1553634244156215,
          "",
          -1.240584732781804,
          -0.7544817614930497,
          "",
          "",
          "",
          "",
          "",
          "",
          "",
          "",
          -1.4541582755554308,
          "",
          -0.9881905962226156,
          "",
          -0.4219886088141105,
          -1.48289987979369,
          -2.9826801599245716,
          "",
          -0.5742852595893525,
          -0.6790188561085346,
          -1.876211487983381,
          -3.5232971508548134,
          "",
          -1.4083109277744377,
          -1.16614968575074,
          "",
          "",
          -1.278586539834484,
          -2.2132154641469732,
          -1.964390718581177,
          "",
          "",
          -1.165944410536626,
          "",
          "",
          -3.9795633131349986,
          "",
          -0.6362978201262217,
          -1.621883865411732,
          "",
          -1.2259770800328165,
          "",
          "",
          "",
          "",
          "",
          "",
          "",
          -2.6132031731278067,
          "",
          "",
          -0.6108017226081858,
          "",
          -0.8428141126527738,
          -0.19118529007384205,
          -0.26485372733991264,
          "",
          "",
          -0.4371582133057826,
          -0.5104139031067431,
          "",
          "",
          -0.23681958943549614,
          "",
          -2.3509546921694193,
          "",
          -1.0712961738902176,
          -0.23106504280655693,
          "",
          -0.8697945992873192,
          -1.0769633260832756,
          -1.8446649988012167,
          "",
          -0.07061446284438655,
          -1.204304277731854,
          -1.4500605606083559,
          "",
          "",
          -1.7655970542224912,
          "",
          -2.3200505982755484,
          "",
          -0.33422038056503595,
          -0.5382855926710748,
          -0.617158595336778,
          -1.0832415341133919,
          "",
          -0.3730788435118979,
          -0.38413349767551186,
          "",
          -0.26502604310396194,
          -4.53924640076329,
          -3.801109965278162,
          ""
         ],
         "yaxis": "y2"
        }
       ],
       "layout": {
        "hovermode": "x",
        "legend": {
         "bgcolor": "#F5F6F9",
         "font": {
          "color": "#4D5663"
         }
        },
        "paper_bgcolor": "#F5F6F9",
        "plot_bgcolor": "#F5F6F9",
        "template": {
         "data": {
          "bar": [
           {
            "error_x": {
             "color": "#2a3f5f"
            },
            "error_y": {
             "color": "#2a3f5f"
            },
            "marker": {
             "line": {
              "color": "#E5ECF6",
              "width": 0.5
             },
             "pattern": {
              "fillmode": "overlay",
              "size": 10,
              "solidity": 0.2
             }
            },
            "type": "bar"
           }
          ],
          "barpolar": [
           {
            "marker": {
             "line": {
              "color": "#E5ECF6",
              "width": 0.5
             },
             "pattern": {
              "fillmode": "overlay",
              "size": 10,
              "solidity": 0.2
             }
            },
            "type": "barpolar"
           }
          ],
          "carpet": [
           {
            "aaxis": {
             "endlinecolor": "#2a3f5f",
             "gridcolor": "white",
             "linecolor": "white",
             "minorgridcolor": "white",
             "startlinecolor": "#2a3f5f"
            },
            "baxis": {
             "endlinecolor": "#2a3f5f",
             "gridcolor": "white",
             "linecolor": "white",
             "minorgridcolor": "white",
             "startlinecolor": "#2a3f5f"
            },
            "type": "carpet"
           }
          ],
          "choropleth": [
           {
            "colorbar": {
             "outlinewidth": 0,
             "ticks": ""
            },
            "type": "choropleth"
           }
          ],
          "contour": [
           {
            "colorbar": {
             "outlinewidth": 0,
             "ticks": ""
            },
            "colorscale": [
             [
              0,
              "#0d0887"
             ],
             [
              0.1111111111111111,
              "#46039f"
             ],
             [
              0.2222222222222222,
              "#7201a8"
             ],
             [
              0.3333333333333333,
              "#9c179e"
             ],
             [
              0.4444444444444444,
              "#bd3786"
             ],
             [
              0.5555555555555556,
              "#d8576b"
             ],
             [
              0.6666666666666666,
              "#ed7953"
             ],
             [
              0.7777777777777778,
              "#fb9f3a"
             ],
             [
              0.8888888888888888,
              "#fdca26"
             ],
             [
              1,
              "#f0f921"
             ]
            ],
            "type": "contour"
           }
          ],
          "contourcarpet": [
           {
            "colorbar": {
             "outlinewidth": 0,
             "ticks": ""
            },
            "type": "contourcarpet"
           }
          ],
          "heatmap": [
           {
            "colorbar": {
             "outlinewidth": 0,
             "ticks": ""
            },
            "colorscale": [
             [
              0,
              "#0d0887"
             ],
             [
              0.1111111111111111,
              "#46039f"
             ],
             [
              0.2222222222222222,
              "#7201a8"
             ],
             [
              0.3333333333333333,
              "#9c179e"
             ],
             [
              0.4444444444444444,
              "#bd3786"
             ],
             [
              0.5555555555555556,
              "#d8576b"
             ],
             [
              0.6666666666666666,
              "#ed7953"
             ],
             [
              0.7777777777777778,
              "#fb9f3a"
             ],
             [
              0.8888888888888888,
              "#fdca26"
             ],
             [
              1,
              "#f0f921"
             ]
            ],
            "type": "heatmap"
           }
          ],
          "heatmapgl": [
           {
            "colorbar": {
             "outlinewidth": 0,
             "ticks": ""
            },
            "colorscale": [
             [
              0,
              "#0d0887"
             ],
             [
              0.1111111111111111,
              "#46039f"
             ],
             [
              0.2222222222222222,
              "#7201a8"
             ],
             [
              0.3333333333333333,
              "#9c179e"
             ],
             [
              0.4444444444444444,
              "#bd3786"
             ],
             [
              0.5555555555555556,
              "#d8576b"
             ],
             [
              0.6666666666666666,
              "#ed7953"
             ],
             [
              0.7777777777777778,
              "#fb9f3a"
             ],
             [
              0.8888888888888888,
              "#fdca26"
             ],
             [
              1,
              "#f0f921"
             ]
            ],
            "type": "heatmapgl"
           }
          ],
          "histogram": [
           {
            "marker": {
             "pattern": {
              "fillmode": "overlay",
              "size": 10,
              "solidity": 0.2
             }
            },
            "type": "histogram"
           }
          ],
          "histogram2d": [
           {
            "colorbar": {
             "outlinewidth": 0,
             "ticks": ""
            },
            "colorscale": [
             [
              0,
              "#0d0887"
             ],
             [
              0.1111111111111111,
              "#46039f"
             ],
             [
              0.2222222222222222,
              "#7201a8"
             ],
             [
              0.3333333333333333,
              "#9c179e"
             ],
             [
              0.4444444444444444,
              "#bd3786"
             ],
             [
              0.5555555555555556,
              "#d8576b"
             ],
             [
              0.6666666666666666,
              "#ed7953"
             ],
             [
              0.7777777777777778,
              "#fb9f3a"
             ],
             [
              0.8888888888888888,
              "#fdca26"
             ],
             [
              1,
              "#f0f921"
             ]
            ],
            "type": "histogram2d"
           }
          ],
          "histogram2dcontour": [
           {
            "colorbar": {
             "outlinewidth": 0,
             "ticks": ""
            },
            "colorscale": [
             [
              0,
              "#0d0887"
             ],
             [
              0.1111111111111111,
              "#46039f"
             ],
             [
              0.2222222222222222,
              "#7201a8"
             ],
             [
              0.3333333333333333,
              "#9c179e"
             ],
             [
              0.4444444444444444,
              "#bd3786"
             ],
             [
              0.5555555555555556,
              "#d8576b"
             ],
             [
              0.6666666666666666,
              "#ed7953"
             ],
             [
              0.7777777777777778,
              "#fb9f3a"
             ],
             [
              0.8888888888888888,
              "#fdca26"
             ],
             [
              1,
              "#f0f921"
             ]
            ],
            "type": "histogram2dcontour"
           }
          ],
          "mesh3d": [
           {
            "colorbar": {
             "outlinewidth": 0,
             "ticks": ""
            },
            "type": "mesh3d"
           }
          ],
          "parcoords": [
           {
            "line": {
             "colorbar": {
              "outlinewidth": 0,
              "ticks": ""
             }
            },
            "type": "parcoords"
           }
          ],
          "pie": [
           {
            "automargin": true,
            "type": "pie"
           }
          ],
          "scatter": [
           {
            "fillpattern": {
             "fillmode": "overlay",
             "size": 10,
             "solidity": 0.2
            },
            "type": "scatter"
           }
          ],
          "scatter3d": [
           {
            "line": {
             "colorbar": {
              "outlinewidth": 0,
              "ticks": ""
             }
            },
            "marker": {
             "colorbar": {
              "outlinewidth": 0,
              "ticks": ""
             }
            },
            "type": "scatter3d"
           }
          ],
          "scattercarpet": [
           {
            "marker": {
             "colorbar": {
              "outlinewidth": 0,
              "ticks": ""
             }
            },
            "type": "scattercarpet"
           }
          ],
          "scattergeo": [
           {
            "marker": {
             "colorbar": {
              "outlinewidth": 0,
              "ticks": ""
             }
            },
            "type": "scattergeo"
           }
          ],
          "scattergl": [
           {
            "marker": {
             "colorbar": {
              "outlinewidth": 0,
              "ticks": ""
             }
            },
            "type": "scattergl"
           }
          ],
          "scattermapbox": [
           {
            "marker": {
             "colorbar": {
              "outlinewidth": 0,
              "ticks": ""
             }
            },
            "type": "scattermapbox"
           }
          ],
          "scatterpolar": [
           {
            "marker": {
             "colorbar": {
              "outlinewidth": 0,
              "ticks": ""
             }
            },
            "type": "scatterpolar"
           }
          ],
          "scatterpolargl": [
           {
            "marker": {
             "colorbar": {
              "outlinewidth": 0,
              "ticks": ""
             }
            },
            "type": "scatterpolargl"
           }
          ],
          "scatterternary": [
           {
            "marker": {
             "colorbar": {
              "outlinewidth": 0,
              "ticks": ""
             }
            },
            "type": "scatterternary"
           }
          ],
          "surface": [
           {
            "colorbar": {
             "outlinewidth": 0,
             "ticks": ""
            },
            "colorscale": [
             [
              0,
              "#0d0887"
             ],
             [
              0.1111111111111111,
              "#46039f"
             ],
             [
              0.2222222222222222,
              "#7201a8"
             ],
             [
              0.3333333333333333,
              "#9c179e"
             ],
             [
              0.4444444444444444,
              "#bd3786"
             ],
             [
              0.5555555555555556,
              "#d8576b"
             ],
             [
              0.6666666666666666,
              "#ed7953"
             ],
             [
              0.7777777777777778,
              "#fb9f3a"
             ],
             [
              0.8888888888888888,
              "#fdca26"
             ],
             [
              1,
              "#f0f921"
             ]
            ],
            "type": "surface"
           }
          ],
          "table": [
           {
            "cells": {
             "fill": {
              "color": "#EBF0F8"
             },
             "line": {
              "color": "white"
             }
            },
            "header": {
             "fill": {
              "color": "#C8D4E3"
             },
             "line": {
              "color": "white"
             }
            },
            "type": "table"
           }
          ]
         },
         "layout": {
          "annotationdefaults": {
           "arrowcolor": "#2a3f5f",
           "arrowhead": 0,
           "arrowwidth": 1
          },
          "autotypenumbers": "strict",
          "coloraxis": {
           "colorbar": {
            "outlinewidth": 0,
            "ticks": ""
           }
          },
          "colorscale": {
           "diverging": [
            [
             0,
             "#8e0152"
            ],
            [
             0.1,
             "#c51b7d"
            ],
            [
             0.2,
             "#de77ae"
            ],
            [
             0.3,
             "#f1b6da"
            ],
            [
             0.4,
             "#fde0ef"
            ],
            [
             0.5,
             "#f7f7f7"
            ],
            [
             0.6,
             "#e6f5d0"
            ],
            [
             0.7,
             "#b8e186"
            ],
            [
             0.8,
             "#7fbc41"
            ],
            [
             0.9,
             "#4d9221"
            ],
            [
             1,
             "#276419"
            ]
           ],
           "sequential": [
            [
             0,
             "#0d0887"
            ],
            [
             0.1111111111111111,
             "#46039f"
            ],
            [
             0.2222222222222222,
             "#7201a8"
            ],
            [
             0.3333333333333333,
             "#9c179e"
            ],
            [
             0.4444444444444444,
             "#bd3786"
            ],
            [
             0.5555555555555556,
             "#d8576b"
            ],
            [
             0.6666666666666666,
             "#ed7953"
            ],
            [
             0.7777777777777778,
             "#fb9f3a"
            ],
            [
             0.8888888888888888,
             "#fdca26"
            ],
            [
             1,
             "#f0f921"
            ]
           ],
           "sequentialminus": [
            [
             0,
             "#0d0887"
            ],
            [
             0.1111111111111111,
             "#46039f"
            ],
            [
             0.2222222222222222,
             "#7201a8"
            ],
            [
             0.3333333333333333,
             "#9c179e"
            ],
            [
             0.4444444444444444,
             "#bd3786"
            ],
            [
             0.5555555555555556,
             "#d8576b"
            ],
            [
             0.6666666666666666,
             "#ed7953"
            ],
            [
             0.7777777777777778,
             "#fb9f3a"
            ],
            [
             0.8888888888888888,
             "#fdca26"
            ],
            [
             1,
             "#f0f921"
            ]
           ]
          },
          "colorway": [
           "#636efa",
           "#EF553B",
           "#00cc96",
           "#ab63fa",
           "#FFA15A",
           "#19d3f3",
           "#FF6692",
           "#B6E880",
           "#FF97FF",
           "#FECB52"
          ],
          "font": {
           "color": "#2a3f5f"
          },
          "geo": {
           "bgcolor": "white",
           "lakecolor": "white",
           "landcolor": "#E5ECF6",
           "showlakes": true,
           "showland": true,
           "subunitcolor": "white"
          },
          "hoverlabel": {
           "align": "left"
          },
          "hovermode": "closest",
          "mapbox": {
           "style": "light"
          },
          "paper_bgcolor": "white",
          "plot_bgcolor": "#E5ECF6",
          "polar": {
           "angularaxis": {
            "gridcolor": "white",
            "linecolor": "white",
            "ticks": ""
           },
           "bgcolor": "#E5ECF6",
           "radialaxis": {
            "gridcolor": "white",
            "linecolor": "white",
            "ticks": ""
           }
          },
          "scene": {
           "xaxis": {
            "backgroundcolor": "#E5ECF6",
            "gridcolor": "white",
            "gridwidth": 2,
            "linecolor": "white",
            "showbackground": true,
            "ticks": "",
            "zerolinecolor": "white"
           },
           "yaxis": {
            "backgroundcolor": "#E5ECF6",
            "gridcolor": "white",
            "gridwidth": 2,
            "linecolor": "white",
            "showbackground": true,
            "ticks": "",
            "zerolinecolor": "white"
           },
           "zaxis": {
            "backgroundcolor": "#E5ECF6",
            "gridcolor": "white",
            "gridwidth": 2,
            "linecolor": "white",
            "showbackground": true,
            "ticks": "",
            "zerolinecolor": "white"
           }
          },
          "shapedefaults": {
           "line": {
            "color": "#2a3f5f"
           }
          },
          "ternary": {
           "aaxis": {
            "gridcolor": "white",
            "linecolor": "white",
            "ticks": ""
           },
           "baxis": {
            "gridcolor": "white",
            "linecolor": "white",
            "ticks": ""
           },
           "bgcolor": "#E5ECF6",
           "caxis": {
            "gridcolor": "white",
            "linecolor": "white",
            "ticks": ""
           }
          },
          "title": {
           "x": 0.05
          },
          "xaxis": {
           "automargin": true,
           "gridcolor": "white",
           "linecolor": "white",
           "ticks": "",
           "title": {
            "standoff": 15
           },
           "zerolinecolor": "white",
           "zerolinewidth": 2
          },
          "yaxis": {
           "automargin": true,
           "gridcolor": "white",
           "linecolor": "white",
           "ticks": "",
           "title": {
            "standoff": 15
           },
           "zerolinecolor": "white",
           "zerolinewidth": 2
          }
         }
        },
        "title": {
         "font": {
          "color": "#4D5663"
         }
        },
        "xaxis": {
         "gridcolor": "#E1E5ED",
         "showgrid": true,
         "tickfont": {
          "color": "#4D5663"
         },
         "title": {
          "font": {
           "color": "#4D5663"
          },
          "text": ""
         },
         "zerolinecolor": "#E1E5ED"
        },
        "xaxis2": {
         "anchor": "y2",
         "gridcolor": "#E1E5ED",
         "showgrid": true,
         "showticklabels": false,
         "tickfont": {
          "color": "#4D5663"
         },
         "title": {
          "font": {
           "color": "#4D5663"
          },
          "text": ""
         },
         "zerolinecolor": "#E1E5ED"
        },
        "yaxis": {
         "domain": [
          0.3,
          1
         ],
         "gridcolor": "#E1E5ED",
         "showgrid": true,
         "tickfont": {
          "color": "#4D5663"
         },
         "title": {
          "font": {
           "color": "#4D5663"
          },
          "text": ""
         },
         "zerolinecolor": "#E1E5ED"
        },
        "yaxis2": {
         "domain": [
          0,
          0.25
         ],
         "gridcolor": "#E1E5ED",
         "showgrid": true,
         "tickfont": {
          "color": "#4D5663"
         },
         "title": {
          "font": {
           "color": "#4D5663"
          },
          "text": "Spread"
         },
         "zerolinecolor": "#E1E5ED"
        }
       }
      },
      "text/html": [
       "<div>                            <div id=\"4fa4c0dc-2e26-4497-a2c0-57ec8f0342a2\" class=\"plotly-graph-div\" style=\"height:525px; width:100%;\"></div>            <script type=\"text/javascript\">                require([\"plotly\"], function(Plotly) {                    window.PLOTLYENV=window.PLOTLYENV || {};\n",
       "                    window.PLOTLYENV.BASE_URL='https://plot.ly';                                    if (document.getElementById(\"4fa4c0dc-2e26-4497-a2c0-57ec8f0342a2\")) {                    Plotly.newPlot(                        \"4fa4c0dc-2e26-4497-a2c0-57ec8f0342a2\",                        [{\"line\":{\"color\":\"rgba(255, 153, 51, 1.0)\",\"dash\":\"solid\",\"shape\":\"linear\",\"width\":1.3},\"mode\":\"lines\",\"name\":\"A\",\"text\":\"\",\"x\":[0,1,2,3,4,5,6,7,8,9,10,11,12,13,14,15,16,17,18,19,20,21,22,23,24,25,26,27,28,29,30,31,32,33,34,35,36,37,38,39,40,41,42,43,44,45,46,47,48,49,50,51,52,53,54,55,56,57,58,59,60,61,62,63,64,65,66,67,68,69,70,71,72,73,74,75,76,77,78,79,80,81,82,83,84,85,86,87,88,89,90,91,92,93,94,95,96,97,98,99],\"y\":[0.2991550861198565,-0.3841492154014665,-1.4955874438548968,-0.986281527430265,0.8636431673834111,1.0506243725442432,-0.5641456423079034,-1.7863210272933812,0.5893189259744791,-0.6283981743665769,0.9822149186999429,0.003621728700036139,1.1478470780946737,0.9493796075126227,2.023151425732341,0.8209651038367457,-1.436616028751318,0.2501161685999158,-2.18940427695009,1.060005975403017,-1.2913373051591328,-0.5818461629913243,-3.559727068196443,0.0429856375186844,-0.040441593036933884,0.4365405596956291,-1.6122927837729488,-2.200067677252177,1.3741729080719394,0.22372429063459934,0.35456006418455993,1.0268798296954587,1.2483904845694946,0.06803355363766585,-1.215641873426893,-1.0092547114079848,-0.18928431766049622,-0.13624175059188193,-1.124654032729839,1.906287147681474,0.22227594199144093,-1.1680813787099484,1.2448035827666633,0.09448168900829862,-1.9213213375620148,3.374448829478874,-0.4720745251680017,1.4237076937233117,1.0977579047946182,0.27276264592903,-0.7071666774547971,0.4579682494563629,0.7812645170577213,0.6940016369921731,-1.6670428257540362,0.10479754129686403,2.0521391141627117,-0.5894929196802318,0.2086275444892075,-0.3943158555219555,-0.001962682381986401,0.5061562116185518,-1.31068766067125,1.1458984485772514,0.07746205451031746,0.42117143238154464,0.022396537274275884,0.3832423647923307,-0.7142696921980415,1.5759715705521424,-1.0948757064584989,-0.3578123661598927,-0.1388499152089222,-1.0316315826678573,0.14133939011217816,-0.7236948335615198,-1.0461981495376964,-0.860425552617968,0.6838366995531965,0.5019976649548585,-0.2698604416378836,0.020026700999118248,0.7382030841174992,-1.0107550832011862,-0.9809011420879843,0.40108331476893583,0.06473151369985368,1.8746933818594682,0.2515041968308312,-0.9807717470558058,0.40762164463885214,-1.1849158622412188,-0.17364781870766738,-1.4336904561145787,0.6915743124241517,0.010826914274588933,0.20377929746820334,-2.995026620423591,-1.2399719772534463,0.8788721868956764],\"type\":\"scatter\"},{\"line\":{\"color\":\"rgba(55, 128, 191, 1.0)\",\"dash\":\"solid\",\"shape\":\"linear\",\"width\":1.3},\"mode\":\"lines\",\"name\":\"B\",\"text\":\"\",\"x\":[0,1,2,3,4,5,6,7,8,9,10,11,12,13,14,15,16,17,18,19,20,21,22,23,24,25,26,27,28,29,30,31,32,33,34,35,36,37,38,39,40,41,42,43,44,45,46,47,48,49,50,51,52,53,54,55,56,57,58,59,60,61,62,63,64,65,66,67,68,69,70,71,72,73,74,75,76,77,78,79,80,81,82,83,84,85,86,87,88,89,90,91,92,93,94,95,96,97,98,99],\"y\":[0.780112161625848,-0.6622020441579575,0.19603094116590988,0.9444435813517414,2.0190065917990325,0.43722776902737875,0.6764390904739006,-1.0318392658003315,-0.7052936531538087,-1.2207048933585274,-0.022498175312445908,-0.47514400008103796,0.015631345678703647,0.49166903297101733,-0.4463750385965351,-1.2532070399499404,0.017542246804112673,-0.7570882592644229,-1.2012136807274745,0.7886948763755939,-0.8693486963450223,0.9010537168023657,-0.5770469082718713,-0.1030991380904987,0.5338436665524187,1.1155594158041637,0.26391870421043223,1.3232294736026364,0.7630229489633639,1.632035218409037,1.5207097499353,-0.0006879736573673989,-1.21103828452234,1.34662009347215,0.9975735907200801,0.9551360071731924,-1.0722210696166834,-1.7265754758738259,0.04129037780678675,-0.7132244284043963,-1.0579130080408146,2.81148193442505,-0.04184454642460926,0.7307795091345204,-0.29943747215028277,0.6791011913122792,0.7539025548648147,-0.8199570302339777,0.6835533635051066,-0.37718640289622646,-1.4905040103618956,-0.8423691944628268,-0.16584257158889373,-1.4330757918373824,0.9461603473737706,-0.15290838198858106,-0.16205848298241507,0.02130880292795404,-1.4961741662057277,0.4484982571308183,0.18922260769185564,0.7710099389584645,-1.4518000619214029,-0.5812770284876827,0.5146202678161,0.9315853354882877,-0.9603288937961088,-1.103370479561761,-0.47745010276254535,0.9336441074488008,1.2560789857109207,-0.5249525108676631,0.9324462586812953,-0.8005665398613003,-0.4671893294403345,0.14609976572579939,0.030765176545579104,0.9842394461832488,-0.6094735362782722,0.5726121277992451,0.9344438360939703,1.470087261607474,0.6444928799223439,-1.8503301390802411,0.784695912134507,-0.1797897094423723,2.3847821119754022,-1.3412772928554055,0.5857245773958671,-0.44248615438473105,1.02478023997563,-0.10167432812782703,-0.46321591080833774,-1.0606116126026808,1.0757078100996635,-0.2948219640020998,0.4688053405721653,1.5442197803396982,2.561137988024716,0.051745092191318],\"type\":\"scatter\"},{\"connectgaps\":false,\"fill\":\"tozeroy\",\"line\":{\"color\":\"green\",\"dash\":\"solid\",\"shape\":\"linear\",\"width\":0.5},\"mode\":\"lines\",\"name\":\"Spread\",\"showlegend\":false,\"x\":[0,1,2,3,4,5,6,7,8,9,10,11,12,13,14,15,16,17,18,19,20,21,22,23,24,25,26,27,28,29,30,31,32,33,34,35,36,37,38,39,40,41,42,43,44,45,46,47,48,49,50,51,52,53,54,55,56,57,58,59,60,61,62,63,64,65,66,67,68,69,70,71,72,73,74,75,76,77,78,79,80,81,82,83,84,85,86,87,88,89,90,91,92,93,94,95,96,97,98,99],\"xaxis\":\"x2\",\"y\":[\"\",0.27805282875649096,\"\",\"\",\"\",0.6133966035168645,\"\",\"\",1.2946125791282879,0.5923067189919505,1.0047130940123887,0.4787657287810741,1.13221573241597,0.4577105745416054,2.469526464328876,2.074172143786686,\"\",1.0072044278643388,\"\",0.27131109902742323,\"\",\"\",\"\",0.1460847756091831,\"\",\"\",\"\",\"\",0.6111499591085755,\"\",\"\",1.0275678033528262,2.4594287690918346,\"\",\"\",\"\",0.8829367519561871,1.590333725281944,\"\",2.6195115760858703,1.2801889500322554,\"\",1.2866481291912726,\"\",\"\",2.695347638166595,\"\",2.2436647239572896,0.41420454128951156,0.6499490488252564,0.7833373329070985,1.3003374439191897,0.947107088646615,2.1270774288295557,\"\",0.25770592328544506,2.2141975971451267,\"\",1.7048017106949351,\"\",\"\",\"\",0.14111240125015279,1.7271754770649341,\"\",\"\",0.9827254310703847,1.4866128443540916,\"\",0.6423274631033417,\"\",0.16714014470777044,\"\",\"\",0.6085287195525126,\"\",\"\",\"\",1.2933102358314685,\"\",\"\",\"\",0.0937102041951553,0.8395750558790549,\"\",0.5808730242113082,\"\",3.2159706747148737,\"\",\"\",\"\",\"\",0.28956809210067036,\"\",\"\",0.30564887827668874,\"\",\"\",\"\",0.8271270947043584],\"yaxis\":\"y2\",\"type\":\"scatter\"},{\"connectgaps\":false,\"fill\":\"tozeroy\",\"line\":{\"color\":\"red\",\"dash\":\"solid\",\"shape\":\"linear\",\"width\":0.5},\"mode\":\"lines\",\"name\":\"Spread\",\"showlegend\":false,\"x\":[0,1,2,3,4,5,6,7,8,9,10,11,12,13,14,15,16,17,18,19,20,21,22,23,24,25,26,27,28,29,30,31,32,33,34,35,36,37,38,39,40,41,42,43,44,45,46,47,48,49,50,51,52,53,54,55,56,57,58,59,60,61,62,63,64,65,66,67,68,69,70,71,72,73,74,75,76,77,78,79,80,81,82,83,84,85,86,87,88,89,90,91,92,93,94,95,96,97,98,99],\"xaxis\":\"x2\",\"y\":[-0.4809570755059915,\"\",-1.6916183850208066,-1.9307251087820063,-1.1553634244156215,\"\",-1.240584732781804,-0.7544817614930497,\"\",\"\",\"\",\"\",\"\",\"\",\"\",\"\",-1.4541582755554308,\"\",-0.9881905962226156,\"\",-0.4219886088141105,-1.48289987979369,-2.9826801599245716,\"\",-0.5742852595893525,-0.6790188561085346,-1.876211487983381,-3.5232971508548134,\"\",-1.4083109277744377,-1.16614968575074,\"\",\"\",-1.278586539834484,-2.2132154641469732,-1.964390718581177,\"\",\"\",-1.165944410536626,\"\",\"\",-3.9795633131349986,\"\",-0.6362978201262217,-1.621883865411732,\"\",-1.2259770800328165,\"\",\"\",\"\",\"\",\"\",\"\",\"\",-2.6132031731278067,\"\",\"\",-0.6108017226081858,\"\",-0.8428141126527738,-0.19118529007384205,-0.26485372733991264,\"\",\"\",-0.4371582133057826,-0.5104139031067431,\"\",\"\",-0.23681958943549614,\"\",-2.3509546921694193,\"\",-1.0712961738902176,-0.23106504280655693,\"\",-0.8697945992873192,-1.0769633260832756,-1.8446649988012167,\"\",-0.07061446284438655,-1.204304277731854,-1.4500605606083559,\"\",\"\",-1.7655970542224912,\"\",-2.3200505982755484,\"\",-0.33422038056503595,-0.5382855926710748,-0.617158595336778,-1.0832415341133919,\"\",-0.3730788435118979,-0.38413349767551186,\"\",-0.26502604310396194,-4.53924640076329,-3.801109965278162,\"\"],\"yaxis\":\"y2\",\"type\":\"scatter\"}],                        {\"hovermode\":\"x\",\"legend\":{\"bgcolor\":\"#F5F6F9\",\"font\":{\"color\":\"#4D5663\"}},\"paper_bgcolor\":\"#F5F6F9\",\"plot_bgcolor\":\"#F5F6F9\",\"template\":{\"data\":{\"barpolar\":[{\"marker\":{\"line\":{\"color\":\"#E5ECF6\",\"width\":0.5},\"pattern\":{\"fillmode\":\"overlay\",\"size\":10,\"solidity\":0.2}},\"type\":\"barpolar\"}],\"bar\":[{\"error_x\":{\"color\":\"#2a3f5f\"},\"error_y\":{\"color\":\"#2a3f5f\"},\"marker\":{\"line\":{\"color\":\"#E5ECF6\",\"width\":0.5},\"pattern\":{\"fillmode\":\"overlay\",\"size\":10,\"solidity\":0.2}},\"type\":\"bar\"}],\"carpet\":[{\"aaxis\":{\"endlinecolor\":\"#2a3f5f\",\"gridcolor\":\"white\",\"linecolor\":\"white\",\"minorgridcolor\":\"white\",\"startlinecolor\":\"#2a3f5f\"},\"baxis\":{\"endlinecolor\":\"#2a3f5f\",\"gridcolor\":\"white\",\"linecolor\":\"white\",\"minorgridcolor\":\"white\",\"startlinecolor\":\"#2a3f5f\"},\"type\":\"carpet\"}],\"choropleth\":[{\"colorbar\":{\"outlinewidth\":0,\"ticks\":\"\"},\"type\":\"choropleth\"}],\"contourcarpet\":[{\"colorbar\":{\"outlinewidth\":0,\"ticks\":\"\"},\"type\":\"contourcarpet\"}],\"contour\":[{\"colorbar\":{\"outlinewidth\":0,\"ticks\":\"\"},\"colorscale\":[[0.0,\"#0d0887\"],[0.1111111111111111,\"#46039f\"],[0.2222222222222222,\"#7201a8\"],[0.3333333333333333,\"#9c179e\"],[0.4444444444444444,\"#bd3786\"],[0.5555555555555556,\"#d8576b\"],[0.6666666666666666,\"#ed7953\"],[0.7777777777777778,\"#fb9f3a\"],[0.8888888888888888,\"#fdca26\"],[1.0,\"#f0f921\"]],\"type\":\"contour\"}],\"heatmapgl\":[{\"colorbar\":{\"outlinewidth\":0,\"ticks\":\"\"},\"colorscale\":[[0.0,\"#0d0887\"],[0.1111111111111111,\"#46039f\"],[0.2222222222222222,\"#7201a8\"],[0.3333333333333333,\"#9c179e\"],[0.4444444444444444,\"#bd3786\"],[0.5555555555555556,\"#d8576b\"],[0.6666666666666666,\"#ed7953\"],[0.7777777777777778,\"#fb9f3a\"],[0.8888888888888888,\"#fdca26\"],[1.0,\"#f0f921\"]],\"type\":\"heatmapgl\"}],\"heatmap\":[{\"colorbar\":{\"outlinewidth\":0,\"ticks\":\"\"},\"colorscale\":[[0.0,\"#0d0887\"],[0.1111111111111111,\"#46039f\"],[0.2222222222222222,\"#7201a8\"],[0.3333333333333333,\"#9c179e\"],[0.4444444444444444,\"#bd3786\"],[0.5555555555555556,\"#d8576b\"],[0.6666666666666666,\"#ed7953\"],[0.7777777777777778,\"#fb9f3a\"],[0.8888888888888888,\"#fdca26\"],[1.0,\"#f0f921\"]],\"type\":\"heatmap\"}],\"histogram2dcontour\":[{\"colorbar\":{\"outlinewidth\":0,\"ticks\":\"\"},\"colorscale\":[[0.0,\"#0d0887\"],[0.1111111111111111,\"#46039f\"],[0.2222222222222222,\"#7201a8\"],[0.3333333333333333,\"#9c179e\"],[0.4444444444444444,\"#bd3786\"],[0.5555555555555556,\"#d8576b\"],[0.6666666666666666,\"#ed7953\"],[0.7777777777777778,\"#fb9f3a\"],[0.8888888888888888,\"#fdca26\"],[1.0,\"#f0f921\"]],\"type\":\"histogram2dcontour\"}],\"histogram2d\":[{\"colorbar\":{\"outlinewidth\":0,\"ticks\":\"\"},\"colorscale\":[[0.0,\"#0d0887\"],[0.1111111111111111,\"#46039f\"],[0.2222222222222222,\"#7201a8\"],[0.3333333333333333,\"#9c179e\"],[0.4444444444444444,\"#bd3786\"],[0.5555555555555556,\"#d8576b\"],[0.6666666666666666,\"#ed7953\"],[0.7777777777777778,\"#fb9f3a\"],[0.8888888888888888,\"#fdca26\"],[1.0,\"#f0f921\"]],\"type\":\"histogram2d\"}],\"histogram\":[{\"marker\":{\"pattern\":{\"fillmode\":\"overlay\",\"size\":10,\"solidity\":0.2}},\"type\":\"histogram\"}],\"mesh3d\":[{\"colorbar\":{\"outlinewidth\":0,\"ticks\":\"\"},\"type\":\"mesh3d\"}],\"parcoords\":[{\"line\":{\"colorbar\":{\"outlinewidth\":0,\"ticks\":\"\"}},\"type\":\"parcoords\"}],\"pie\":[{\"automargin\":true,\"type\":\"pie\"}],\"scatter3d\":[{\"line\":{\"colorbar\":{\"outlinewidth\":0,\"ticks\":\"\"}},\"marker\":{\"colorbar\":{\"outlinewidth\":0,\"ticks\":\"\"}},\"type\":\"scatter3d\"}],\"scattercarpet\":[{\"marker\":{\"colorbar\":{\"outlinewidth\":0,\"ticks\":\"\"}},\"type\":\"scattercarpet\"}],\"scattergeo\":[{\"marker\":{\"colorbar\":{\"outlinewidth\":0,\"ticks\":\"\"}},\"type\":\"scattergeo\"}],\"scattergl\":[{\"marker\":{\"colorbar\":{\"outlinewidth\":0,\"ticks\":\"\"}},\"type\":\"scattergl\"}],\"scattermapbox\":[{\"marker\":{\"colorbar\":{\"outlinewidth\":0,\"ticks\":\"\"}},\"type\":\"scattermapbox\"}],\"scatterpolargl\":[{\"marker\":{\"colorbar\":{\"outlinewidth\":0,\"ticks\":\"\"}},\"type\":\"scatterpolargl\"}],\"scatterpolar\":[{\"marker\":{\"colorbar\":{\"outlinewidth\":0,\"ticks\":\"\"}},\"type\":\"scatterpolar\"}],\"scatter\":[{\"fillpattern\":{\"fillmode\":\"overlay\",\"size\":10,\"solidity\":0.2},\"type\":\"scatter\"}],\"scatterternary\":[{\"marker\":{\"colorbar\":{\"outlinewidth\":0,\"ticks\":\"\"}},\"type\":\"scatterternary\"}],\"surface\":[{\"colorbar\":{\"outlinewidth\":0,\"ticks\":\"\"},\"colorscale\":[[0.0,\"#0d0887\"],[0.1111111111111111,\"#46039f\"],[0.2222222222222222,\"#7201a8\"],[0.3333333333333333,\"#9c179e\"],[0.4444444444444444,\"#bd3786\"],[0.5555555555555556,\"#d8576b\"],[0.6666666666666666,\"#ed7953\"],[0.7777777777777778,\"#fb9f3a\"],[0.8888888888888888,\"#fdca26\"],[1.0,\"#f0f921\"]],\"type\":\"surface\"}],\"table\":[{\"cells\":{\"fill\":{\"color\":\"#EBF0F8\"},\"line\":{\"color\":\"white\"}},\"header\":{\"fill\":{\"color\":\"#C8D4E3\"},\"line\":{\"color\":\"white\"}},\"type\":\"table\"}]},\"layout\":{\"annotationdefaults\":{\"arrowcolor\":\"#2a3f5f\",\"arrowhead\":0,\"arrowwidth\":1},\"autotypenumbers\":\"strict\",\"coloraxis\":{\"colorbar\":{\"outlinewidth\":0,\"ticks\":\"\"}},\"colorscale\":{\"diverging\":[[0,\"#8e0152\"],[0.1,\"#c51b7d\"],[0.2,\"#de77ae\"],[0.3,\"#f1b6da\"],[0.4,\"#fde0ef\"],[0.5,\"#f7f7f7\"],[0.6,\"#e6f5d0\"],[0.7,\"#b8e186\"],[0.8,\"#7fbc41\"],[0.9,\"#4d9221\"],[1,\"#276419\"]],\"sequential\":[[0.0,\"#0d0887\"],[0.1111111111111111,\"#46039f\"],[0.2222222222222222,\"#7201a8\"],[0.3333333333333333,\"#9c179e\"],[0.4444444444444444,\"#bd3786\"],[0.5555555555555556,\"#d8576b\"],[0.6666666666666666,\"#ed7953\"],[0.7777777777777778,\"#fb9f3a\"],[0.8888888888888888,\"#fdca26\"],[1.0,\"#f0f921\"]],\"sequentialminus\":[[0.0,\"#0d0887\"],[0.1111111111111111,\"#46039f\"],[0.2222222222222222,\"#7201a8\"],[0.3333333333333333,\"#9c179e\"],[0.4444444444444444,\"#bd3786\"],[0.5555555555555556,\"#d8576b\"],[0.6666666666666666,\"#ed7953\"],[0.7777777777777778,\"#fb9f3a\"],[0.8888888888888888,\"#fdca26\"],[1.0,\"#f0f921\"]]},\"colorway\":[\"#636efa\",\"#EF553B\",\"#00cc96\",\"#ab63fa\",\"#FFA15A\",\"#19d3f3\",\"#FF6692\",\"#B6E880\",\"#FF97FF\",\"#FECB52\"],\"font\":{\"color\":\"#2a3f5f\"},\"geo\":{\"bgcolor\":\"white\",\"lakecolor\":\"white\",\"landcolor\":\"#E5ECF6\",\"showlakes\":true,\"showland\":true,\"subunitcolor\":\"white\"},\"hoverlabel\":{\"align\":\"left\"},\"hovermode\":\"closest\",\"mapbox\":{\"style\":\"light\"},\"paper_bgcolor\":\"white\",\"plot_bgcolor\":\"#E5ECF6\",\"polar\":{\"angularaxis\":{\"gridcolor\":\"white\",\"linecolor\":\"white\",\"ticks\":\"\"},\"bgcolor\":\"#E5ECF6\",\"radialaxis\":{\"gridcolor\":\"white\",\"linecolor\":\"white\",\"ticks\":\"\"}},\"scene\":{\"xaxis\":{\"backgroundcolor\":\"#E5ECF6\",\"gridcolor\":\"white\",\"gridwidth\":2,\"linecolor\":\"white\",\"showbackground\":true,\"ticks\":\"\",\"zerolinecolor\":\"white\"},\"yaxis\":{\"backgroundcolor\":\"#E5ECF6\",\"gridcolor\":\"white\",\"gridwidth\":2,\"linecolor\":\"white\",\"showbackground\":true,\"ticks\":\"\",\"zerolinecolor\":\"white\"},\"zaxis\":{\"backgroundcolor\":\"#E5ECF6\",\"gridcolor\":\"white\",\"gridwidth\":2,\"linecolor\":\"white\",\"showbackground\":true,\"ticks\":\"\",\"zerolinecolor\":\"white\"}},\"shapedefaults\":{\"line\":{\"color\":\"#2a3f5f\"}},\"ternary\":{\"aaxis\":{\"gridcolor\":\"white\",\"linecolor\":\"white\",\"ticks\":\"\"},\"baxis\":{\"gridcolor\":\"white\",\"linecolor\":\"white\",\"ticks\":\"\"},\"bgcolor\":\"#E5ECF6\",\"caxis\":{\"gridcolor\":\"white\",\"linecolor\":\"white\",\"ticks\":\"\"}},\"title\":{\"x\":0.05},\"xaxis\":{\"automargin\":true,\"gridcolor\":\"white\",\"linecolor\":\"white\",\"ticks\":\"\",\"title\":{\"standoff\":15},\"zerolinecolor\":\"white\",\"zerolinewidth\":2},\"yaxis\":{\"automargin\":true,\"gridcolor\":\"white\",\"linecolor\":\"white\",\"ticks\":\"\",\"title\":{\"standoff\":15},\"zerolinecolor\":\"white\",\"zerolinewidth\":2}}},\"title\":{\"font\":{\"color\":\"#4D5663\"}},\"xaxis\":{\"gridcolor\":\"#E1E5ED\",\"showgrid\":true,\"tickfont\":{\"color\":\"#4D5663\"},\"title\":{\"font\":{\"color\":\"#4D5663\"},\"text\":\"\"},\"zerolinecolor\":\"#E1E5ED\"},\"yaxis\":{\"domain\":[0.3,1],\"gridcolor\":\"#E1E5ED\",\"showgrid\":true,\"tickfont\":{\"color\":\"#4D5663\"},\"title\":{\"font\":{\"color\":\"#4D5663\"},\"text\":\"\"},\"zerolinecolor\":\"#E1E5ED\"},\"yaxis2\":{\"domain\":[0,0.25],\"gridcolor\":\"#E1E5ED\",\"showgrid\":true,\"tickfont\":{\"color\":\"#4D5663\"},\"title\":{\"font\":{\"color\":\"#4D5663\"},\"text\":\"Spread\"},\"zerolinecolor\":\"#E1E5ED\"},\"xaxis2\":{\"anchor\":\"y2\",\"gridcolor\":\"#E1E5ED\",\"showgrid\":true,\"showticklabels\":false,\"tickfont\":{\"color\":\"#4D5663\"},\"title\":{\"font\":{\"color\":\"#4D5663\"},\"text\":\"\"},\"zerolinecolor\":\"#E1E5ED\"}},                        {\"showLink\": true, \"linkText\": \"Export to plot.ly\", \"plotlyServerURL\": \"https://plot.ly\", \"responsive\": true}                    ).then(function(){\n",
       "                            \n",
       "var gd = document.getElementById('4fa4c0dc-2e26-4497-a2c0-57ec8f0342a2');\n",
       "var x = new MutationObserver(function (mutations, observer) {{\n",
       "        var display = window.getComputedStyle(gd).display;\n",
       "        if (!display || display === 'none') {{\n",
       "            console.log([gd, 'removed!']);\n",
       "            Plotly.purge(gd);\n",
       "            observer.disconnect();\n",
       "        }}\n",
       "}});\n",
       "\n",
       "// Listen for the removal of the full notebook cells\n",
       "var notebookContainer = gd.closest('#notebook-container');\n",
       "if (notebookContainer) {{\n",
       "    x.observe(notebookContainer, {childList: true});\n",
       "}}\n",
       "\n",
       "// Listen for the clearing of the current output cell\n",
       "var outputEl = gd.closest('.output');\n",
       "if (outputEl) {{\n",
       "    x.observe(outputEl, {childList: true});\n",
       "}}\n",
       "\n",
       "                        })                };                });            </script>        </div>"
      ]
     },
     "metadata": {},
     "output_type": "display_data"
    }
   ],
   "source": [
    "df[['A','B']].iplot(kind='spread')"
   ]
  },
  {
   "cell_type": "code",
   "execution_count": null,
   "id": "74f8616b",
   "metadata": {},
   "outputs": [],
   "source": []
  },
  {
   "cell_type": "markdown",
   "id": "8561c989",
   "metadata": {},
   "source": [
    "## Bubble"
   ]
  },
  {
   "cell_type": "code",
   "execution_count": 22,
   "id": "6f839308",
   "metadata": {},
   "outputs": [
    {
     "data": {
      "application/vnd.plotly.v1+json": {
       "config": {
        "linkText": "Export to plot.ly",
        "plotlyServerURL": "https://plot.ly",
        "showLink": true
       },
       "data": [
        {
         "marker": {
          "color": [
           "rgb(255, 153, 51)",
           "rgb(55, 128, 191)",
           "rgb(50, 171, 96)",
           "rgb(128, 0, 128)",
           "rgb(219, 64, 82)",
           "rgb(0, 128, 128)",
           "rgb(255, 255, 51)",
           "rgb(128, 128, 0)",
           "rgb(251, 128, 114)",
           "rgb(128, 177, 211)"
          ],
          "line": {
           "width": 1.3
          },
          "size": [
           83,
           61,
           12,
           52,
           49,
           50,
           32,
           22,
           46,
           57,
           73,
           75,
           62,
           87,
           13,
           47,
           77,
           109,
           63,
           70,
           50,
           94,
           47,
           75,
           80,
           64,
           71,
           46,
           28,
           75,
           73,
           57,
           65,
           34,
           56,
           59,
           73,
           23,
           66,
           102,
           36,
           56,
           72,
           51,
           76,
           21,
           48,
           66,
           53,
           67,
           59,
           82,
           83,
           82,
           51,
           63,
           60,
           65,
           29,
           52,
           37,
           83,
           37,
           74,
           39,
           59,
           30,
           55,
           76,
           89,
           83,
           18,
           51,
           47,
           52,
           83,
           100,
           44,
           34,
           30,
           70,
           69,
           99,
           96,
           93,
           34,
           77,
           52,
           55,
           84,
           43,
           43,
           72,
           70,
           75,
           76,
           112,
           67,
           63,
           77
          ],
          "symbol": "circle"
         },
         "mode": "markers",
         "text": "",
         "type": "scatter",
         "x": [
          0.2991550861198565,
          -0.3841492154014665,
          -1.4955874438548968,
          -0.986281527430265,
          0.8636431673834111,
          1.0506243725442432,
          -0.5641456423079034,
          -1.7863210272933812,
          0.5893189259744791,
          -0.6283981743665769,
          0.9822149186999429,
          0.003621728700036139,
          1.1478470780946737,
          0.9493796075126227,
          2.023151425732341,
          0.8209651038367457,
          -1.436616028751318,
          0.2501161685999158,
          -2.18940427695009,
          1.060005975403017,
          -1.2913373051591328,
          -0.5818461629913243,
          -3.559727068196443,
          0.0429856375186844,
          -0.040441593036933884,
          0.4365405596956291,
          -1.6122927837729488,
          -2.200067677252177,
          1.3741729080719394,
          0.22372429063459934,
          0.35456006418455993,
          1.0268798296954587,
          1.2483904845694946,
          0.06803355363766585,
          -1.215641873426893,
          -1.0092547114079848,
          -0.18928431766049622,
          -0.13624175059188193,
          -1.124654032729839,
          1.906287147681474,
          0.22227594199144093,
          -1.1680813787099484,
          1.2448035827666633,
          0.09448168900829862,
          -1.9213213375620148,
          3.374448829478874,
          -0.4720745251680017,
          1.4237076937233117,
          1.0977579047946182,
          0.27276264592903,
          -0.7071666774547971,
          0.4579682494563629,
          0.7812645170577213,
          0.6940016369921731,
          -1.6670428257540362,
          0.10479754129686403,
          2.0521391141627117,
          -0.5894929196802318,
          0.2086275444892075,
          -0.3943158555219555,
          -0.001962682381986401,
          0.5061562116185518,
          -1.31068766067125,
          1.1458984485772514,
          0.07746205451031746,
          0.42117143238154464,
          0.022396537274275884,
          0.3832423647923307,
          -0.7142696921980415,
          1.5759715705521424,
          -1.0948757064584989,
          -0.3578123661598927,
          -0.1388499152089222,
          -1.0316315826678573,
          0.14133939011217816,
          -0.7236948335615198,
          -1.0461981495376964,
          -0.860425552617968,
          0.6838366995531965,
          0.5019976649548585,
          -0.2698604416378836,
          0.020026700999118248,
          0.7382030841174992,
          -1.0107550832011862,
          -0.9809011420879843,
          0.40108331476893583,
          0.06473151369985368,
          1.8746933818594682,
          0.2515041968308312,
          -0.9807717470558058,
          0.40762164463885214,
          -1.1849158622412188,
          -0.17364781870766738,
          -1.4336904561145787,
          0.6915743124241517,
          0.010826914274588933,
          0.20377929746820334,
          -2.995026620423591,
          -1.2399719772534463,
          0.8788721868956764
         ],
         "y": [
          0.780112161625848,
          -0.6622020441579575,
          0.19603094116590988,
          0.9444435813517414,
          2.0190065917990325,
          0.43722776902737875,
          0.6764390904739006,
          -1.0318392658003315,
          -0.7052936531538087,
          -1.2207048933585274,
          -0.022498175312445908,
          -0.47514400008103796,
          0.015631345678703647,
          0.49166903297101733,
          -0.4463750385965351,
          -1.2532070399499404,
          0.017542246804112673,
          -0.7570882592644229,
          -1.2012136807274745,
          0.7886948763755939,
          -0.8693486963450223,
          0.9010537168023657,
          -0.5770469082718713,
          -0.1030991380904987,
          0.5338436665524187,
          1.1155594158041637,
          0.26391870421043223,
          1.3232294736026364,
          0.7630229489633639,
          1.632035218409037,
          1.5207097499353,
          -0.0006879736573673989,
          -1.21103828452234,
          1.34662009347215,
          0.9975735907200801,
          0.9551360071731924,
          -1.0722210696166834,
          -1.7265754758738259,
          0.04129037780678675,
          -0.7132244284043963,
          -1.0579130080408146,
          2.81148193442505,
          -0.04184454642460926,
          0.7307795091345204,
          -0.29943747215028277,
          0.6791011913122792,
          0.7539025548648147,
          -0.8199570302339777,
          0.6835533635051066,
          -0.37718640289622646,
          -1.4905040103618956,
          -0.8423691944628268,
          -0.16584257158889373,
          -1.4330757918373824,
          0.9461603473737706,
          -0.15290838198858106,
          -0.16205848298241507,
          0.02130880292795404,
          -1.4961741662057277,
          0.4484982571308183,
          0.18922260769185564,
          0.7710099389584645,
          -1.4518000619214029,
          -0.5812770284876827,
          0.5146202678161,
          0.9315853354882877,
          -0.9603288937961088,
          -1.103370479561761,
          -0.47745010276254535,
          0.9336441074488008,
          1.2560789857109207,
          -0.5249525108676631,
          0.9324462586812953,
          -0.8005665398613003,
          -0.4671893294403345,
          0.14609976572579939,
          0.030765176545579104,
          0.9842394461832488,
          -0.6094735362782722,
          0.5726121277992451,
          0.9344438360939703,
          1.470087261607474,
          0.6444928799223439,
          -1.8503301390802411,
          0.784695912134507,
          -0.1797897094423723,
          2.3847821119754022,
          -1.3412772928554055,
          0.5857245773958671,
          -0.44248615438473105,
          1.02478023997563,
          -0.10167432812782703,
          -0.46321591080833774,
          -1.0606116126026808,
          1.0757078100996635,
          -0.2948219640020998,
          0.4688053405721653,
          1.5442197803396982,
          2.561137988024716,
          0.051745092191318
         ]
        }
       ],
       "layout": {
        "legend": {
         "bgcolor": "#F5F6F9",
         "font": {
          "color": "#4D5663"
         }
        },
        "paper_bgcolor": "#F5F6F9",
        "plot_bgcolor": "#F5F6F9",
        "template": {
         "data": {
          "bar": [
           {
            "error_x": {
             "color": "#2a3f5f"
            },
            "error_y": {
             "color": "#2a3f5f"
            },
            "marker": {
             "line": {
              "color": "#E5ECF6",
              "width": 0.5
             },
             "pattern": {
              "fillmode": "overlay",
              "size": 10,
              "solidity": 0.2
             }
            },
            "type": "bar"
           }
          ],
          "barpolar": [
           {
            "marker": {
             "line": {
              "color": "#E5ECF6",
              "width": 0.5
             },
             "pattern": {
              "fillmode": "overlay",
              "size": 10,
              "solidity": 0.2
             }
            },
            "type": "barpolar"
           }
          ],
          "carpet": [
           {
            "aaxis": {
             "endlinecolor": "#2a3f5f",
             "gridcolor": "white",
             "linecolor": "white",
             "minorgridcolor": "white",
             "startlinecolor": "#2a3f5f"
            },
            "baxis": {
             "endlinecolor": "#2a3f5f",
             "gridcolor": "white",
             "linecolor": "white",
             "minorgridcolor": "white",
             "startlinecolor": "#2a3f5f"
            },
            "type": "carpet"
           }
          ],
          "choropleth": [
           {
            "colorbar": {
             "outlinewidth": 0,
             "ticks": ""
            },
            "type": "choropleth"
           }
          ],
          "contour": [
           {
            "colorbar": {
             "outlinewidth": 0,
             "ticks": ""
            },
            "colorscale": [
             [
              0,
              "#0d0887"
             ],
             [
              0.1111111111111111,
              "#46039f"
             ],
             [
              0.2222222222222222,
              "#7201a8"
             ],
             [
              0.3333333333333333,
              "#9c179e"
             ],
             [
              0.4444444444444444,
              "#bd3786"
             ],
             [
              0.5555555555555556,
              "#d8576b"
             ],
             [
              0.6666666666666666,
              "#ed7953"
             ],
             [
              0.7777777777777778,
              "#fb9f3a"
             ],
             [
              0.8888888888888888,
              "#fdca26"
             ],
             [
              1,
              "#f0f921"
             ]
            ],
            "type": "contour"
           }
          ],
          "contourcarpet": [
           {
            "colorbar": {
             "outlinewidth": 0,
             "ticks": ""
            },
            "type": "contourcarpet"
           }
          ],
          "heatmap": [
           {
            "colorbar": {
             "outlinewidth": 0,
             "ticks": ""
            },
            "colorscale": [
             [
              0,
              "#0d0887"
             ],
             [
              0.1111111111111111,
              "#46039f"
             ],
             [
              0.2222222222222222,
              "#7201a8"
             ],
             [
              0.3333333333333333,
              "#9c179e"
             ],
             [
              0.4444444444444444,
              "#bd3786"
             ],
             [
              0.5555555555555556,
              "#d8576b"
             ],
             [
              0.6666666666666666,
              "#ed7953"
             ],
             [
              0.7777777777777778,
              "#fb9f3a"
             ],
             [
              0.8888888888888888,
              "#fdca26"
             ],
             [
              1,
              "#f0f921"
             ]
            ],
            "type": "heatmap"
           }
          ],
          "heatmapgl": [
           {
            "colorbar": {
             "outlinewidth": 0,
             "ticks": ""
            },
            "colorscale": [
             [
              0,
              "#0d0887"
             ],
             [
              0.1111111111111111,
              "#46039f"
             ],
             [
              0.2222222222222222,
              "#7201a8"
             ],
             [
              0.3333333333333333,
              "#9c179e"
             ],
             [
              0.4444444444444444,
              "#bd3786"
             ],
             [
              0.5555555555555556,
              "#d8576b"
             ],
             [
              0.6666666666666666,
              "#ed7953"
             ],
             [
              0.7777777777777778,
              "#fb9f3a"
             ],
             [
              0.8888888888888888,
              "#fdca26"
             ],
             [
              1,
              "#f0f921"
             ]
            ],
            "type": "heatmapgl"
           }
          ],
          "histogram": [
           {
            "marker": {
             "pattern": {
              "fillmode": "overlay",
              "size": 10,
              "solidity": 0.2
             }
            },
            "type": "histogram"
           }
          ],
          "histogram2d": [
           {
            "colorbar": {
             "outlinewidth": 0,
             "ticks": ""
            },
            "colorscale": [
             [
              0,
              "#0d0887"
             ],
             [
              0.1111111111111111,
              "#46039f"
             ],
             [
              0.2222222222222222,
              "#7201a8"
             ],
             [
              0.3333333333333333,
              "#9c179e"
             ],
             [
              0.4444444444444444,
              "#bd3786"
             ],
             [
              0.5555555555555556,
              "#d8576b"
             ],
             [
              0.6666666666666666,
              "#ed7953"
             ],
             [
              0.7777777777777778,
              "#fb9f3a"
             ],
             [
              0.8888888888888888,
              "#fdca26"
             ],
             [
              1,
              "#f0f921"
             ]
            ],
            "type": "histogram2d"
           }
          ],
          "histogram2dcontour": [
           {
            "colorbar": {
             "outlinewidth": 0,
             "ticks": ""
            },
            "colorscale": [
             [
              0,
              "#0d0887"
             ],
             [
              0.1111111111111111,
              "#46039f"
             ],
             [
              0.2222222222222222,
              "#7201a8"
             ],
             [
              0.3333333333333333,
              "#9c179e"
             ],
             [
              0.4444444444444444,
              "#bd3786"
             ],
             [
              0.5555555555555556,
              "#d8576b"
             ],
             [
              0.6666666666666666,
              "#ed7953"
             ],
             [
              0.7777777777777778,
              "#fb9f3a"
             ],
             [
              0.8888888888888888,
              "#fdca26"
             ],
             [
              1,
              "#f0f921"
             ]
            ],
            "type": "histogram2dcontour"
           }
          ],
          "mesh3d": [
           {
            "colorbar": {
             "outlinewidth": 0,
             "ticks": ""
            },
            "type": "mesh3d"
           }
          ],
          "parcoords": [
           {
            "line": {
             "colorbar": {
              "outlinewidth": 0,
              "ticks": ""
             }
            },
            "type": "parcoords"
           }
          ],
          "pie": [
           {
            "automargin": true,
            "type": "pie"
           }
          ],
          "scatter": [
           {
            "fillpattern": {
             "fillmode": "overlay",
             "size": 10,
             "solidity": 0.2
            },
            "type": "scatter"
           }
          ],
          "scatter3d": [
           {
            "line": {
             "colorbar": {
              "outlinewidth": 0,
              "ticks": ""
             }
            },
            "marker": {
             "colorbar": {
              "outlinewidth": 0,
              "ticks": ""
             }
            },
            "type": "scatter3d"
           }
          ],
          "scattercarpet": [
           {
            "marker": {
             "colorbar": {
              "outlinewidth": 0,
              "ticks": ""
             }
            },
            "type": "scattercarpet"
           }
          ],
          "scattergeo": [
           {
            "marker": {
             "colorbar": {
              "outlinewidth": 0,
              "ticks": ""
             }
            },
            "type": "scattergeo"
           }
          ],
          "scattergl": [
           {
            "marker": {
             "colorbar": {
              "outlinewidth": 0,
              "ticks": ""
             }
            },
            "type": "scattergl"
           }
          ],
          "scattermapbox": [
           {
            "marker": {
             "colorbar": {
              "outlinewidth": 0,
              "ticks": ""
             }
            },
            "type": "scattermapbox"
           }
          ],
          "scatterpolar": [
           {
            "marker": {
             "colorbar": {
              "outlinewidth": 0,
              "ticks": ""
             }
            },
            "type": "scatterpolar"
           }
          ],
          "scatterpolargl": [
           {
            "marker": {
             "colorbar": {
              "outlinewidth": 0,
              "ticks": ""
             }
            },
            "type": "scatterpolargl"
           }
          ],
          "scatterternary": [
           {
            "marker": {
             "colorbar": {
              "outlinewidth": 0,
              "ticks": ""
             }
            },
            "type": "scatterternary"
           }
          ],
          "surface": [
           {
            "colorbar": {
             "outlinewidth": 0,
             "ticks": ""
            },
            "colorscale": [
             [
              0,
              "#0d0887"
             ],
             [
              0.1111111111111111,
              "#46039f"
             ],
             [
              0.2222222222222222,
              "#7201a8"
             ],
             [
              0.3333333333333333,
              "#9c179e"
             ],
             [
              0.4444444444444444,
              "#bd3786"
             ],
             [
              0.5555555555555556,
              "#d8576b"
             ],
             [
              0.6666666666666666,
              "#ed7953"
             ],
             [
              0.7777777777777778,
              "#fb9f3a"
             ],
             [
              0.8888888888888888,
              "#fdca26"
             ],
             [
              1,
              "#f0f921"
             ]
            ],
            "type": "surface"
           }
          ],
          "table": [
           {
            "cells": {
             "fill": {
              "color": "#EBF0F8"
             },
             "line": {
              "color": "white"
             }
            },
            "header": {
             "fill": {
              "color": "#C8D4E3"
             },
             "line": {
              "color": "white"
             }
            },
            "type": "table"
           }
          ]
         },
         "layout": {
          "annotationdefaults": {
           "arrowcolor": "#2a3f5f",
           "arrowhead": 0,
           "arrowwidth": 1
          },
          "autotypenumbers": "strict",
          "coloraxis": {
           "colorbar": {
            "outlinewidth": 0,
            "ticks": ""
           }
          },
          "colorscale": {
           "diverging": [
            [
             0,
             "#8e0152"
            ],
            [
             0.1,
             "#c51b7d"
            ],
            [
             0.2,
             "#de77ae"
            ],
            [
             0.3,
             "#f1b6da"
            ],
            [
             0.4,
             "#fde0ef"
            ],
            [
             0.5,
             "#f7f7f7"
            ],
            [
             0.6,
             "#e6f5d0"
            ],
            [
             0.7,
             "#b8e186"
            ],
            [
             0.8,
             "#7fbc41"
            ],
            [
             0.9,
             "#4d9221"
            ],
            [
             1,
             "#276419"
            ]
           ],
           "sequential": [
            [
             0,
             "#0d0887"
            ],
            [
             0.1111111111111111,
             "#46039f"
            ],
            [
             0.2222222222222222,
             "#7201a8"
            ],
            [
             0.3333333333333333,
             "#9c179e"
            ],
            [
             0.4444444444444444,
             "#bd3786"
            ],
            [
             0.5555555555555556,
             "#d8576b"
            ],
            [
             0.6666666666666666,
             "#ed7953"
            ],
            [
             0.7777777777777778,
             "#fb9f3a"
            ],
            [
             0.8888888888888888,
             "#fdca26"
            ],
            [
             1,
             "#f0f921"
            ]
           ],
           "sequentialminus": [
            [
             0,
             "#0d0887"
            ],
            [
             0.1111111111111111,
             "#46039f"
            ],
            [
             0.2222222222222222,
             "#7201a8"
            ],
            [
             0.3333333333333333,
             "#9c179e"
            ],
            [
             0.4444444444444444,
             "#bd3786"
            ],
            [
             0.5555555555555556,
             "#d8576b"
            ],
            [
             0.6666666666666666,
             "#ed7953"
            ],
            [
             0.7777777777777778,
             "#fb9f3a"
            ],
            [
             0.8888888888888888,
             "#fdca26"
            ],
            [
             1,
             "#f0f921"
            ]
           ]
          },
          "colorway": [
           "#636efa",
           "#EF553B",
           "#00cc96",
           "#ab63fa",
           "#FFA15A",
           "#19d3f3",
           "#FF6692",
           "#B6E880",
           "#FF97FF",
           "#FECB52"
          ],
          "font": {
           "color": "#2a3f5f"
          },
          "geo": {
           "bgcolor": "white",
           "lakecolor": "white",
           "landcolor": "#E5ECF6",
           "showlakes": true,
           "showland": true,
           "subunitcolor": "white"
          },
          "hoverlabel": {
           "align": "left"
          },
          "hovermode": "closest",
          "mapbox": {
           "style": "light"
          },
          "paper_bgcolor": "white",
          "plot_bgcolor": "#E5ECF6",
          "polar": {
           "angularaxis": {
            "gridcolor": "white",
            "linecolor": "white",
            "ticks": ""
           },
           "bgcolor": "#E5ECF6",
           "radialaxis": {
            "gridcolor": "white",
            "linecolor": "white",
            "ticks": ""
           }
          },
          "scene": {
           "xaxis": {
            "backgroundcolor": "#E5ECF6",
            "gridcolor": "white",
            "gridwidth": 2,
            "linecolor": "white",
            "showbackground": true,
            "ticks": "",
            "zerolinecolor": "white"
           },
           "yaxis": {
            "backgroundcolor": "#E5ECF6",
            "gridcolor": "white",
            "gridwidth": 2,
            "linecolor": "white",
            "showbackground": true,
            "ticks": "",
            "zerolinecolor": "white"
           },
           "zaxis": {
            "backgroundcolor": "#E5ECF6",
            "gridcolor": "white",
            "gridwidth": 2,
            "linecolor": "white",
            "showbackground": true,
            "ticks": "",
            "zerolinecolor": "white"
           }
          },
          "shapedefaults": {
           "line": {
            "color": "#2a3f5f"
           }
          },
          "ternary": {
           "aaxis": {
            "gridcolor": "white",
            "linecolor": "white",
            "ticks": ""
           },
           "baxis": {
            "gridcolor": "white",
            "linecolor": "white",
            "ticks": ""
           },
           "bgcolor": "#E5ECF6",
           "caxis": {
            "gridcolor": "white",
            "linecolor": "white",
            "ticks": ""
           }
          },
          "title": {
           "x": 0.05
          },
          "xaxis": {
           "automargin": true,
           "gridcolor": "white",
           "linecolor": "white",
           "ticks": "",
           "title": {
            "standoff": 15
           },
           "zerolinecolor": "white",
           "zerolinewidth": 2
          },
          "yaxis": {
           "automargin": true,
           "gridcolor": "white",
           "linecolor": "white",
           "ticks": "",
           "title": {
            "standoff": 15
           },
           "zerolinecolor": "white",
           "zerolinewidth": 2
          }
         }
        },
        "title": {
         "font": {
          "color": "#4D5663"
         }
        },
        "xaxis": {
         "gridcolor": "#E1E5ED",
         "showgrid": true,
         "tickfont": {
          "color": "#4D5663"
         },
         "title": {
          "font": {
           "color": "#4D5663"
          },
          "text": ""
         },
         "zerolinecolor": "#E1E5ED"
        },
        "yaxis": {
         "gridcolor": "#E1E5ED",
         "showgrid": true,
         "tickfont": {
          "color": "#4D5663"
         },
         "title": {
          "font": {
           "color": "#4D5663"
          },
          "text": ""
         },
         "zerolinecolor": "#E1E5ED"
        }
       }
      },
      "text/html": [
       "<div>                            <div id=\"7709ac1f-bed2-45dd-8c7b-33a4b20d74c9\" class=\"plotly-graph-div\" style=\"height:525px; width:100%;\"></div>            <script type=\"text/javascript\">                require([\"plotly\"], function(Plotly) {                    window.PLOTLYENV=window.PLOTLYENV || {};\n",
       "                    window.PLOTLYENV.BASE_URL='https://plot.ly';                                    if (document.getElementById(\"7709ac1f-bed2-45dd-8c7b-33a4b20d74c9\")) {                    Plotly.newPlot(                        \"7709ac1f-bed2-45dd-8c7b-33a4b20d74c9\",                        [{\"marker\":{\"color\":[\"rgb(255, 153, 51)\",\"rgb(55, 128, 191)\",\"rgb(50, 171, 96)\",\"rgb(128, 0, 128)\",\"rgb(219, 64, 82)\",\"rgb(0, 128, 128)\",\"rgb(255, 255, 51)\",\"rgb(128, 128, 0)\",\"rgb(251, 128, 114)\",\"rgb(128, 177, 211)\"],\"line\":{\"width\":1.3},\"size\":[83,61,12,52,49,50,32,22,46,57,73,75,62,87,13,47,77,109,63,70,50,94,47,75,80,64,71,46,28,75,73,57,65,34,56,59,73,23,66,102,36,56,72,51,76,21,48,66,53,67,59,82,83,82,51,63,60,65,29,52,37,83,37,74,39,59,30,55,76,89,83,18,51,47,52,83,100,44,34,30,70,69,99,96,93,34,77,52,55,84,43,43,72,70,75,76,112,67,63,77],\"symbol\":\"circle\"},\"mode\":\"markers\",\"text\":\"\",\"x\":[0.2991550861198565,-0.3841492154014665,-1.4955874438548968,-0.986281527430265,0.8636431673834111,1.0506243725442432,-0.5641456423079034,-1.7863210272933812,0.5893189259744791,-0.6283981743665769,0.9822149186999429,0.003621728700036139,1.1478470780946737,0.9493796075126227,2.023151425732341,0.8209651038367457,-1.436616028751318,0.2501161685999158,-2.18940427695009,1.060005975403017,-1.2913373051591328,-0.5818461629913243,-3.559727068196443,0.0429856375186844,-0.040441593036933884,0.4365405596956291,-1.6122927837729488,-2.200067677252177,1.3741729080719394,0.22372429063459934,0.35456006418455993,1.0268798296954587,1.2483904845694946,0.06803355363766585,-1.215641873426893,-1.0092547114079848,-0.18928431766049622,-0.13624175059188193,-1.124654032729839,1.906287147681474,0.22227594199144093,-1.1680813787099484,1.2448035827666633,0.09448168900829862,-1.9213213375620148,3.374448829478874,-0.4720745251680017,1.4237076937233117,1.0977579047946182,0.27276264592903,-0.7071666774547971,0.4579682494563629,0.7812645170577213,0.6940016369921731,-1.6670428257540362,0.10479754129686403,2.0521391141627117,-0.5894929196802318,0.2086275444892075,-0.3943158555219555,-0.001962682381986401,0.5061562116185518,-1.31068766067125,1.1458984485772514,0.07746205451031746,0.42117143238154464,0.022396537274275884,0.3832423647923307,-0.7142696921980415,1.5759715705521424,-1.0948757064584989,-0.3578123661598927,-0.1388499152089222,-1.0316315826678573,0.14133939011217816,-0.7236948335615198,-1.0461981495376964,-0.860425552617968,0.6838366995531965,0.5019976649548585,-0.2698604416378836,0.020026700999118248,0.7382030841174992,-1.0107550832011862,-0.9809011420879843,0.40108331476893583,0.06473151369985368,1.8746933818594682,0.2515041968308312,-0.9807717470558058,0.40762164463885214,-1.1849158622412188,-0.17364781870766738,-1.4336904561145787,0.6915743124241517,0.010826914274588933,0.20377929746820334,-2.995026620423591,-1.2399719772534463,0.8788721868956764],\"y\":[0.780112161625848,-0.6622020441579575,0.19603094116590988,0.9444435813517414,2.0190065917990325,0.43722776902737875,0.6764390904739006,-1.0318392658003315,-0.7052936531538087,-1.2207048933585274,-0.022498175312445908,-0.47514400008103796,0.015631345678703647,0.49166903297101733,-0.4463750385965351,-1.2532070399499404,0.017542246804112673,-0.7570882592644229,-1.2012136807274745,0.7886948763755939,-0.8693486963450223,0.9010537168023657,-0.5770469082718713,-0.1030991380904987,0.5338436665524187,1.1155594158041637,0.26391870421043223,1.3232294736026364,0.7630229489633639,1.632035218409037,1.5207097499353,-0.0006879736573673989,-1.21103828452234,1.34662009347215,0.9975735907200801,0.9551360071731924,-1.0722210696166834,-1.7265754758738259,0.04129037780678675,-0.7132244284043963,-1.0579130080408146,2.81148193442505,-0.04184454642460926,0.7307795091345204,-0.29943747215028277,0.6791011913122792,0.7539025548648147,-0.8199570302339777,0.6835533635051066,-0.37718640289622646,-1.4905040103618956,-0.8423691944628268,-0.16584257158889373,-1.4330757918373824,0.9461603473737706,-0.15290838198858106,-0.16205848298241507,0.02130880292795404,-1.4961741662057277,0.4484982571308183,0.18922260769185564,0.7710099389584645,-1.4518000619214029,-0.5812770284876827,0.5146202678161,0.9315853354882877,-0.9603288937961088,-1.103370479561761,-0.47745010276254535,0.9336441074488008,1.2560789857109207,-0.5249525108676631,0.9324462586812953,-0.8005665398613003,-0.4671893294403345,0.14609976572579939,0.030765176545579104,0.9842394461832488,-0.6094735362782722,0.5726121277992451,0.9344438360939703,1.470087261607474,0.6444928799223439,-1.8503301390802411,0.784695912134507,-0.1797897094423723,2.3847821119754022,-1.3412772928554055,0.5857245773958671,-0.44248615438473105,1.02478023997563,-0.10167432812782703,-0.46321591080833774,-1.0606116126026808,1.0757078100996635,-0.2948219640020998,0.4688053405721653,1.5442197803396982,2.561137988024716,0.051745092191318],\"type\":\"scatter\"}],                        {\"legend\":{\"bgcolor\":\"#F5F6F9\",\"font\":{\"color\":\"#4D5663\"}},\"paper_bgcolor\":\"#F5F6F9\",\"plot_bgcolor\":\"#F5F6F9\",\"template\":{\"data\":{\"barpolar\":[{\"marker\":{\"line\":{\"color\":\"#E5ECF6\",\"width\":0.5},\"pattern\":{\"fillmode\":\"overlay\",\"size\":10,\"solidity\":0.2}},\"type\":\"barpolar\"}],\"bar\":[{\"error_x\":{\"color\":\"#2a3f5f\"},\"error_y\":{\"color\":\"#2a3f5f\"},\"marker\":{\"line\":{\"color\":\"#E5ECF6\",\"width\":0.5},\"pattern\":{\"fillmode\":\"overlay\",\"size\":10,\"solidity\":0.2}},\"type\":\"bar\"}],\"carpet\":[{\"aaxis\":{\"endlinecolor\":\"#2a3f5f\",\"gridcolor\":\"white\",\"linecolor\":\"white\",\"minorgridcolor\":\"white\",\"startlinecolor\":\"#2a3f5f\"},\"baxis\":{\"endlinecolor\":\"#2a3f5f\",\"gridcolor\":\"white\",\"linecolor\":\"white\",\"minorgridcolor\":\"white\",\"startlinecolor\":\"#2a3f5f\"},\"type\":\"carpet\"}],\"choropleth\":[{\"colorbar\":{\"outlinewidth\":0,\"ticks\":\"\"},\"type\":\"choropleth\"}],\"contourcarpet\":[{\"colorbar\":{\"outlinewidth\":0,\"ticks\":\"\"},\"type\":\"contourcarpet\"}],\"contour\":[{\"colorbar\":{\"outlinewidth\":0,\"ticks\":\"\"},\"colorscale\":[[0.0,\"#0d0887\"],[0.1111111111111111,\"#46039f\"],[0.2222222222222222,\"#7201a8\"],[0.3333333333333333,\"#9c179e\"],[0.4444444444444444,\"#bd3786\"],[0.5555555555555556,\"#d8576b\"],[0.6666666666666666,\"#ed7953\"],[0.7777777777777778,\"#fb9f3a\"],[0.8888888888888888,\"#fdca26\"],[1.0,\"#f0f921\"]],\"type\":\"contour\"}],\"heatmapgl\":[{\"colorbar\":{\"outlinewidth\":0,\"ticks\":\"\"},\"colorscale\":[[0.0,\"#0d0887\"],[0.1111111111111111,\"#46039f\"],[0.2222222222222222,\"#7201a8\"],[0.3333333333333333,\"#9c179e\"],[0.4444444444444444,\"#bd3786\"],[0.5555555555555556,\"#d8576b\"],[0.6666666666666666,\"#ed7953\"],[0.7777777777777778,\"#fb9f3a\"],[0.8888888888888888,\"#fdca26\"],[1.0,\"#f0f921\"]],\"type\":\"heatmapgl\"}],\"heatmap\":[{\"colorbar\":{\"outlinewidth\":0,\"ticks\":\"\"},\"colorscale\":[[0.0,\"#0d0887\"],[0.1111111111111111,\"#46039f\"],[0.2222222222222222,\"#7201a8\"],[0.3333333333333333,\"#9c179e\"],[0.4444444444444444,\"#bd3786\"],[0.5555555555555556,\"#d8576b\"],[0.6666666666666666,\"#ed7953\"],[0.7777777777777778,\"#fb9f3a\"],[0.8888888888888888,\"#fdca26\"],[1.0,\"#f0f921\"]],\"type\":\"heatmap\"}],\"histogram2dcontour\":[{\"colorbar\":{\"outlinewidth\":0,\"ticks\":\"\"},\"colorscale\":[[0.0,\"#0d0887\"],[0.1111111111111111,\"#46039f\"],[0.2222222222222222,\"#7201a8\"],[0.3333333333333333,\"#9c179e\"],[0.4444444444444444,\"#bd3786\"],[0.5555555555555556,\"#d8576b\"],[0.6666666666666666,\"#ed7953\"],[0.7777777777777778,\"#fb9f3a\"],[0.8888888888888888,\"#fdca26\"],[1.0,\"#f0f921\"]],\"type\":\"histogram2dcontour\"}],\"histogram2d\":[{\"colorbar\":{\"outlinewidth\":0,\"ticks\":\"\"},\"colorscale\":[[0.0,\"#0d0887\"],[0.1111111111111111,\"#46039f\"],[0.2222222222222222,\"#7201a8\"],[0.3333333333333333,\"#9c179e\"],[0.4444444444444444,\"#bd3786\"],[0.5555555555555556,\"#d8576b\"],[0.6666666666666666,\"#ed7953\"],[0.7777777777777778,\"#fb9f3a\"],[0.8888888888888888,\"#fdca26\"],[1.0,\"#f0f921\"]],\"type\":\"histogram2d\"}],\"histogram\":[{\"marker\":{\"pattern\":{\"fillmode\":\"overlay\",\"size\":10,\"solidity\":0.2}},\"type\":\"histogram\"}],\"mesh3d\":[{\"colorbar\":{\"outlinewidth\":0,\"ticks\":\"\"},\"type\":\"mesh3d\"}],\"parcoords\":[{\"line\":{\"colorbar\":{\"outlinewidth\":0,\"ticks\":\"\"}},\"type\":\"parcoords\"}],\"pie\":[{\"automargin\":true,\"type\":\"pie\"}],\"scatter3d\":[{\"line\":{\"colorbar\":{\"outlinewidth\":0,\"ticks\":\"\"}},\"marker\":{\"colorbar\":{\"outlinewidth\":0,\"ticks\":\"\"}},\"type\":\"scatter3d\"}],\"scattercarpet\":[{\"marker\":{\"colorbar\":{\"outlinewidth\":0,\"ticks\":\"\"}},\"type\":\"scattercarpet\"}],\"scattergeo\":[{\"marker\":{\"colorbar\":{\"outlinewidth\":0,\"ticks\":\"\"}},\"type\":\"scattergeo\"}],\"scattergl\":[{\"marker\":{\"colorbar\":{\"outlinewidth\":0,\"ticks\":\"\"}},\"type\":\"scattergl\"}],\"scattermapbox\":[{\"marker\":{\"colorbar\":{\"outlinewidth\":0,\"ticks\":\"\"}},\"type\":\"scattermapbox\"}],\"scatterpolargl\":[{\"marker\":{\"colorbar\":{\"outlinewidth\":0,\"ticks\":\"\"}},\"type\":\"scatterpolargl\"}],\"scatterpolar\":[{\"marker\":{\"colorbar\":{\"outlinewidth\":0,\"ticks\":\"\"}},\"type\":\"scatterpolar\"}],\"scatter\":[{\"fillpattern\":{\"fillmode\":\"overlay\",\"size\":10,\"solidity\":0.2},\"type\":\"scatter\"}],\"scatterternary\":[{\"marker\":{\"colorbar\":{\"outlinewidth\":0,\"ticks\":\"\"}},\"type\":\"scatterternary\"}],\"surface\":[{\"colorbar\":{\"outlinewidth\":0,\"ticks\":\"\"},\"colorscale\":[[0.0,\"#0d0887\"],[0.1111111111111111,\"#46039f\"],[0.2222222222222222,\"#7201a8\"],[0.3333333333333333,\"#9c179e\"],[0.4444444444444444,\"#bd3786\"],[0.5555555555555556,\"#d8576b\"],[0.6666666666666666,\"#ed7953\"],[0.7777777777777778,\"#fb9f3a\"],[0.8888888888888888,\"#fdca26\"],[1.0,\"#f0f921\"]],\"type\":\"surface\"}],\"table\":[{\"cells\":{\"fill\":{\"color\":\"#EBF0F8\"},\"line\":{\"color\":\"white\"}},\"header\":{\"fill\":{\"color\":\"#C8D4E3\"},\"line\":{\"color\":\"white\"}},\"type\":\"table\"}]},\"layout\":{\"annotationdefaults\":{\"arrowcolor\":\"#2a3f5f\",\"arrowhead\":0,\"arrowwidth\":1},\"autotypenumbers\":\"strict\",\"coloraxis\":{\"colorbar\":{\"outlinewidth\":0,\"ticks\":\"\"}},\"colorscale\":{\"diverging\":[[0,\"#8e0152\"],[0.1,\"#c51b7d\"],[0.2,\"#de77ae\"],[0.3,\"#f1b6da\"],[0.4,\"#fde0ef\"],[0.5,\"#f7f7f7\"],[0.6,\"#e6f5d0\"],[0.7,\"#b8e186\"],[0.8,\"#7fbc41\"],[0.9,\"#4d9221\"],[1,\"#276419\"]],\"sequential\":[[0.0,\"#0d0887\"],[0.1111111111111111,\"#46039f\"],[0.2222222222222222,\"#7201a8\"],[0.3333333333333333,\"#9c179e\"],[0.4444444444444444,\"#bd3786\"],[0.5555555555555556,\"#d8576b\"],[0.6666666666666666,\"#ed7953\"],[0.7777777777777778,\"#fb9f3a\"],[0.8888888888888888,\"#fdca26\"],[1.0,\"#f0f921\"]],\"sequentialminus\":[[0.0,\"#0d0887\"],[0.1111111111111111,\"#46039f\"],[0.2222222222222222,\"#7201a8\"],[0.3333333333333333,\"#9c179e\"],[0.4444444444444444,\"#bd3786\"],[0.5555555555555556,\"#d8576b\"],[0.6666666666666666,\"#ed7953\"],[0.7777777777777778,\"#fb9f3a\"],[0.8888888888888888,\"#fdca26\"],[1.0,\"#f0f921\"]]},\"colorway\":[\"#636efa\",\"#EF553B\",\"#00cc96\",\"#ab63fa\",\"#FFA15A\",\"#19d3f3\",\"#FF6692\",\"#B6E880\",\"#FF97FF\",\"#FECB52\"],\"font\":{\"color\":\"#2a3f5f\"},\"geo\":{\"bgcolor\":\"white\",\"lakecolor\":\"white\",\"landcolor\":\"#E5ECF6\",\"showlakes\":true,\"showland\":true,\"subunitcolor\":\"white\"},\"hoverlabel\":{\"align\":\"left\"},\"hovermode\":\"closest\",\"mapbox\":{\"style\":\"light\"},\"paper_bgcolor\":\"white\",\"plot_bgcolor\":\"#E5ECF6\",\"polar\":{\"angularaxis\":{\"gridcolor\":\"white\",\"linecolor\":\"white\",\"ticks\":\"\"},\"bgcolor\":\"#E5ECF6\",\"radialaxis\":{\"gridcolor\":\"white\",\"linecolor\":\"white\",\"ticks\":\"\"}},\"scene\":{\"xaxis\":{\"backgroundcolor\":\"#E5ECF6\",\"gridcolor\":\"white\",\"gridwidth\":2,\"linecolor\":\"white\",\"showbackground\":true,\"ticks\":\"\",\"zerolinecolor\":\"white\"},\"yaxis\":{\"backgroundcolor\":\"#E5ECF6\",\"gridcolor\":\"white\",\"gridwidth\":2,\"linecolor\":\"white\",\"showbackground\":true,\"ticks\":\"\",\"zerolinecolor\":\"white\"},\"zaxis\":{\"backgroundcolor\":\"#E5ECF6\",\"gridcolor\":\"white\",\"gridwidth\":2,\"linecolor\":\"white\",\"showbackground\":true,\"ticks\":\"\",\"zerolinecolor\":\"white\"}},\"shapedefaults\":{\"line\":{\"color\":\"#2a3f5f\"}},\"ternary\":{\"aaxis\":{\"gridcolor\":\"white\",\"linecolor\":\"white\",\"ticks\":\"\"},\"baxis\":{\"gridcolor\":\"white\",\"linecolor\":\"white\",\"ticks\":\"\"},\"bgcolor\":\"#E5ECF6\",\"caxis\":{\"gridcolor\":\"white\",\"linecolor\":\"white\",\"ticks\":\"\"}},\"title\":{\"x\":0.05},\"xaxis\":{\"automargin\":true,\"gridcolor\":\"white\",\"linecolor\":\"white\",\"ticks\":\"\",\"title\":{\"standoff\":15},\"zerolinecolor\":\"white\",\"zerolinewidth\":2},\"yaxis\":{\"automargin\":true,\"gridcolor\":\"white\",\"linecolor\":\"white\",\"ticks\":\"\",\"title\":{\"standoff\":15},\"zerolinecolor\":\"white\",\"zerolinewidth\":2}}},\"title\":{\"font\":{\"color\":\"#4D5663\"}},\"xaxis\":{\"gridcolor\":\"#E1E5ED\",\"showgrid\":true,\"tickfont\":{\"color\":\"#4D5663\"},\"title\":{\"font\":{\"color\":\"#4D5663\"},\"text\":\"\"},\"zerolinecolor\":\"#E1E5ED\"},\"yaxis\":{\"gridcolor\":\"#E1E5ED\",\"showgrid\":true,\"tickfont\":{\"color\":\"#4D5663\"},\"title\":{\"font\":{\"color\":\"#4D5663\"},\"text\":\"\"},\"zerolinecolor\":\"#E1E5ED\"}},                        {\"showLink\": true, \"linkText\": \"Export to plot.ly\", \"plotlyServerURL\": \"https://plot.ly\", \"responsive\": true}                    ).then(function(){\n",
       "                            \n",
       "var gd = document.getElementById('7709ac1f-bed2-45dd-8c7b-33a4b20d74c9');\n",
       "var x = new MutationObserver(function (mutations, observer) {{\n",
       "        var display = window.getComputedStyle(gd).display;\n",
       "        if (!display || display === 'none') {{\n",
       "            console.log([gd, 'removed!']);\n",
       "            Plotly.purge(gd);\n",
       "            observer.disconnect();\n",
       "        }}\n",
       "}});\n",
       "\n",
       "// Listen for the removal of the full notebook cells\n",
       "var notebookContainer = gd.closest('#notebook-container');\n",
       "if (notebookContainer) {{\n",
       "    x.observe(notebookContainer, {childList: true});\n",
       "}}\n",
       "\n",
       "// Listen for the clearing of the current output cell\n",
       "var outputEl = gd.closest('.output');\n",
       "if (outputEl) {{\n",
       "    x.observe(outputEl, {childList: true});\n",
       "}}\n",
       "\n",
       "                        })                };                });            </script>        </div>"
      ]
     },
     "metadata": {},
     "output_type": "display_data"
    }
   ],
   "source": [
    "df.iplot(kind='bubble', x='A', y='B', size='C')"
   ]
  },
  {
   "cell_type": "code",
   "execution_count": null,
   "id": "031fb94d",
   "metadata": {},
   "outputs": [],
   "source": []
  },
  {
   "cell_type": "markdown",
   "id": "33c82005",
   "metadata": {},
   "source": [
    "## scatter_matrix()"
   ]
  },
  {
   "cell_type": "code",
   "execution_count": 23,
   "id": "fca3f78c",
   "metadata": {},
   "outputs": [
    {
     "data": {
      "application/vnd.plotly.v1+json": {
       "config": {
        "linkText": "Export to plot.ly",
        "plotlyServerURL": "https://plot.ly",
        "showLink": true
       },
       "data": [
        {
         "histfunc": "count",
         "histnorm": "",
         "marker": {
          "color": "rgba(255, 153, 51, 1.0)",
          "line": {
           "color": "#4D5663",
           "width": 1.3
          }
         },
         "name": "A",
         "nbinsx": 10,
         "opacity": 0.8,
         "orientation": "v",
         "type": "histogram",
         "x": [
          0.2991550861198565,
          -0.3841492154014665,
          -1.4955874438548968,
          -0.986281527430265,
          0.8636431673834111,
          1.0506243725442432,
          -0.5641456423079034,
          -1.7863210272933812,
          0.5893189259744791,
          -0.6283981743665769,
          0.9822149186999429,
          0.003621728700036139,
          1.1478470780946737,
          0.9493796075126227,
          2.023151425732341,
          0.8209651038367457,
          -1.436616028751318,
          0.2501161685999158,
          -2.18940427695009,
          1.060005975403017,
          -1.2913373051591328,
          -0.5818461629913243,
          -3.559727068196443,
          0.0429856375186844,
          -0.040441593036933884,
          0.4365405596956291,
          -1.6122927837729488,
          -2.200067677252177,
          1.3741729080719394,
          0.22372429063459934,
          0.35456006418455993,
          1.0268798296954587,
          1.2483904845694946,
          0.06803355363766585,
          -1.215641873426893,
          -1.0092547114079848,
          -0.18928431766049622,
          -0.13624175059188193,
          -1.124654032729839,
          1.906287147681474,
          0.22227594199144093,
          -1.1680813787099484,
          1.2448035827666633,
          0.09448168900829862,
          -1.9213213375620148,
          3.374448829478874,
          -0.4720745251680017,
          1.4237076937233117,
          1.0977579047946182,
          0.27276264592903,
          -0.7071666774547971,
          0.4579682494563629,
          0.7812645170577213,
          0.6940016369921731,
          -1.6670428257540362,
          0.10479754129686403,
          2.0521391141627117,
          -0.5894929196802318,
          0.2086275444892075,
          -0.3943158555219555,
          -0.001962682381986401,
          0.5061562116185518,
          -1.31068766067125,
          1.1458984485772514,
          0.07746205451031746,
          0.42117143238154464,
          0.022396537274275884,
          0.3832423647923307,
          -0.7142696921980415,
          1.5759715705521424,
          -1.0948757064584989,
          -0.3578123661598927,
          -0.1388499152089222,
          -1.0316315826678573,
          0.14133939011217816,
          -0.7236948335615198,
          -1.0461981495376964,
          -0.860425552617968,
          0.6838366995531965,
          0.5019976649548585,
          -0.2698604416378836,
          0.020026700999118248,
          0.7382030841174992,
          -1.0107550832011862,
          -0.9809011420879843,
          0.40108331476893583,
          0.06473151369985368,
          1.8746933818594682,
          0.2515041968308312,
          -0.9807717470558058,
          0.40762164463885214,
          -1.1849158622412188,
          -0.17364781870766738,
          -1.4336904561145787,
          0.6915743124241517,
          0.010826914274588933,
          0.20377929746820334,
          -2.995026620423591,
          -1.2399719772534463,
          0.8788721868956764
         ],
         "xaxis": "x",
         "yaxis": "y"
        },
        {
         "line": {
          "color": "rgba(128, 128, 128, 1.0)",
          "dash": "solid",
          "shape": "linear",
          "width": 1.3
         },
         "marker": {
          "size": 2,
          "symbol": "circle"
         },
         "mode": "markers",
         "name": "A",
         "text": "",
         "type": "scatter",
         "x": [
          0.780112161625848,
          -0.6622020441579575,
          0.19603094116590988,
          0.9444435813517414,
          2.0190065917990325,
          0.43722776902737875,
          0.6764390904739006,
          -1.0318392658003315,
          -0.7052936531538087,
          -1.2207048933585274,
          -0.022498175312445908,
          -0.47514400008103796,
          0.015631345678703647,
          0.49166903297101733,
          -0.4463750385965351,
          -1.2532070399499404,
          0.017542246804112673,
          -0.7570882592644229,
          -1.2012136807274745,
          0.7886948763755939,
          -0.8693486963450223,
          0.9010537168023657,
          -0.5770469082718713,
          -0.1030991380904987,
          0.5338436665524187,
          1.1155594158041637,
          0.26391870421043223,
          1.3232294736026364,
          0.7630229489633639,
          1.632035218409037,
          1.5207097499353,
          -0.0006879736573673989,
          -1.21103828452234,
          1.34662009347215,
          0.9975735907200801,
          0.9551360071731924,
          -1.0722210696166834,
          -1.7265754758738259,
          0.04129037780678675,
          -0.7132244284043963,
          -1.0579130080408146,
          2.81148193442505,
          -0.04184454642460926,
          0.7307795091345204,
          -0.29943747215028277,
          0.6791011913122792,
          0.7539025548648147,
          -0.8199570302339777,
          0.6835533635051066,
          -0.37718640289622646,
          -1.4905040103618956,
          -0.8423691944628268,
          -0.16584257158889373,
          -1.4330757918373824,
          0.9461603473737706,
          -0.15290838198858106,
          -0.16205848298241507,
          0.02130880292795404,
          -1.4961741662057277,
          0.4484982571308183,
          0.18922260769185564,
          0.7710099389584645,
          -1.4518000619214029,
          -0.5812770284876827,
          0.5146202678161,
          0.9315853354882877,
          -0.9603288937961088,
          -1.103370479561761,
          -0.47745010276254535,
          0.9336441074488008,
          1.2560789857109207,
          -0.5249525108676631,
          0.9324462586812953,
          -0.8005665398613003,
          -0.4671893294403345,
          0.14609976572579939,
          0.030765176545579104,
          0.9842394461832488,
          -0.6094735362782722,
          0.5726121277992451,
          0.9344438360939703,
          1.470087261607474,
          0.6444928799223439,
          -1.8503301390802411,
          0.784695912134507,
          -0.1797897094423723,
          2.3847821119754022,
          -1.3412772928554055,
          0.5857245773958671,
          -0.44248615438473105,
          1.02478023997563,
          -0.10167432812782703,
          -0.46321591080833774,
          -1.0606116126026808,
          1.0757078100996635,
          -0.2948219640020998,
          0.4688053405721653,
          1.5442197803396982,
          2.561137988024716,
          0.051745092191318
         ],
         "xaxis": "x2",
         "y": [
          0.2991550861198565,
          -0.3841492154014665,
          -1.4955874438548968,
          -0.986281527430265,
          0.8636431673834111,
          1.0506243725442432,
          -0.5641456423079034,
          -1.7863210272933812,
          0.5893189259744791,
          -0.6283981743665769,
          0.9822149186999429,
          0.003621728700036139,
          1.1478470780946737,
          0.9493796075126227,
          2.023151425732341,
          0.8209651038367457,
          -1.436616028751318,
          0.2501161685999158,
          -2.18940427695009,
          1.060005975403017,
          -1.2913373051591328,
          -0.5818461629913243,
          -3.559727068196443,
          0.0429856375186844,
          -0.040441593036933884,
          0.4365405596956291,
          -1.6122927837729488,
          -2.200067677252177,
          1.3741729080719394,
          0.22372429063459934,
          0.35456006418455993,
          1.0268798296954587,
          1.2483904845694946,
          0.06803355363766585,
          -1.215641873426893,
          -1.0092547114079848,
          -0.18928431766049622,
          -0.13624175059188193,
          -1.124654032729839,
          1.906287147681474,
          0.22227594199144093,
          -1.1680813787099484,
          1.2448035827666633,
          0.09448168900829862,
          -1.9213213375620148,
          3.374448829478874,
          -0.4720745251680017,
          1.4237076937233117,
          1.0977579047946182,
          0.27276264592903,
          -0.7071666774547971,
          0.4579682494563629,
          0.7812645170577213,
          0.6940016369921731,
          -1.6670428257540362,
          0.10479754129686403,
          2.0521391141627117,
          -0.5894929196802318,
          0.2086275444892075,
          -0.3943158555219555,
          -0.001962682381986401,
          0.5061562116185518,
          -1.31068766067125,
          1.1458984485772514,
          0.07746205451031746,
          0.42117143238154464,
          0.022396537274275884,
          0.3832423647923307,
          -0.7142696921980415,
          1.5759715705521424,
          -1.0948757064584989,
          -0.3578123661598927,
          -0.1388499152089222,
          -1.0316315826678573,
          0.14133939011217816,
          -0.7236948335615198,
          -1.0461981495376964,
          -0.860425552617968,
          0.6838366995531965,
          0.5019976649548585,
          -0.2698604416378836,
          0.020026700999118248,
          0.7382030841174992,
          -1.0107550832011862,
          -0.9809011420879843,
          0.40108331476893583,
          0.06473151369985368,
          1.8746933818594682,
          0.2515041968308312,
          -0.9807717470558058,
          0.40762164463885214,
          -1.1849158622412188,
          -0.17364781870766738,
          -1.4336904561145787,
          0.6915743124241517,
          0.010826914274588933,
          0.20377929746820334,
          -2.995026620423591,
          -1.2399719772534463,
          0.8788721868956764
         ],
         "yaxis": "y2"
        },
        {
         "line": {
          "color": "rgba(128, 128, 128, 1.0)",
          "dash": "solid",
          "shape": "linear",
          "width": 1.3
         },
         "marker": {
          "size": 2,
          "symbol": "circle"
         },
         "mode": "markers",
         "name": "A",
         "text": "",
         "type": "scatter",
         "x": [
          1.1423634363741173,
          0.11354051020682208,
          -2.195583075117904,
          -0.33536116350557,
          -0.47549123530692866,
          -0.4106247459547766,
          -1.2434649090000875,
          -1.6995213033682308,
          -0.6081257506754546,
          -0.08870672787977858,
          0.6400925329494375,
          0.7492341616274301,
          0.16747095277849683,
          1.2968374993604779,
          -2.11404568038147,
          -0.563870009286686,
          0.8310938582415069,
          2.325419671879464,
          0.20055448776283155,
          0.5085397117888597,
          -0.4080914801575566,
          1.6542943160162975,
          -0.5331072937653337,
          0.7586177614979411,
          0.9619927684630707,
          0.2559644805724021,
          0.5745188773744764,
          -0.5816583601699434,
          -1.429056679405346,
          0.7315998311231716,
          0.6783867139905609,
          -0.06078445221535873,
          0.27448110310334706,
          -1.16371229034305,
          -0.1398511030843688,
          0.006467377516567309,
          0.6562352588868274,
          -1.6448244488522312,
          0.3298352278087413,
          2.003002042268774,
          -1.0758696623884252,
          -0.11305940455786344,
          0.6029361517624183,
          -0.38271978469230267,
          0.7889985572895265,
          -1.741867773942648,
          -0.5174334505631387,
          0.3259635252071674,
          -0.28872347544954446,
          0.3596389037175514,
          0.009698255852205134,
          1.0793001511861586,
          1.1043921528612646,
          1.0891752844370528,
          -0.3566970439593109,
          0.21139128359993414,
          0.05023798480313808,
          0.2702500935425811,
          -1.361135025379144,
          -0.3356238142654462,
          -1.013962607948839,
          1.1381971032466252,
          -1.0107879455790383,
          0.7102149307995549,
          -0.9014591620430444,
          0.011895983352500345,
          -1.355067914607825,
          -0.15806123579869188,
          0.8023249003467309,
          1.4031343144422532,
          1.1345576048882402,
          -1.9137650864186122,
          -0.35305712873931205,
          -0.5552220851118872,
          -0.3100997841387888,
          1.1377680718610916,
          1.9065212557664553,
          -0.7063511867117129,
          -1.1490229352835497,
          -1.3530811813693597,
          0.5007106025210825,
          0.4796809706467747,
          1.8502387431840992,
          1.741994450617839,
          1.5862413863845208,
          -1.1472907598345856,
          0.8650500659149919,
          -0.33112805916725235,
          -0.18940943108872416,
          1.1662346250655902,
          -0.7525493252195511,
          -0.7556309869007968,
          0.6091473126481534,
          0.5162032920138211,
          0.7749536056718792,
          0.8177099736481309,
          2.4469257320693023,
          0.38013644896258414,
          0.20817582521403424,
          0.8467603806994561
         ],
         "xaxis": "x3",
         "y": [
          0.2991550861198565,
          -0.3841492154014665,
          -1.4955874438548968,
          -0.986281527430265,
          0.8636431673834111,
          1.0506243725442432,
          -0.5641456423079034,
          -1.7863210272933812,
          0.5893189259744791,
          -0.6283981743665769,
          0.9822149186999429,
          0.003621728700036139,
          1.1478470780946737,
          0.9493796075126227,
          2.023151425732341,
          0.8209651038367457,
          -1.436616028751318,
          0.2501161685999158,
          -2.18940427695009,
          1.060005975403017,
          -1.2913373051591328,
          -0.5818461629913243,
          -3.559727068196443,
          0.0429856375186844,
          -0.040441593036933884,
          0.4365405596956291,
          -1.6122927837729488,
          -2.200067677252177,
          1.3741729080719394,
          0.22372429063459934,
          0.35456006418455993,
          1.0268798296954587,
          1.2483904845694946,
          0.06803355363766585,
          -1.215641873426893,
          -1.0092547114079848,
          -0.18928431766049622,
          -0.13624175059188193,
          -1.124654032729839,
          1.906287147681474,
          0.22227594199144093,
          -1.1680813787099484,
          1.2448035827666633,
          0.09448168900829862,
          -1.9213213375620148,
          3.374448829478874,
          -0.4720745251680017,
          1.4237076937233117,
          1.0977579047946182,
          0.27276264592903,
          -0.7071666774547971,
          0.4579682494563629,
          0.7812645170577213,
          0.6940016369921731,
          -1.6670428257540362,
          0.10479754129686403,
          2.0521391141627117,
          -0.5894929196802318,
          0.2086275444892075,
          -0.3943158555219555,
          -0.001962682381986401,
          0.5061562116185518,
          -1.31068766067125,
          1.1458984485772514,
          0.07746205451031746,
          0.42117143238154464,
          0.022396537274275884,
          0.3832423647923307,
          -0.7142696921980415,
          1.5759715705521424,
          -1.0948757064584989,
          -0.3578123661598927,
          -0.1388499152089222,
          -1.0316315826678573,
          0.14133939011217816,
          -0.7236948335615198,
          -1.0461981495376964,
          -0.860425552617968,
          0.6838366995531965,
          0.5019976649548585,
          -0.2698604416378836,
          0.020026700999118248,
          0.7382030841174992,
          -1.0107550832011862,
          -0.9809011420879843,
          0.40108331476893583,
          0.06473151369985368,
          1.8746933818594682,
          0.2515041968308312,
          -0.9807717470558058,
          0.40762164463885214,
          -1.1849158622412188,
          -0.17364781870766738,
          -1.4336904561145787,
          0.6915743124241517,
          0.010826914274588933,
          0.20377929746820334,
          -2.995026620423591,
          -1.2399719772534463,
          0.8788721868956764
         ],
         "yaxis": "y3"
        },
        {
         "line": {
          "color": "rgba(128, 128, 128, 1.0)",
          "dash": "solid",
          "shape": "linear",
          "width": 1.3
         },
         "marker": {
          "size": 2,
          "symbol": "circle"
         },
         "mode": "markers",
         "name": "A",
         "text": "",
         "type": "scatter",
         "x": [
          -0.8496942648665607,
          0.41805640187036686,
          -0.9878282660079463,
          -1.5663266173229944,
          0.5059032376608317,
          -0.10101444172877458,
          1.023870814958945,
          1.0776469981944543,
          0.6031197823516035,
          -0.22220860549894053,
          -0.3716384094671871,
          -1.011491658471745,
          0.18855313183096936,
          0.6095096951627761,
          0.5962586882091566,
          -0.04173088142268591,
          -0.044192706512440484,
          -0.44107380721013006,
          -0.21142501415456913,
          0.24099050809879638,
          -0.47309509430223495,
          0.18720304373616822,
          -0.46682798780266954,
          0.26713935774844777,
          -0.046718955928361935,
          0.4786827527183718,
          1.224915444840153,
          0.900313638190235,
          -0.07993912419356818,
          0.22720760688973018,
          0.16741097980313763,
          -1.6971807713758618,
          0.26285857526526424,
          -0.8481473003171561,
          1.0019832458818996,
          -0.23890963837799392,
          -0.32518323790702136,
          -1.4214659093213708,
          0.7689677362511844,
          0.720454370048769,
          1.4120436891805468,
          -0.8885013713475357,
          0.49015465824590326,
          0.318721809076388,
          1.408170320673189,
          -0.9053600991879266,
          0.5596848983027292,
          0.5874387471118737,
          -1.3452790015989369,
          -1.0919949952111225,
          0.6190528365348118,
          1.0988301926896742,
          -1.2262042653555452,
          0.3431693872520292,
          0.12570110604857224,
          0.5271309083354175,
          0.24856255460548599,
          -1.2298878838865044,
          -0.1965012336229207,
          -0.6573776808010089,
          0.24786892848275827,
          -0.6830478001558176,
          -0.7184522746832681,
          -0.9994117954392141,
          0.050962641175703705,
          -2.2732965954839375,
          0.34000553606582534,
          -0.23062189624052834,
          -0.3001576898399603,
          -1.3700987482748903,
          -0.6388222587410752,
          -1.1197675654055868,
          0.08116978578069725,
          -0.7913930689421255,
          0.03301550712197834,
          0.8346833733450515,
          -0.7188138613391741,
          1.4893496436241953,
          0.9858869294808674,
          1.6034117721274181,
          1.4994358157770709,
          0.045951459501008415,
          -1.7549269371629004,
          1.4269179974818211,
          0.013196565836392126,
          -0.616471222732565,
          -0.3572376899508515,
          -0.5911000876319832,
          0.06643642138436352,
          -0.28657629214746766,
          -0.13340202720961356,
          0.9454106134171025,
          -0.3627861661237746,
          0.2838870032276294,
          -0.5272096839790353,
          -0.5455315712911585,
          -0.594008118453773,
          0.6669525024563863,
          0.3405305426784978,
          -1.5299087920635688
         ],
         "xaxis": "x4",
         "y": [
          0.2991550861198565,
          -0.3841492154014665,
          -1.4955874438548968,
          -0.986281527430265,
          0.8636431673834111,
          1.0506243725442432,
          -0.5641456423079034,
          -1.7863210272933812,
          0.5893189259744791,
          -0.6283981743665769,
          0.9822149186999429,
          0.003621728700036139,
          1.1478470780946737,
          0.9493796075126227,
          2.023151425732341,
          0.8209651038367457,
          -1.436616028751318,
          0.2501161685999158,
          -2.18940427695009,
          1.060005975403017,
          -1.2913373051591328,
          -0.5818461629913243,
          -3.559727068196443,
          0.0429856375186844,
          -0.040441593036933884,
          0.4365405596956291,
          -1.6122927837729488,
          -2.200067677252177,
          1.3741729080719394,
          0.22372429063459934,
          0.35456006418455993,
          1.0268798296954587,
          1.2483904845694946,
          0.06803355363766585,
          -1.215641873426893,
          -1.0092547114079848,
          -0.18928431766049622,
          -0.13624175059188193,
          -1.124654032729839,
          1.906287147681474,
          0.22227594199144093,
          -1.1680813787099484,
          1.2448035827666633,
          0.09448168900829862,
          -1.9213213375620148,
          3.374448829478874,
          -0.4720745251680017,
          1.4237076937233117,
          1.0977579047946182,
          0.27276264592903,
          -0.7071666774547971,
          0.4579682494563629,
          0.7812645170577213,
          0.6940016369921731,
          -1.6670428257540362,
          0.10479754129686403,
          2.0521391141627117,
          -0.5894929196802318,
          0.2086275444892075,
          -0.3943158555219555,
          -0.001962682381986401,
          0.5061562116185518,
          -1.31068766067125,
          1.1458984485772514,
          0.07746205451031746,
          0.42117143238154464,
          0.022396537274275884,
          0.3832423647923307,
          -0.7142696921980415,
          1.5759715705521424,
          -1.0948757064584989,
          -0.3578123661598927,
          -0.1388499152089222,
          -1.0316315826678573,
          0.14133939011217816,
          -0.7236948335615198,
          -1.0461981495376964,
          -0.860425552617968,
          0.6838366995531965,
          0.5019976649548585,
          -0.2698604416378836,
          0.020026700999118248,
          0.7382030841174992,
          -1.0107550832011862,
          -0.9809011420879843,
          0.40108331476893583,
          0.06473151369985368,
          1.8746933818594682,
          0.2515041968308312,
          -0.9807717470558058,
          0.40762164463885214,
          -1.1849158622412188,
          -0.17364781870766738,
          -1.4336904561145787,
          0.6915743124241517,
          0.010826914274588933,
          0.20377929746820334,
          -2.995026620423591,
          -1.2399719772534463,
          0.8788721868956764
         ],
         "yaxis": "y4"
        },
        {
         "line": {
          "color": "rgba(128, 128, 128, 1.0)",
          "dash": "solid",
          "shape": "linear",
          "width": 1.3
         },
         "marker": {
          "size": 2,
          "symbol": "circle"
         },
         "mode": "markers",
         "name": "B",
         "text": "",
         "type": "scatter",
         "x": [
          0.2991550861198565,
          -0.3841492154014665,
          -1.4955874438548968,
          -0.986281527430265,
          0.8636431673834111,
          1.0506243725442432,
          -0.5641456423079034,
          -1.7863210272933812,
          0.5893189259744791,
          -0.6283981743665769,
          0.9822149186999429,
          0.003621728700036139,
          1.1478470780946737,
          0.9493796075126227,
          2.023151425732341,
          0.8209651038367457,
          -1.436616028751318,
          0.2501161685999158,
          -2.18940427695009,
          1.060005975403017,
          -1.2913373051591328,
          -0.5818461629913243,
          -3.559727068196443,
          0.0429856375186844,
          -0.040441593036933884,
          0.4365405596956291,
          -1.6122927837729488,
          -2.200067677252177,
          1.3741729080719394,
          0.22372429063459934,
          0.35456006418455993,
          1.0268798296954587,
          1.2483904845694946,
          0.06803355363766585,
          -1.215641873426893,
          -1.0092547114079848,
          -0.18928431766049622,
          -0.13624175059188193,
          -1.124654032729839,
          1.906287147681474,
          0.22227594199144093,
          -1.1680813787099484,
          1.2448035827666633,
          0.09448168900829862,
          -1.9213213375620148,
          3.374448829478874,
          -0.4720745251680017,
          1.4237076937233117,
          1.0977579047946182,
          0.27276264592903,
          -0.7071666774547971,
          0.4579682494563629,
          0.7812645170577213,
          0.6940016369921731,
          -1.6670428257540362,
          0.10479754129686403,
          2.0521391141627117,
          -0.5894929196802318,
          0.2086275444892075,
          -0.3943158555219555,
          -0.001962682381986401,
          0.5061562116185518,
          -1.31068766067125,
          1.1458984485772514,
          0.07746205451031746,
          0.42117143238154464,
          0.022396537274275884,
          0.3832423647923307,
          -0.7142696921980415,
          1.5759715705521424,
          -1.0948757064584989,
          -0.3578123661598927,
          -0.1388499152089222,
          -1.0316315826678573,
          0.14133939011217816,
          -0.7236948335615198,
          -1.0461981495376964,
          -0.860425552617968,
          0.6838366995531965,
          0.5019976649548585,
          -0.2698604416378836,
          0.020026700999118248,
          0.7382030841174992,
          -1.0107550832011862,
          -0.9809011420879843,
          0.40108331476893583,
          0.06473151369985368,
          1.8746933818594682,
          0.2515041968308312,
          -0.9807717470558058,
          0.40762164463885214,
          -1.1849158622412188,
          -0.17364781870766738,
          -1.4336904561145787,
          0.6915743124241517,
          0.010826914274588933,
          0.20377929746820334,
          -2.995026620423591,
          -1.2399719772534463,
          0.8788721868956764
         ],
         "xaxis": "x5",
         "y": [
          0.780112161625848,
          -0.6622020441579575,
          0.19603094116590988,
          0.9444435813517414,
          2.0190065917990325,
          0.43722776902737875,
          0.6764390904739006,
          -1.0318392658003315,
          -0.7052936531538087,
          -1.2207048933585274,
          -0.022498175312445908,
          -0.47514400008103796,
          0.015631345678703647,
          0.49166903297101733,
          -0.4463750385965351,
          -1.2532070399499404,
          0.017542246804112673,
          -0.7570882592644229,
          -1.2012136807274745,
          0.7886948763755939,
          -0.8693486963450223,
          0.9010537168023657,
          -0.5770469082718713,
          -0.1030991380904987,
          0.5338436665524187,
          1.1155594158041637,
          0.26391870421043223,
          1.3232294736026364,
          0.7630229489633639,
          1.632035218409037,
          1.5207097499353,
          -0.0006879736573673989,
          -1.21103828452234,
          1.34662009347215,
          0.9975735907200801,
          0.9551360071731924,
          -1.0722210696166834,
          -1.7265754758738259,
          0.04129037780678675,
          -0.7132244284043963,
          -1.0579130080408146,
          2.81148193442505,
          -0.04184454642460926,
          0.7307795091345204,
          -0.29943747215028277,
          0.6791011913122792,
          0.7539025548648147,
          -0.8199570302339777,
          0.6835533635051066,
          -0.37718640289622646,
          -1.4905040103618956,
          -0.8423691944628268,
          -0.16584257158889373,
          -1.4330757918373824,
          0.9461603473737706,
          -0.15290838198858106,
          -0.16205848298241507,
          0.02130880292795404,
          -1.4961741662057277,
          0.4484982571308183,
          0.18922260769185564,
          0.7710099389584645,
          -1.4518000619214029,
          -0.5812770284876827,
          0.5146202678161,
          0.9315853354882877,
          -0.9603288937961088,
          -1.103370479561761,
          -0.47745010276254535,
          0.9336441074488008,
          1.2560789857109207,
          -0.5249525108676631,
          0.9324462586812953,
          -0.8005665398613003,
          -0.4671893294403345,
          0.14609976572579939,
          0.030765176545579104,
          0.9842394461832488,
          -0.6094735362782722,
          0.5726121277992451,
          0.9344438360939703,
          1.470087261607474,
          0.6444928799223439,
          -1.8503301390802411,
          0.784695912134507,
          -0.1797897094423723,
          2.3847821119754022,
          -1.3412772928554055,
          0.5857245773958671,
          -0.44248615438473105,
          1.02478023997563,
          -0.10167432812782703,
          -0.46321591080833774,
          -1.0606116126026808,
          1.0757078100996635,
          -0.2948219640020998,
          0.4688053405721653,
          1.5442197803396982,
          2.561137988024716,
          0.051745092191318
         ],
         "yaxis": "y5"
        },
        {
         "histfunc": "count",
         "histnorm": "",
         "marker": {
          "color": "rgba(55, 128, 191, 1.0)",
          "line": {
           "color": "#4D5663",
           "width": 1.3
          }
         },
         "name": "B",
         "nbinsx": 10,
         "opacity": 0.8,
         "orientation": "v",
         "type": "histogram",
         "x": [
          0.780112161625848,
          -0.6622020441579575,
          0.19603094116590988,
          0.9444435813517414,
          2.0190065917990325,
          0.43722776902737875,
          0.6764390904739006,
          -1.0318392658003315,
          -0.7052936531538087,
          -1.2207048933585274,
          -0.022498175312445908,
          -0.47514400008103796,
          0.015631345678703647,
          0.49166903297101733,
          -0.4463750385965351,
          -1.2532070399499404,
          0.017542246804112673,
          -0.7570882592644229,
          -1.2012136807274745,
          0.7886948763755939,
          -0.8693486963450223,
          0.9010537168023657,
          -0.5770469082718713,
          -0.1030991380904987,
          0.5338436665524187,
          1.1155594158041637,
          0.26391870421043223,
          1.3232294736026364,
          0.7630229489633639,
          1.632035218409037,
          1.5207097499353,
          -0.0006879736573673989,
          -1.21103828452234,
          1.34662009347215,
          0.9975735907200801,
          0.9551360071731924,
          -1.0722210696166834,
          -1.7265754758738259,
          0.04129037780678675,
          -0.7132244284043963,
          -1.0579130080408146,
          2.81148193442505,
          -0.04184454642460926,
          0.7307795091345204,
          -0.29943747215028277,
          0.6791011913122792,
          0.7539025548648147,
          -0.8199570302339777,
          0.6835533635051066,
          -0.37718640289622646,
          -1.4905040103618956,
          -0.8423691944628268,
          -0.16584257158889373,
          -1.4330757918373824,
          0.9461603473737706,
          -0.15290838198858106,
          -0.16205848298241507,
          0.02130880292795404,
          -1.4961741662057277,
          0.4484982571308183,
          0.18922260769185564,
          0.7710099389584645,
          -1.4518000619214029,
          -0.5812770284876827,
          0.5146202678161,
          0.9315853354882877,
          -0.9603288937961088,
          -1.103370479561761,
          -0.47745010276254535,
          0.9336441074488008,
          1.2560789857109207,
          -0.5249525108676631,
          0.9324462586812953,
          -0.8005665398613003,
          -0.4671893294403345,
          0.14609976572579939,
          0.030765176545579104,
          0.9842394461832488,
          -0.6094735362782722,
          0.5726121277992451,
          0.9344438360939703,
          1.470087261607474,
          0.6444928799223439,
          -1.8503301390802411,
          0.784695912134507,
          -0.1797897094423723,
          2.3847821119754022,
          -1.3412772928554055,
          0.5857245773958671,
          -0.44248615438473105,
          1.02478023997563,
          -0.10167432812782703,
          -0.46321591080833774,
          -1.0606116126026808,
          1.0757078100996635,
          -0.2948219640020998,
          0.4688053405721653,
          1.5442197803396982,
          2.561137988024716,
          0.051745092191318
         ],
         "xaxis": "x6",
         "yaxis": "y6"
        },
        {
         "line": {
          "color": "rgba(128, 128, 128, 1.0)",
          "dash": "solid",
          "shape": "linear",
          "width": 1.3
         },
         "marker": {
          "size": 2,
          "symbol": "circle"
         },
         "mode": "markers",
         "name": "B",
         "text": "",
         "type": "scatter",
         "x": [
          1.1423634363741173,
          0.11354051020682208,
          -2.195583075117904,
          -0.33536116350557,
          -0.47549123530692866,
          -0.4106247459547766,
          -1.2434649090000875,
          -1.6995213033682308,
          -0.6081257506754546,
          -0.08870672787977858,
          0.6400925329494375,
          0.7492341616274301,
          0.16747095277849683,
          1.2968374993604779,
          -2.11404568038147,
          -0.563870009286686,
          0.8310938582415069,
          2.325419671879464,
          0.20055448776283155,
          0.5085397117888597,
          -0.4080914801575566,
          1.6542943160162975,
          -0.5331072937653337,
          0.7586177614979411,
          0.9619927684630707,
          0.2559644805724021,
          0.5745188773744764,
          -0.5816583601699434,
          -1.429056679405346,
          0.7315998311231716,
          0.6783867139905609,
          -0.06078445221535873,
          0.27448110310334706,
          -1.16371229034305,
          -0.1398511030843688,
          0.006467377516567309,
          0.6562352588868274,
          -1.6448244488522312,
          0.3298352278087413,
          2.003002042268774,
          -1.0758696623884252,
          -0.11305940455786344,
          0.6029361517624183,
          -0.38271978469230267,
          0.7889985572895265,
          -1.741867773942648,
          -0.5174334505631387,
          0.3259635252071674,
          -0.28872347544954446,
          0.3596389037175514,
          0.009698255852205134,
          1.0793001511861586,
          1.1043921528612646,
          1.0891752844370528,
          -0.3566970439593109,
          0.21139128359993414,
          0.05023798480313808,
          0.2702500935425811,
          -1.361135025379144,
          -0.3356238142654462,
          -1.013962607948839,
          1.1381971032466252,
          -1.0107879455790383,
          0.7102149307995549,
          -0.9014591620430444,
          0.011895983352500345,
          -1.355067914607825,
          -0.15806123579869188,
          0.8023249003467309,
          1.4031343144422532,
          1.1345576048882402,
          -1.9137650864186122,
          -0.35305712873931205,
          -0.5552220851118872,
          -0.3100997841387888,
          1.1377680718610916,
          1.9065212557664553,
          -0.7063511867117129,
          -1.1490229352835497,
          -1.3530811813693597,
          0.5007106025210825,
          0.4796809706467747,
          1.8502387431840992,
          1.741994450617839,
          1.5862413863845208,
          -1.1472907598345856,
          0.8650500659149919,
          -0.33112805916725235,
          -0.18940943108872416,
          1.1662346250655902,
          -0.7525493252195511,
          -0.7556309869007968,
          0.6091473126481534,
          0.5162032920138211,
          0.7749536056718792,
          0.8177099736481309,
          2.4469257320693023,
          0.38013644896258414,
          0.20817582521403424,
          0.8467603806994561
         ],
         "xaxis": "x7",
         "y": [
          0.780112161625848,
          -0.6622020441579575,
          0.19603094116590988,
          0.9444435813517414,
          2.0190065917990325,
          0.43722776902737875,
          0.6764390904739006,
          -1.0318392658003315,
          -0.7052936531538087,
          -1.2207048933585274,
          -0.022498175312445908,
          -0.47514400008103796,
          0.015631345678703647,
          0.49166903297101733,
          -0.4463750385965351,
          -1.2532070399499404,
          0.017542246804112673,
          -0.7570882592644229,
          -1.2012136807274745,
          0.7886948763755939,
          -0.8693486963450223,
          0.9010537168023657,
          -0.5770469082718713,
          -0.1030991380904987,
          0.5338436665524187,
          1.1155594158041637,
          0.26391870421043223,
          1.3232294736026364,
          0.7630229489633639,
          1.632035218409037,
          1.5207097499353,
          -0.0006879736573673989,
          -1.21103828452234,
          1.34662009347215,
          0.9975735907200801,
          0.9551360071731924,
          -1.0722210696166834,
          -1.7265754758738259,
          0.04129037780678675,
          -0.7132244284043963,
          -1.0579130080408146,
          2.81148193442505,
          -0.04184454642460926,
          0.7307795091345204,
          -0.29943747215028277,
          0.6791011913122792,
          0.7539025548648147,
          -0.8199570302339777,
          0.6835533635051066,
          -0.37718640289622646,
          -1.4905040103618956,
          -0.8423691944628268,
          -0.16584257158889373,
          -1.4330757918373824,
          0.9461603473737706,
          -0.15290838198858106,
          -0.16205848298241507,
          0.02130880292795404,
          -1.4961741662057277,
          0.4484982571308183,
          0.18922260769185564,
          0.7710099389584645,
          -1.4518000619214029,
          -0.5812770284876827,
          0.5146202678161,
          0.9315853354882877,
          -0.9603288937961088,
          -1.103370479561761,
          -0.47745010276254535,
          0.9336441074488008,
          1.2560789857109207,
          -0.5249525108676631,
          0.9324462586812953,
          -0.8005665398613003,
          -0.4671893294403345,
          0.14609976572579939,
          0.030765176545579104,
          0.9842394461832488,
          -0.6094735362782722,
          0.5726121277992451,
          0.9344438360939703,
          1.470087261607474,
          0.6444928799223439,
          -1.8503301390802411,
          0.784695912134507,
          -0.1797897094423723,
          2.3847821119754022,
          -1.3412772928554055,
          0.5857245773958671,
          -0.44248615438473105,
          1.02478023997563,
          -0.10167432812782703,
          -0.46321591080833774,
          -1.0606116126026808,
          1.0757078100996635,
          -0.2948219640020998,
          0.4688053405721653,
          1.5442197803396982,
          2.561137988024716,
          0.051745092191318
         ],
         "yaxis": "y7"
        },
        {
         "line": {
          "color": "rgba(128, 128, 128, 1.0)",
          "dash": "solid",
          "shape": "linear",
          "width": 1.3
         },
         "marker": {
          "size": 2,
          "symbol": "circle"
         },
         "mode": "markers",
         "name": "B",
         "text": "",
         "type": "scatter",
         "x": [
          -0.8496942648665607,
          0.41805640187036686,
          -0.9878282660079463,
          -1.5663266173229944,
          0.5059032376608317,
          -0.10101444172877458,
          1.023870814958945,
          1.0776469981944543,
          0.6031197823516035,
          -0.22220860549894053,
          -0.3716384094671871,
          -1.011491658471745,
          0.18855313183096936,
          0.6095096951627761,
          0.5962586882091566,
          -0.04173088142268591,
          -0.044192706512440484,
          -0.44107380721013006,
          -0.21142501415456913,
          0.24099050809879638,
          -0.47309509430223495,
          0.18720304373616822,
          -0.46682798780266954,
          0.26713935774844777,
          -0.046718955928361935,
          0.4786827527183718,
          1.224915444840153,
          0.900313638190235,
          -0.07993912419356818,
          0.22720760688973018,
          0.16741097980313763,
          -1.6971807713758618,
          0.26285857526526424,
          -0.8481473003171561,
          1.0019832458818996,
          -0.23890963837799392,
          -0.32518323790702136,
          -1.4214659093213708,
          0.7689677362511844,
          0.720454370048769,
          1.4120436891805468,
          -0.8885013713475357,
          0.49015465824590326,
          0.318721809076388,
          1.408170320673189,
          -0.9053600991879266,
          0.5596848983027292,
          0.5874387471118737,
          -1.3452790015989369,
          -1.0919949952111225,
          0.6190528365348118,
          1.0988301926896742,
          -1.2262042653555452,
          0.3431693872520292,
          0.12570110604857224,
          0.5271309083354175,
          0.24856255460548599,
          -1.2298878838865044,
          -0.1965012336229207,
          -0.6573776808010089,
          0.24786892848275827,
          -0.6830478001558176,
          -0.7184522746832681,
          -0.9994117954392141,
          0.050962641175703705,
          -2.2732965954839375,
          0.34000553606582534,
          -0.23062189624052834,
          -0.3001576898399603,
          -1.3700987482748903,
          -0.6388222587410752,
          -1.1197675654055868,
          0.08116978578069725,
          -0.7913930689421255,
          0.03301550712197834,
          0.8346833733450515,
          -0.7188138613391741,
          1.4893496436241953,
          0.9858869294808674,
          1.6034117721274181,
          1.4994358157770709,
          0.045951459501008415,
          -1.7549269371629004,
          1.4269179974818211,
          0.013196565836392126,
          -0.616471222732565,
          -0.3572376899508515,
          -0.5911000876319832,
          0.06643642138436352,
          -0.28657629214746766,
          -0.13340202720961356,
          0.9454106134171025,
          -0.3627861661237746,
          0.2838870032276294,
          -0.5272096839790353,
          -0.5455315712911585,
          -0.594008118453773,
          0.6669525024563863,
          0.3405305426784978,
          -1.5299087920635688
         ],
         "xaxis": "x8",
         "y": [
          0.780112161625848,
          -0.6622020441579575,
          0.19603094116590988,
          0.9444435813517414,
          2.0190065917990325,
          0.43722776902737875,
          0.6764390904739006,
          -1.0318392658003315,
          -0.7052936531538087,
          -1.2207048933585274,
          -0.022498175312445908,
          -0.47514400008103796,
          0.015631345678703647,
          0.49166903297101733,
          -0.4463750385965351,
          -1.2532070399499404,
          0.017542246804112673,
          -0.7570882592644229,
          -1.2012136807274745,
          0.7886948763755939,
          -0.8693486963450223,
          0.9010537168023657,
          -0.5770469082718713,
          -0.1030991380904987,
          0.5338436665524187,
          1.1155594158041637,
          0.26391870421043223,
          1.3232294736026364,
          0.7630229489633639,
          1.632035218409037,
          1.5207097499353,
          -0.0006879736573673989,
          -1.21103828452234,
          1.34662009347215,
          0.9975735907200801,
          0.9551360071731924,
          -1.0722210696166834,
          -1.7265754758738259,
          0.04129037780678675,
          -0.7132244284043963,
          -1.0579130080408146,
          2.81148193442505,
          -0.04184454642460926,
          0.7307795091345204,
          -0.29943747215028277,
          0.6791011913122792,
          0.7539025548648147,
          -0.8199570302339777,
          0.6835533635051066,
          -0.37718640289622646,
          -1.4905040103618956,
          -0.8423691944628268,
          -0.16584257158889373,
          -1.4330757918373824,
          0.9461603473737706,
          -0.15290838198858106,
          -0.16205848298241507,
          0.02130880292795404,
          -1.4961741662057277,
          0.4484982571308183,
          0.18922260769185564,
          0.7710099389584645,
          -1.4518000619214029,
          -0.5812770284876827,
          0.5146202678161,
          0.9315853354882877,
          -0.9603288937961088,
          -1.103370479561761,
          -0.47745010276254535,
          0.9336441074488008,
          1.2560789857109207,
          -0.5249525108676631,
          0.9324462586812953,
          -0.8005665398613003,
          -0.4671893294403345,
          0.14609976572579939,
          0.030765176545579104,
          0.9842394461832488,
          -0.6094735362782722,
          0.5726121277992451,
          0.9344438360939703,
          1.470087261607474,
          0.6444928799223439,
          -1.8503301390802411,
          0.784695912134507,
          -0.1797897094423723,
          2.3847821119754022,
          -1.3412772928554055,
          0.5857245773958671,
          -0.44248615438473105,
          1.02478023997563,
          -0.10167432812782703,
          -0.46321591080833774,
          -1.0606116126026808,
          1.0757078100996635,
          -0.2948219640020998,
          0.4688053405721653,
          1.5442197803396982,
          2.561137988024716,
          0.051745092191318
         ],
         "yaxis": "y8"
        },
        {
         "line": {
          "color": "rgba(128, 128, 128, 1.0)",
          "dash": "solid",
          "shape": "linear",
          "width": 1.3
         },
         "marker": {
          "size": 2,
          "symbol": "circle"
         },
         "mode": "markers",
         "name": "C",
         "text": "",
         "type": "scatter",
         "x": [
          0.2991550861198565,
          -0.3841492154014665,
          -1.4955874438548968,
          -0.986281527430265,
          0.8636431673834111,
          1.0506243725442432,
          -0.5641456423079034,
          -1.7863210272933812,
          0.5893189259744791,
          -0.6283981743665769,
          0.9822149186999429,
          0.003621728700036139,
          1.1478470780946737,
          0.9493796075126227,
          2.023151425732341,
          0.8209651038367457,
          -1.436616028751318,
          0.2501161685999158,
          -2.18940427695009,
          1.060005975403017,
          -1.2913373051591328,
          -0.5818461629913243,
          -3.559727068196443,
          0.0429856375186844,
          -0.040441593036933884,
          0.4365405596956291,
          -1.6122927837729488,
          -2.200067677252177,
          1.3741729080719394,
          0.22372429063459934,
          0.35456006418455993,
          1.0268798296954587,
          1.2483904845694946,
          0.06803355363766585,
          -1.215641873426893,
          -1.0092547114079848,
          -0.18928431766049622,
          -0.13624175059188193,
          -1.124654032729839,
          1.906287147681474,
          0.22227594199144093,
          -1.1680813787099484,
          1.2448035827666633,
          0.09448168900829862,
          -1.9213213375620148,
          3.374448829478874,
          -0.4720745251680017,
          1.4237076937233117,
          1.0977579047946182,
          0.27276264592903,
          -0.7071666774547971,
          0.4579682494563629,
          0.7812645170577213,
          0.6940016369921731,
          -1.6670428257540362,
          0.10479754129686403,
          2.0521391141627117,
          -0.5894929196802318,
          0.2086275444892075,
          -0.3943158555219555,
          -0.001962682381986401,
          0.5061562116185518,
          -1.31068766067125,
          1.1458984485772514,
          0.07746205451031746,
          0.42117143238154464,
          0.022396537274275884,
          0.3832423647923307,
          -0.7142696921980415,
          1.5759715705521424,
          -1.0948757064584989,
          -0.3578123661598927,
          -0.1388499152089222,
          -1.0316315826678573,
          0.14133939011217816,
          -0.7236948335615198,
          -1.0461981495376964,
          -0.860425552617968,
          0.6838366995531965,
          0.5019976649548585,
          -0.2698604416378836,
          0.020026700999118248,
          0.7382030841174992,
          -1.0107550832011862,
          -0.9809011420879843,
          0.40108331476893583,
          0.06473151369985368,
          1.8746933818594682,
          0.2515041968308312,
          -0.9807717470558058,
          0.40762164463885214,
          -1.1849158622412188,
          -0.17364781870766738,
          -1.4336904561145787,
          0.6915743124241517,
          0.010826914274588933,
          0.20377929746820334,
          -2.995026620423591,
          -1.2399719772534463,
          0.8788721868956764
         ],
         "xaxis": "x9",
         "y": [
          1.1423634363741173,
          0.11354051020682208,
          -2.195583075117904,
          -0.33536116350557,
          -0.47549123530692866,
          -0.4106247459547766,
          -1.2434649090000875,
          -1.6995213033682308,
          -0.6081257506754546,
          -0.08870672787977858,
          0.6400925329494375,
          0.7492341616274301,
          0.16747095277849683,
          1.2968374993604779,
          -2.11404568038147,
          -0.563870009286686,
          0.8310938582415069,
          2.325419671879464,
          0.20055448776283155,
          0.5085397117888597,
          -0.4080914801575566,
          1.6542943160162975,
          -0.5331072937653337,
          0.7586177614979411,
          0.9619927684630707,
          0.2559644805724021,
          0.5745188773744764,
          -0.5816583601699434,
          -1.429056679405346,
          0.7315998311231716,
          0.6783867139905609,
          -0.06078445221535873,
          0.27448110310334706,
          -1.16371229034305,
          -0.1398511030843688,
          0.006467377516567309,
          0.6562352588868274,
          -1.6448244488522312,
          0.3298352278087413,
          2.003002042268774,
          -1.0758696623884252,
          -0.11305940455786344,
          0.6029361517624183,
          -0.38271978469230267,
          0.7889985572895265,
          -1.741867773942648,
          -0.5174334505631387,
          0.3259635252071674,
          -0.28872347544954446,
          0.3596389037175514,
          0.009698255852205134,
          1.0793001511861586,
          1.1043921528612646,
          1.0891752844370528,
          -0.3566970439593109,
          0.21139128359993414,
          0.05023798480313808,
          0.2702500935425811,
          -1.361135025379144,
          -0.3356238142654462,
          -1.013962607948839,
          1.1381971032466252,
          -1.0107879455790383,
          0.7102149307995549,
          -0.9014591620430444,
          0.011895983352500345,
          -1.355067914607825,
          -0.15806123579869188,
          0.8023249003467309,
          1.4031343144422532,
          1.1345576048882402,
          -1.9137650864186122,
          -0.35305712873931205,
          -0.5552220851118872,
          -0.3100997841387888,
          1.1377680718610916,
          1.9065212557664553,
          -0.7063511867117129,
          -1.1490229352835497,
          -1.3530811813693597,
          0.5007106025210825,
          0.4796809706467747,
          1.8502387431840992,
          1.741994450617839,
          1.5862413863845208,
          -1.1472907598345856,
          0.8650500659149919,
          -0.33112805916725235,
          -0.18940943108872416,
          1.1662346250655902,
          -0.7525493252195511,
          -0.7556309869007968,
          0.6091473126481534,
          0.5162032920138211,
          0.7749536056718792,
          0.8177099736481309,
          2.4469257320693023,
          0.38013644896258414,
          0.20817582521403424,
          0.8467603806994561
         ],
         "yaxis": "y9"
        },
        {
         "line": {
          "color": "rgba(128, 128, 128, 1.0)",
          "dash": "solid",
          "shape": "linear",
          "width": 1.3
         },
         "marker": {
          "size": 2,
          "symbol": "circle"
         },
         "mode": "markers",
         "name": "C",
         "text": "",
         "type": "scatter",
         "x": [
          0.780112161625848,
          -0.6622020441579575,
          0.19603094116590988,
          0.9444435813517414,
          2.0190065917990325,
          0.43722776902737875,
          0.6764390904739006,
          -1.0318392658003315,
          -0.7052936531538087,
          -1.2207048933585274,
          -0.022498175312445908,
          -0.47514400008103796,
          0.015631345678703647,
          0.49166903297101733,
          -0.4463750385965351,
          -1.2532070399499404,
          0.017542246804112673,
          -0.7570882592644229,
          -1.2012136807274745,
          0.7886948763755939,
          -0.8693486963450223,
          0.9010537168023657,
          -0.5770469082718713,
          -0.1030991380904987,
          0.5338436665524187,
          1.1155594158041637,
          0.26391870421043223,
          1.3232294736026364,
          0.7630229489633639,
          1.632035218409037,
          1.5207097499353,
          -0.0006879736573673989,
          -1.21103828452234,
          1.34662009347215,
          0.9975735907200801,
          0.9551360071731924,
          -1.0722210696166834,
          -1.7265754758738259,
          0.04129037780678675,
          -0.7132244284043963,
          -1.0579130080408146,
          2.81148193442505,
          -0.04184454642460926,
          0.7307795091345204,
          -0.29943747215028277,
          0.6791011913122792,
          0.7539025548648147,
          -0.8199570302339777,
          0.6835533635051066,
          -0.37718640289622646,
          -1.4905040103618956,
          -0.8423691944628268,
          -0.16584257158889373,
          -1.4330757918373824,
          0.9461603473737706,
          -0.15290838198858106,
          -0.16205848298241507,
          0.02130880292795404,
          -1.4961741662057277,
          0.4484982571308183,
          0.18922260769185564,
          0.7710099389584645,
          -1.4518000619214029,
          -0.5812770284876827,
          0.5146202678161,
          0.9315853354882877,
          -0.9603288937961088,
          -1.103370479561761,
          -0.47745010276254535,
          0.9336441074488008,
          1.2560789857109207,
          -0.5249525108676631,
          0.9324462586812953,
          -0.8005665398613003,
          -0.4671893294403345,
          0.14609976572579939,
          0.030765176545579104,
          0.9842394461832488,
          -0.6094735362782722,
          0.5726121277992451,
          0.9344438360939703,
          1.470087261607474,
          0.6444928799223439,
          -1.8503301390802411,
          0.784695912134507,
          -0.1797897094423723,
          2.3847821119754022,
          -1.3412772928554055,
          0.5857245773958671,
          -0.44248615438473105,
          1.02478023997563,
          -0.10167432812782703,
          -0.46321591080833774,
          -1.0606116126026808,
          1.0757078100996635,
          -0.2948219640020998,
          0.4688053405721653,
          1.5442197803396982,
          2.561137988024716,
          0.051745092191318
         ],
         "xaxis": "x10",
         "y": [
          1.1423634363741173,
          0.11354051020682208,
          -2.195583075117904,
          -0.33536116350557,
          -0.47549123530692866,
          -0.4106247459547766,
          -1.2434649090000875,
          -1.6995213033682308,
          -0.6081257506754546,
          -0.08870672787977858,
          0.6400925329494375,
          0.7492341616274301,
          0.16747095277849683,
          1.2968374993604779,
          -2.11404568038147,
          -0.563870009286686,
          0.8310938582415069,
          2.325419671879464,
          0.20055448776283155,
          0.5085397117888597,
          -0.4080914801575566,
          1.6542943160162975,
          -0.5331072937653337,
          0.7586177614979411,
          0.9619927684630707,
          0.2559644805724021,
          0.5745188773744764,
          -0.5816583601699434,
          -1.429056679405346,
          0.7315998311231716,
          0.6783867139905609,
          -0.06078445221535873,
          0.27448110310334706,
          -1.16371229034305,
          -0.1398511030843688,
          0.006467377516567309,
          0.6562352588868274,
          -1.6448244488522312,
          0.3298352278087413,
          2.003002042268774,
          -1.0758696623884252,
          -0.11305940455786344,
          0.6029361517624183,
          -0.38271978469230267,
          0.7889985572895265,
          -1.741867773942648,
          -0.5174334505631387,
          0.3259635252071674,
          -0.28872347544954446,
          0.3596389037175514,
          0.009698255852205134,
          1.0793001511861586,
          1.1043921528612646,
          1.0891752844370528,
          -0.3566970439593109,
          0.21139128359993414,
          0.05023798480313808,
          0.2702500935425811,
          -1.361135025379144,
          -0.3356238142654462,
          -1.013962607948839,
          1.1381971032466252,
          -1.0107879455790383,
          0.7102149307995549,
          -0.9014591620430444,
          0.011895983352500345,
          -1.355067914607825,
          -0.15806123579869188,
          0.8023249003467309,
          1.4031343144422532,
          1.1345576048882402,
          -1.9137650864186122,
          -0.35305712873931205,
          -0.5552220851118872,
          -0.3100997841387888,
          1.1377680718610916,
          1.9065212557664553,
          -0.7063511867117129,
          -1.1490229352835497,
          -1.3530811813693597,
          0.5007106025210825,
          0.4796809706467747,
          1.8502387431840992,
          1.741994450617839,
          1.5862413863845208,
          -1.1472907598345856,
          0.8650500659149919,
          -0.33112805916725235,
          -0.18940943108872416,
          1.1662346250655902,
          -0.7525493252195511,
          -0.7556309869007968,
          0.6091473126481534,
          0.5162032920138211,
          0.7749536056718792,
          0.8177099736481309,
          2.4469257320693023,
          0.38013644896258414,
          0.20817582521403424,
          0.8467603806994561
         ],
         "yaxis": "y10"
        },
        {
         "histfunc": "count",
         "histnorm": "",
         "marker": {
          "color": "rgba(50, 171, 96, 1.0)",
          "line": {
           "color": "#4D5663",
           "width": 1.3
          }
         },
         "name": "C",
         "nbinsx": 10,
         "opacity": 0.8,
         "orientation": "v",
         "type": "histogram",
         "x": [
          1.1423634363741173,
          0.11354051020682208,
          -2.195583075117904,
          -0.33536116350557,
          -0.47549123530692866,
          -0.4106247459547766,
          -1.2434649090000875,
          -1.6995213033682308,
          -0.6081257506754546,
          -0.08870672787977858,
          0.6400925329494375,
          0.7492341616274301,
          0.16747095277849683,
          1.2968374993604779,
          -2.11404568038147,
          -0.563870009286686,
          0.8310938582415069,
          2.325419671879464,
          0.20055448776283155,
          0.5085397117888597,
          -0.4080914801575566,
          1.6542943160162975,
          -0.5331072937653337,
          0.7586177614979411,
          0.9619927684630707,
          0.2559644805724021,
          0.5745188773744764,
          -0.5816583601699434,
          -1.429056679405346,
          0.7315998311231716,
          0.6783867139905609,
          -0.06078445221535873,
          0.27448110310334706,
          -1.16371229034305,
          -0.1398511030843688,
          0.006467377516567309,
          0.6562352588868274,
          -1.6448244488522312,
          0.3298352278087413,
          2.003002042268774,
          -1.0758696623884252,
          -0.11305940455786344,
          0.6029361517624183,
          -0.38271978469230267,
          0.7889985572895265,
          -1.741867773942648,
          -0.5174334505631387,
          0.3259635252071674,
          -0.28872347544954446,
          0.3596389037175514,
          0.009698255852205134,
          1.0793001511861586,
          1.1043921528612646,
          1.0891752844370528,
          -0.3566970439593109,
          0.21139128359993414,
          0.05023798480313808,
          0.2702500935425811,
          -1.361135025379144,
          -0.3356238142654462,
          -1.013962607948839,
          1.1381971032466252,
          -1.0107879455790383,
          0.7102149307995549,
          -0.9014591620430444,
          0.011895983352500345,
          -1.355067914607825,
          -0.15806123579869188,
          0.8023249003467309,
          1.4031343144422532,
          1.1345576048882402,
          -1.9137650864186122,
          -0.35305712873931205,
          -0.5552220851118872,
          -0.3100997841387888,
          1.1377680718610916,
          1.9065212557664553,
          -0.7063511867117129,
          -1.1490229352835497,
          -1.3530811813693597,
          0.5007106025210825,
          0.4796809706467747,
          1.8502387431840992,
          1.741994450617839,
          1.5862413863845208,
          -1.1472907598345856,
          0.8650500659149919,
          -0.33112805916725235,
          -0.18940943108872416,
          1.1662346250655902,
          -0.7525493252195511,
          -0.7556309869007968,
          0.6091473126481534,
          0.5162032920138211,
          0.7749536056718792,
          0.8177099736481309,
          2.4469257320693023,
          0.38013644896258414,
          0.20817582521403424,
          0.8467603806994561
         ],
         "xaxis": "x11",
         "yaxis": "y11"
        },
        {
         "line": {
          "color": "rgba(128, 128, 128, 1.0)",
          "dash": "solid",
          "shape": "linear",
          "width": 1.3
         },
         "marker": {
          "size": 2,
          "symbol": "circle"
         },
         "mode": "markers",
         "name": "C",
         "text": "",
         "type": "scatter",
         "x": [
          -0.8496942648665607,
          0.41805640187036686,
          -0.9878282660079463,
          -1.5663266173229944,
          0.5059032376608317,
          -0.10101444172877458,
          1.023870814958945,
          1.0776469981944543,
          0.6031197823516035,
          -0.22220860549894053,
          -0.3716384094671871,
          -1.011491658471745,
          0.18855313183096936,
          0.6095096951627761,
          0.5962586882091566,
          -0.04173088142268591,
          -0.044192706512440484,
          -0.44107380721013006,
          -0.21142501415456913,
          0.24099050809879638,
          -0.47309509430223495,
          0.18720304373616822,
          -0.46682798780266954,
          0.26713935774844777,
          -0.046718955928361935,
          0.4786827527183718,
          1.224915444840153,
          0.900313638190235,
          -0.07993912419356818,
          0.22720760688973018,
          0.16741097980313763,
          -1.6971807713758618,
          0.26285857526526424,
          -0.8481473003171561,
          1.0019832458818996,
          -0.23890963837799392,
          -0.32518323790702136,
          -1.4214659093213708,
          0.7689677362511844,
          0.720454370048769,
          1.4120436891805468,
          -0.8885013713475357,
          0.49015465824590326,
          0.318721809076388,
          1.408170320673189,
          -0.9053600991879266,
          0.5596848983027292,
          0.5874387471118737,
          -1.3452790015989369,
          -1.0919949952111225,
          0.6190528365348118,
          1.0988301926896742,
          -1.2262042653555452,
          0.3431693872520292,
          0.12570110604857224,
          0.5271309083354175,
          0.24856255460548599,
          -1.2298878838865044,
          -0.1965012336229207,
          -0.6573776808010089,
          0.24786892848275827,
          -0.6830478001558176,
          -0.7184522746832681,
          -0.9994117954392141,
          0.050962641175703705,
          -2.2732965954839375,
          0.34000553606582534,
          -0.23062189624052834,
          -0.3001576898399603,
          -1.3700987482748903,
          -0.6388222587410752,
          -1.1197675654055868,
          0.08116978578069725,
          -0.7913930689421255,
          0.03301550712197834,
          0.8346833733450515,
          -0.7188138613391741,
          1.4893496436241953,
          0.9858869294808674,
          1.6034117721274181,
          1.4994358157770709,
          0.045951459501008415,
          -1.7549269371629004,
          1.4269179974818211,
          0.013196565836392126,
          -0.616471222732565,
          -0.3572376899508515,
          -0.5911000876319832,
          0.06643642138436352,
          -0.28657629214746766,
          -0.13340202720961356,
          0.9454106134171025,
          -0.3627861661237746,
          0.2838870032276294,
          -0.5272096839790353,
          -0.5455315712911585,
          -0.594008118453773,
          0.6669525024563863,
          0.3405305426784978,
          -1.5299087920635688
         ],
         "xaxis": "x12",
         "y": [
          1.1423634363741173,
          0.11354051020682208,
          -2.195583075117904,
          -0.33536116350557,
          -0.47549123530692866,
          -0.4106247459547766,
          -1.2434649090000875,
          -1.6995213033682308,
          -0.6081257506754546,
          -0.08870672787977858,
          0.6400925329494375,
          0.7492341616274301,
          0.16747095277849683,
          1.2968374993604779,
          -2.11404568038147,
          -0.563870009286686,
          0.8310938582415069,
          2.325419671879464,
          0.20055448776283155,
          0.5085397117888597,
          -0.4080914801575566,
          1.6542943160162975,
          -0.5331072937653337,
          0.7586177614979411,
          0.9619927684630707,
          0.2559644805724021,
          0.5745188773744764,
          -0.5816583601699434,
          -1.429056679405346,
          0.7315998311231716,
          0.6783867139905609,
          -0.06078445221535873,
          0.27448110310334706,
          -1.16371229034305,
          -0.1398511030843688,
          0.006467377516567309,
          0.6562352588868274,
          -1.6448244488522312,
          0.3298352278087413,
          2.003002042268774,
          -1.0758696623884252,
          -0.11305940455786344,
          0.6029361517624183,
          -0.38271978469230267,
          0.7889985572895265,
          -1.741867773942648,
          -0.5174334505631387,
          0.3259635252071674,
          -0.28872347544954446,
          0.3596389037175514,
          0.009698255852205134,
          1.0793001511861586,
          1.1043921528612646,
          1.0891752844370528,
          -0.3566970439593109,
          0.21139128359993414,
          0.05023798480313808,
          0.2702500935425811,
          -1.361135025379144,
          -0.3356238142654462,
          -1.013962607948839,
          1.1381971032466252,
          -1.0107879455790383,
          0.7102149307995549,
          -0.9014591620430444,
          0.011895983352500345,
          -1.355067914607825,
          -0.15806123579869188,
          0.8023249003467309,
          1.4031343144422532,
          1.1345576048882402,
          -1.9137650864186122,
          -0.35305712873931205,
          -0.5552220851118872,
          -0.3100997841387888,
          1.1377680718610916,
          1.9065212557664553,
          -0.7063511867117129,
          -1.1490229352835497,
          -1.3530811813693597,
          0.5007106025210825,
          0.4796809706467747,
          1.8502387431840992,
          1.741994450617839,
          1.5862413863845208,
          -1.1472907598345856,
          0.8650500659149919,
          -0.33112805916725235,
          -0.18940943108872416,
          1.1662346250655902,
          -0.7525493252195511,
          -0.7556309869007968,
          0.6091473126481534,
          0.5162032920138211,
          0.7749536056718792,
          0.8177099736481309,
          2.4469257320693023,
          0.38013644896258414,
          0.20817582521403424,
          0.8467603806994561
         ],
         "yaxis": "y12"
        },
        {
         "line": {
          "color": "rgba(128, 128, 128, 1.0)",
          "dash": "solid",
          "shape": "linear",
          "width": 1.3
         },
         "marker": {
          "size": 2,
          "symbol": "circle"
         },
         "mode": "markers",
         "name": "D",
         "text": "",
         "type": "scatter",
         "x": [
          0.2991550861198565,
          -0.3841492154014665,
          -1.4955874438548968,
          -0.986281527430265,
          0.8636431673834111,
          1.0506243725442432,
          -0.5641456423079034,
          -1.7863210272933812,
          0.5893189259744791,
          -0.6283981743665769,
          0.9822149186999429,
          0.003621728700036139,
          1.1478470780946737,
          0.9493796075126227,
          2.023151425732341,
          0.8209651038367457,
          -1.436616028751318,
          0.2501161685999158,
          -2.18940427695009,
          1.060005975403017,
          -1.2913373051591328,
          -0.5818461629913243,
          -3.559727068196443,
          0.0429856375186844,
          -0.040441593036933884,
          0.4365405596956291,
          -1.6122927837729488,
          -2.200067677252177,
          1.3741729080719394,
          0.22372429063459934,
          0.35456006418455993,
          1.0268798296954587,
          1.2483904845694946,
          0.06803355363766585,
          -1.215641873426893,
          -1.0092547114079848,
          -0.18928431766049622,
          -0.13624175059188193,
          -1.124654032729839,
          1.906287147681474,
          0.22227594199144093,
          -1.1680813787099484,
          1.2448035827666633,
          0.09448168900829862,
          -1.9213213375620148,
          3.374448829478874,
          -0.4720745251680017,
          1.4237076937233117,
          1.0977579047946182,
          0.27276264592903,
          -0.7071666774547971,
          0.4579682494563629,
          0.7812645170577213,
          0.6940016369921731,
          -1.6670428257540362,
          0.10479754129686403,
          2.0521391141627117,
          -0.5894929196802318,
          0.2086275444892075,
          -0.3943158555219555,
          -0.001962682381986401,
          0.5061562116185518,
          -1.31068766067125,
          1.1458984485772514,
          0.07746205451031746,
          0.42117143238154464,
          0.022396537274275884,
          0.3832423647923307,
          -0.7142696921980415,
          1.5759715705521424,
          -1.0948757064584989,
          -0.3578123661598927,
          -0.1388499152089222,
          -1.0316315826678573,
          0.14133939011217816,
          -0.7236948335615198,
          -1.0461981495376964,
          -0.860425552617968,
          0.6838366995531965,
          0.5019976649548585,
          -0.2698604416378836,
          0.020026700999118248,
          0.7382030841174992,
          -1.0107550832011862,
          -0.9809011420879843,
          0.40108331476893583,
          0.06473151369985368,
          1.8746933818594682,
          0.2515041968308312,
          -0.9807717470558058,
          0.40762164463885214,
          -1.1849158622412188,
          -0.17364781870766738,
          -1.4336904561145787,
          0.6915743124241517,
          0.010826914274588933,
          0.20377929746820334,
          -2.995026620423591,
          -1.2399719772534463,
          0.8788721868956764
         ],
         "xaxis": "x13",
         "y": [
          -0.8496942648665607,
          0.41805640187036686,
          -0.9878282660079463,
          -1.5663266173229944,
          0.5059032376608317,
          -0.10101444172877458,
          1.023870814958945,
          1.0776469981944543,
          0.6031197823516035,
          -0.22220860549894053,
          -0.3716384094671871,
          -1.011491658471745,
          0.18855313183096936,
          0.6095096951627761,
          0.5962586882091566,
          -0.04173088142268591,
          -0.044192706512440484,
          -0.44107380721013006,
          -0.21142501415456913,
          0.24099050809879638,
          -0.47309509430223495,
          0.18720304373616822,
          -0.46682798780266954,
          0.26713935774844777,
          -0.046718955928361935,
          0.4786827527183718,
          1.224915444840153,
          0.900313638190235,
          -0.07993912419356818,
          0.22720760688973018,
          0.16741097980313763,
          -1.6971807713758618,
          0.26285857526526424,
          -0.8481473003171561,
          1.0019832458818996,
          -0.23890963837799392,
          -0.32518323790702136,
          -1.4214659093213708,
          0.7689677362511844,
          0.720454370048769,
          1.4120436891805468,
          -0.8885013713475357,
          0.49015465824590326,
          0.318721809076388,
          1.408170320673189,
          -0.9053600991879266,
          0.5596848983027292,
          0.5874387471118737,
          -1.3452790015989369,
          -1.0919949952111225,
          0.6190528365348118,
          1.0988301926896742,
          -1.2262042653555452,
          0.3431693872520292,
          0.12570110604857224,
          0.5271309083354175,
          0.24856255460548599,
          -1.2298878838865044,
          -0.1965012336229207,
          -0.6573776808010089,
          0.24786892848275827,
          -0.6830478001558176,
          -0.7184522746832681,
          -0.9994117954392141,
          0.050962641175703705,
          -2.2732965954839375,
          0.34000553606582534,
          -0.23062189624052834,
          -0.3001576898399603,
          -1.3700987482748903,
          -0.6388222587410752,
          -1.1197675654055868,
          0.08116978578069725,
          -0.7913930689421255,
          0.03301550712197834,
          0.8346833733450515,
          -0.7188138613391741,
          1.4893496436241953,
          0.9858869294808674,
          1.6034117721274181,
          1.4994358157770709,
          0.045951459501008415,
          -1.7549269371629004,
          1.4269179974818211,
          0.013196565836392126,
          -0.616471222732565,
          -0.3572376899508515,
          -0.5911000876319832,
          0.06643642138436352,
          -0.28657629214746766,
          -0.13340202720961356,
          0.9454106134171025,
          -0.3627861661237746,
          0.2838870032276294,
          -0.5272096839790353,
          -0.5455315712911585,
          -0.594008118453773,
          0.6669525024563863,
          0.3405305426784978,
          -1.5299087920635688
         ],
         "yaxis": "y13"
        },
        {
         "line": {
          "color": "rgba(128, 128, 128, 1.0)",
          "dash": "solid",
          "shape": "linear",
          "width": 1.3
         },
         "marker": {
          "size": 2,
          "symbol": "circle"
         },
         "mode": "markers",
         "name": "D",
         "text": "",
         "type": "scatter",
         "x": [
          0.780112161625848,
          -0.6622020441579575,
          0.19603094116590988,
          0.9444435813517414,
          2.0190065917990325,
          0.43722776902737875,
          0.6764390904739006,
          -1.0318392658003315,
          -0.7052936531538087,
          -1.2207048933585274,
          -0.022498175312445908,
          -0.47514400008103796,
          0.015631345678703647,
          0.49166903297101733,
          -0.4463750385965351,
          -1.2532070399499404,
          0.017542246804112673,
          -0.7570882592644229,
          -1.2012136807274745,
          0.7886948763755939,
          -0.8693486963450223,
          0.9010537168023657,
          -0.5770469082718713,
          -0.1030991380904987,
          0.5338436665524187,
          1.1155594158041637,
          0.26391870421043223,
          1.3232294736026364,
          0.7630229489633639,
          1.632035218409037,
          1.5207097499353,
          -0.0006879736573673989,
          -1.21103828452234,
          1.34662009347215,
          0.9975735907200801,
          0.9551360071731924,
          -1.0722210696166834,
          -1.7265754758738259,
          0.04129037780678675,
          -0.7132244284043963,
          -1.0579130080408146,
          2.81148193442505,
          -0.04184454642460926,
          0.7307795091345204,
          -0.29943747215028277,
          0.6791011913122792,
          0.7539025548648147,
          -0.8199570302339777,
          0.6835533635051066,
          -0.37718640289622646,
          -1.4905040103618956,
          -0.8423691944628268,
          -0.16584257158889373,
          -1.4330757918373824,
          0.9461603473737706,
          -0.15290838198858106,
          -0.16205848298241507,
          0.02130880292795404,
          -1.4961741662057277,
          0.4484982571308183,
          0.18922260769185564,
          0.7710099389584645,
          -1.4518000619214029,
          -0.5812770284876827,
          0.5146202678161,
          0.9315853354882877,
          -0.9603288937961088,
          -1.103370479561761,
          -0.47745010276254535,
          0.9336441074488008,
          1.2560789857109207,
          -0.5249525108676631,
          0.9324462586812953,
          -0.8005665398613003,
          -0.4671893294403345,
          0.14609976572579939,
          0.030765176545579104,
          0.9842394461832488,
          -0.6094735362782722,
          0.5726121277992451,
          0.9344438360939703,
          1.470087261607474,
          0.6444928799223439,
          -1.8503301390802411,
          0.784695912134507,
          -0.1797897094423723,
          2.3847821119754022,
          -1.3412772928554055,
          0.5857245773958671,
          -0.44248615438473105,
          1.02478023997563,
          -0.10167432812782703,
          -0.46321591080833774,
          -1.0606116126026808,
          1.0757078100996635,
          -0.2948219640020998,
          0.4688053405721653,
          1.5442197803396982,
          2.561137988024716,
          0.051745092191318
         ],
         "xaxis": "x14",
         "y": [
          -0.8496942648665607,
          0.41805640187036686,
          -0.9878282660079463,
          -1.5663266173229944,
          0.5059032376608317,
          -0.10101444172877458,
          1.023870814958945,
          1.0776469981944543,
          0.6031197823516035,
          -0.22220860549894053,
          -0.3716384094671871,
          -1.011491658471745,
          0.18855313183096936,
          0.6095096951627761,
          0.5962586882091566,
          -0.04173088142268591,
          -0.044192706512440484,
          -0.44107380721013006,
          -0.21142501415456913,
          0.24099050809879638,
          -0.47309509430223495,
          0.18720304373616822,
          -0.46682798780266954,
          0.26713935774844777,
          -0.046718955928361935,
          0.4786827527183718,
          1.224915444840153,
          0.900313638190235,
          -0.07993912419356818,
          0.22720760688973018,
          0.16741097980313763,
          -1.6971807713758618,
          0.26285857526526424,
          -0.8481473003171561,
          1.0019832458818996,
          -0.23890963837799392,
          -0.32518323790702136,
          -1.4214659093213708,
          0.7689677362511844,
          0.720454370048769,
          1.4120436891805468,
          -0.8885013713475357,
          0.49015465824590326,
          0.318721809076388,
          1.408170320673189,
          -0.9053600991879266,
          0.5596848983027292,
          0.5874387471118737,
          -1.3452790015989369,
          -1.0919949952111225,
          0.6190528365348118,
          1.0988301926896742,
          -1.2262042653555452,
          0.3431693872520292,
          0.12570110604857224,
          0.5271309083354175,
          0.24856255460548599,
          -1.2298878838865044,
          -0.1965012336229207,
          -0.6573776808010089,
          0.24786892848275827,
          -0.6830478001558176,
          -0.7184522746832681,
          -0.9994117954392141,
          0.050962641175703705,
          -2.2732965954839375,
          0.34000553606582534,
          -0.23062189624052834,
          -0.3001576898399603,
          -1.3700987482748903,
          -0.6388222587410752,
          -1.1197675654055868,
          0.08116978578069725,
          -0.7913930689421255,
          0.03301550712197834,
          0.8346833733450515,
          -0.7188138613391741,
          1.4893496436241953,
          0.9858869294808674,
          1.6034117721274181,
          1.4994358157770709,
          0.045951459501008415,
          -1.7549269371629004,
          1.4269179974818211,
          0.013196565836392126,
          -0.616471222732565,
          -0.3572376899508515,
          -0.5911000876319832,
          0.06643642138436352,
          -0.28657629214746766,
          -0.13340202720961356,
          0.9454106134171025,
          -0.3627861661237746,
          0.2838870032276294,
          -0.5272096839790353,
          -0.5455315712911585,
          -0.594008118453773,
          0.6669525024563863,
          0.3405305426784978,
          -1.5299087920635688
         ],
         "yaxis": "y14"
        },
        {
         "line": {
          "color": "rgba(128, 128, 128, 1.0)",
          "dash": "solid",
          "shape": "linear",
          "width": 1.3
         },
         "marker": {
          "size": 2,
          "symbol": "circle"
         },
         "mode": "markers",
         "name": "D",
         "text": "",
         "type": "scatter",
         "x": [
          1.1423634363741173,
          0.11354051020682208,
          -2.195583075117904,
          -0.33536116350557,
          -0.47549123530692866,
          -0.4106247459547766,
          -1.2434649090000875,
          -1.6995213033682308,
          -0.6081257506754546,
          -0.08870672787977858,
          0.6400925329494375,
          0.7492341616274301,
          0.16747095277849683,
          1.2968374993604779,
          -2.11404568038147,
          -0.563870009286686,
          0.8310938582415069,
          2.325419671879464,
          0.20055448776283155,
          0.5085397117888597,
          -0.4080914801575566,
          1.6542943160162975,
          -0.5331072937653337,
          0.7586177614979411,
          0.9619927684630707,
          0.2559644805724021,
          0.5745188773744764,
          -0.5816583601699434,
          -1.429056679405346,
          0.7315998311231716,
          0.6783867139905609,
          -0.06078445221535873,
          0.27448110310334706,
          -1.16371229034305,
          -0.1398511030843688,
          0.006467377516567309,
          0.6562352588868274,
          -1.6448244488522312,
          0.3298352278087413,
          2.003002042268774,
          -1.0758696623884252,
          -0.11305940455786344,
          0.6029361517624183,
          -0.38271978469230267,
          0.7889985572895265,
          -1.741867773942648,
          -0.5174334505631387,
          0.3259635252071674,
          -0.28872347544954446,
          0.3596389037175514,
          0.009698255852205134,
          1.0793001511861586,
          1.1043921528612646,
          1.0891752844370528,
          -0.3566970439593109,
          0.21139128359993414,
          0.05023798480313808,
          0.2702500935425811,
          -1.361135025379144,
          -0.3356238142654462,
          -1.013962607948839,
          1.1381971032466252,
          -1.0107879455790383,
          0.7102149307995549,
          -0.9014591620430444,
          0.011895983352500345,
          -1.355067914607825,
          -0.15806123579869188,
          0.8023249003467309,
          1.4031343144422532,
          1.1345576048882402,
          -1.9137650864186122,
          -0.35305712873931205,
          -0.5552220851118872,
          -0.3100997841387888,
          1.1377680718610916,
          1.9065212557664553,
          -0.7063511867117129,
          -1.1490229352835497,
          -1.3530811813693597,
          0.5007106025210825,
          0.4796809706467747,
          1.8502387431840992,
          1.741994450617839,
          1.5862413863845208,
          -1.1472907598345856,
          0.8650500659149919,
          -0.33112805916725235,
          -0.18940943108872416,
          1.1662346250655902,
          -0.7525493252195511,
          -0.7556309869007968,
          0.6091473126481534,
          0.5162032920138211,
          0.7749536056718792,
          0.8177099736481309,
          2.4469257320693023,
          0.38013644896258414,
          0.20817582521403424,
          0.8467603806994561
         ],
         "xaxis": "x15",
         "y": [
          -0.8496942648665607,
          0.41805640187036686,
          -0.9878282660079463,
          -1.5663266173229944,
          0.5059032376608317,
          -0.10101444172877458,
          1.023870814958945,
          1.0776469981944543,
          0.6031197823516035,
          -0.22220860549894053,
          -0.3716384094671871,
          -1.011491658471745,
          0.18855313183096936,
          0.6095096951627761,
          0.5962586882091566,
          -0.04173088142268591,
          -0.044192706512440484,
          -0.44107380721013006,
          -0.21142501415456913,
          0.24099050809879638,
          -0.47309509430223495,
          0.18720304373616822,
          -0.46682798780266954,
          0.26713935774844777,
          -0.046718955928361935,
          0.4786827527183718,
          1.224915444840153,
          0.900313638190235,
          -0.07993912419356818,
          0.22720760688973018,
          0.16741097980313763,
          -1.6971807713758618,
          0.26285857526526424,
          -0.8481473003171561,
          1.0019832458818996,
          -0.23890963837799392,
          -0.32518323790702136,
          -1.4214659093213708,
          0.7689677362511844,
          0.720454370048769,
          1.4120436891805468,
          -0.8885013713475357,
          0.49015465824590326,
          0.318721809076388,
          1.408170320673189,
          -0.9053600991879266,
          0.5596848983027292,
          0.5874387471118737,
          -1.3452790015989369,
          -1.0919949952111225,
          0.6190528365348118,
          1.0988301926896742,
          -1.2262042653555452,
          0.3431693872520292,
          0.12570110604857224,
          0.5271309083354175,
          0.24856255460548599,
          -1.2298878838865044,
          -0.1965012336229207,
          -0.6573776808010089,
          0.24786892848275827,
          -0.6830478001558176,
          -0.7184522746832681,
          -0.9994117954392141,
          0.050962641175703705,
          -2.2732965954839375,
          0.34000553606582534,
          -0.23062189624052834,
          -0.3001576898399603,
          -1.3700987482748903,
          -0.6388222587410752,
          -1.1197675654055868,
          0.08116978578069725,
          -0.7913930689421255,
          0.03301550712197834,
          0.8346833733450515,
          -0.7188138613391741,
          1.4893496436241953,
          0.9858869294808674,
          1.6034117721274181,
          1.4994358157770709,
          0.045951459501008415,
          -1.7549269371629004,
          1.4269179974818211,
          0.013196565836392126,
          -0.616471222732565,
          -0.3572376899508515,
          -0.5911000876319832,
          0.06643642138436352,
          -0.28657629214746766,
          -0.13340202720961356,
          0.9454106134171025,
          -0.3627861661237746,
          0.2838870032276294,
          -0.5272096839790353,
          -0.5455315712911585,
          -0.594008118453773,
          0.6669525024563863,
          0.3405305426784978,
          -1.5299087920635688
         ],
         "yaxis": "y15"
        },
        {
         "histfunc": "count",
         "histnorm": "",
         "marker": {
          "color": "rgba(128, 0, 128, 1.0)",
          "line": {
           "color": "#4D5663",
           "width": 1.3
          }
         },
         "name": "D",
         "nbinsx": 10,
         "opacity": 0.8,
         "orientation": "v",
         "type": "histogram",
         "x": [
          -0.8496942648665607,
          0.41805640187036686,
          -0.9878282660079463,
          -1.5663266173229944,
          0.5059032376608317,
          -0.10101444172877458,
          1.023870814958945,
          1.0776469981944543,
          0.6031197823516035,
          -0.22220860549894053,
          -0.3716384094671871,
          -1.011491658471745,
          0.18855313183096936,
          0.6095096951627761,
          0.5962586882091566,
          -0.04173088142268591,
          -0.044192706512440484,
          -0.44107380721013006,
          -0.21142501415456913,
          0.24099050809879638,
          -0.47309509430223495,
          0.18720304373616822,
          -0.46682798780266954,
          0.26713935774844777,
          -0.046718955928361935,
          0.4786827527183718,
          1.224915444840153,
          0.900313638190235,
          -0.07993912419356818,
          0.22720760688973018,
          0.16741097980313763,
          -1.6971807713758618,
          0.26285857526526424,
          -0.8481473003171561,
          1.0019832458818996,
          -0.23890963837799392,
          -0.32518323790702136,
          -1.4214659093213708,
          0.7689677362511844,
          0.720454370048769,
          1.4120436891805468,
          -0.8885013713475357,
          0.49015465824590326,
          0.318721809076388,
          1.408170320673189,
          -0.9053600991879266,
          0.5596848983027292,
          0.5874387471118737,
          -1.3452790015989369,
          -1.0919949952111225,
          0.6190528365348118,
          1.0988301926896742,
          -1.2262042653555452,
          0.3431693872520292,
          0.12570110604857224,
          0.5271309083354175,
          0.24856255460548599,
          -1.2298878838865044,
          -0.1965012336229207,
          -0.6573776808010089,
          0.24786892848275827,
          -0.6830478001558176,
          -0.7184522746832681,
          -0.9994117954392141,
          0.050962641175703705,
          -2.2732965954839375,
          0.34000553606582534,
          -0.23062189624052834,
          -0.3001576898399603,
          -1.3700987482748903,
          -0.6388222587410752,
          -1.1197675654055868,
          0.08116978578069725,
          -0.7913930689421255,
          0.03301550712197834,
          0.8346833733450515,
          -0.7188138613391741,
          1.4893496436241953,
          0.9858869294808674,
          1.6034117721274181,
          1.4994358157770709,
          0.045951459501008415,
          -1.7549269371629004,
          1.4269179974818211,
          0.013196565836392126,
          -0.616471222732565,
          -0.3572376899508515,
          -0.5911000876319832,
          0.06643642138436352,
          -0.28657629214746766,
          -0.13340202720961356,
          0.9454106134171025,
          -0.3627861661237746,
          0.2838870032276294,
          -0.5272096839790353,
          -0.5455315712911585,
          -0.594008118453773,
          0.6669525024563863,
          0.3405305426784978,
          -1.5299087920635688
         ],
         "xaxis": "x16",
         "yaxis": "y16"
        }
       ],
       "layout": {
        "bargap": 0.02,
        "legend": {
         "bgcolor": "#F5F6F9",
         "font": {
          "color": "#4D5663"
         }
        },
        "paper_bgcolor": "#F5F6F9",
        "plot_bgcolor": "#F5F6F9",
        "showlegend": false,
        "template": {
         "data": {
          "bar": [
           {
            "error_x": {
             "color": "#2a3f5f"
            },
            "error_y": {
             "color": "#2a3f5f"
            },
            "marker": {
             "line": {
              "color": "#E5ECF6",
              "width": 0.5
             },
             "pattern": {
              "fillmode": "overlay",
              "size": 10,
              "solidity": 0.2
             }
            },
            "type": "bar"
           }
          ],
          "barpolar": [
           {
            "marker": {
             "line": {
              "color": "#E5ECF6",
              "width": 0.5
             },
             "pattern": {
              "fillmode": "overlay",
              "size": 10,
              "solidity": 0.2
             }
            },
            "type": "barpolar"
           }
          ],
          "carpet": [
           {
            "aaxis": {
             "endlinecolor": "#2a3f5f",
             "gridcolor": "white",
             "linecolor": "white",
             "minorgridcolor": "white",
             "startlinecolor": "#2a3f5f"
            },
            "baxis": {
             "endlinecolor": "#2a3f5f",
             "gridcolor": "white",
             "linecolor": "white",
             "minorgridcolor": "white",
             "startlinecolor": "#2a3f5f"
            },
            "type": "carpet"
           }
          ],
          "choropleth": [
           {
            "colorbar": {
             "outlinewidth": 0,
             "ticks": ""
            },
            "type": "choropleth"
           }
          ],
          "contour": [
           {
            "colorbar": {
             "outlinewidth": 0,
             "ticks": ""
            },
            "colorscale": [
             [
              0,
              "#0d0887"
             ],
             [
              0.1111111111111111,
              "#46039f"
             ],
             [
              0.2222222222222222,
              "#7201a8"
             ],
             [
              0.3333333333333333,
              "#9c179e"
             ],
             [
              0.4444444444444444,
              "#bd3786"
             ],
             [
              0.5555555555555556,
              "#d8576b"
             ],
             [
              0.6666666666666666,
              "#ed7953"
             ],
             [
              0.7777777777777778,
              "#fb9f3a"
             ],
             [
              0.8888888888888888,
              "#fdca26"
             ],
             [
              1,
              "#f0f921"
             ]
            ],
            "type": "contour"
           }
          ],
          "contourcarpet": [
           {
            "colorbar": {
             "outlinewidth": 0,
             "ticks": ""
            },
            "type": "contourcarpet"
           }
          ],
          "heatmap": [
           {
            "colorbar": {
             "outlinewidth": 0,
             "ticks": ""
            },
            "colorscale": [
             [
              0,
              "#0d0887"
             ],
             [
              0.1111111111111111,
              "#46039f"
             ],
             [
              0.2222222222222222,
              "#7201a8"
             ],
             [
              0.3333333333333333,
              "#9c179e"
             ],
             [
              0.4444444444444444,
              "#bd3786"
             ],
             [
              0.5555555555555556,
              "#d8576b"
             ],
             [
              0.6666666666666666,
              "#ed7953"
             ],
             [
              0.7777777777777778,
              "#fb9f3a"
             ],
             [
              0.8888888888888888,
              "#fdca26"
             ],
             [
              1,
              "#f0f921"
             ]
            ],
            "type": "heatmap"
           }
          ],
          "heatmapgl": [
           {
            "colorbar": {
             "outlinewidth": 0,
             "ticks": ""
            },
            "colorscale": [
             [
              0,
              "#0d0887"
             ],
             [
              0.1111111111111111,
              "#46039f"
             ],
             [
              0.2222222222222222,
              "#7201a8"
             ],
             [
              0.3333333333333333,
              "#9c179e"
             ],
             [
              0.4444444444444444,
              "#bd3786"
             ],
             [
              0.5555555555555556,
              "#d8576b"
             ],
             [
              0.6666666666666666,
              "#ed7953"
             ],
             [
              0.7777777777777778,
              "#fb9f3a"
             ],
             [
              0.8888888888888888,
              "#fdca26"
             ],
             [
              1,
              "#f0f921"
             ]
            ],
            "type": "heatmapgl"
           }
          ],
          "histogram": [
           {
            "marker": {
             "pattern": {
              "fillmode": "overlay",
              "size": 10,
              "solidity": 0.2
             }
            },
            "type": "histogram"
           }
          ],
          "histogram2d": [
           {
            "colorbar": {
             "outlinewidth": 0,
             "ticks": ""
            },
            "colorscale": [
             [
              0,
              "#0d0887"
             ],
             [
              0.1111111111111111,
              "#46039f"
             ],
             [
              0.2222222222222222,
              "#7201a8"
             ],
             [
              0.3333333333333333,
              "#9c179e"
             ],
             [
              0.4444444444444444,
              "#bd3786"
             ],
             [
              0.5555555555555556,
              "#d8576b"
             ],
             [
              0.6666666666666666,
              "#ed7953"
             ],
             [
              0.7777777777777778,
              "#fb9f3a"
             ],
             [
              0.8888888888888888,
              "#fdca26"
             ],
             [
              1,
              "#f0f921"
             ]
            ],
            "type": "histogram2d"
           }
          ],
          "histogram2dcontour": [
           {
            "colorbar": {
             "outlinewidth": 0,
             "ticks": ""
            },
            "colorscale": [
             [
              0,
              "#0d0887"
             ],
             [
              0.1111111111111111,
              "#46039f"
             ],
             [
              0.2222222222222222,
              "#7201a8"
             ],
             [
              0.3333333333333333,
              "#9c179e"
             ],
             [
              0.4444444444444444,
              "#bd3786"
             ],
             [
              0.5555555555555556,
              "#d8576b"
             ],
             [
              0.6666666666666666,
              "#ed7953"
             ],
             [
              0.7777777777777778,
              "#fb9f3a"
             ],
             [
              0.8888888888888888,
              "#fdca26"
             ],
             [
              1,
              "#f0f921"
             ]
            ],
            "type": "histogram2dcontour"
           }
          ],
          "mesh3d": [
           {
            "colorbar": {
             "outlinewidth": 0,
             "ticks": ""
            },
            "type": "mesh3d"
           }
          ],
          "parcoords": [
           {
            "line": {
             "colorbar": {
              "outlinewidth": 0,
              "ticks": ""
             }
            },
            "type": "parcoords"
           }
          ],
          "pie": [
           {
            "automargin": true,
            "type": "pie"
           }
          ],
          "scatter": [
           {
            "fillpattern": {
             "fillmode": "overlay",
             "size": 10,
             "solidity": 0.2
            },
            "type": "scatter"
           }
          ],
          "scatter3d": [
           {
            "line": {
             "colorbar": {
              "outlinewidth": 0,
              "ticks": ""
             }
            },
            "marker": {
             "colorbar": {
              "outlinewidth": 0,
              "ticks": ""
             }
            },
            "type": "scatter3d"
           }
          ],
          "scattercarpet": [
           {
            "marker": {
             "colorbar": {
              "outlinewidth": 0,
              "ticks": ""
             }
            },
            "type": "scattercarpet"
           }
          ],
          "scattergeo": [
           {
            "marker": {
             "colorbar": {
              "outlinewidth": 0,
              "ticks": ""
             }
            },
            "type": "scattergeo"
           }
          ],
          "scattergl": [
           {
            "marker": {
             "colorbar": {
              "outlinewidth": 0,
              "ticks": ""
             }
            },
            "type": "scattergl"
           }
          ],
          "scattermapbox": [
           {
            "marker": {
             "colorbar": {
              "outlinewidth": 0,
              "ticks": ""
             }
            },
            "type": "scattermapbox"
           }
          ],
          "scatterpolar": [
           {
            "marker": {
             "colorbar": {
              "outlinewidth": 0,
              "ticks": ""
             }
            },
            "type": "scatterpolar"
           }
          ],
          "scatterpolargl": [
           {
            "marker": {
             "colorbar": {
              "outlinewidth": 0,
              "ticks": ""
             }
            },
            "type": "scatterpolargl"
           }
          ],
          "scatterternary": [
           {
            "marker": {
             "colorbar": {
              "outlinewidth": 0,
              "ticks": ""
             }
            },
            "type": "scatterternary"
           }
          ],
          "surface": [
           {
            "colorbar": {
             "outlinewidth": 0,
             "ticks": ""
            },
            "colorscale": [
             [
              0,
              "#0d0887"
             ],
             [
              0.1111111111111111,
              "#46039f"
             ],
             [
              0.2222222222222222,
              "#7201a8"
             ],
             [
              0.3333333333333333,
              "#9c179e"
             ],
             [
              0.4444444444444444,
              "#bd3786"
             ],
             [
              0.5555555555555556,
              "#d8576b"
             ],
             [
              0.6666666666666666,
              "#ed7953"
             ],
             [
              0.7777777777777778,
              "#fb9f3a"
             ],
             [
              0.8888888888888888,
              "#fdca26"
             ],
             [
              1,
              "#f0f921"
             ]
            ],
            "type": "surface"
           }
          ],
          "table": [
           {
            "cells": {
             "fill": {
              "color": "#EBF0F8"
             },
             "line": {
              "color": "white"
             }
            },
            "header": {
             "fill": {
              "color": "#C8D4E3"
             },
             "line": {
              "color": "white"
             }
            },
            "type": "table"
           }
          ]
         },
         "layout": {
          "annotationdefaults": {
           "arrowcolor": "#2a3f5f",
           "arrowhead": 0,
           "arrowwidth": 1
          },
          "autotypenumbers": "strict",
          "coloraxis": {
           "colorbar": {
            "outlinewidth": 0,
            "ticks": ""
           }
          },
          "colorscale": {
           "diverging": [
            [
             0,
             "#8e0152"
            ],
            [
             0.1,
             "#c51b7d"
            ],
            [
             0.2,
             "#de77ae"
            ],
            [
             0.3,
             "#f1b6da"
            ],
            [
             0.4,
             "#fde0ef"
            ],
            [
             0.5,
             "#f7f7f7"
            ],
            [
             0.6,
             "#e6f5d0"
            ],
            [
             0.7,
             "#b8e186"
            ],
            [
             0.8,
             "#7fbc41"
            ],
            [
             0.9,
             "#4d9221"
            ],
            [
             1,
             "#276419"
            ]
           ],
           "sequential": [
            [
             0,
             "#0d0887"
            ],
            [
             0.1111111111111111,
             "#46039f"
            ],
            [
             0.2222222222222222,
             "#7201a8"
            ],
            [
             0.3333333333333333,
             "#9c179e"
            ],
            [
             0.4444444444444444,
             "#bd3786"
            ],
            [
             0.5555555555555556,
             "#d8576b"
            ],
            [
             0.6666666666666666,
             "#ed7953"
            ],
            [
             0.7777777777777778,
             "#fb9f3a"
            ],
            [
             0.8888888888888888,
             "#fdca26"
            ],
            [
             1,
             "#f0f921"
            ]
           ],
           "sequentialminus": [
            [
             0,
             "#0d0887"
            ],
            [
             0.1111111111111111,
             "#46039f"
            ],
            [
             0.2222222222222222,
             "#7201a8"
            ],
            [
             0.3333333333333333,
             "#9c179e"
            ],
            [
             0.4444444444444444,
             "#bd3786"
            ],
            [
             0.5555555555555556,
             "#d8576b"
            ],
            [
             0.6666666666666666,
             "#ed7953"
            ],
            [
             0.7777777777777778,
             "#fb9f3a"
            ],
            [
             0.8888888888888888,
             "#fdca26"
            ],
            [
             1,
             "#f0f921"
            ]
           ]
          },
          "colorway": [
           "#636efa",
           "#EF553B",
           "#00cc96",
           "#ab63fa",
           "#FFA15A",
           "#19d3f3",
           "#FF6692",
           "#B6E880",
           "#FF97FF",
           "#FECB52"
          ],
          "font": {
           "color": "#2a3f5f"
          },
          "geo": {
           "bgcolor": "white",
           "lakecolor": "white",
           "landcolor": "#E5ECF6",
           "showlakes": true,
           "showland": true,
           "subunitcolor": "white"
          },
          "hoverlabel": {
           "align": "left"
          },
          "hovermode": "closest",
          "mapbox": {
           "style": "light"
          },
          "paper_bgcolor": "white",
          "plot_bgcolor": "#E5ECF6",
          "polar": {
           "angularaxis": {
            "gridcolor": "white",
            "linecolor": "white",
            "ticks": ""
           },
           "bgcolor": "#E5ECF6",
           "radialaxis": {
            "gridcolor": "white",
            "linecolor": "white",
            "ticks": ""
           }
          },
          "scene": {
           "xaxis": {
            "backgroundcolor": "#E5ECF6",
            "gridcolor": "white",
            "gridwidth": 2,
            "linecolor": "white",
            "showbackground": true,
            "ticks": "",
            "zerolinecolor": "white"
           },
           "yaxis": {
            "backgroundcolor": "#E5ECF6",
            "gridcolor": "white",
            "gridwidth": 2,
            "linecolor": "white",
            "showbackground": true,
            "ticks": "",
            "zerolinecolor": "white"
           },
           "zaxis": {
            "backgroundcolor": "#E5ECF6",
            "gridcolor": "white",
            "gridwidth": 2,
            "linecolor": "white",
            "showbackground": true,
            "ticks": "",
            "zerolinecolor": "white"
           }
          },
          "shapedefaults": {
           "line": {
            "color": "#2a3f5f"
           }
          },
          "ternary": {
           "aaxis": {
            "gridcolor": "white",
            "linecolor": "white",
            "ticks": ""
           },
           "baxis": {
            "gridcolor": "white",
            "linecolor": "white",
            "ticks": ""
           },
           "bgcolor": "#E5ECF6",
           "caxis": {
            "gridcolor": "white",
            "linecolor": "white",
            "ticks": ""
           }
          },
          "title": {
           "x": 0.05
          },
          "xaxis": {
           "automargin": true,
           "gridcolor": "white",
           "linecolor": "white",
           "ticks": "",
           "title": {
            "standoff": 15
           },
           "zerolinecolor": "white",
           "zerolinewidth": 2
          },
          "yaxis": {
           "automargin": true,
           "gridcolor": "white",
           "linecolor": "white",
           "ticks": "",
           "title": {
            "standoff": 15
           },
           "zerolinecolor": "white",
           "zerolinewidth": 2
          }
         }
        },
        "title": {
         "font": {
          "color": "#4D5663"
         }
        },
        "xaxis": {
         "anchor": "y",
         "domain": [
          0,
          0.2125
         ],
         "gridcolor": "#E1E5ED",
         "showgrid": false,
         "tickfont": {
          "color": "#4D5663"
         },
         "title": {
          "font": {
           "color": "#4D5663"
          },
          "text": ""
         },
         "zerolinecolor": "#E1E5ED"
        },
        "xaxis10": {
         "anchor": "y10",
         "domain": [
          0.2625,
          0.475
         ],
         "gridcolor": "#E1E5ED",
         "showgrid": false,
         "tickfont": {
          "color": "#4D5663"
         },
         "title": {
          "font": {
           "color": "#4D5663"
          },
          "text": ""
         },
         "zerolinecolor": "#E1E5ED"
        },
        "xaxis11": {
         "anchor": "y11",
         "domain": [
          0.525,
          0.7375
         ],
         "gridcolor": "#E1E5ED",
         "showgrid": false,
         "tickfont": {
          "color": "#4D5663"
         },
         "title": {
          "font": {
           "color": "#4D5663"
          },
          "text": ""
         },
         "zerolinecolor": "#E1E5ED"
        },
        "xaxis12": {
         "anchor": "y12",
         "domain": [
          0.7875,
          1
         ],
         "gridcolor": "#E1E5ED",
         "showgrid": false,
         "tickfont": {
          "color": "#4D5663"
         },
         "title": {
          "font": {
           "color": "#4D5663"
          },
          "text": ""
         },
         "zerolinecolor": "#E1E5ED"
        },
        "xaxis13": {
         "anchor": "y13",
         "domain": [
          0,
          0.2125
         ],
         "gridcolor": "#E1E5ED",
         "showgrid": false,
         "tickfont": {
          "color": "#4D5663"
         },
         "title": {
          "font": {
           "color": "#4D5663"
          },
          "text": ""
         },
         "zerolinecolor": "#E1E5ED"
        },
        "xaxis14": {
         "anchor": "y14",
         "domain": [
          0.2625,
          0.475
         ],
         "gridcolor": "#E1E5ED",
         "showgrid": false,
         "tickfont": {
          "color": "#4D5663"
         },
         "title": {
          "font": {
           "color": "#4D5663"
          },
          "text": ""
         },
         "zerolinecolor": "#E1E5ED"
        },
        "xaxis15": {
         "anchor": "y15",
         "domain": [
          0.525,
          0.7375
         ],
         "gridcolor": "#E1E5ED",
         "showgrid": false,
         "tickfont": {
          "color": "#4D5663"
         },
         "title": {
          "font": {
           "color": "#4D5663"
          },
          "text": ""
         },
         "zerolinecolor": "#E1E5ED"
        },
        "xaxis16": {
         "anchor": "y16",
         "domain": [
          0.7875,
          1
         ],
         "gridcolor": "#E1E5ED",
         "showgrid": false,
         "tickfont": {
          "color": "#4D5663"
         },
         "title": {
          "font": {
           "color": "#4D5663"
          },
          "text": ""
         },
         "zerolinecolor": "#E1E5ED"
        },
        "xaxis2": {
         "anchor": "y2",
         "domain": [
          0.2625,
          0.475
         ],
         "gridcolor": "#E1E5ED",
         "showgrid": false,
         "tickfont": {
          "color": "#4D5663"
         },
         "title": {
          "font": {
           "color": "#4D5663"
          },
          "text": ""
         },
         "zerolinecolor": "#E1E5ED"
        },
        "xaxis3": {
         "anchor": "y3",
         "domain": [
          0.525,
          0.7375
         ],
         "gridcolor": "#E1E5ED",
         "showgrid": false,
         "tickfont": {
          "color": "#4D5663"
         },
         "title": {
          "font": {
           "color": "#4D5663"
          },
          "text": ""
         },
         "zerolinecolor": "#E1E5ED"
        },
        "xaxis4": {
         "anchor": "y4",
         "domain": [
          0.7875,
          1
         ],
         "gridcolor": "#E1E5ED",
         "showgrid": false,
         "tickfont": {
          "color": "#4D5663"
         },
         "title": {
          "font": {
           "color": "#4D5663"
          },
          "text": ""
         },
         "zerolinecolor": "#E1E5ED"
        },
        "xaxis5": {
         "anchor": "y5",
         "domain": [
          0,
          0.2125
         ],
         "gridcolor": "#E1E5ED",
         "showgrid": false,
         "tickfont": {
          "color": "#4D5663"
         },
         "title": {
          "font": {
           "color": "#4D5663"
          },
          "text": ""
         },
         "zerolinecolor": "#E1E5ED"
        },
        "xaxis6": {
         "anchor": "y6",
         "domain": [
          0.2625,
          0.475
         ],
         "gridcolor": "#E1E5ED",
         "showgrid": false,
         "tickfont": {
          "color": "#4D5663"
         },
         "title": {
          "font": {
           "color": "#4D5663"
          },
          "text": ""
         },
         "zerolinecolor": "#E1E5ED"
        },
        "xaxis7": {
         "anchor": "y7",
         "domain": [
          0.525,
          0.7375
         ],
         "gridcolor": "#E1E5ED",
         "showgrid": false,
         "tickfont": {
          "color": "#4D5663"
         },
         "title": {
          "font": {
           "color": "#4D5663"
          },
          "text": ""
         },
         "zerolinecolor": "#E1E5ED"
        },
        "xaxis8": {
         "anchor": "y8",
         "domain": [
          0.7875,
          1
         ],
         "gridcolor": "#E1E5ED",
         "showgrid": false,
         "tickfont": {
          "color": "#4D5663"
         },
         "title": {
          "font": {
           "color": "#4D5663"
          },
          "text": ""
         },
         "zerolinecolor": "#E1E5ED"
        },
        "xaxis9": {
         "anchor": "y9",
         "domain": [
          0,
          0.2125
         ],
         "gridcolor": "#E1E5ED",
         "showgrid": false,
         "tickfont": {
          "color": "#4D5663"
         },
         "title": {
          "font": {
           "color": "#4D5663"
          },
          "text": ""
         },
         "zerolinecolor": "#E1E5ED"
        },
        "yaxis": {
         "anchor": "x",
         "domain": [
          0.8025,
          1
         ],
         "gridcolor": "#E1E5ED",
         "showgrid": false,
         "tickfont": {
          "color": "#4D5663"
         },
         "title": {
          "font": {
           "color": "#4D5663"
          },
          "text": ""
         },
         "zerolinecolor": "#E1E5ED"
        },
        "yaxis10": {
         "anchor": "x10",
         "domain": [
          0.2675,
          0.465
         ],
         "gridcolor": "#E1E5ED",
         "showgrid": false,
         "tickfont": {
          "color": "#4D5663"
         },
         "title": {
          "font": {
           "color": "#4D5663"
          },
          "text": ""
         },
         "zerolinecolor": "#E1E5ED"
        },
        "yaxis11": {
         "anchor": "x11",
         "domain": [
          0.2675,
          0.465
         ],
         "gridcolor": "#E1E5ED",
         "showgrid": false,
         "tickfont": {
          "color": "#4D5663"
         },
         "title": {
          "font": {
           "color": "#4D5663"
          },
          "text": ""
         },
         "zerolinecolor": "#E1E5ED"
        },
        "yaxis12": {
         "anchor": "x12",
         "domain": [
          0.2675,
          0.465
         ],
         "gridcolor": "#E1E5ED",
         "showgrid": false,
         "tickfont": {
          "color": "#4D5663"
         },
         "title": {
          "font": {
           "color": "#4D5663"
          },
          "text": ""
         },
         "zerolinecolor": "#E1E5ED"
        },
        "yaxis13": {
         "anchor": "x13",
         "domain": [
          0,
          0.1975
         ],
         "gridcolor": "#E1E5ED",
         "showgrid": false,
         "tickfont": {
          "color": "#4D5663"
         },
         "title": {
          "font": {
           "color": "#4D5663"
          },
          "text": ""
         },
         "zerolinecolor": "#E1E5ED"
        },
        "yaxis14": {
         "anchor": "x14",
         "domain": [
          0,
          0.1975
         ],
         "gridcolor": "#E1E5ED",
         "showgrid": false,
         "tickfont": {
          "color": "#4D5663"
         },
         "title": {
          "font": {
           "color": "#4D5663"
          },
          "text": ""
         },
         "zerolinecolor": "#E1E5ED"
        },
        "yaxis15": {
         "anchor": "x15",
         "domain": [
          0,
          0.1975
         ],
         "gridcolor": "#E1E5ED",
         "showgrid": false,
         "tickfont": {
          "color": "#4D5663"
         },
         "title": {
          "font": {
           "color": "#4D5663"
          },
          "text": ""
         },
         "zerolinecolor": "#E1E5ED"
        },
        "yaxis16": {
         "anchor": "x16",
         "domain": [
          0,
          0.1975
         ],
         "gridcolor": "#E1E5ED",
         "showgrid": false,
         "tickfont": {
          "color": "#4D5663"
         },
         "title": {
          "font": {
           "color": "#4D5663"
          },
          "text": ""
         },
         "zerolinecolor": "#E1E5ED"
        },
        "yaxis2": {
         "anchor": "x2",
         "domain": [
          0.8025,
          1
         ],
         "gridcolor": "#E1E5ED",
         "showgrid": false,
         "tickfont": {
          "color": "#4D5663"
         },
         "title": {
          "font": {
           "color": "#4D5663"
          },
          "text": ""
         },
         "zerolinecolor": "#E1E5ED"
        },
        "yaxis3": {
         "anchor": "x3",
         "domain": [
          0.8025,
          1
         ],
         "gridcolor": "#E1E5ED",
         "showgrid": false,
         "tickfont": {
          "color": "#4D5663"
         },
         "title": {
          "font": {
           "color": "#4D5663"
          },
          "text": ""
         },
         "zerolinecolor": "#E1E5ED"
        },
        "yaxis4": {
         "anchor": "x4",
         "domain": [
          0.8025,
          1
         ],
         "gridcolor": "#E1E5ED",
         "showgrid": false,
         "tickfont": {
          "color": "#4D5663"
         },
         "title": {
          "font": {
           "color": "#4D5663"
          },
          "text": ""
         },
         "zerolinecolor": "#E1E5ED"
        },
        "yaxis5": {
         "anchor": "x5",
         "domain": [
          0.535,
          0.7325
         ],
         "gridcolor": "#E1E5ED",
         "showgrid": false,
         "tickfont": {
          "color": "#4D5663"
         },
         "title": {
          "font": {
           "color": "#4D5663"
          },
          "text": ""
         },
         "zerolinecolor": "#E1E5ED"
        },
        "yaxis6": {
         "anchor": "x6",
         "domain": [
          0.535,
          0.7325
         ],
         "gridcolor": "#E1E5ED",
         "showgrid": false,
         "tickfont": {
          "color": "#4D5663"
         },
         "title": {
          "font": {
           "color": "#4D5663"
          },
          "text": ""
         },
         "zerolinecolor": "#E1E5ED"
        },
        "yaxis7": {
         "anchor": "x7",
         "domain": [
          0.535,
          0.7325
         ],
         "gridcolor": "#E1E5ED",
         "showgrid": false,
         "tickfont": {
          "color": "#4D5663"
         },
         "title": {
          "font": {
           "color": "#4D5663"
          },
          "text": ""
         },
         "zerolinecolor": "#E1E5ED"
        },
        "yaxis8": {
         "anchor": "x8",
         "domain": [
          0.535,
          0.7325
         ],
         "gridcolor": "#E1E5ED",
         "showgrid": false,
         "tickfont": {
          "color": "#4D5663"
         },
         "title": {
          "font": {
           "color": "#4D5663"
          },
          "text": ""
         },
         "zerolinecolor": "#E1E5ED"
        },
        "yaxis9": {
         "anchor": "x9",
         "domain": [
          0.2675,
          0.465
         ],
         "gridcolor": "#E1E5ED",
         "showgrid": false,
         "tickfont": {
          "color": "#4D5663"
         },
         "title": {
          "font": {
           "color": "#4D5663"
          },
          "text": ""
         },
         "zerolinecolor": "#E1E5ED"
        }
       }
      },
      "text/html": [
       "<div>                            <div id=\"7c65f6e9-797e-4542-8682-8ced665fe970\" class=\"plotly-graph-div\" style=\"height:525px; width:100%;\"></div>            <script type=\"text/javascript\">                require([\"plotly\"], function(Plotly) {                    window.PLOTLYENV=window.PLOTLYENV || {};\n",
       "                    window.PLOTLYENV.BASE_URL='https://plot.ly';                                    if (document.getElementById(\"7c65f6e9-797e-4542-8682-8ced665fe970\")) {                    Plotly.newPlot(                        \"7c65f6e9-797e-4542-8682-8ced665fe970\",                        [{\"histfunc\":\"count\",\"histnorm\":\"\",\"marker\":{\"color\":\"rgba(255, 153, 51, 1.0)\",\"line\":{\"color\":\"#4D5663\",\"width\":1.3}},\"name\":\"A\",\"nbinsx\":10,\"opacity\":0.8,\"orientation\":\"v\",\"x\":[0.2991550861198565,-0.3841492154014665,-1.4955874438548968,-0.986281527430265,0.8636431673834111,1.0506243725442432,-0.5641456423079034,-1.7863210272933812,0.5893189259744791,-0.6283981743665769,0.9822149186999429,0.003621728700036139,1.1478470780946737,0.9493796075126227,2.023151425732341,0.8209651038367457,-1.436616028751318,0.2501161685999158,-2.18940427695009,1.060005975403017,-1.2913373051591328,-0.5818461629913243,-3.559727068196443,0.0429856375186844,-0.040441593036933884,0.4365405596956291,-1.6122927837729488,-2.200067677252177,1.3741729080719394,0.22372429063459934,0.35456006418455993,1.0268798296954587,1.2483904845694946,0.06803355363766585,-1.215641873426893,-1.0092547114079848,-0.18928431766049622,-0.13624175059188193,-1.124654032729839,1.906287147681474,0.22227594199144093,-1.1680813787099484,1.2448035827666633,0.09448168900829862,-1.9213213375620148,3.374448829478874,-0.4720745251680017,1.4237076937233117,1.0977579047946182,0.27276264592903,-0.7071666774547971,0.4579682494563629,0.7812645170577213,0.6940016369921731,-1.6670428257540362,0.10479754129686403,2.0521391141627117,-0.5894929196802318,0.2086275444892075,-0.3943158555219555,-0.001962682381986401,0.5061562116185518,-1.31068766067125,1.1458984485772514,0.07746205451031746,0.42117143238154464,0.022396537274275884,0.3832423647923307,-0.7142696921980415,1.5759715705521424,-1.0948757064584989,-0.3578123661598927,-0.1388499152089222,-1.0316315826678573,0.14133939011217816,-0.7236948335615198,-1.0461981495376964,-0.860425552617968,0.6838366995531965,0.5019976649548585,-0.2698604416378836,0.020026700999118248,0.7382030841174992,-1.0107550832011862,-0.9809011420879843,0.40108331476893583,0.06473151369985368,1.8746933818594682,0.2515041968308312,-0.9807717470558058,0.40762164463885214,-1.1849158622412188,-0.17364781870766738,-1.4336904561145787,0.6915743124241517,0.010826914274588933,0.20377929746820334,-2.995026620423591,-1.2399719772534463,0.8788721868956764],\"xaxis\":\"x\",\"yaxis\":\"y\",\"type\":\"histogram\"},{\"line\":{\"color\":\"rgba(128, 128, 128, 1.0)\",\"dash\":\"solid\",\"shape\":\"linear\",\"width\":1.3},\"marker\":{\"size\":2,\"symbol\":\"circle\"},\"mode\":\"markers\",\"name\":\"A\",\"text\":\"\",\"x\":[0.780112161625848,-0.6622020441579575,0.19603094116590988,0.9444435813517414,2.0190065917990325,0.43722776902737875,0.6764390904739006,-1.0318392658003315,-0.7052936531538087,-1.2207048933585274,-0.022498175312445908,-0.47514400008103796,0.015631345678703647,0.49166903297101733,-0.4463750385965351,-1.2532070399499404,0.017542246804112673,-0.7570882592644229,-1.2012136807274745,0.7886948763755939,-0.8693486963450223,0.9010537168023657,-0.5770469082718713,-0.1030991380904987,0.5338436665524187,1.1155594158041637,0.26391870421043223,1.3232294736026364,0.7630229489633639,1.632035218409037,1.5207097499353,-0.0006879736573673989,-1.21103828452234,1.34662009347215,0.9975735907200801,0.9551360071731924,-1.0722210696166834,-1.7265754758738259,0.04129037780678675,-0.7132244284043963,-1.0579130080408146,2.81148193442505,-0.04184454642460926,0.7307795091345204,-0.29943747215028277,0.6791011913122792,0.7539025548648147,-0.8199570302339777,0.6835533635051066,-0.37718640289622646,-1.4905040103618956,-0.8423691944628268,-0.16584257158889373,-1.4330757918373824,0.9461603473737706,-0.15290838198858106,-0.16205848298241507,0.02130880292795404,-1.4961741662057277,0.4484982571308183,0.18922260769185564,0.7710099389584645,-1.4518000619214029,-0.5812770284876827,0.5146202678161,0.9315853354882877,-0.9603288937961088,-1.103370479561761,-0.47745010276254535,0.9336441074488008,1.2560789857109207,-0.5249525108676631,0.9324462586812953,-0.8005665398613003,-0.4671893294403345,0.14609976572579939,0.030765176545579104,0.9842394461832488,-0.6094735362782722,0.5726121277992451,0.9344438360939703,1.470087261607474,0.6444928799223439,-1.8503301390802411,0.784695912134507,-0.1797897094423723,2.3847821119754022,-1.3412772928554055,0.5857245773958671,-0.44248615438473105,1.02478023997563,-0.10167432812782703,-0.46321591080833774,-1.0606116126026808,1.0757078100996635,-0.2948219640020998,0.4688053405721653,1.5442197803396982,2.561137988024716,0.051745092191318],\"xaxis\":\"x2\",\"y\":[0.2991550861198565,-0.3841492154014665,-1.4955874438548968,-0.986281527430265,0.8636431673834111,1.0506243725442432,-0.5641456423079034,-1.7863210272933812,0.5893189259744791,-0.6283981743665769,0.9822149186999429,0.003621728700036139,1.1478470780946737,0.9493796075126227,2.023151425732341,0.8209651038367457,-1.436616028751318,0.2501161685999158,-2.18940427695009,1.060005975403017,-1.2913373051591328,-0.5818461629913243,-3.559727068196443,0.0429856375186844,-0.040441593036933884,0.4365405596956291,-1.6122927837729488,-2.200067677252177,1.3741729080719394,0.22372429063459934,0.35456006418455993,1.0268798296954587,1.2483904845694946,0.06803355363766585,-1.215641873426893,-1.0092547114079848,-0.18928431766049622,-0.13624175059188193,-1.124654032729839,1.906287147681474,0.22227594199144093,-1.1680813787099484,1.2448035827666633,0.09448168900829862,-1.9213213375620148,3.374448829478874,-0.4720745251680017,1.4237076937233117,1.0977579047946182,0.27276264592903,-0.7071666774547971,0.4579682494563629,0.7812645170577213,0.6940016369921731,-1.6670428257540362,0.10479754129686403,2.0521391141627117,-0.5894929196802318,0.2086275444892075,-0.3943158555219555,-0.001962682381986401,0.5061562116185518,-1.31068766067125,1.1458984485772514,0.07746205451031746,0.42117143238154464,0.022396537274275884,0.3832423647923307,-0.7142696921980415,1.5759715705521424,-1.0948757064584989,-0.3578123661598927,-0.1388499152089222,-1.0316315826678573,0.14133939011217816,-0.7236948335615198,-1.0461981495376964,-0.860425552617968,0.6838366995531965,0.5019976649548585,-0.2698604416378836,0.020026700999118248,0.7382030841174992,-1.0107550832011862,-0.9809011420879843,0.40108331476893583,0.06473151369985368,1.8746933818594682,0.2515041968308312,-0.9807717470558058,0.40762164463885214,-1.1849158622412188,-0.17364781870766738,-1.4336904561145787,0.6915743124241517,0.010826914274588933,0.20377929746820334,-2.995026620423591,-1.2399719772534463,0.8788721868956764],\"yaxis\":\"y2\",\"type\":\"scatter\"},{\"line\":{\"color\":\"rgba(128, 128, 128, 1.0)\",\"dash\":\"solid\",\"shape\":\"linear\",\"width\":1.3},\"marker\":{\"size\":2,\"symbol\":\"circle\"},\"mode\":\"markers\",\"name\":\"A\",\"text\":\"\",\"x\":[1.1423634363741173,0.11354051020682208,-2.195583075117904,-0.33536116350557,-0.47549123530692866,-0.4106247459547766,-1.2434649090000875,-1.6995213033682308,-0.6081257506754546,-0.08870672787977858,0.6400925329494375,0.7492341616274301,0.16747095277849683,1.2968374993604779,-2.11404568038147,-0.563870009286686,0.8310938582415069,2.325419671879464,0.20055448776283155,0.5085397117888597,-0.4080914801575566,1.6542943160162975,-0.5331072937653337,0.7586177614979411,0.9619927684630707,0.2559644805724021,0.5745188773744764,-0.5816583601699434,-1.429056679405346,0.7315998311231716,0.6783867139905609,-0.06078445221535873,0.27448110310334706,-1.16371229034305,-0.1398511030843688,0.006467377516567309,0.6562352588868274,-1.6448244488522312,0.3298352278087413,2.003002042268774,-1.0758696623884252,-0.11305940455786344,0.6029361517624183,-0.38271978469230267,0.7889985572895265,-1.741867773942648,-0.5174334505631387,0.3259635252071674,-0.28872347544954446,0.3596389037175514,0.009698255852205134,1.0793001511861586,1.1043921528612646,1.0891752844370528,-0.3566970439593109,0.21139128359993414,0.05023798480313808,0.2702500935425811,-1.361135025379144,-0.3356238142654462,-1.013962607948839,1.1381971032466252,-1.0107879455790383,0.7102149307995549,-0.9014591620430444,0.011895983352500345,-1.355067914607825,-0.15806123579869188,0.8023249003467309,1.4031343144422532,1.1345576048882402,-1.9137650864186122,-0.35305712873931205,-0.5552220851118872,-0.3100997841387888,1.1377680718610916,1.9065212557664553,-0.7063511867117129,-1.1490229352835497,-1.3530811813693597,0.5007106025210825,0.4796809706467747,1.8502387431840992,1.741994450617839,1.5862413863845208,-1.1472907598345856,0.8650500659149919,-0.33112805916725235,-0.18940943108872416,1.1662346250655902,-0.7525493252195511,-0.7556309869007968,0.6091473126481534,0.5162032920138211,0.7749536056718792,0.8177099736481309,2.4469257320693023,0.38013644896258414,0.20817582521403424,0.8467603806994561],\"xaxis\":\"x3\",\"y\":[0.2991550861198565,-0.3841492154014665,-1.4955874438548968,-0.986281527430265,0.8636431673834111,1.0506243725442432,-0.5641456423079034,-1.7863210272933812,0.5893189259744791,-0.6283981743665769,0.9822149186999429,0.003621728700036139,1.1478470780946737,0.9493796075126227,2.023151425732341,0.8209651038367457,-1.436616028751318,0.2501161685999158,-2.18940427695009,1.060005975403017,-1.2913373051591328,-0.5818461629913243,-3.559727068196443,0.0429856375186844,-0.040441593036933884,0.4365405596956291,-1.6122927837729488,-2.200067677252177,1.3741729080719394,0.22372429063459934,0.35456006418455993,1.0268798296954587,1.2483904845694946,0.06803355363766585,-1.215641873426893,-1.0092547114079848,-0.18928431766049622,-0.13624175059188193,-1.124654032729839,1.906287147681474,0.22227594199144093,-1.1680813787099484,1.2448035827666633,0.09448168900829862,-1.9213213375620148,3.374448829478874,-0.4720745251680017,1.4237076937233117,1.0977579047946182,0.27276264592903,-0.7071666774547971,0.4579682494563629,0.7812645170577213,0.6940016369921731,-1.6670428257540362,0.10479754129686403,2.0521391141627117,-0.5894929196802318,0.2086275444892075,-0.3943158555219555,-0.001962682381986401,0.5061562116185518,-1.31068766067125,1.1458984485772514,0.07746205451031746,0.42117143238154464,0.022396537274275884,0.3832423647923307,-0.7142696921980415,1.5759715705521424,-1.0948757064584989,-0.3578123661598927,-0.1388499152089222,-1.0316315826678573,0.14133939011217816,-0.7236948335615198,-1.0461981495376964,-0.860425552617968,0.6838366995531965,0.5019976649548585,-0.2698604416378836,0.020026700999118248,0.7382030841174992,-1.0107550832011862,-0.9809011420879843,0.40108331476893583,0.06473151369985368,1.8746933818594682,0.2515041968308312,-0.9807717470558058,0.40762164463885214,-1.1849158622412188,-0.17364781870766738,-1.4336904561145787,0.6915743124241517,0.010826914274588933,0.20377929746820334,-2.995026620423591,-1.2399719772534463,0.8788721868956764],\"yaxis\":\"y3\",\"type\":\"scatter\"},{\"line\":{\"color\":\"rgba(128, 128, 128, 1.0)\",\"dash\":\"solid\",\"shape\":\"linear\",\"width\":1.3},\"marker\":{\"size\":2,\"symbol\":\"circle\"},\"mode\":\"markers\",\"name\":\"A\",\"text\":\"\",\"x\":[-0.8496942648665607,0.41805640187036686,-0.9878282660079463,-1.5663266173229944,0.5059032376608317,-0.10101444172877458,1.023870814958945,1.0776469981944543,0.6031197823516035,-0.22220860549894053,-0.3716384094671871,-1.011491658471745,0.18855313183096936,0.6095096951627761,0.5962586882091566,-0.04173088142268591,-0.044192706512440484,-0.44107380721013006,-0.21142501415456913,0.24099050809879638,-0.47309509430223495,0.18720304373616822,-0.46682798780266954,0.26713935774844777,-0.046718955928361935,0.4786827527183718,1.224915444840153,0.900313638190235,-0.07993912419356818,0.22720760688973018,0.16741097980313763,-1.6971807713758618,0.26285857526526424,-0.8481473003171561,1.0019832458818996,-0.23890963837799392,-0.32518323790702136,-1.4214659093213708,0.7689677362511844,0.720454370048769,1.4120436891805468,-0.8885013713475357,0.49015465824590326,0.318721809076388,1.408170320673189,-0.9053600991879266,0.5596848983027292,0.5874387471118737,-1.3452790015989369,-1.0919949952111225,0.6190528365348118,1.0988301926896742,-1.2262042653555452,0.3431693872520292,0.12570110604857224,0.5271309083354175,0.24856255460548599,-1.2298878838865044,-0.1965012336229207,-0.6573776808010089,0.24786892848275827,-0.6830478001558176,-0.7184522746832681,-0.9994117954392141,0.050962641175703705,-2.2732965954839375,0.34000553606582534,-0.23062189624052834,-0.3001576898399603,-1.3700987482748903,-0.6388222587410752,-1.1197675654055868,0.08116978578069725,-0.7913930689421255,0.03301550712197834,0.8346833733450515,-0.7188138613391741,1.4893496436241953,0.9858869294808674,1.6034117721274181,1.4994358157770709,0.045951459501008415,-1.7549269371629004,1.4269179974818211,0.013196565836392126,-0.616471222732565,-0.3572376899508515,-0.5911000876319832,0.06643642138436352,-0.28657629214746766,-0.13340202720961356,0.9454106134171025,-0.3627861661237746,0.2838870032276294,-0.5272096839790353,-0.5455315712911585,-0.594008118453773,0.6669525024563863,0.3405305426784978,-1.5299087920635688],\"xaxis\":\"x4\",\"y\":[0.2991550861198565,-0.3841492154014665,-1.4955874438548968,-0.986281527430265,0.8636431673834111,1.0506243725442432,-0.5641456423079034,-1.7863210272933812,0.5893189259744791,-0.6283981743665769,0.9822149186999429,0.003621728700036139,1.1478470780946737,0.9493796075126227,2.023151425732341,0.8209651038367457,-1.436616028751318,0.2501161685999158,-2.18940427695009,1.060005975403017,-1.2913373051591328,-0.5818461629913243,-3.559727068196443,0.0429856375186844,-0.040441593036933884,0.4365405596956291,-1.6122927837729488,-2.200067677252177,1.3741729080719394,0.22372429063459934,0.35456006418455993,1.0268798296954587,1.2483904845694946,0.06803355363766585,-1.215641873426893,-1.0092547114079848,-0.18928431766049622,-0.13624175059188193,-1.124654032729839,1.906287147681474,0.22227594199144093,-1.1680813787099484,1.2448035827666633,0.09448168900829862,-1.9213213375620148,3.374448829478874,-0.4720745251680017,1.4237076937233117,1.0977579047946182,0.27276264592903,-0.7071666774547971,0.4579682494563629,0.7812645170577213,0.6940016369921731,-1.6670428257540362,0.10479754129686403,2.0521391141627117,-0.5894929196802318,0.2086275444892075,-0.3943158555219555,-0.001962682381986401,0.5061562116185518,-1.31068766067125,1.1458984485772514,0.07746205451031746,0.42117143238154464,0.022396537274275884,0.3832423647923307,-0.7142696921980415,1.5759715705521424,-1.0948757064584989,-0.3578123661598927,-0.1388499152089222,-1.0316315826678573,0.14133939011217816,-0.7236948335615198,-1.0461981495376964,-0.860425552617968,0.6838366995531965,0.5019976649548585,-0.2698604416378836,0.020026700999118248,0.7382030841174992,-1.0107550832011862,-0.9809011420879843,0.40108331476893583,0.06473151369985368,1.8746933818594682,0.2515041968308312,-0.9807717470558058,0.40762164463885214,-1.1849158622412188,-0.17364781870766738,-1.4336904561145787,0.6915743124241517,0.010826914274588933,0.20377929746820334,-2.995026620423591,-1.2399719772534463,0.8788721868956764],\"yaxis\":\"y4\",\"type\":\"scatter\"},{\"line\":{\"color\":\"rgba(128, 128, 128, 1.0)\",\"dash\":\"solid\",\"shape\":\"linear\",\"width\":1.3},\"marker\":{\"size\":2,\"symbol\":\"circle\"},\"mode\":\"markers\",\"name\":\"B\",\"text\":\"\",\"x\":[0.2991550861198565,-0.3841492154014665,-1.4955874438548968,-0.986281527430265,0.8636431673834111,1.0506243725442432,-0.5641456423079034,-1.7863210272933812,0.5893189259744791,-0.6283981743665769,0.9822149186999429,0.003621728700036139,1.1478470780946737,0.9493796075126227,2.023151425732341,0.8209651038367457,-1.436616028751318,0.2501161685999158,-2.18940427695009,1.060005975403017,-1.2913373051591328,-0.5818461629913243,-3.559727068196443,0.0429856375186844,-0.040441593036933884,0.4365405596956291,-1.6122927837729488,-2.200067677252177,1.3741729080719394,0.22372429063459934,0.35456006418455993,1.0268798296954587,1.2483904845694946,0.06803355363766585,-1.215641873426893,-1.0092547114079848,-0.18928431766049622,-0.13624175059188193,-1.124654032729839,1.906287147681474,0.22227594199144093,-1.1680813787099484,1.2448035827666633,0.09448168900829862,-1.9213213375620148,3.374448829478874,-0.4720745251680017,1.4237076937233117,1.0977579047946182,0.27276264592903,-0.7071666774547971,0.4579682494563629,0.7812645170577213,0.6940016369921731,-1.6670428257540362,0.10479754129686403,2.0521391141627117,-0.5894929196802318,0.2086275444892075,-0.3943158555219555,-0.001962682381986401,0.5061562116185518,-1.31068766067125,1.1458984485772514,0.07746205451031746,0.42117143238154464,0.022396537274275884,0.3832423647923307,-0.7142696921980415,1.5759715705521424,-1.0948757064584989,-0.3578123661598927,-0.1388499152089222,-1.0316315826678573,0.14133939011217816,-0.7236948335615198,-1.0461981495376964,-0.860425552617968,0.6838366995531965,0.5019976649548585,-0.2698604416378836,0.020026700999118248,0.7382030841174992,-1.0107550832011862,-0.9809011420879843,0.40108331476893583,0.06473151369985368,1.8746933818594682,0.2515041968308312,-0.9807717470558058,0.40762164463885214,-1.1849158622412188,-0.17364781870766738,-1.4336904561145787,0.6915743124241517,0.010826914274588933,0.20377929746820334,-2.995026620423591,-1.2399719772534463,0.8788721868956764],\"xaxis\":\"x5\",\"y\":[0.780112161625848,-0.6622020441579575,0.19603094116590988,0.9444435813517414,2.0190065917990325,0.43722776902737875,0.6764390904739006,-1.0318392658003315,-0.7052936531538087,-1.2207048933585274,-0.022498175312445908,-0.47514400008103796,0.015631345678703647,0.49166903297101733,-0.4463750385965351,-1.2532070399499404,0.017542246804112673,-0.7570882592644229,-1.2012136807274745,0.7886948763755939,-0.8693486963450223,0.9010537168023657,-0.5770469082718713,-0.1030991380904987,0.5338436665524187,1.1155594158041637,0.26391870421043223,1.3232294736026364,0.7630229489633639,1.632035218409037,1.5207097499353,-0.0006879736573673989,-1.21103828452234,1.34662009347215,0.9975735907200801,0.9551360071731924,-1.0722210696166834,-1.7265754758738259,0.04129037780678675,-0.7132244284043963,-1.0579130080408146,2.81148193442505,-0.04184454642460926,0.7307795091345204,-0.29943747215028277,0.6791011913122792,0.7539025548648147,-0.8199570302339777,0.6835533635051066,-0.37718640289622646,-1.4905040103618956,-0.8423691944628268,-0.16584257158889373,-1.4330757918373824,0.9461603473737706,-0.15290838198858106,-0.16205848298241507,0.02130880292795404,-1.4961741662057277,0.4484982571308183,0.18922260769185564,0.7710099389584645,-1.4518000619214029,-0.5812770284876827,0.5146202678161,0.9315853354882877,-0.9603288937961088,-1.103370479561761,-0.47745010276254535,0.9336441074488008,1.2560789857109207,-0.5249525108676631,0.9324462586812953,-0.8005665398613003,-0.4671893294403345,0.14609976572579939,0.030765176545579104,0.9842394461832488,-0.6094735362782722,0.5726121277992451,0.9344438360939703,1.470087261607474,0.6444928799223439,-1.8503301390802411,0.784695912134507,-0.1797897094423723,2.3847821119754022,-1.3412772928554055,0.5857245773958671,-0.44248615438473105,1.02478023997563,-0.10167432812782703,-0.46321591080833774,-1.0606116126026808,1.0757078100996635,-0.2948219640020998,0.4688053405721653,1.5442197803396982,2.561137988024716,0.051745092191318],\"yaxis\":\"y5\",\"type\":\"scatter\"},{\"histfunc\":\"count\",\"histnorm\":\"\",\"marker\":{\"color\":\"rgba(55, 128, 191, 1.0)\",\"line\":{\"color\":\"#4D5663\",\"width\":1.3}},\"name\":\"B\",\"nbinsx\":10,\"opacity\":0.8,\"orientation\":\"v\",\"x\":[0.780112161625848,-0.6622020441579575,0.19603094116590988,0.9444435813517414,2.0190065917990325,0.43722776902737875,0.6764390904739006,-1.0318392658003315,-0.7052936531538087,-1.2207048933585274,-0.022498175312445908,-0.47514400008103796,0.015631345678703647,0.49166903297101733,-0.4463750385965351,-1.2532070399499404,0.017542246804112673,-0.7570882592644229,-1.2012136807274745,0.7886948763755939,-0.8693486963450223,0.9010537168023657,-0.5770469082718713,-0.1030991380904987,0.5338436665524187,1.1155594158041637,0.26391870421043223,1.3232294736026364,0.7630229489633639,1.632035218409037,1.5207097499353,-0.0006879736573673989,-1.21103828452234,1.34662009347215,0.9975735907200801,0.9551360071731924,-1.0722210696166834,-1.7265754758738259,0.04129037780678675,-0.7132244284043963,-1.0579130080408146,2.81148193442505,-0.04184454642460926,0.7307795091345204,-0.29943747215028277,0.6791011913122792,0.7539025548648147,-0.8199570302339777,0.6835533635051066,-0.37718640289622646,-1.4905040103618956,-0.8423691944628268,-0.16584257158889373,-1.4330757918373824,0.9461603473737706,-0.15290838198858106,-0.16205848298241507,0.02130880292795404,-1.4961741662057277,0.4484982571308183,0.18922260769185564,0.7710099389584645,-1.4518000619214029,-0.5812770284876827,0.5146202678161,0.9315853354882877,-0.9603288937961088,-1.103370479561761,-0.47745010276254535,0.9336441074488008,1.2560789857109207,-0.5249525108676631,0.9324462586812953,-0.8005665398613003,-0.4671893294403345,0.14609976572579939,0.030765176545579104,0.9842394461832488,-0.6094735362782722,0.5726121277992451,0.9344438360939703,1.470087261607474,0.6444928799223439,-1.8503301390802411,0.784695912134507,-0.1797897094423723,2.3847821119754022,-1.3412772928554055,0.5857245773958671,-0.44248615438473105,1.02478023997563,-0.10167432812782703,-0.46321591080833774,-1.0606116126026808,1.0757078100996635,-0.2948219640020998,0.4688053405721653,1.5442197803396982,2.561137988024716,0.051745092191318],\"xaxis\":\"x6\",\"yaxis\":\"y6\",\"type\":\"histogram\"},{\"line\":{\"color\":\"rgba(128, 128, 128, 1.0)\",\"dash\":\"solid\",\"shape\":\"linear\",\"width\":1.3},\"marker\":{\"size\":2,\"symbol\":\"circle\"},\"mode\":\"markers\",\"name\":\"B\",\"text\":\"\",\"x\":[1.1423634363741173,0.11354051020682208,-2.195583075117904,-0.33536116350557,-0.47549123530692866,-0.4106247459547766,-1.2434649090000875,-1.6995213033682308,-0.6081257506754546,-0.08870672787977858,0.6400925329494375,0.7492341616274301,0.16747095277849683,1.2968374993604779,-2.11404568038147,-0.563870009286686,0.8310938582415069,2.325419671879464,0.20055448776283155,0.5085397117888597,-0.4080914801575566,1.6542943160162975,-0.5331072937653337,0.7586177614979411,0.9619927684630707,0.2559644805724021,0.5745188773744764,-0.5816583601699434,-1.429056679405346,0.7315998311231716,0.6783867139905609,-0.06078445221535873,0.27448110310334706,-1.16371229034305,-0.1398511030843688,0.006467377516567309,0.6562352588868274,-1.6448244488522312,0.3298352278087413,2.003002042268774,-1.0758696623884252,-0.11305940455786344,0.6029361517624183,-0.38271978469230267,0.7889985572895265,-1.741867773942648,-0.5174334505631387,0.3259635252071674,-0.28872347544954446,0.3596389037175514,0.009698255852205134,1.0793001511861586,1.1043921528612646,1.0891752844370528,-0.3566970439593109,0.21139128359993414,0.05023798480313808,0.2702500935425811,-1.361135025379144,-0.3356238142654462,-1.013962607948839,1.1381971032466252,-1.0107879455790383,0.7102149307995549,-0.9014591620430444,0.011895983352500345,-1.355067914607825,-0.15806123579869188,0.8023249003467309,1.4031343144422532,1.1345576048882402,-1.9137650864186122,-0.35305712873931205,-0.5552220851118872,-0.3100997841387888,1.1377680718610916,1.9065212557664553,-0.7063511867117129,-1.1490229352835497,-1.3530811813693597,0.5007106025210825,0.4796809706467747,1.8502387431840992,1.741994450617839,1.5862413863845208,-1.1472907598345856,0.8650500659149919,-0.33112805916725235,-0.18940943108872416,1.1662346250655902,-0.7525493252195511,-0.7556309869007968,0.6091473126481534,0.5162032920138211,0.7749536056718792,0.8177099736481309,2.4469257320693023,0.38013644896258414,0.20817582521403424,0.8467603806994561],\"xaxis\":\"x7\",\"y\":[0.780112161625848,-0.6622020441579575,0.19603094116590988,0.9444435813517414,2.0190065917990325,0.43722776902737875,0.6764390904739006,-1.0318392658003315,-0.7052936531538087,-1.2207048933585274,-0.022498175312445908,-0.47514400008103796,0.015631345678703647,0.49166903297101733,-0.4463750385965351,-1.2532070399499404,0.017542246804112673,-0.7570882592644229,-1.2012136807274745,0.7886948763755939,-0.8693486963450223,0.9010537168023657,-0.5770469082718713,-0.1030991380904987,0.5338436665524187,1.1155594158041637,0.26391870421043223,1.3232294736026364,0.7630229489633639,1.632035218409037,1.5207097499353,-0.0006879736573673989,-1.21103828452234,1.34662009347215,0.9975735907200801,0.9551360071731924,-1.0722210696166834,-1.7265754758738259,0.04129037780678675,-0.7132244284043963,-1.0579130080408146,2.81148193442505,-0.04184454642460926,0.7307795091345204,-0.29943747215028277,0.6791011913122792,0.7539025548648147,-0.8199570302339777,0.6835533635051066,-0.37718640289622646,-1.4905040103618956,-0.8423691944628268,-0.16584257158889373,-1.4330757918373824,0.9461603473737706,-0.15290838198858106,-0.16205848298241507,0.02130880292795404,-1.4961741662057277,0.4484982571308183,0.18922260769185564,0.7710099389584645,-1.4518000619214029,-0.5812770284876827,0.5146202678161,0.9315853354882877,-0.9603288937961088,-1.103370479561761,-0.47745010276254535,0.9336441074488008,1.2560789857109207,-0.5249525108676631,0.9324462586812953,-0.8005665398613003,-0.4671893294403345,0.14609976572579939,0.030765176545579104,0.9842394461832488,-0.6094735362782722,0.5726121277992451,0.9344438360939703,1.470087261607474,0.6444928799223439,-1.8503301390802411,0.784695912134507,-0.1797897094423723,2.3847821119754022,-1.3412772928554055,0.5857245773958671,-0.44248615438473105,1.02478023997563,-0.10167432812782703,-0.46321591080833774,-1.0606116126026808,1.0757078100996635,-0.2948219640020998,0.4688053405721653,1.5442197803396982,2.561137988024716,0.051745092191318],\"yaxis\":\"y7\",\"type\":\"scatter\"},{\"line\":{\"color\":\"rgba(128, 128, 128, 1.0)\",\"dash\":\"solid\",\"shape\":\"linear\",\"width\":1.3},\"marker\":{\"size\":2,\"symbol\":\"circle\"},\"mode\":\"markers\",\"name\":\"B\",\"text\":\"\",\"x\":[-0.8496942648665607,0.41805640187036686,-0.9878282660079463,-1.5663266173229944,0.5059032376608317,-0.10101444172877458,1.023870814958945,1.0776469981944543,0.6031197823516035,-0.22220860549894053,-0.3716384094671871,-1.011491658471745,0.18855313183096936,0.6095096951627761,0.5962586882091566,-0.04173088142268591,-0.044192706512440484,-0.44107380721013006,-0.21142501415456913,0.24099050809879638,-0.47309509430223495,0.18720304373616822,-0.46682798780266954,0.26713935774844777,-0.046718955928361935,0.4786827527183718,1.224915444840153,0.900313638190235,-0.07993912419356818,0.22720760688973018,0.16741097980313763,-1.6971807713758618,0.26285857526526424,-0.8481473003171561,1.0019832458818996,-0.23890963837799392,-0.32518323790702136,-1.4214659093213708,0.7689677362511844,0.720454370048769,1.4120436891805468,-0.8885013713475357,0.49015465824590326,0.318721809076388,1.408170320673189,-0.9053600991879266,0.5596848983027292,0.5874387471118737,-1.3452790015989369,-1.0919949952111225,0.6190528365348118,1.0988301926896742,-1.2262042653555452,0.3431693872520292,0.12570110604857224,0.5271309083354175,0.24856255460548599,-1.2298878838865044,-0.1965012336229207,-0.6573776808010089,0.24786892848275827,-0.6830478001558176,-0.7184522746832681,-0.9994117954392141,0.050962641175703705,-2.2732965954839375,0.34000553606582534,-0.23062189624052834,-0.3001576898399603,-1.3700987482748903,-0.6388222587410752,-1.1197675654055868,0.08116978578069725,-0.7913930689421255,0.03301550712197834,0.8346833733450515,-0.7188138613391741,1.4893496436241953,0.9858869294808674,1.6034117721274181,1.4994358157770709,0.045951459501008415,-1.7549269371629004,1.4269179974818211,0.013196565836392126,-0.616471222732565,-0.3572376899508515,-0.5911000876319832,0.06643642138436352,-0.28657629214746766,-0.13340202720961356,0.9454106134171025,-0.3627861661237746,0.2838870032276294,-0.5272096839790353,-0.5455315712911585,-0.594008118453773,0.6669525024563863,0.3405305426784978,-1.5299087920635688],\"xaxis\":\"x8\",\"y\":[0.780112161625848,-0.6622020441579575,0.19603094116590988,0.9444435813517414,2.0190065917990325,0.43722776902737875,0.6764390904739006,-1.0318392658003315,-0.7052936531538087,-1.2207048933585274,-0.022498175312445908,-0.47514400008103796,0.015631345678703647,0.49166903297101733,-0.4463750385965351,-1.2532070399499404,0.017542246804112673,-0.7570882592644229,-1.2012136807274745,0.7886948763755939,-0.8693486963450223,0.9010537168023657,-0.5770469082718713,-0.1030991380904987,0.5338436665524187,1.1155594158041637,0.26391870421043223,1.3232294736026364,0.7630229489633639,1.632035218409037,1.5207097499353,-0.0006879736573673989,-1.21103828452234,1.34662009347215,0.9975735907200801,0.9551360071731924,-1.0722210696166834,-1.7265754758738259,0.04129037780678675,-0.7132244284043963,-1.0579130080408146,2.81148193442505,-0.04184454642460926,0.7307795091345204,-0.29943747215028277,0.6791011913122792,0.7539025548648147,-0.8199570302339777,0.6835533635051066,-0.37718640289622646,-1.4905040103618956,-0.8423691944628268,-0.16584257158889373,-1.4330757918373824,0.9461603473737706,-0.15290838198858106,-0.16205848298241507,0.02130880292795404,-1.4961741662057277,0.4484982571308183,0.18922260769185564,0.7710099389584645,-1.4518000619214029,-0.5812770284876827,0.5146202678161,0.9315853354882877,-0.9603288937961088,-1.103370479561761,-0.47745010276254535,0.9336441074488008,1.2560789857109207,-0.5249525108676631,0.9324462586812953,-0.8005665398613003,-0.4671893294403345,0.14609976572579939,0.030765176545579104,0.9842394461832488,-0.6094735362782722,0.5726121277992451,0.9344438360939703,1.470087261607474,0.6444928799223439,-1.8503301390802411,0.784695912134507,-0.1797897094423723,2.3847821119754022,-1.3412772928554055,0.5857245773958671,-0.44248615438473105,1.02478023997563,-0.10167432812782703,-0.46321591080833774,-1.0606116126026808,1.0757078100996635,-0.2948219640020998,0.4688053405721653,1.5442197803396982,2.561137988024716,0.051745092191318],\"yaxis\":\"y8\",\"type\":\"scatter\"},{\"line\":{\"color\":\"rgba(128, 128, 128, 1.0)\",\"dash\":\"solid\",\"shape\":\"linear\",\"width\":1.3},\"marker\":{\"size\":2,\"symbol\":\"circle\"},\"mode\":\"markers\",\"name\":\"C\",\"text\":\"\",\"x\":[0.2991550861198565,-0.3841492154014665,-1.4955874438548968,-0.986281527430265,0.8636431673834111,1.0506243725442432,-0.5641456423079034,-1.7863210272933812,0.5893189259744791,-0.6283981743665769,0.9822149186999429,0.003621728700036139,1.1478470780946737,0.9493796075126227,2.023151425732341,0.8209651038367457,-1.436616028751318,0.2501161685999158,-2.18940427695009,1.060005975403017,-1.2913373051591328,-0.5818461629913243,-3.559727068196443,0.0429856375186844,-0.040441593036933884,0.4365405596956291,-1.6122927837729488,-2.200067677252177,1.3741729080719394,0.22372429063459934,0.35456006418455993,1.0268798296954587,1.2483904845694946,0.06803355363766585,-1.215641873426893,-1.0092547114079848,-0.18928431766049622,-0.13624175059188193,-1.124654032729839,1.906287147681474,0.22227594199144093,-1.1680813787099484,1.2448035827666633,0.09448168900829862,-1.9213213375620148,3.374448829478874,-0.4720745251680017,1.4237076937233117,1.0977579047946182,0.27276264592903,-0.7071666774547971,0.4579682494563629,0.7812645170577213,0.6940016369921731,-1.6670428257540362,0.10479754129686403,2.0521391141627117,-0.5894929196802318,0.2086275444892075,-0.3943158555219555,-0.001962682381986401,0.5061562116185518,-1.31068766067125,1.1458984485772514,0.07746205451031746,0.42117143238154464,0.022396537274275884,0.3832423647923307,-0.7142696921980415,1.5759715705521424,-1.0948757064584989,-0.3578123661598927,-0.1388499152089222,-1.0316315826678573,0.14133939011217816,-0.7236948335615198,-1.0461981495376964,-0.860425552617968,0.6838366995531965,0.5019976649548585,-0.2698604416378836,0.020026700999118248,0.7382030841174992,-1.0107550832011862,-0.9809011420879843,0.40108331476893583,0.06473151369985368,1.8746933818594682,0.2515041968308312,-0.9807717470558058,0.40762164463885214,-1.1849158622412188,-0.17364781870766738,-1.4336904561145787,0.6915743124241517,0.010826914274588933,0.20377929746820334,-2.995026620423591,-1.2399719772534463,0.8788721868956764],\"xaxis\":\"x9\",\"y\":[1.1423634363741173,0.11354051020682208,-2.195583075117904,-0.33536116350557,-0.47549123530692866,-0.4106247459547766,-1.2434649090000875,-1.6995213033682308,-0.6081257506754546,-0.08870672787977858,0.6400925329494375,0.7492341616274301,0.16747095277849683,1.2968374993604779,-2.11404568038147,-0.563870009286686,0.8310938582415069,2.325419671879464,0.20055448776283155,0.5085397117888597,-0.4080914801575566,1.6542943160162975,-0.5331072937653337,0.7586177614979411,0.9619927684630707,0.2559644805724021,0.5745188773744764,-0.5816583601699434,-1.429056679405346,0.7315998311231716,0.6783867139905609,-0.06078445221535873,0.27448110310334706,-1.16371229034305,-0.1398511030843688,0.006467377516567309,0.6562352588868274,-1.6448244488522312,0.3298352278087413,2.003002042268774,-1.0758696623884252,-0.11305940455786344,0.6029361517624183,-0.38271978469230267,0.7889985572895265,-1.741867773942648,-0.5174334505631387,0.3259635252071674,-0.28872347544954446,0.3596389037175514,0.009698255852205134,1.0793001511861586,1.1043921528612646,1.0891752844370528,-0.3566970439593109,0.21139128359993414,0.05023798480313808,0.2702500935425811,-1.361135025379144,-0.3356238142654462,-1.013962607948839,1.1381971032466252,-1.0107879455790383,0.7102149307995549,-0.9014591620430444,0.011895983352500345,-1.355067914607825,-0.15806123579869188,0.8023249003467309,1.4031343144422532,1.1345576048882402,-1.9137650864186122,-0.35305712873931205,-0.5552220851118872,-0.3100997841387888,1.1377680718610916,1.9065212557664553,-0.7063511867117129,-1.1490229352835497,-1.3530811813693597,0.5007106025210825,0.4796809706467747,1.8502387431840992,1.741994450617839,1.5862413863845208,-1.1472907598345856,0.8650500659149919,-0.33112805916725235,-0.18940943108872416,1.1662346250655902,-0.7525493252195511,-0.7556309869007968,0.6091473126481534,0.5162032920138211,0.7749536056718792,0.8177099736481309,2.4469257320693023,0.38013644896258414,0.20817582521403424,0.8467603806994561],\"yaxis\":\"y9\",\"type\":\"scatter\"},{\"line\":{\"color\":\"rgba(128, 128, 128, 1.0)\",\"dash\":\"solid\",\"shape\":\"linear\",\"width\":1.3},\"marker\":{\"size\":2,\"symbol\":\"circle\"},\"mode\":\"markers\",\"name\":\"C\",\"text\":\"\",\"x\":[0.780112161625848,-0.6622020441579575,0.19603094116590988,0.9444435813517414,2.0190065917990325,0.43722776902737875,0.6764390904739006,-1.0318392658003315,-0.7052936531538087,-1.2207048933585274,-0.022498175312445908,-0.47514400008103796,0.015631345678703647,0.49166903297101733,-0.4463750385965351,-1.2532070399499404,0.017542246804112673,-0.7570882592644229,-1.2012136807274745,0.7886948763755939,-0.8693486963450223,0.9010537168023657,-0.5770469082718713,-0.1030991380904987,0.5338436665524187,1.1155594158041637,0.26391870421043223,1.3232294736026364,0.7630229489633639,1.632035218409037,1.5207097499353,-0.0006879736573673989,-1.21103828452234,1.34662009347215,0.9975735907200801,0.9551360071731924,-1.0722210696166834,-1.7265754758738259,0.04129037780678675,-0.7132244284043963,-1.0579130080408146,2.81148193442505,-0.04184454642460926,0.7307795091345204,-0.29943747215028277,0.6791011913122792,0.7539025548648147,-0.8199570302339777,0.6835533635051066,-0.37718640289622646,-1.4905040103618956,-0.8423691944628268,-0.16584257158889373,-1.4330757918373824,0.9461603473737706,-0.15290838198858106,-0.16205848298241507,0.02130880292795404,-1.4961741662057277,0.4484982571308183,0.18922260769185564,0.7710099389584645,-1.4518000619214029,-0.5812770284876827,0.5146202678161,0.9315853354882877,-0.9603288937961088,-1.103370479561761,-0.47745010276254535,0.9336441074488008,1.2560789857109207,-0.5249525108676631,0.9324462586812953,-0.8005665398613003,-0.4671893294403345,0.14609976572579939,0.030765176545579104,0.9842394461832488,-0.6094735362782722,0.5726121277992451,0.9344438360939703,1.470087261607474,0.6444928799223439,-1.8503301390802411,0.784695912134507,-0.1797897094423723,2.3847821119754022,-1.3412772928554055,0.5857245773958671,-0.44248615438473105,1.02478023997563,-0.10167432812782703,-0.46321591080833774,-1.0606116126026808,1.0757078100996635,-0.2948219640020998,0.4688053405721653,1.5442197803396982,2.561137988024716,0.051745092191318],\"xaxis\":\"x10\",\"y\":[1.1423634363741173,0.11354051020682208,-2.195583075117904,-0.33536116350557,-0.47549123530692866,-0.4106247459547766,-1.2434649090000875,-1.6995213033682308,-0.6081257506754546,-0.08870672787977858,0.6400925329494375,0.7492341616274301,0.16747095277849683,1.2968374993604779,-2.11404568038147,-0.563870009286686,0.8310938582415069,2.325419671879464,0.20055448776283155,0.5085397117888597,-0.4080914801575566,1.6542943160162975,-0.5331072937653337,0.7586177614979411,0.9619927684630707,0.2559644805724021,0.5745188773744764,-0.5816583601699434,-1.429056679405346,0.7315998311231716,0.6783867139905609,-0.06078445221535873,0.27448110310334706,-1.16371229034305,-0.1398511030843688,0.006467377516567309,0.6562352588868274,-1.6448244488522312,0.3298352278087413,2.003002042268774,-1.0758696623884252,-0.11305940455786344,0.6029361517624183,-0.38271978469230267,0.7889985572895265,-1.741867773942648,-0.5174334505631387,0.3259635252071674,-0.28872347544954446,0.3596389037175514,0.009698255852205134,1.0793001511861586,1.1043921528612646,1.0891752844370528,-0.3566970439593109,0.21139128359993414,0.05023798480313808,0.2702500935425811,-1.361135025379144,-0.3356238142654462,-1.013962607948839,1.1381971032466252,-1.0107879455790383,0.7102149307995549,-0.9014591620430444,0.011895983352500345,-1.355067914607825,-0.15806123579869188,0.8023249003467309,1.4031343144422532,1.1345576048882402,-1.9137650864186122,-0.35305712873931205,-0.5552220851118872,-0.3100997841387888,1.1377680718610916,1.9065212557664553,-0.7063511867117129,-1.1490229352835497,-1.3530811813693597,0.5007106025210825,0.4796809706467747,1.8502387431840992,1.741994450617839,1.5862413863845208,-1.1472907598345856,0.8650500659149919,-0.33112805916725235,-0.18940943108872416,1.1662346250655902,-0.7525493252195511,-0.7556309869007968,0.6091473126481534,0.5162032920138211,0.7749536056718792,0.8177099736481309,2.4469257320693023,0.38013644896258414,0.20817582521403424,0.8467603806994561],\"yaxis\":\"y10\",\"type\":\"scatter\"},{\"histfunc\":\"count\",\"histnorm\":\"\",\"marker\":{\"color\":\"rgba(50, 171, 96, 1.0)\",\"line\":{\"color\":\"#4D5663\",\"width\":1.3}},\"name\":\"C\",\"nbinsx\":10,\"opacity\":0.8,\"orientation\":\"v\",\"x\":[1.1423634363741173,0.11354051020682208,-2.195583075117904,-0.33536116350557,-0.47549123530692866,-0.4106247459547766,-1.2434649090000875,-1.6995213033682308,-0.6081257506754546,-0.08870672787977858,0.6400925329494375,0.7492341616274301,0.16747095277849683,1.2968374993604779,-2.11404568038147,-0.563870009286686,0.8310938582415069,2.325419671879464,0.20055448776283155,0.5085397117888597,-0.4080914801575566,1.6542943160162975,-0.5331072937653337,0.7586177614979411,0.9619927684630707,0.2559644805724021,0.5745188773744764,-0.5816583601699434,-1.429056679405346,0.7315998311231716,0.6783867139905609,-0.06078445221535873,0.27448110310334706,-1.16371229034305,-0.1398511030843688,0.006467377516567309,0.6562352588868274,-1.6448244488522312,0.3298352278087413,2.003002042268774,-1.0758696623884252,-0.11305940455786344,0.6029361517624183,-0.38271978469230267,0.7889985572895265,-1.741867773942648,-0.5174334505631387,0.3259635252071674,-0.28872347544954446,0.3596389037175514,0.009698255852205134,1.0793001511861586,1.1043921528612646,1.0891752844370528,-0.3566970439593109,0.21139128359993414,0.05023798480313808,0.2702500935425811,-1.361135025379144,-0.3356238142654462,-1.013962607948839,1.1381971032466252,-1.0107879455790383,0.7102149307995549,-0.9014591620430444,0.011895983352500345,-1.355067914607825,-0.15806123579869188,0.8023249003467309,1.4031343144422532,1.1345576048882402,-1.9137650864186122,-0.35305712873931205,-0.5552220851118872,-0.3100997841387888,1.1377680718610916,1.9065212557664553,-0.7063511867117129,-1.1490229352835497,-1.3530811813693597,0.5007106025210825,0.4796809706467747,1.8502387431840992,1.741994450617839,1.5862413863845208,-1.1472907598345856,0.8650500659149919,-0.33112805916725235,-0.18940943108872416,1.1662346250655902,-0.7525493252195511,-0.7556309869007968,0.6091473126481534,0.5162032920138211,0.7749536056718792,0.8177099736481309,2.4469257320693023,0.38013644896258414,0.20817582521403424,0.8467603806994561],\"xaxis\":\"x11\",\"yaxis\":\"y11\",\"type\":\"histogram\"},{\"line\":{\"color\":\"rgba(128, 128, 128, 1.0)\",\"dash\":\"solid\",\"shape\":\"linear\",\"width\":1.3},\"marker\":{\"size\":2,\"symbol\":\"circle\"},\"mode\":\"markers\",\"name\":\"C\",\"text\":\"\",\"x\":[-0.8496942648665607,0.41805640187036686,-0.9878282660079463,-1.5663266173229944,0.5059032376608317,-0.10101444172877458,1.023870814958945,1.0776469981944543,0.6031197823516035,-0.22220860549894053,-0.3716384094671871,-1.011491658471745,0.18855313183096936,0.6095096951627761,0.5962586882091566,-0.04173088142268591,-0.044192706512440484,-0.44107380721013006,-0.21142501415456913,0.24099050809879638,-0.47309509430223495,0.18720304373616822,-0.46682798780266954,0.26713935774844777,-0.046718955928361935,0.4786827527183718,1.224915444840153,0.900313638190235,-0.07993912419356818,0.22720760688973018,0.16741097980313763,-1.6971807713758618,0.26285857526526424,-0.8481473003171561,1.0019832458818996,-0.23890963837799392,-0.32518323790702136,-1.4214659093213708,0.7689677362511844,0.720454370048769,1.4120436891805468,-0.8885013713475357,0.49015465824590326,0.318721809076388,1.408170320673189,-0.9053600991879266,0.5596848983027292,0.5874387471118737,-1.3452790015989369,-1.0919949952111225,0.6190528365348118,1.0988301926896742,-1.2262042653555452,0.3431693872520292,0.12570110604857224,0.5271309083354175,0.24856255460548599,-1.2298878838865044,-0.1965012336229207,-0.6573776808010089,0.24786892848275827,-0.6830478001558176,-0.7184522746832681,-0.9994117954392141,0.050962641175703705,-2.2732965954839375,0.34000553606582534,-0.23062189624052834,-0.3001576898399603,-1.3700987482748903,-0.6388222587410752,-1.1197675654055868,0.08116978578069725,-0.7913930689421255,0.03301550712197834,0.8346833733450515,-0.7188138613391741,1.4893496436241953,0.9858869294808674,1.6034117721274181,1.4994358157770709,0.045951459501008415,-1.7549269371629004,1.4269179974818211,0.013196565836392126,-0.616471222732565,-0.3572376899508515,-0.5911000876319832,0.06643642138436352,-0.28657629214746766,-0.13340202720961356,0.9454106134171025,-0.3627861661237746,0.2838870032276294,-0.5272096839790353,-0.5455315712911585,-0.594008118453773,0.6669525024563863,0.3405305426784978,-1.5299087920635688],\"xaxis\":\"x12\",\"y\":[1.1423634363741173,0.11354051020682208,-2.195583075117904,-0.33536116350557,-0.47549123530692866,-0.4106247459547766,-1.2434649090000875,-1.6995213033682308,-0.6081257506754546,-0.08870672787977858,0.6400925329494375,0.7492341616274301,0.16747095277849683,1.2968374993604779,-2.11404568038147,-0.563870009286686,0.8310938582415069,2.325419671879464,0.20055448776283155,0.5085397117888597,-0.4080914801575566,1.6542943160162975,-0.5331072937653337,0.7586177614979411,0.9619927684630707,0.2559644805724021,0.5745188773744764,-0.5816583601699434,-1.429056679405346,0.7315998311231716,0.6783867139905609,-0.06078445221535873,0.27448110310334706,-1.16371229034305,-0.1398511030843688,0.006467377516567309,0.6562352588868274,-1.6448244488522312,0.3298352278087413,2.003002042268774,-1.0758696623884252,-0.11305940455786344,0.6029361517624183,-0.38271978469230267,0.7889985572895265,-1.741867773942648,-0.5174334505631387,0.3259635252071674,-0.28872347544954446,0.3596389037175514,0.009698255852205134,1.0793001511861586,1.1043921528612646,1.0891752844370528,-0.3566970439593109,0.21139128359993414,0.05023798480313808,0.2702500935425811,-1.361135025379144,-0.3356238142654462,-1.013962607948839,1.1381971032466252,-1.0107879455790383,0.7102149307995549,-0.9014591620430444,0.011895983352500345,-1.355067914607825,-0.15806123579869188,0.8023249003467309,1.4031343144422532,1.1345576048882402,-1.9137650864186122,-0.35305712873931205,-0.5552220851118872,-0.3100997841387888,1.1377680718610916,1.9065212557664553,-0.7063511867117129,-1.1490229352835497,-1.3530811813693597,0.5007106025210825,0.4796809706467747,1.8502387431840992,1.741994450617839,1.5862413863845208,-1.1472907598345856,0.8650500659149919,-0.33112805916725235,-0.18940943108872416,1.1662346250655902,-0.7525493252195511,-0.7556309869007968,0.6091473126481534,0.5162032920138211,0.7749536056718792,0.8177099736481309,2.4469257320693023,0.38013644896258414,0.20817582521403424,0.8467603806994561],\"yaxis\":\"y12\",\"type\":\"scatter\"},{\"line\":{\"color\":\"rgba(128, 128, 128, 1.0)\",\"dash\":\"solid\",\"shape\":\"linear\",\"width\":1.3},\"marker\":{\"size\":2,\"symbol\":\"circle\"},\"mode\":\"markers\",\"name\":\"D\",\"text\":\"\",\"x\":[0.2991550861198565,-0.3841492154014665,-1.4955874438548968,-0.986281527430265,0.8636431673834111,1.0506243725442432,-0.5641456423079034,-1.7863210272933812,0.5893189259744791,-0.6283981743665769,0.9822149186999429,0.003621728700036139,1.1478470780946737,0.9493796075126227,2.023151425732341,0.8209651038367457,-1.436616028751318,0.2501161685999158,-2.18940427695009,1.060005975403017,-1.2913373051591328,-0.5818461629913243,-3.559727068196443,0.0429856375186844,-0.040441593036933884,0.4365405596956291,-1.6122927837729488,-2.200067677252177,1.3741729080719394,0.22372429063459934,0.35456006418455993,1.0268798296954587,1.2483904845694946,0.06803355363766585,-1.215641873426893,-1.0092547114079848,-0.18928431766049622,-0.13624175059188193,-1.124654032729839,1.906287147681474,0.22227594199144093,-1.1680813787099484,1.2448035827666633,0.09448168900829862,-1.9213213375620148,3.374448829478874,-0.4720745251680017,1.4237076937233117,1.0977579047946182,0.27276264592903,-0.7071666774547971,0.4579682494563629,0.7812645170577213,0.6940016369921731,-1.6670428257540362,0.10479754129686403,2.0521391141627117,-0.5894929196802318,0.2086275444892075,-0.3943158555219555,-0.001962682381986401,0.5061562116185518,-1.31068766067125,1.1458984485772514,0.07746205451031746,0.42117143238154464,0.022396537274275884,0.3832423647923307,-0.7142696921980415,1.5759715705521424,-1.0948757064584989,-0.3578123661598927,-0.1388499152089222,-1.0316315826678573,0.14133939011217816,-0.7236948335615198,-1.0461981495376964,-0.860425552617968,0.6838366995531965,0.5019976649548585,-0.2698604416378836,0.020026700999118248,0.7382030841174992,-1.0107550832011862,-0.9809011420879843,0.40108331476893583,0.06473151369985368,1.8746933818594682,0.2515041968308312,-0.9807717470558058,0.40762164463885214,-1.1849158622412188,-0.17364781870766738,-1.4336904561145787,0.6915743124241517,0.010826914274588933,0.20377929746820334,-2.995026620423591,-1.2399719772534463,0.8788721868956764],\"xaxis\":\"x13\",\"y\":[-0.8496942648665607,0.41805640187036686,-0.9878282660079463,-1.5663266173229944,0.5059032376608317,-0.10101444172877458,1.023870814958945,1.0776469981944543,0.6031197823516035,-0.22220860549894053,-0.3716384094671871,-1.011491658471745,0.18855313183096936,0.6095096951627761,0.5962586882091566,-0.04173088142268591,-0.044192706512440484,-0.44107380721013006,-0.21142501415456913,0.24099050809879638,-0.47309509430223495,0.18720304373616822,-0.46682798780266954,0.26713935774844777,-0.046718955928361935,0.4786827527183718,1.224915444840153,0.900313638190235,-0.07993912419356818,0.22720760688973018,0.16741097980313763,-1.6971807713758618,0.26285857526526424,-0.8481473003171561,1.0019832458818996,-0.23890963837799392,-0.32518323790702136,-1.4214659093213708,0.7689677362511844,0.720454370048769,1.4120436891805468,-0.8885013713475357,0.49015465824590326,0.318721809076388,1.408170320673189,-0.9053600991879266,0.5596848983027292,0.5874387471118737,-1.3452790015989369,-1.0919949952111225,0.6190528365348118,1.0988301926896742,-1.2262042653555452,0.3431693872520292,0.12570110604857224,0.5271309083354175,0.24856255460548599,-1.2298878838865044,-0.1965012336229207,-0.6573776808010089,0.24786892848275827,-0.6830478001558176,-0.7184522746832681,-0.9994117954392141,0.050962641175703705,-2.2732965954839375,0.34000553606582534,-0.23062189624052834,-0.3001576898399603,-1.3700987482748903,-0.6388222587410752,-1.1197675654055868,0.08116978578069725,-0.7913930689421255,0.03301550712197834,0.8346833733450515,-0.7188138613391741,1.4893496436241953,0.9858869294808674,1.6034117721274181,1.4994358157770709,0.045951459501008415,-1.7549269371629004,1.4269179974818211,0.013196565836392126,-0.616471222732565,-0.3572376899508515,-0.5911000876319832,0.06643642138436352,-0.28657629214746766,-0.13340202720961356,0.9454106134171025,-0.3627861661237746,0.2838870032276294,-0.5272096839790353,-0.5455315712911585,-0.594008118453773,0.6669525024563863,0.3405305426784978,-1.5299087920635688],\"yaxis\":\"y13\",\"type\":\"scatter\"},{\"line\":{\"color\":\"rgba(128, 128, 128, 1.0)\",\"dash\":\"solid\",\"shape\":\"linear\",\"width\":1.3},\"marker\":{\"size\":2,\"symbol\":\"circle\"},\"mode\":\"markers\",\"name\":\"D\",\"text\":\"\",\"x\":[0.780112161625848,-0.6622020441579575,0.19603094116590988,0.9444435813517414,2.0190065917990325,0.43722776902737875,0.6764390904739006,-1.0318392658003315,-0.7052936531538087,-1.2207048933585274,-0.022498175312445908,-0.47514400008103796,0.015631345678703647,0.49166903297101733,-0.4463750385965351,-1.2532070399499404,0.017542246804112673,-0.7570882592644229,-1.2012136807274745,0.7886948763755939,-0.8693486963450223,0.9010537168023657,-0.5770469082718713,-0.1030991380904987,0.5338436665524187,1.1155594158041637,0.26391870421043223,1.3232294736026364,0.7630229489633639,1.632035218409037,1.5207097499353,-0.0006879736573673989,-1.21103828452234,1.34662009347215,0.9975735907200801,0.9551360071731924,-1.0722210696166834,-1.7265754758738259,0.04129037780678675,-0.7132244284043963,-1.0579130080408146,2.81148193442505,-0.04184454642460926,0.7307795091345204,-0.29943747215028277,0.6791011913122792,0.7539025548648147,-0.8199570302339777,0.6835533635051066,-0.37718640289622646,-1.4905040103618956,-0.8423691944628268,-0.16584257158889373,-1.4330757918373824,0.9461603473737706,-0.15290838198858106,-0.16205848298241507,0.02130880292795404,-1.4961741662057277,0.4484982571308183,0.18922260769185564,0.7710099389584645,-1.4518000619214029,-0.5812770284876827,0.5146202678161,0.9315853354882877,-0.9603288937961088,-1.103370479561761,-0.47745010276254535,0.9336441074488008,1.2560789857109207,-0.5249525108676631,0.9324462586812953,-0.8005665398613003,-0.4671893294403345,0.14609976572579939,0.030765176545579104,0.9842394461832488,-0.6094735362782722,0.5726121277992451,0.9344438360939703,1.470087261607474,0.6444928799223439,-1.8503301390802411,0.784695912134507,-0.1797897094423723,2.3847821119754022,-1.3412772928554055,0.5857245773958671,-0.44248615438473105,1.02478023997563,-0.10167432812782703,-0.46321591080833774,-1.0606116126026808,1.0757078100996635,-0.2948219640020998,0.4688053405721653,1.5442197803396982,2.561137988024716,0.051745092191318],\"xaxis\":\"x14\",\"y\":[-0.8496942648665607,0.41805640187036686,-0.9878282660079463,-1.5663266173229944,0.5059032376608317,-0.10101444172877458,1.023870814958945,1.0776469981944543,0.6031197823516035,-0.22220860549894053,-0.3716384094671871,-1.011491658471745,0.18855313183096936,0.6095096951627761,0.5962586882091566,-0.04173088142268591,-0.044192706512440484,-0.44107380721013006,-0.21142501415456913,0.24099050809879638,-0.47309509430223495,0.18720304373616822,-0.46682798780266954,0.26713935774844777,-0.046718955928361935,0.4786827527183718,1.224915444840153,0.900313638190235,-0.07993912419356818,0.22720760688973018,0.16741097980313763,-1.6971807713758618,0.26285857526526424,-0.8481473003171561,1.0019832458818996,-0.23890963837799392,-0.32518323790702136,-1.4214659093213708,0.7689677362511844,0.720454370048769,1.4120436891805468,-0.8885013713475357,0.49015465824590326,0.318721809076388,1.408170320673189,-0.9053600991879266,0.5596848983027292,0.5874387471118737,-1.3452790015989369,-1.0919949952111225,0.6190528365348118,1.0988301926896742,-1.2262042653555452,0.3431693872520292,0.12570110604857224,0.5271309083354175,0.24856255460548599,-1.2298878838865044,-0.1965012336229207,-0.6573776808010089,0.24786892848275827,-0.6830478001558176,-0.7184522746832681,-0.9994117954392141,0.050962641175703705,-2.2732965954839375,0.34000553606582534,-0.23062189624052834,-0.3001576898399603,-1.3700987482748903,-0.6388222587410752,-1.1197675654055868,0.08116978578069725,-0.7913930689421255,0.03301550712197834,0.8346833733450515,-0.7188138613391741,1.4893496436241953,0.9858869294808674,1.6034117721274181,1.4994358157770709,0.045951459501008415,-1.7549269371629004,1.4269179974818211,0.013196565836392126,-0.616471222732565,-0.3572376899508515,-0.5911000876319832,0.06643642138436352,-0.28657629214746766,-0.13340202720961356,0.9454106134171025,-0.3627861661237746,0.2838870032276294,-0.5272096839790353,-0.5455315712911585,-0.594008118453773,0.6669525024563863,0.3405305426784978,-1.5299087920635688],\"yaxis\":\"y14\",\"type\":\"scatter\"},{\"line\":{\"color\":\"rgba(128, 128, 128, 1.0)\",\"dash\":\"solid\",\"shape\":\"linear\",\"width\":1.3},\"marker\":{\"size\":2,\"symbol\":\"circle\"},\"mode\":\"markers\",\"name\":\"D\",\"text\":\"\",\"x\":[1.1423634363741173,0.11354051020682208,-2.195583075117904,-0.33536116350557,-0.47549123530692866,-0.4106247459547766,-1.2434649090000875,-1.6995213033682308,-0.6081257506754546,-0.08870672787977858,0.6400925329494375,0.7492341616274301,0.16747095277849683,1.2968374993604779,-2.11404568038147,-0.563870009286686,0.8310938582415069,2.325419671879464,0.20055448776283155,0.5085397117888597,-0.4080914801575566,1.6542943160162975,-0.5331072937653337,0.7586177614979411,0.9619927684630707,0.2559644805724021,0.5745188773744764,-0.5816583601699434,-1.429056679405346,0.7315998311231716,0.6783867139905609,-0.06078445221535873,0.27448110310334706,-1.16371229034305,-0.1398511030843688,0.006467377516567309,0.6562352588868274,-1.6448244488522312,0.3298352278087413,2.003002042268774,-1.0758696623884252,-0.11305940455786344,0.6029361517624183,-0.38271978469230267,0.7889985572895265,-1.741867773942648,-0.5174334505631387,0.3259635252071674,-0.28872347544954446,0.3596389037175514,0.009698255852205134,1.0793001511861586,1.1043921528612646,1.0891752844370528,-0.3566970439593109,0.21139128359993414,0.05023798480313808,0.2702500935425811,-1.361135025379144,-0.3356238142654462,-1.013962607948839,1.1381971032466252,-1.0107879455790383,0.7102149307995549,-0.9014591620430444,0.011895983352500345,-1.355067914607825,-0.15806123579869188,0.8023249003467309,1.4031343144422532,1.1345576048882402,-1.9137650864186122,-0.35305712873931205,-0.5552220851118872,-0.3100997841387888,1.1377680718610916,1.9065212557664553,-0.7063511867117129,-1.1490229352835497,-1.3530811813693597,0.5007106025210825,0.4796809706467747,1.8502387431840992,1.741994450617839,1.5862413863845208,-1.1472907598345856,0.8650500659149919,-0.33112805916725235,-0.18940943108872416,1.1662346250655902,-0.7525493252195511,-0.7556309869007968,0.6091473126481534,0.5162032920138211,0.7749536056718792,0.8177099736481309,2.4469257320693023,0.38013644896258414,0.20817582521403424,0.8467603806994561],\"xaxis\":\"x15\",\"y\":[-0.8496942648665607,0.41805640187036686,-0.9878282660079463,-1.5663266173229944,0.5059032376608317,-0.10101444172877458,1.023870814958945,1.0776469981944543,0.6031197823516035,-0.22220860549894053,-0.3716384094671871,-1.011491658471745,0.18855313183096936,0.6095096951627761,0.5962586882091566,-0.04173088142268591,-0.044192706512440484,-0.44107380721013006,-0.21142501415456913,0.24099050809879638,-0.47309509430223495,0.18720304373616822,-0.46682798780266954,0.26713935774844777,-0.046718955928361935,0.4786827527183718,1.224915444840153,0.900313638190235,-0.07993912419356818,0.22720760688973018,0.16741097980313763,-1.6971807713758618,0.26285857526526424,-0.8481473003171561,1.0019832458818996,-0.23890963837799392,-0.32518323790702136,-1.4214659093213708,0.7689677362511844,0.720454370048769,1.4120436891805468,-0.8885013713475357,0.49015465824590326,0.318721809076388,1.408170320673189,-0.9053600991879266,0.5596848983027292,0.5874387471118737,-1.3452790015989369,-1.0919949952111225,0.6190528365348118,1.0988301926896742,-1.2262042653555452,0.3431693872520292,0.12570110604857224,0.5271309083354175,0.24856255460548599,-1.2298878838865044,-0.1965012336229207,-0.6573776808010089,0.24786892848275827,-0.6830478001558176,-0.7184522746832681,-0.9994117954392141,0.050962641175703705,-2.2732965954839375,0.34000553606582534,-0.23062189624052834,-0.3001576898399603,-1.3700987482748903,-0.6388222587410752,-1.1197675654055868,0.08116978578069725,-0.7913930689421255,0.03301550712197834,0.8346833733450515,-0.7188138613391741,1.4893496436241953,0.9858869294808674,1.6034117721274181,1.4994358157770709,0.045951459501008415,-1.7549269371629004,1.4269179974818211,0.013196565836392126,-0.616471222732565,-0.3572376899508515,-0.5911000876319832,0.06643642138436352,-0.28657629214746766,-0.13340202720961356,0.9454106134171025,-0.3627861661237746,0.2838870032276294,-0.5272096839790353,-0.5455315712911585,-0.594008118453773,0.6669525024563863,0.3405305426784978,-1.5299087920635688],\"yaxis\":\"y15\",\"type\":\"scatter\"},{\"histfunc\":\"count\",\"histnorm\":\"\",\"marker\":{\"color\":\"rgba(128, 0, 128, 1.0)\",\"line\":{\"color\":\"#4D5663\",\"width\":1.3}},\"name\":\"D\",\"nbinsx\":10,\"opacity\":0.8,\"orientation\":\"v\",\"x\":[-0.8496942648665607,0.41805640187036686,-0.9878282660079463,-1.5663266173229944,0.5059032376608317,-0.10101444172877458,1.023870814958945,1.0776469981944543,0.6031197823516035,-0.22220860549894053,-0.3716384094671871,-1.011491658471745,0.18855313183096936,0.6095096951627761,0.5962586882091566,-0.04173088142268591,-0.044192706512440484,-0.44107380721013006,-0.21142501415456913,0.24099050809879638,-0.47309509430223495,0.18720304373616822,-0.46682798780266954,0.26713935774844777,-0.046718955928361935,0.4786827527183718,1.224915444840153,0.900313638190235,-0.07993912419356818,0.22720760688973018,0.16741097980313763,-1.6971807713758618,0.26285857526526424,-0.8481473003171561,1.0019832458818996,-0.23890963837799392,-0.32518323790702136,-1.4214659093213708,0.7689677362511844,0.720454370048769,1.4120436891805468,-0.8885013713475357,0.49015465824590326,0.318721809076388,1.408170320673189,-0.9053600991879266,0.5596848983027292,0.5874387471118737,-1.3452790015989369,-1.0919949952111225,0.6190528365348118,1.0988301926896742,-1.2262042653555452,0.3431693872520292,0.12570110604857224,0.5271309083354175,0.24856255460548599,-1.2298878838865044,-0.1965012336229207,-0.6573776808010089,0.24786892848275827,-0.6830478001558176,-0.7184522746832681,-0.9994117954392141,0.050962641175703705,-2.2732965954839375,0.34000553606582534,-0.23062189624052834,-0.3001576898399603,-1.3700987482748903,-0.6388222587410752,-1.1197675654055868,0.08116978578069725,-0.7913930689421255,0.03301550712197834,0.8346833733450515,-0.7188138613391741,1.4893496436241953,0.9858869294808674,1.6034117721274181,1.4994358157770709,0.045951459501008415,-1.7549269371629004,1.4269179974818211,0.013196565836392126,-0.616471222732565,-0.3572376899508515,-0.5911000876319832,0.06643642138436352,-0.28657629214746766,-0.13340202720961356,0.9454106134171025,-0.3627861661237746,0.2838870032276294,-0.5272096839790353,-0.5455315712911585,-0.594008118453773,0.6669525024563863,0.3405305426784978,-1.5299087920635688],\"xaxis\":\"x16\",\"yaxis\":\"y16\",\"type\":\"histogram\"}],                        {\"bargap\":0.02,\"legend\":{\"bgcolor\":\"#F5F6F9\",\"font\":{\"color\":\"#4D5663\"}},\"paper_bgcolor\":\"#F5F6F9\",\"plot_bgcolor\":\"#F5F6F9\",\"showlegend\":false,\"template\":{\"data\":{\"barpolar\":[{\"marker\":{\"line\":{\"color\":\"#E5ECF6\",\"width\":0.5},\"pattern\":{\"fillmode\":\"overlay\",\"size\":10,\"solidity\":0.2}},\"type\":\"barpolar\"}],\"bar\":[{\"error_x\":{\"color\":\"#2a3f5f\"},\"error_y\":{\"color\":\"#2a3f5f\"},\"marker\":{\"line\":{\"color\":\"#E5ECF6\",\"width\":0.5},\"pattern\":{\"fillmode\":\"overlay\",\"size\":10,\"solidity\":0.2}},\"type\":\"bar\"}],\"carpet\":[{\"aaxis\":{\"endlinecolor\":\"#2a3f5f\",\"gridcolor\":\"white\",\"linecolor\":\"white\",\"minorgridcolor\":\"white\",\"startlinecolor\":\"#2a3f5f\"},\"baxis\":{\"endlinecolor\":\"#2a3f5f\",\"gridcolor\":\"white\",\"linecolor\":\"white\",\"minorgridcolor\":\"white\",\"startlinecolor\":\"#2a3f5f\"},\"type\":\"carpet\"}],\"choropleth\":[{\"colorbar\":{\"outlinewidth\":0,\"ticks\":\"\"},\"type\":\"choropleth\"}],\"contourcarpet\":[{\"colorbar\":{\"outlinewidth\":0,\"ticks\":\"\"},\"type\":\"contourcarpet\"}],\"contour\":[{\"colorbar\":{\"outlinewidth\":0,\"ticks\":\"\"},\"colorscale\":[[0.0,\"#0d0887\"],[0.1111111111111111,\"#46039f\"],[0.2222222222222222,\"#7201a8\"],[0.3333333333333333,\"#9c179e\"],[0.4444444444444444,\"#bd3786\"],[0.5555555555555556,\"#d8576b\"],[0.6666666666666666,\"#ed7953\"],[0.7777777777777778,\"#fb9f3a\"],[0.8888888888888888,\"#fdca26\"],[1.0,\"#f0f921\"]],\"type\":\"contour\"}],\"heatmapgl\":[{\"colorbar\":{\"outlinewidth\":0,\"ticks\":\"\"},\"colorscale\":[[0.0,\"#0d0887\"],[0.1111111111111111,\"#46039f\"],[0.2222222222222222,\"#7201a8\"],[0.3333333333333333,\"#9c179e\"],[0.4444444444444444,\"#bd3786\"],[0.5555555555555556,\"#d8576b\"],[0.6666666666666666,\"#ed7953\"],[0.7777777777777778,\"#fb9f3a\"],[0.8888888888888888,\"#fdca26\"],[1.0,\"#f0f921\"]],\"type\":\"heatmapgl\"}],\"heatmap\":[{\"colorbar\":{\"outlinewidth\":0,\"ticks\":\"\"},\"colorscale\":[[0.0,\"#0d0887\"],[0.1111111111111111,\"#46039f\"],[0.2222222222222222,\"#7201a8\"],[0.3333333333333333,\"#9c179e\"],[0.4444444444444444,\"#bd3786\"],[0.5555555555555556,\"#d8576b\"],[0.6666666666666666,\"#ed7953\"],[0.7777777777777778,\"#fb9f3a\"],[0.8888888888888888,\"#fdca26\"],[1.0,\"#f0f921\"]],\"type\":\"heatmap\"}],\"histogram2dcontour\":[{\"colorbar\":{\"outlinewidth\":0,\"ticks\":\"\"},\"colorscale\":[[0.0,\"#0d0887\"],[0.1111111111111111,\"#46039f\"],[0.2222222222222222,\"#7201a8\"],[0.3333333333333333,\"#9c179e\"],[0.4444444444444444,\"#bd3786\"],[0.5555555555555556,\"#d8576b\"],[0.6666666666666666,\"#ed7953\"],[0.7777777777777778,\"#fb9f3a\"],[0.8888888888888888,\"#fdca26\"],[1.0,\"#f0f921\"]],\"type\":\"histogram2dcontour\"}],\"histogram2d\":[{\"colorbar\":{\"outlinewidth\":0,\"ticks\":\"\"},\"colorscale\":[[0.0,\"#0d0887\"],[0.1111111111111111,\"#46039f\"],[0.2222222222222222,\"#7201a8\"],[0.3333333333333333,\"#9c179e\"],[0.4444444444444444,\"#bd3786\"],[0.5555555555555556,\"#d8576b\"],[0.6666666666666666,\"#ed7953\"],[0.7777777777777778,\"#fb9f3a\"],[0.8888888888888888,\"#fdca26\"],[1.0,\"#f0f921\"]],\"type\":\"histogram2d\"}],\"histogram\":[{\"marker\":{\"pattern\":{\"fillmode\":\"overlay\",\"size\":10,\"solidity\":0.2}},\"type\":\"histogram\"}],\"mesh3d\":[{\"colorbar\":{\"outlinewidth\":0,\"ticks\":\"\"},\"type\":\"mesh3d\"}],\"parcoords\":[{\"line\":{\"colorbar\":{\"outlinewidth\":0,\"ticks\":\"\"}},\"type\":\"parcoords\"}],\"pie\":[{\"automargin\":true,\"type\":\"pie\"}],\"scatter3d\":[{\"line\":{\"colorbar\":{\"outlinewidth\":0,\"ticks\":\"\"}},\"marker\":{\"colorbar\":{\"outlinewidth\":0,\"ticks\":\"\"}},\"type\":\"scatter3d\"}],\"scattercarpet\":[{\"marker\":{\"colorbar\":{\"outlinewidth\":0,\"ticks\":\"\"}},\"type\":\"scattercarpet\"}],\"scattergeo\":[{\"marker\":{\"colorbar\":{\"outlinewidth\":0,\"ticks\":\"\"}},\"type\":\"scattergeo\"}],\"scattergl\":[{\"marker\":{\"colorbar\":{\"outlinewidth\":0,\"ticks\":\"\"}},\"type\":\"scattergl\"}],\"scattermapbox\":[{\"marker\":{\"colorbar\":{\"outlinewidth\":0,\"ticks\":\"\"}},\"type\":\"scattermapbox\"}],\"scatterpolargl\":[{\"marker\":{\"colorbar\":{\"outlinewidth\":0,\"ticks\":\"\"}},\"type\":\"scatterpolargl\"}],\"scatterpolar\":[{\"marker\":{\"colorbar\":{\"outlinewidth\":0,\"ticks\":\"\"}},\"type\":\"scatterpolar\"}],\"scatter\":[{\"fillpattern\":{\"fillmode\":\"overlay\",\"size\":10,\"solidity\":0.2},\"type\":\"scatter\"}],\"scatterternary\":[{\"marker\":{\"colorbar\":{\"outlinewidth\":0,\"ticks\":\"\"}},\"type\":\"scatterternary\"}],\"surface\":[{\"colorbar\":{\"outlinewidth\":0,\"ticks\":\"\"},\"colorscale\":[[0.0,\"#0d0887\"],[0.1111111111111111,\"#46039f\"],[0.2222222222222222,\"#7201a8\"],[0.3333333333333333,\"#9c179e\"],[0.4444444444444444,\"#bd3786\"],[0.5555555555555556,\"#d8576b\"],[0.6666666666666666,\"#ed7953\"],[0.7777777777777778,\"#fb9f3a\"],[0.8888888888888888,\"#fdca26\"],[1.0,\"#f0f921\"]],\"type\":\"surface\"}],\"table\":[{\"cells\":{\"fill\":{\"color\":\"#EBF0F8\"},\"line\":{\"color\":\"white\"}},\"header\":{\"fill\":{\"color\":\"#C8D4E3\"},\"line\":{\"color\":\"white\"}},\"type\":\"table\"}]},\"layout\":{\"annotationdefaults\":{\"arrowcolor\":\"#2a3f5f\",\"arrowhead\":0,\"arrowwidth\":1},\"autotypenumbers\":\"strict\",\"coloraxis\":{\"colorbar\":{\"outlinewidth\":0,\"ticks\":\"\"}},\"colorscale\":{\"diverging\":[[0,\"#8e0152\"],[0.1,\"#c51b7d\"],[0.2,\"#de77ae\"],[0.3,\"#f1b6da\"],[0.4,\"#fde0ef\"],[0.5,\"#f7f7f7\"],[0.6,\"#e6f5d0\"],[0.7,\"#b8e186\"],[0.8,\"#7fbc41\"],[0.9,\"#4d9221\"],[1,\"#276419\"]],\"sequential\":[[0.0,\"#0d0887\"],[0.1111111111111111,\"#46039f\"],[0.2222222222222222,\"#7201a8\"],[0.3333333333333333,\"#9c179e\"],[0.4444444444444444,\"#bd3786\"],[0.5555555555555556,\"#d8576b\"],[0.6666666666666666,\"#ed7953\"],[0.7777777777777778,\"#fb9f3a\"],[0.8888888888888888,\"#fdca26\"],[1.0,\"#f0f921\"]],\"sequentialminus\":[[0.0,\"#0d0887\"],[0.1111111111111111,\"#46039f\"],[0.2222222222222222,\"#7201a8\"],[0.3333333333333333,\"#9c179e\"],[0.4444444444444444,\"#bd3786\"],[0.5555555555555556,\"#d8576b\"],[0.6666666666666666,\"#ed7953\"],[0.7777777777777778,\"#fb9f3a\"],[0.8888888888888888,\"#fdca26\"],[1.0,\"#f0f921\"]]},\"colorway\":[\"#636efa\",\"#EF553B\",\"#00cc96\",\"#ab63fa\",\"#FFA15A\",\"#19d3f3\",\"#FF6692\",\"#B6E880\",\"#FF97FF\",\"#FECB52\"],\"font\":{\"color\":\"#2a3f5f\"},\"geo\":{\"bgcolor\":\"white\",\"lakecolor\":\"white\",\"landcolor\":\"#E5ECF6\",\"showlakes\":true,\"showland\":true,\"subunitcolor\":\"white\"},\"hoverlabel\":{\"align\":\"left\"},\"hovermode\":\"closest\",\"mapbox\":{\"style\":\"light\"},\"paper_bgcolor\":\"white\",\"plot_bgcolor\":\"#E5ECF6\",\"polar\":{\"angularaxis\":{\"gridcolor\":\"white\",\"linecolor\":\"white\",\"ticks\":\"\"},\"bgcolor\":\"#E5ECF6\",\"radialaxis\":{\"gridcolor\":\"white\",\"linecolor\":\"white\",\"ticks\":\"\"}},\"scene\":{\"xaxis\":{\"backgroundcolor\":\"#E5ECF6\",\"gridcolor\":\"white\",\"gridwidth\":2,\"linecolor\":\"white\",\"showbackground\":true,\"ticks\":\"\",\"zerolinecolor\":\"white\"},\"yaxis\":{\"backgroundcolor\":\"#E5ECF6\",\"gridcolor\":\"white\",\"gridwidth\":2,\"linecolor\":\"white\",\"showbackground\":true,\"ticks\":\"\",\"zerolinecolor\":\"white\"},\"zaxis\":{\"backgroundcolor\":\"#E5ECF6\",\"gridcolor\":\"white\",\"gridwidth\":2,\"linecolor\":\"white\",\"showbackground\":true,\"ticks\":\"\",\"zerolinecolor\":\"white\"}},\"shapedefaults\":{\"line\":{\"color\":\"#2a3f5f\"}},\"ternary\":{\"aaxis\":{\"gridcolor\":\"white\",\"linecolor\":\"white\",\"ticks\":\"\"},\"baxis\":{\"gridcolor\":\"white\",\"linecolor\":\"white\",\"ticks\":\"\"},\"bgcolor\":\"#E5ECF6\",\"caxis\":{\"gridcolor\":\"white\",\"linecolor\":\"white\",\"ticks\":\"\"}},\"title\":{\"x\":0.05},\"xaxis\":{\"automargin\":true,\"gridcolor\":\"white\",\"linecolor\":\"white\",\"ticks\":\"\",\"title\":{\"standoff\":15},\"zerolinecolor\":\"white\",\"zerolinewidth\":2},\"yaxis\":{\"automargin\":true,\"gridcolor\":\"white\",\"linecolor\":\"white\",\"ticks\":\"\",\"title\":{\"standoff\":15},\"zerolinecolor\":\"white\",\"zerolinewidth\":2}}},\"title\":{\"font\":{\"color\":\"#4D5663\"}},\"xaxis\":{\"anchor\":\"y\",\"domain\":[0.0,0.2125],\"gridcolor\":\"#E1E5ED\",\"showgrid\":false,\"tickfont\":{\"color\":\"#4D5663\"},\"title\":{\"font\":{\"color\":\"#4D5663\"},\"text\":\"\"},\"zerolinecolor\":\"#E1E5ED\"},\"yaxis\":{\"anchor\":\"x\",\"domain\":[0.8025,1.0],\"gridcolor\":\"#E1E5ED\",\"showgrid\":false,\"tickfont\":{\"color\":\"#4D5663\"},\"title\":{\"font\":{\"color\":\"#4D5663\"},\"text\":\"\"},\"zerolinecolor\":\"#E1E5ED\"},\"xaxis2\":{\"anchor\":\"y2\",\"domain\":[0.2625,0.475],\"gridcolor\":\"#E1E5ED\",\"showgrid\":false,\"tickfont\":{\"color\":\"#4D5663\"},\"title\":{\"font\":{\"color\":\"#4D5663\"},\"text\":\"\"},\"zerolinecolor\":\"#E1E5ED\"},\"yaxis2\":{\"anchor\":\"x2\",\"domain\":[0.8025,1.0],\"gridcolor\":\"#E1E5ED\",\"showgrid\":false,\"tickfont\":{\"color\":\"#4D5663\"},\"title\":{\"font\":{\"color\":\"#4D5663\"},\"text\":\"\"},\"zerolinecolor\":\"#E1E5ED\"},\"xaxis3\":{\"anchor\":\"y3\",\"domain\":[0.525,0.7375],\"gridcolor\":\"#E1E5ED\",\"showgrid\":false,\"tickfont\":{\"color\":\"#4D5663\"},\"title\":{\"font\":{\"color\":\"#4D5663\"},\"text\":\"\"},\"zerolinecolor\":\"#E1E5ED\"},\"yaxis3\":{\"anchor\":\"x3\",\"domain\":[0.8025,1.0],\"gridcolor\":\"#E1E5ED\",\"showgrid\":false,\"tickfont\":{\"color\":\"#4D5663\"},\"title\":{\"font\":{\"color\":\"#4D5663\"},\"text\":\"\"},\"zerolinecolor\":\"#E1E5ED\"},\"xaxis4\":{\"anchor\":\"y4\",\"domain\":[0.7875,1.0],\"gridcolor\":\"#E1E5ED\",\"showgrid\":false,\"tickfont\":{\"color\":\"#4D5663\"},\"title\":{\"font\":{\"color\":\"#4D5663\"},\"text\":\"\"},\"zerolinecolor\":\"#E1E5ED\"},\"yaxis4\":{\"anchor\":\"x4\",\"domain\":[0.8025,1.0],\"gridcolor\":\"#E1E5ED\",\"showgrid\":false,\"tickfont\":{\"color\":\"#4D5663\"},\"title\":{\"font\":{\"color\":\"#4D5663\"},\"text\":\"\"},\"zerolinecolor\":\"#E1E5ED\"},\"xaxis5\":{\"anchor\":\"y5\",\"domain\":[0.0,0.2125],\"gridcolor\":\"#E1E5ED\",\"showgrid\":false,\"tickfont\":{\"color\":\"#4D5663\"},\"title\":{\"font\":{\"color\":\"#4D5663\"},\"text\":\"\"},\"zerolinecolor\":\"#E1E5ED\"},\"yaxis5\":{\"anchor\":\"x5\",\"domain\":[0.535,0.7325],\"gridcolor\":\"#E1E5ED\",\"showgrid\":false,\"tickfont\":{\"color\":\"#4D5663\"},\"title\":{\"font\":{\"color\":\"#4D5663\"},\"text\":\"\"},\"zerolinecolor\":\"#E1E5ED\"},\"xaxis6\":{\"anchor\":\"y6\",\"domain\":[0.2625,0.475],\"gridcolor\":\"#E1E5ED\",\"showgrid\":false,\"tickfont\":{\"color\":\"#4D5663\"},\"title\":{\"font\":{\"color\":\"#4D5663\"},\"text\":\"\"},\"zerolinecolor\":\"#E1E5ED\"},\"yaxis6\":{\"anchor\":\"x6\",\"domain\":[0.535,0.7325],\"gridcolor\":\"#E1E5ED\",\"showgrid\":false,\"tickfont\":{\"color\":\"#4D5663\"},\"title\":{\"font\":{\"color\":\"#4D5663\"},\"text\":\"\"},\"zerolinecolor\":\"#E1E5ED\"},\"xaxis7\":{\"anchor\":\"y7\",\"domain\":[0.525,0.7375],\"gridcolor\":\"#E1E5ED\",\"showgrid\":false,\"tickfont\":{\"color\":\"#4D5663\"},\"title\":{\"font\":{\"color\":\"#4D5663\"},\"text\":\"\"},\"zerolinecolor\":\"#E1E5ED\"},\"yaxis7\":{\"anchor\":\"x7\",\"domain\":[0.535,0.7325],\"gridcolor\":\"#E1E5ED\",\"showgrid\":false,\"tickfont\":{\"color\":\"#4D5663\"},\"title\":{\"font\":{\"color\":\"#4D5663\"},\"text\":\"\"},\"zerolinecolor\":\"#E1E5ED\"},\"xaxis8\":{\"anchor\":\"y8\",\"domain\":[0.7875,1.0],\"gridcolor\":\"#E1E5ED\",\"showgrid\":false,\"tickfont\":{\"color\":\"#4D5663\"},\"title\":{\"font\":{\"color\":\"#4D5663\"},\"text\":\"\"},\"zerolinecolor\":\"#E1E5ED\"},\"yaxis8\":{\"anchor\":\"x8\",\"domain\":[0.535,0.7325],\"gridcolor\":\"#E1E5ED\",\"showgrid\":false,\"tickfont\":{\"color\":\"#4D5663\"},\"title\":{\"font\":{\"color\":\"#4D5663\"},\"text\":\"\"},\"zerolinecolor\":\"#E1E5ED\"},\"xaxis9\":{\"anchor\":\"y9\",\"domain\":[0.0,0.2125],\"gridcolor\":\"#E1E5ED\",\"showgrid\":false,\"tickfont\":{\"color\":\"#4D5663\"},\"title\":{\"font\":{\"color\":\"#4D5663\"},\"text\":\"\"},\"zerolinecolor\":\"#E1E5ED\"},\"yaxis9\":{\"anchor\":\"x9\",\"domain\":[0.2675,0.465],\"gridcolor\":\"#E1E5ED\",\"showgrid\":false,\"tickfont\":{\"color\":\"#4D5663\"},\"title\":{\"font\":{\"color\":\"#4D5663\"},\"text\":\"\"},\"zerolinecolor\":\"#E1E5ED\"},\"xaxis10\":{\"anchor\":\"y10\",\"domain\":[0.2625,0.475],\"gridcolor\":\"#E1E5ED\",\"showgrid\":false,\"tickfont\":{\"color\":\"#4D5663\"},\"title\":{\"font\":{\"color\":\"#4D5663\"},\"text\":\"\"},\"zerolinecolor\":\"#E1E5ED\"},\"yaxis10\":{\"anchor\":\"x10\",\"domain\":[0.2675,0.465],\"gridcolor\":\"#E1E5ED\",\"showgrid\":false,\"tickfont\":{\"color\":\"#4D5663\"},\"title\":{\"font\":{\"color\":\"#4D5663\"},\"text\":\"\"},\"zerolinecolor\":\"#E1E5ED\"},\"xaxis11\":{\"anchor\":\"y11\",\"domain\":[0.525,0.7375],\"gridcolor\":\"#E1E5ED\",\"showgrid\":false,\"tickfont\":{\"color\":\"#4D5663\"},\"title\":{\"font\":{\"color\":\"#4D5663\"},\"text\":\"\"},\"zerolinecolor\":\"#E1E5ED\"},\"yaxis11\":{\"anchor\":\"x11\",\"domain\":[0.2675,0.465],\"gridcolor\":\"#E1E5ED\",\"showgrid\":false,\"tickfont\":{\"color\":\"#4D5663\"},\"title\":{\"font\":{\"color\":\"#4D5663\"},\"text\":\"\"},\"zerolinecolor\":\"#E1E5ED\"},\"xaxis12\":{\"anchor\":\"y12\",\"domain\":[0.7875,1.0],\"gridcolor\":\"#E1E5ED\",\"showgrid\":false,\"tickfont\":{\"color\":\"#4D5663\"},\"title\":{\"font\":{\"color\":\"#4D5663\"},\"text\":\"\"},\"zerolinecolor\":\"#E1E5ED\"},\"yaxis12\":{\"anchor\":\"x12\",\"domain\":[0.2675,0.465],\"gridcolor\":\"#E1E5ED\",\"showgrid\":false,\"tickfont\":{\"color\":\"#4D5663\"},\"title\":{\"font\":{\"color\":\"#4D5663\"},\"text\":\"\"},\"zerolinecolor\":\"#E1E5ED\"},\"xaxis13\":{\"anchor\":\"y13\",\"domain\":[0.0,0.2125],\"gridcolor\":\"#E1E5ED\",\"showgrid\":false,\"tickfont\":{\"color\":\"#4D5663\"},\"title\":{\"font\":{\"color\":\"#4D5663\"},\"text\":\"\"},\"zerolinecolor\":\"#E1E5ED\"},\"yaxis13\":{\"anchor\":\"x13\",\"domain\":[0.0,0.1975],\"gridcolor\":\"#E1E5ED\",\"showgrid\":false,\"tickfont\":{\"color\":\"#4D5663\"},\"title\":{\"font\":{\"color\":\"#4D5663\"},\"text\":\"\"},\"zerolinecolor\":\"#E1E5ED\"},\"xaxis14\":{\"anchor\":\"y14\",\"domain\":[0.2625,0.475],\"gridcolor\":\"#E1E5ED\",\"showgrid\":false,\"tickfont\":{\"color\":\"#4D5663\"},\"title\":{\"font\":{\"color\":\"#4D5663\"},\"text\":\"\"},\"zerolinecolor\":\"#E1E5ED\"},\"yaxis14\":{\"anchor\":\"x14\",\"domain\":[0.0,0.1975],\"gridcolor\":\"#E1E5ED\",\"showgrid\":false,\"tickfont\":{\"color\":\"#4D5663\"},\"title\":{\"font\":{\"color\":\"#4D5663\"},\"text\":\"\"},\"zerolinecolor\":\"#E1E5ED\"},\"xaxis15\":{\"anchor\":\"y15\",\"domain\":[0.525,0.7375],\"gridcolor\":\"#E1E5ED\",\"showgrid\":false,\"tickfont\":{\"color\":\"#4D5663\"},\"title\":{\"font\":{\"color\":\"#4D5663\"},\"text\":\"\"},\"zerolinecolor\":\"#E1E5ED\"},\"yaxis15\":{\"anchor\":\"x15\",\"domain\":[0.0,0.1975],\"gridcolor\":\"#E1E5ED\",\"showgrid\":false,\"tickfont\":{\"color\":\"#4D5663\"},\"title\":{\"font\":{\"color\":\"#4D5663\"},\"text\":\"\"},\"zerolinecolor\":\"#E1E5ED\"},\"xaxis16\":{\"anchor\":\"y16\",\"domain\":[0.7875,1.0],\"gridcolor\":\"#E1E5ED\",\"showgrid\":false,\"tickfont\":{\"color\":\"#4D5663\"},\"title\":{\"font\":{\"color\":\"#4D5663\"},\"text\":\"\"},\"zerolinecolor\":\"#E1E5ED\"},\"yaxis16\":{\"anchor\":\"x16\",\"domain\":[0.0,0.1975],\"gridcolor\":\"#E1E5ED\",\"showgrid\":false,\"tickfont\":{\"color\":\"#4D5663\"},\"title\":{\"font\":{\"color\":\"#4D5663\"},\"text\":\"\"},\"zerolinecolor\":\"#E1E5ED\"}},                        {\"showLink\": true, \"linkText\": \"Export to plot.ly\", \"plotlyServerURL\": \"https://plot.ly\", \"responsive\": true}                    ).then(function(){\n",
       "                            \n",
       "var gd = document.getElementById('7c65f6e9-797e-4542-8682-8ced665fe970');\n",
       "var x = new MutationObserver(function (mutations, observer) {{\n",
       "        var display = window.getComputedStyle(gd).display;\n",
       "        if (!display || display === 'none') {{\n",
       "            console.log([gd, 'removed!']);\n",
       "            Plotly.purge(gd);\n",
       "            observer.disconnect();\n",
       "        }}\n",
       "}});\n",
       "\n",
       "// Listen for the removal of the full notebook cells\n",
       "var notebookContainer = gd.closest('#notebook-container');\n",
       "if (notebookContainer) {{\n",
       "    x.observe(notebookContainer, {childList: true});\n",
       "}}\n",
       "\n",
       "// Listen for the clearing of the current output cell\n",
       "var outputEl = gd.closest('.output');\n",
       "if (outputEl) {{\n",
       "    x.observe(outputEl, {childList: true});\n",
       "}}\n",
       "\n",
       "                        })                };                });            </script>        </div>"
      ]
     },
     "metadata": {},
     "output_type": "display_data"
    }
   ],
   "source": [
    "df.scatter_matrix()"
   ]
  },
  {
   "cell_type": "code",
   "execution_count": null,
   "id": "68d5fdee",
   "metadata": {},
   "outputs": [],
   "source": []
  }
 ],
 "metadata": {
  "kernelspec": {
   "display_name": "Python 3 (ipykernel)",
   "language": "python",
   "name": "python3"
  },
  "language_info": {
   "codemirror_mode": {
    "name": "ipython",
    "version": 3
   },
   "file_extension": ".py",
   "mimetype": "text/x-python",
   "name": "python",
   "nbconvert_exporter": "python",
   "pygments_lexer": "ipython3",
   "version": "3.11.4"
  }
 },
 "nbformat": 4,
 "nbformat_minor": 5
}
